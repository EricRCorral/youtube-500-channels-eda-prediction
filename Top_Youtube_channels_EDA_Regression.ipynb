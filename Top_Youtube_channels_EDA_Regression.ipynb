{
 "cells": [
  {
   "cell_type": "markdown",
   "metadata": {},
   "source": [
    "# Youtube 500th top channels analysis and predictions\n",
    "\n",
    "The dataset contain information about the 500th most popular Youtube channels based on their subscribers. More information about this on the link below.\n",
    "\n",
    "Data source: [500th most subscribed youtube channels](https://www.kaggle.com/datasets/ritiksharma07/top-500-most-subscribed-youtube-channels-june24)\n",
    "\n",
    "### Next steps in order:\n",
    "\n",
    "- EDA (exploration data analysis)\n",
    "  - [Import and inspect data](#import-and-inspect-data)\n",
    "  - [Handle missing values (impute or clean)](#handle-missing-values)\n",
    "  - [Transform features (if necessary)](#transform-features)\n",
    "  - [Handle outliers](#handle-outliers)\n",
    "  - [Explore data and visualization](#explore-data-and-visualization)\n",
    "- Based on EDA establish an [objetive](#objective) and use models to estimate this\n",
    "- [Train and predict](#train-and-predict) the objectives with the models. Evaluate them.\n",
    "- [Conclusion](#conclusion)\n"
   ]
  },
  {
   "cell_type": "code",
   "execution_count": 1100,
   "metadata": {},
   "outputs": [],
   "source": [
    "# Installations\n",
    "\n",
    "!pip install pandas\n",
    "!pip install numpy\n",
    "!pip install scikit-learn\n",
    "!pip install plotly\n",
    "!pip install nbformat"
   ]
  },
  {
   "cell_type": "code",
   "execution_count": 1101,
   "metadata": {},
   "outputs": [],
   "source": [
    "# Data manipulation\n",
    "import pandas as pd\n",
    "import numpy as np\n",
    "\n",
    "# Visualization\n",
    "import plotly.express as px\n",
    "\n",
    "# ML\n",
    "from sklearn.linear_model import Ridge, Lasso, ElasticNet\n",
    "from sklearn.tree import DecisionTreeRegressor\n",
    "from sklearn.neighbors import KNeighborsRegressor\n",
    "from sklearn.ensemble import IsolationForest, GradientBoostingRegressor\n",
    "from sklearn.model_selection import RandomizedSearchCV, train_test_split\n",
    "from sklearn.preprocessing import LabelEncoder, StandardScaler\n",
    "from sklearn.compose import ColumnTransformer\n",
    "from sklearn.impute import SimpleImputer\n",
    "from sklearn.metrics import mean_absolute_error, mean_squared_error, r2_score\n",
    "\n",
    "# Others\n",
    "import re\n",
    "import warnings\n",
    "\n",
    "warnings.filterwarnings('ignore')"
   ]
  },
  {
   "cell_type": "markdown",
   "metadata": {},
   "source": [
    "# EDA"
   ]
  },
  {
   "cell_type": "markdown",
   "metadata": {},
   "source": [
    "### Import and inspect data\n"
   ]
  },
  {
   "cell_type": "code",
   "execution_count": 1102,
   "metadata": {},
   "outputs": [
    {
     "data": {
      "text/html": [
       "<div>\n",
       "<style scoped>\n",
       "    .dataframe tbody tr th:only-of-type {\n",
       "        vertical-align: middle;\n",
       "    }\n",
       "\n",
       "    .dataframe tbody tr th {\n",
       "        vertical-align: top;\n",
       "    }\n",
       "\n",
       "    .dataframe thead th {\n",
       "        text-align: right;\n",
       "    }\n",
       "</style>\n",
       "<table border=\"1\" class=\"dataframe\">\n",
       "  <thead>\n",
       "    <tr style=\"text-align: right;\">\n",
       "      <th></th>\n",
       "      <th>RANK</th>\n",
       "      <th>NAME_OF_CHANNEL</th>\n",
       "      <th>TOTAL_NUMBER_OF_VIDEOS</th>\n",
       "      <th>SUBSCRIBERS</th>\n",
       "      <th>VIEWS</th>\n",
       "      <th>CATEGORY</th>\n",
       "    </tr>\n",
       "  </thead>\n",
       "  <tbody>\n",
       "    <tr>\n",
       "      <th>0</th>\n",
       "      <td>#1</td>\n",
       "      <td>MrBeast</td>\n",
       "      <td>799</td>\n",
       "      <td>274M</td>\n",
       "      <td>50.98B</td>\n",
       "      <td>Entertainment</td>\n",
       "    </tr>\n",
       "    <tr>\n",
       "      <th>1</th>\n",
       "      <td>#2</td>\n",
       "      <td>T-Series</td>\n",
       "      <td>21.12K</td>\n",
       "      <td>267M</td>\n",
       "      <td>257.16B</td>\n",
       "      <td>Music</td>\n",
       "    </tr>\n",
       "    <tr>\n",
       "      <th>2</th>\n",
       "      <td>#3</td>\n",
       "      <td>Cocomelon - Nursery Rhymes</td>\n",
       "      <td>1.18K</td>\n",
       "      <td>176M</td>\n",
       "      <td>182.88B</td>\n",
       "      <td>Kids</td>\n",
       "    </tr>\n",
       "    <tr>\n",
       "      <th>3</th>\n",
       "      <td>#4</td>\n",
       "      <td>SET India</td>\n",
       "      <td>138.97K</td>\n",
       "      <td>173M</td>\n",
       "      <td>164.71B</td>\n",
       "      <td>Entertainment</td>\n",
       "    </tr>\n",
       "    <tr>\n",
       "      <th>4</th>\n",
       "      <td>#5</td>\n",
       "      <td>✿ Kids Diana Show</td>\n",
       "      <td>1.22K</td>\n",
       "      <td>123M</td>\n",
       "      <td>103.5B</td>\n",
       "      <td>Kids</td>\n",
       "    </tr>\n",
       "  </tbody>\n",
       "</table>\n",
       "</div>"
      ],
      "text/plain": [
       "  RANK             NAME_OF_CHANNEL TOTAL_NUMBER_OF_VIDEOS SUBSCRIBERS  \\\n",
       "0   #1                     MrBeast                    799        274M   \n",
       "1   #2                    T-Series                 21.12K        267M   \n",
       "2   #3  Cocomelon - Nursery Rhymes                  1.18K        176M   \n",
       "3   #4                   SET India                138.97K        173M   \n",
       "4   #5           ✿ Kids Diana Show                  1.22K        123M   \n",
       "\n",
       "     VIEWS                  CATEGORY  \n",
       "0   50.98B   Entertainment            \n",
       "1  257.16B   Music                    \n",
       "2  182.88B   Kids                     \n",
       "3  164.71B   Entertainment            \n",
       "4   103.5B   Kids                     "
      ]
     },
     "execution_count": 1102,
     "metadata": {},
     "output_type": "execute_result"
    }
   ],
   "source": [
    "yt_df = pd.read_csv(\"./500th_top_youtube_channels.csv\")\n",
    "\n",
    "yt_df.head()"
   ]
  },
  {
   "cell_type": "markdown",
   "metadata": {},
   "source": [
    "Renaming column\n"
   ]
  },
  {
   "cell_type": "code",
   "execution_count": 1103,
   "metadata": {},
   "outputs": [],
   "source": [
    "yt_df.rename(columns={\"TOTAL_NUMBER_OF_VIDEOS\": \"VIDEOS\"}, inplace=True)"
   ]
  },
  {
   "cell_type": "markdown",
   "metadata": {},
   "source": [
    "### Handle missing values\n",
    "\n",
    "Looking if there are null values, quant of entries and type of the features\n"
   ]
  },
  {
   "cell_type": "code",
   "execution_count": 1104,
   "metadata": {},
   "outputs": [
    {
     "name": "stdout",
     "output_type": "stream",
     "text": [
      "<class 'pandas.core.frame.DataFrame'>\n",
      "RangeIndex: 500 entries, 0 to 499\n",
      "Data columns (total 6 columns):\n",
      " #   Column           Non-Null Count  Dtype \n",
      "---  ------           --------------  ----- \n",
      " 0   RANK             500 non-null    object\n",
      " 1   NAME_OF_CHANNEL  493 non-null    object\n",
      " 2   VIDEOS           500 non-null    object\n",
      " 3   SUBSCRIBERS      500 non-null    object\n",
      " 4   VIEWS            500 non-null    object\n",
      " 5   CATEGORY         492 non-null    object\n",
      "dtypes: object(6)\n",
      "memory usage: 23.6+ KB\n"
     ]
    }
   ],
   "source": [
    "yt_df.info()"
   ]
  },
  {
   "cell_type": "markdown",
   "metadata": {},
   "source": [
    "There are 500 entries but 8 have no category (less than 2% of data) so those will be dropped. All features are objects so then them will need to be transformed to numeric values.\n"
   ]
  },
  {
   "cell_type": "code",
   "execution_count": 1105,
   "metadata": {},
   "outputs": [
    {
     "data": {
      "text/plain": [
       "0"
      ]
     },
     "execution_count": 1105,
     "metadata": {},
     "output_type": "execute_result"
    }
   ],
   "source": [
    "yt_df.dropna(inplace=True)\n",
    "yt_df.reset_index(inplace=True, drop='first')\n",
    "yt_df.isna().sum().sum()"
   ]
  },
  {
   "cell_type": "markdown",
   "metadata": {},
   "source": [
    "Rank and name of channel are not needed\n"
   ]
  },
  {
   "cell_type": "code",
   "execution_count": 1106,
   "metadata": {},
   "outputs": [
    {
     "data": {
      "text/plain": [
       "Index(['VIDEOS', 'SUBSCRIBERS', 'VIEWS', 'CATEGORY'], dtype='object')"
      ]
     },
     "execution_count": 1106,
     "metadata": {},
     "output_type": "execute_result"
    }
   ],
   "source": [
    "yt_df.drop(columns=[\"RANK\", \"NAME_OF_CHANNEL\"], inplace=True)\n",
    "yt_df.columns"
   ]
  },
  {
   "cell_type": "markdown",
   "metadata": {},
   "source": [
    "### Transform features\n",
    "\n",
    "Transform the columns VIDEOS, SUBSCRIBERS and VIEWS to numeric\n"
   ]
  },
  {
   "cell_type": "code",
   "execution_count": 1107,
   "metadata": {},
   "outputs": [
    {
     "name": "stdout",
     "output_type": "stream",
     "text": [
      "VIDEOS          int64\n",
      "SUBSCRIBERS     int64\n",
      "VIEWS           int64\n",
      "CATEGORY       object\n",
      "dtype: object\n"
     ]
    },
    {
     "data": {
      "text/html": [
       "<div>\n",
       "<style scoped>\n",
       "    .dataframe tbody tr th:only-of-type {\n",
       "        vertical-align: middle;\n",
       "    }\n",
       "\n",
       "    .dataframe tbody tr th {\n",
       "        vertical-align: top;\n",
       "    }\n",
       "\n",
       "    .dataframe thead th {\n",
       "        text-align: right;\n",
       "    }\n",
       "</style>\n",
       "<table border=\"1\" class=\"dataframe\">\n",
       "  <thead>\n",
       "    <tr style=\"text-align: right;\">\n",
       "      <th></th>\n",
       "      <th>VIDEOS</th>\n",
       "      <th>SUBSCRIBERS</th>\n",
       "      <th>VIEWS</th>\n",
       "      <th>CATEGORY</th>\n",
       "    </tr>\n",
       "  </thead>\n",
       "  <tbody>\n",
       "    <tr>\n",
       "      <th>0</th>\n",
       "      <td>799</td>\n",
       "      <td>274000000</td>\n",
       "      <td>50980000000</td>\n",
       "      <td>Entertainment</td>\n",
       "    </tr>\n",
       "    <tr>\n",
       "      <th>1</th>\n",
       "      <td>21120</td>\n",
       "      <td>267000000</td>\n",
       "      <td>257160000000</td>\n",
       "      <td>Music</td>\n",
       "    </tr>\n",
       "    <tr>\n",
       "      <th>2</th>\n",
       "      <td>1180</td>\n",
       "      <td>176000000</td>\n",
       "      <td>182880000000</td>\n",
       "      <td>Kids</td>\n",
       "    </tr>\n",
       "    <tr>\n",
       "      <th>3</th>\n",
       "      <td>138970</td>\n",
       "      <td>173000000</td>\n",
       "      <td>164710000000</td>\n",
       "      <td>Entertainment</td>\n",
       "    </tr>\n",
       "    <tr>\n",
       "      <th>4</th>\n",
       "      <td>1220</td>\n",
       "      <td>123000000</td>\n",
       "      <td>103500000000</td>\n",
       "      <td>Kids</td>\n",
       "    </tr>\n",
       "  </tbody>\n",
       "</table>\n",
       "</div>"
      ],
      "text/plain": [
       "   VIDEOS  SUBSCRIBERS         VIEWS                  CATEGORY\n",
       "0     799    274000000   50980000000   Entertainment          \n",
       "1   21120    267000000  257160000000   Music                  \n",
       "2    1180    176000000  182880000000   Kids                   \n",
       "3  138970    173000000  164710000000   Entertainment          \n",
       "4    1220    123000000  103500000000   Kids                   "
      ]
     },
     "execution_count": 1107,
     "metadata": {},
     "output_type": "execute_result"
    }
   ],
   "source": [
    "multipliers = {\"K\": 3, \"M\": 6, \"B\": 9}\n",
    "\n",
    "\n",
    "def numeric_format(column):\n",
    "    return [\n",
    "        (\n",
    "            int(i)\n",
    "            if re.search(\"[KMB]\", i) == None\n",
    "            else int(float(i[:-1]) * 10 ** multipliers[i[-1]])\n",
    "        )\n",
    "        for i in column\n",
    "    ]\n",
    "\n",
    "\n",
    "for col in yt_df.columns[:-1]:\n",
    "    yt_df[col] = numeric_format(yt_df[col].tolist())\n",
    "\n",
    "print(yt_df.dtypes)\n",
    "yt_df.head()"
   ]
  },
  {
   "cell_type": "markdown",
   "metadata": {},
   "source": [
    "Check how many categories are\n"
   ]
  },
  {
   "cell_type": "code",
   "execution_count": 1108,
   "metadata": {},
   "outputs": [
    {
     "name": "stdout",
     "output_type": "stream",
     "text": [
      "Are 32 categories\n"
     ]
    },
    {
     "data": {
      "text/plain": [
       "CATEGORY\n",
       "Entertainment              184\n",
       "Music                      108\n",
       "Kids                        66\n",
       "Gaming/Entertainment        37\n",
       "Education                   19\n",
       "News                        15\n",
       "Movies                      14\n",
       "Animation                    5\n",
       "Food                         4\n",
       "Kids                         3\n",
       "Sports/Entertainment         2\n",
       "Sports                       2\n",
       "Kids                         2\n",
       "Gaming                       2\n",
       "DIY                          2\n",
       "Technology                   2\n",
       "Beauty/Lifestyle             2\n",
       "Kids                         2\n",
       "Kids                         1\n",
       "Music                        1\n",
       "Politics                     1\n",
       "Charity/Non-profit           1\n",
       "Fitness/Health               1\n",
       "Kids                         1\n",
       "Kids                         1\n",
       "toyoraljanahtv               1\n",
       "Platform                     1\n",
       "Kids                         1\n",
       "DIY/Education                1\n",
       "Travel/Entertainment         1\n",
       "Education                    1\n",
       "Arab Games Network           1\n",
       "Name: count, dtype: int64"
      ]
     },
     "execution_count": 1108,
     "metadata": {},
     "output_type": "execute_result"
    }
   ],
   "source": [
    "print(f'Are {len(yt_df['CATEGORY'].value_counts())} categories')\n",
    "yt_df['CATEGORY'].value_counts()"
   ]
  },
  {
   "cell_type": "markdown",
   "metadata": {},
   "source": [
    "There are some categories repeated (e.g: Kids) that just are different because have some extra white spaces. Strip and merge them\n"
   ]
  },
  {
   "cell_type": "code",
   "execution_count": 1109,
   "metadata": {},
   "outputs": [
    {
     "name": "stdout",
     "output_type": "stream",
     "text": [
      "Are 23 categories\n"
     ]
    },
    {
     "data": {
      "text/plain": [
       "CATEGORY\n",
       "Entertainment           184\n",
       "Music                   109\n",
       "Kids                     77\n",
       "Gaming/Entertainment     37\n",
       "Education                20\n",
       "News                     15\n",
       "Movies                   14\n",
       "Animation                 5\n",
       "Food                      4\n",
       "Sports                    2\n",
       "DIY                       2\n",
       "Technology                2\n",
       "Beauty/Lifestyle          2\n",
       "Gaming                    2\n",
       "Sports/Entertainment      2\n",
       "Fitness/Health            1\n",
       "toyoraljanahtv            1\n",
       "Platform                  1\n",
       "Charity/Non-profit        1\n",
       "Politics                  1\n",
       "Travel/Entertainment      1\n",
       "DIY/Education             1\n",
       "Arab Games Network        1\n",
       "Name: count, dtype: int64"
      ]
     },
     "execution_count": 1109,
     "metadata": {},
     "output_type": "execute_result"
    }
   ],
   "source": [
    "yt_df['CATEGORY'] = yt_df['CATEGORY'].str.strip()\n",
    "print(f'Are {len(yt_df['CATEGORY'].value_counts())} categories')\n",
    "yt_df['CATEGORY'].value_counts()"
   ]
  },
  {
   "cell_type": "markdown",
   "metadata": {},
   "source": [
    "Encode the categories with LabelEncoder\n"
   ]
  },
  {
   "cell_type": "code",
   "execution_count": 1110,
   "metadata": {},
   "outputs": [
    {
     "data": {
      "text/html": [
       "<div>\n",
       "<style scoped>\n",
       "    .dataframe tbody tr th:only-of-type {\n",
       "        vertical-align: middle;\n",
       "    }\n",
       "\n",
       "    .dataframe tbody tr th {\n",
       "        vertical-align: top;\n",
       "    }\n",
       "\n",
       "    .dataframe thead th {\n",
       "        text-align: right;\n",
       "    }\n",
       "</style>\n",
       "<table border=\"1\" class=\"dataframe\">\n",
       "  <thead>\n",
       "    <tr style=\"text-align: right;\">\n",
       "      <th></th>\n",
       "      <th>VIDEOS</th>\n",
       "      <th>SUBSCRIBERS</th>\n",
       "      <th>VIEWS</th>\n",
       "      <th>CATEGORY</th>\n",
       "    </tr>\n",
       "  </thead>\n",
       "  <tbody>\n",
       "    <tr>\n",
       "      <th>0</th>\n",
       "      <td>799</td>\n",
       "      <td>274000000</td>\n",
       "      <td>50980000000</td>\n",
       "      <td>7</td>\n",
       "    </tr>\n",
       "    <tr>\n",
       "      <th>1</th>\n",
       "      <td>21120</td>\n",
       "      <td>267000000</td>\n",
       "      <td>257160000000</td>\n",
       "      <td>14</td>\n",
       "    </tr>\n",
       "    <tr>\n",
       "      <th>2</th>\n",
       "      <td>1180</td>\n",
       "      <td>176000000</td>\n",
       "      <td>182880000000</td>\n",
       "      <td>12</td>\n",
       "    </tr>\n",
       "    <tr>\n",
       "      <th>3</th>\n",
       "      <td>138970</td>\n",
       "      <td>173000000</td>\n",
       "      <td>164710000000</td>\n",
       "      <td>7</td>\n",
       "    </tr>\n",
       "    <tr>\n",
       "      <th>4</th>\n",
       "      <td>1220</td>\n",
       "      <td>123000000</td>\n",
       "      <td>103500000000</td>\n",
       "      <td>12</td>\n",
       "    </tr>\n",
       "  </tbody>\n",
       "</table>\n",
       "</div>"
      ],
      "text/plain": [
       "   VIDEOS  SUBSCRIBERS         VIEWS  CATEGORY\n",
       "0     799    274000000   50980000000         7\n",
       "1   21120    267000000  257160000000        14\n",
       "2    1180    176000000  182880000000        12\n",
       "3  138970    173000000  164710000000         7\n",
       "4    1220    123000000  103500000000        12"
      ]
     },
     "execution_count": 1110,
     "metadata": {},
     "output_type": "execute_result"
    }
   ],
   "source": [
    "l_encoder = LabelEncoder()\n",
    "\n",
    "categories = yt_df[\"CATEGORY\"]\n",
    "\n",
    "yt_df[\"CATEGORY\"] = l_encoder.fit_transform(yt_df[\"CATEGORY\"])\n",
    "\n",
    "yt_df.head()"
   ]
  },
  {
   "cell_type": "markdown",
   "metadata": {},
   "source": [
    "### Handle outliers\n"
   ]
  },
  {
   "cell_type": "code",
   "execution_count": 1111,
   "metadata": {},
   "outputs": [
    {
     "data": {
      "text/html": [
       "<div>\n",
       "<style scoped>\n",
       "    .dataframe tbody tr th:only-of-type {\n",
       "        vertical-align: middle;\n",
       "    }\n",
       "\n",
       "    .dataframe tbody tr th {\n",
       "        vertical-align: top;\n",
       "    }\n",
       "\n",
       "    .dataframe thead th {\n",
       "        text-align: right;\n",
       "    }\n",
       "</style>\n",
       "<table border=\"1\" class=\"dataframe\">\n",
       "  <thead>\n",
       "    <tr style=\"text-align: right;\">\n",
       "      <th></th>\n",
       "      <th>VIDEOS</th>\n",
       "      <th>SUBSCRIBERS</th>\n",
       "      <th>VIEWS</th>\n",
       "      <th>CATEGORY</th>\n",
       "    </tr>\n",
       "  </thead>\n",
       "  <tbody>\n",
       "    <tr>\n",
       "      <th>count</th>\n",
       "      <td>485.000000</td>\n",
       "      <td>4.850000e+02</td>\n",
       "      <td>4.850000e+02</td>\n",
       "      <td>485.000000</td>\n",
       "    </tr>\n",
       "    <tr>\n",
       "      <th>mean</th>\n",
       "      <td>13508.167010</td>\n",
       "      <td>3.514227e+07</td>\n",
       "      <td>1.890496e+10</td>\n",
       "      <td>10.200000</td>\n",
       "    </tr>\n",
       "    <tr>\n",
       "      <th>std</th>\n",
       "      <td>44593.703938</td>\n",
       "      <td>2.358655e+07</td>\n",
       "      <td>2.075998e+10</td>\n",
       "      <td>3.593382</td>\n",
       "    </tr>\n",
       "    <tr>\n",
       "      <th>min</th>\n",
       "      <td>1.000000</td>\n",
       "      <td>2.050000e+07</td>\n",
       "      <td>1.390000e+03</td>\n",
       "      <td>0.000000</td>\n",
       "    </tr>\n",
       "    <tr>\n",
       "      <th>25%</th>\n",
       "      <td>546.000000</td>\n",
       "      <td>2.370000e+07</td>\n",
       "      <td>8.710000e+09</td>\n",
       "      <td>7.000000</td>\n",
       "    </tr>\n",
       "    <tr>\n",
       "      <th>50%</th>\n",
       "      <td>1320.000000</td>\n",
       "      <td>2.840000e+07</td>\n",
       "      <td>1.464000e+10</td>\n",
       "      <td>11.000000</td>\n",
       "    </tr>\n",
       "    <tr>\n",
       "      <th>75%</th>\n",
       "      <td>4390.000000</td>\n",
       "      <td>3.860000e+07</td>\n",
       "      <td>2.297000e+10</td>\n",
       "      <td>14.000000</td>\n",
       "    </tr>\n",
       "    <tr>\n",
       "      <th>max</th>\n",
       "      <td>379590.000000</td>\n",
       "      <td>2.740000e+08</td>\n",
       "      <td>2.571600e+11</td>\n",
       "      <td>22.000000</td>\n",
       "    </tr>\n",
       "  </tbody>\n",
       "</table>\n",
       "</div>"
      ],
      "text/plain": [
       "              VIDEOS   SUBSCRIBERS         VIEWS    CATEGORY\n",
       "count     485.000000  4.850000e+02  4.850000e+02  485.000000\n",
       "mean    13508.167010  3.514227e+07  1.890496e+10   10.200000\n",
       "std     44593.703938  2.358655e+07  2.075998e+10    3.593382\n",
       "min         1.000000  2.050000e+07  1.390000e+03    0.000000\n",
       "25%       546.000000  2.370000e+07  8.710000e+09    7.000000\n",
       "50%      1320.000000  2.840000e+07  1.464000e+10   11.000000\n",
       "75%      4390.000000  3.860000e+07  2.297000e+10   14.000000\n",
       "max    379590.000000  2.740000e+08  2.571600e+11   22.000000"
      ]
     },
     "execution_count": 1111,
     "metadata": {},
     "output_type": "execute_result"
    }
   ],
   "source": [
    "yt_df.describe()"
   ]
  },
  {
   "cell_type": "markdown",
   "metadata": {},
   "source": [
    "<b>Observation</b>: there are some highly potential outliers in VIDEOS because the difference between mean, min and max and the min value of VIEWS\n"
   ]
  },
  {
   "cell_type": "markdown",
   "metadata": {},
   "source": [
    "Standarize the number of videos, subscribers and views\n"
   ]
  },
  {
   "cell_type": "code",
   "execution_count": 1112,
   "metadata": {},
   "outputs": [
    {
     "data": {
      "text/html": [
       "<div>\n",
       "<style scoped>\n",
       "    .dataframe tbody tr th:only-of-type {\n",
       "        vertical-align: middle;\n",
       "    }\n",
       "\n",
       "    .dataframe tbody tr th {\n",
       "        vertical-align: top;\n",
       "    }\n",
       "\n",
       "    .dataframe thead th {\n",
       "        text-align: right;\n",
       "    }\n",
       "</style>\n",
       "<table border=\"1\" class=\"dataframe\">\n",
       "  <thead>\n",
       "    <tr style=\"text-align: right;\">\n",
       "      <th></th>\n",
       "      <th>VIDEOS</th>\n",
       "      <th>SUBSCRIBERS</th>\n",
       "      <th>VIEWS</th>\n",
       "    </tr>\n",
       "  </thead>\n",
       "  <tbody>\n",
       "    <tr>\n",
       "      <th>0</th>\n",
       "      <td>-0.285293</td>\n",
       "      <td>10.137317</td>\n",
       "      <td>1.546637</td>\n",
       "    </tr>\n",
       "    <tr>\n",
       "      <th>1</th>\n",
       "      <td>0.170869</td>\n",
       "      <td>9.840232</td>\n",
       "      <td>11.488501</td>\n",
       "    </tr>\n",
       "    <tr>\n",
       "      <th>2</th>\n",
       "      <td>-0.276741</td>\n",
       "      <td>5.978117</td>\n",
       "      <td>7.906768</td>\n",
       "    </tr>\n",
       "    <tr>\n",
       "      <th>3</th>\n",
       "      <td>2.816348</td>\n",
       "      <td>5.850795</td>\n",
       "      <td>7.030623</td>\n",
       "    </tr>\n",
       "    <tr>\n",
       "      <th>4</th>\n",
       "      <td>-0.275843</td>\n",
       "      <td>3.728754</td>\n",
       "      <td>4.079117</td>\n",
       "    </tr>\n",
       "  </tbody>\n",
       "</table>\n",
       "</div>"
      ],
      "text/plain": [
       "     VIDEOS  SUBSCRIBERS      VIEWS\n",
       "0 -0.285293    10.137317   1.546637\n",
       "1  0.170869     9.840232  11.488501\n",
       "2 -0.276741     5.978117   7.906768\n",
       "3  2.816348     5.850795   7.030623\n",
       "4 -0.275843     3.728754   4.079117"
      ]
     },
     "execution_count": 1112,
     "metadata": {},
     "output_type": "execute_result"
    }
   ],
   "source": [
    "numeric_features = yt_df.iloc[:, :-1]\n",
    "encoded_categories = yt_df[\"CATEGORY\"]\n",
    "\n",
    "ct = ColumnTransformer([(\"std_scaler\", StandardScaler(), numeric_features.columns)])\n",
    "\n",
    "scaled_numeric_features = pd.DataFrame(\n",
    "    ct.fit_transform(numeric_features), columns=numeric_features.columns\n",
    ")\n",
    "\n",
    "scaled_numeric_features.head()"
   ]
  },
  {
   "cell_type": "code",
   "execution_count": 1113,
   "metadata": {},
   "outputs": [
    {
     "data": {
      "application/vnd.plotly.v1+json": {
       "config": {
        "plotlyServerURL": "https://plot.ly"
       },
       "data": [
        {
         "alignmentgroup": "True",
         "hovertemplate": "variable=%{x}<br>value=%{y}<extra></extra>",
         "legendgroup": "",
         "marker": {
          "color": "#636efa"
         },
         "name": "",
         "notched": false,
         "offsetgroup": "",
         "orientation": "v",
         "showlegend": false,
         "type": "box",
         "x": [
          "VIDEOS",
          "VIDEOS",
          "VIDEOS",
          "VIDEOS",
          "VIDEOS",
          "VIDEOS",
          "VIDEOS",
          "VIDEOS",
          "VIDEOS",
          "VIDEOS",
          "VIDEOS",
          "VIDEOS",
          "VIDEOS",
          "VIDEOS",
          "VIDEOS",
          "VIDEOS",
          "VIDEOS",
          "VIDEOS",
          "VIDEOS",
          "VIDEOS",
          "VIDEOS",
          "VIDEOS",
          "VIDEOS",
          "VIDEOS",
          "VIDEOS",
          "VIDEOS",
          "VIDEOS",
          "VIDEOS",
          "VIDEOS",
          "VIDEOS",
          "VIDEOS",
          "VIDEOS",
          "VIDEOS",
          "VIDEOS",
          "VIDEOS",
          "VIDEOS",
          "VIDEOS",
          "VIDEOS",
          "VIDEOS",
          "VIDEOS",
          "VIDEOS",
          "VIDEOS",
          "VIDEOS",
          "VIDEOS",
          "VIDEOS",
          "VIDEOS",
          "VIDEOS",
          "VIDEOS",
          "VIDEOS",
          "VIDEOS",
          "VIDEOS",
          "VIDEOS",
          "VIDEOS",
          "VIDEOS",
          "VIDEOS",
          "VIDEOS",
          "VIDEOS",
          "VIDEOS",
          "VIDEOS",
          "VIDEOS",
          "VIDEOS",
          "VIDEOS",
          "VIDEOS",
          "VIDEOS",
          "VIDEOS",
          "VIDEOS",
          "VIDEOS",
          "VIDEOS",
          "VIDEOS",
          "VIDEOS",
          "VIDEOS",
          "VIDEOS",
          "VIDEOS",
          "VIDEOS",
          "VIDEOS",
          "VIDEOS",
          "VIDEOS",
          "VIDEOS",
          "VIDEOS",
          "VIDEOS",
          "VIDEOS",
          "VIDEOS",
          "VIDEOS",
          "VIDEOS",
          "VIDEOS",
          "VIDEOS",
          "VIDEOS",
          "VIDEOS",
          "VIDEOS",
          "VIDEOS",
          "VIDEOS",
          "VIDEOS",
          "VIDEOS",
          "VIDEOS",
          "VIDEOS",
          "VIDEOS",
          "VIDEOS",
          "VIDEOS",
          "VIDEOS",
          "VIDEOS",
          "VIDEOS",
          "VIDEOS",
          "VIDEOS",
          "VIDEOS",
          "VIDEOS",
          "VIDEOS",
          "VIDEOS",
          "VIDEOS",
          "VIDEOS",
          "VIDEOS",
          "VIDEOS",
          "VIDEOS",
          "VIDEOS",
          "VIDEOS",
          "VIDEOS",
          "VIDEOS",
          "VIDEOS",
          "VIDEOS",
          "VIDEOS",
          "VIDEOS",
          "VIDEOS",
          "VIDEOS",
          "VIDEOS",
          "VIDEOS",
          "VIDEOS",
          "VIDEOS",
          "VIDEOS",
          "VIDEOS",
          "VIDEOS",
          "VIDEOS",
          "VIDEOS",
          "VIDEOS",
          "VIDEOS",
          "VIDEOS",
          "VIDEOS",
          "VIDEOS",
          "VIDEOS",
          "VIDEOS",
          "VIDEOS",
          "VIDEOS",
          "VIDEOS",
          "VIDEOS",
          "VIDEOS",
          "VIDEOS",
          "VIDEOS",
          "VIDEOS",
          "VIDEOS",
          "VIDEOS",
          "VIDEOS",
          "VIDEOS",
          "VIDEOS",
          "VIDEOS",
          "VIDEOS",
          "VIDEOS",
          "VIDEOS",
          "VIDEOS",
          "VIDEOS",
          "VIDEOS",
          "VIDEOS",
          "VIDEOS",
          "VIDEOS",
          "VIDEOS",
          "VIDEOS",
          "VIDEOS",
          "VIDEOS",
          "VIDEOS",
          "VIDEOS",
          "VIDEOS",
          "VIDEOS",
          "VIDEOS",
          "VIDEOS",
          "VIDEOS",
          "VIDEOS",
          "VIDEOS",
          "VIDEOS",
          "VIDEOS",
          "VIDEOS",
          "VIDEOS",
          "VIDEOS",
          "VIDEOS",
          "VIDEOS",
          "VIDEOS",
          "VIDEOS",
          "VIDEOS",
          "VIDEOS",
          "VIDEOS",
          "VIDEOS",
          "VIDEOS",
          "VIDEOS",
          "VIDEOS",
          "VIDEOS",
          "VIDEOS",
          "VIDEOS",
          "VIDEOS",
          "VIDEOS",
          "VIDEOS",
          "VIDEOS",
          "VIDEOS",
          "VIDEOS",
          "VIDEOS",
          "VIDEOS",
          "VIDEOS",
          "VIDEOS",
          "VIDEOS",
          "VIDEOS",
          "VIDEOS",
          "VIDEOS",
          "VIDEOS",
          "VIDEOS",
          "VIDEOS",
          "VIDEOS",
          "VIDEOS",
          "VIDEOS",
          "VIDEOS",
          "VIDEOS",
          "VIDEOS",
          "VIDEOS",
          "VIDEOS",
          "VIDEOS",
          "VIDEOS",
          "VIDEOS",
          "VIDEOS",
          "VIDEOS",
          "VIDEOS",
          "VIDEOS",
          "VIDEOS",
          "VIDEOS",
          "VIDEOS",
          "VIDEOS",
          "VIDEOS",
          "VIDEOS",
          "VIDEOS",
          "VIDEOS",
          "VIDEOS",
          "VIDEOS",
          "VIDEOS",
          "VIDEOS",
          "VIDEOS",
          "VIDEOS",
          "VIDEOS",
          "VIDEOS",
          "VIDEOS",
          "VIDEOS",
          "VIDEOS",
          "VIDEOS",
          "VIDEOS",
          "VIDEOS",
          "VIDEOS",
          "VIDEOS",
          "VIDEOS",
          "VIDEOS",
          "VIDEOS",
          "VIDEOS",
          "VIDEOS",
          "VIDEOS",
          "VIDEOS",
          "VIDEOS",
          "VIDEOS",
          "VIDEOS",
          "VIDEOS",
          "VIDEOS",
          "VIDEOS",
          "VIDEOS",
          "VIDEOS",
          "VIDEOS",
          "VIDEOS",
          "VIDEOS",
          "VIDEOS",
          "VIDEOS",
          "VIDEOS",
          "VIDEOS",
          "VIDEOS",
          "VIDEOS",
          "VIDEOS",
          "VIDEOS",
          "VIDEOS",
          "VIDEOS",
          "VIDEOS",
          "VIDEOS",
          "VIDEOS",
          "VIDEOS",
          "VIDEOS",
          "VIDEOS",
          "VIDEOS",
          "VIDEOS",
          "VIDEOS",
          "VIDEOS",
          "VIDEOS",
          "VIDEOS",
          "VIDEOS",
          "VIDEOS",
          "VIDEOS",
          "VIDEOS",
          "VIDEOS",
          "VIDEOS",
          "VIDEOS",
          "VIDEOS",
          "VIDEOS",
          "VIDEOS",
          "VIDEOS",
          "VIDEOS",
          "VIDEOS",
          "VIDEOS",
          "VIDEOS",
          "VIDEOS",
          "VIDEOS",
          "VIDEOS",
          "VIDEOS",
          "VIDEOS",
          "VIDEOS",
          "VIDEOS",
          "VIDEOS",
          "VIDEOS",
          "VIDEOS",
          "VIDEOS",
          "VIDEOS",
          "VIDEOS",
          "VIDEOS",
          "VIDEOS",
          "VIDEOS",
          "VIDEOS",
          "VIDEOS",
          "VIDEOS",
          "VIDEOS",
          "VIDEOS",
          "VIDEOS",
          "VIDEOS",
          "VIDEOS",
          "VIDEOS",
          "VIDEOS",
          "VIDEOS",
          "VIDEOS",
          "VIDEOS",
          "VIDEOS",
          "VIDEOS",
          "VIDEOS",
          "VIDEOS",
          "VIDEOS",
          "VIDEOS",
          "VIDEOS",
          "VIDEOS",
          "VIDEOS",
          "VIDEOS",
          "VIDEOS",
          "VIDEOS",
          "VIDEOS",
          "VIDEOS",
          "VIDEOS",
          "VIDEOS",
          "VIDEOS",
          "VIDEOS",
          "VIDEOS",
          "VIDEOS",
          "VIDEOS",
          "VIDEOS",
          "VIDEOS",
          "VIDEOS",
          "VIDEOS",
          "VIDEOS",
          "VIDEOS",
          "VIDEOS",
          "VIDEOS",
          "VIDEOS",
          "VIDEOS",
          "VIDEOS",
          "VIDEOS",
          "VIDEOS",
          "VIDEOS",
          "VIDEOS",
          "VIDEOS",
          "VIDEOS",
          "VIDEOS",
          "VIDEOS",
          "VIDEOS",
          "VIDEOS",
          "VIDEOS",
          "VIDEOS",
          "VIDEOS",
          "VIDEOS",
          "VIDEOS",
          "VIDEOS",
          "VIDEOS",
          "VIDEOS",
          "VIDEOS",
          "VIDEOS",
          "VIDEOS",
          "VIDEOS",
          "VIDEOS",
          "VIDEOS",
          "VIDEOS",
          "VIDEOS",
          "VIDEOS",
          "VIDEOS",
          "VIDEOS",
          "VIDEOS",
          "VIDEOS",
          "VIDEOS",
          "VIDEOS",
          "VIDEOS",
          "VIDEOS",
          "VIDEOS",
          "VIDEOS",
          "VIDEOS",
          "VIDEOS",
          "VIDEOS",
          "VIDEOS",
          "VIDEOS",
          "VIDEOS",
          "VIDEOS",
          "VIDEOS",
          "VIDEOS",
          "VIDEOS",
          "VIDEOS",
          "VIDEOS",
          "VIDEOS",
          "VIDEOS",
          "VIDEOS",
          "VIDEOS",
          "VIDEOS",
          "VIDEOS",
          "VIDEOS",
          "VIDEOS",
          "VIDEOS",
          "VIDEOS",
          "VIDEOS",
          "VIDEOS",
          "VIDEOS",
          "VIDEOS",
          "VIDEOS",
          "VIDEOS",
          "VIDEOS",
          "VIDEOS",
          "VIDEOS",
          "VIDEOS",
          "VIDEOS",
          "VIDEOS",
          "VIDEOS",
          "VIDEOS",
          "VIDEOS",
          "VIDEOS",
          "VIDEOS",
          "VIDEOS",
          "VIDEOS",
          "VIDEOS",
          "VIDEOS",
          "VIDEOS",
          "VIDEOS",
          "VIDEOS",
          "VIDEOS",
          "VIDEOS",
          "VIDEOS",
          "VIDEOS",
          "VIDEOS",
          "VIDEOS",
          "VIDEOS",
          "VIDEOS",
          "VIDEOS",
          "VIDEOS",
          "VIDEOS",
          "VIDEOS",
          "VIDEOS",
          "VIDEOS",
          "VIDEOS",
          "VIDEOS",
          "VIDEOS",
          "VIDEOS",
          "VIDEOS",
          "VIDEOS",
          "VIDEOS",
          "VIDEOS",
          "VIDEOS",
          "VIDEOS",
          "VIDEOS",
          "VIDEOS",
          "VIDEOS",
          "VIDEOS",
          "VIDEOS",
          "VIDEOS",
          "VIDEOS",
          "VIDEOS",
          "VIDEOS",
          "VIDEOS",
          "VIDEOS",
          "VIDEOS",
          "VIDEOS",
          "SUBSCRIBERS",
          "SUBSCRIBERS",
          "SUBSCRIBERS",
          "SUBSCRIBERS",
          "SUBSCRIBERS",
          "SUBSCRIBERS",
          "SUBSCRIBERS",
          "SUBSCRIBERS",
          "SUBSCRIBERS",
          "SUBSCRIBERS",
          "SUBSCRIBERS",
          "SUBSCRIBERS",
          "SUBSCRIBERS",
          "SUBSCRIBERS",
          "SUBSCRIBERS",
          "SUBSCRIBERS",
          "SUBSCRIBERS",
          "SUBSCRIBERS",
          "SUBSCRIBERS",
          "SUBSCRIBERS",
          "SUBSCRIBERS",
          "SUBSCRIBERS",
          "SUBSCRIBERS",
          "SUBSCRIBERS",
          "SUBSCRIBERS",
          "SUBSCRIBERS",
          "SUBSCRIBERS",
          "SUBSCRIBERS",
          "SUBSCRIBERS",
          "SUBSCRIBERS",
          "SUBSCRIBERS",
          "SUBSCRIBERS",
          "SUBSCRIBERS",
          "SUBSCRIBERS",
          "SUBSCRIBERS",
          "SUBSCRIBERS",
          "SUBSCRIBERS",
          "SUBSCRIBERS",
          "SUBSCRIBERS",
          "SUBSCRIBERS",
          "SUBSCRIBERS",
          "SUBSCRIBERS",
          "SUBSCRIBERS",
          "SUBSCRIBERS",
          "SUBSCRIBERS",
          "SUBSCRIBERS",
          "SUBSCRIBERS",
          "SUBSCRIBERS",
          "SUBSCRIBERS",
          "SUBSCRIBERS",
          "SUBSCRIBERS",
          "SUBSCRIBERS",
          "SUBSCRIBERS",
          "SUBSCRIBERS",
          "SUBSCRIBERS",
          "SUBSCRIBERS",
          "SUBSCRIBERS",
          "SUBSCRIBERS",
          "SUBSCRIBERS",
          "SUBSCRIBERS",
          "SUBSCRIBERS",
          "SUBSCRIBERS",
          "SUBSCRIBERS",
          "SUBSCRIBERS",
          "SUBSCRIBERS",
          "SUBSCRIBERS",
          "SUBSCRIBERS",
          "SUBSCRIBERS",
          "SUBSCRIBERS",
          "SUBSCRIBERS",
          "SUBSCRIBERS",
          "SUBSCRIBERS",
          "SUBSCRIBERS",
          "SUBSCRIBERS",
          "SUBSCRIBERS",
          "SUBSCRIBERS",
          "SUBSCRIBERS",
          "SUBSCRIBERS",
          "SUBSCRIBERS",
          "SUBSCRIBERS",
          "SUBSCRIBERS",
          "SUBSCRIBERS",
          "SUBSCRIBERS",
          "SUBSCRIBERS",
          "SUBSCRIBERS",
          "SUBSCRIBERS",
          "SUBSCRIBERS",
          "SUBSCRIBERS",
          "SUBSCRIBERS",
          "SUBSCRIBERS",
          "SUBSCRIBERS",
          "SUBSCRIBERS",
          "SUBSCRIBERS",
          "SUBSCRIBERS",
          "SUBSCRIBERS",
          "SUBSCRIBERS",
          "SUBSCRIBERS",
          "SUBSCRIBERS",
          "SUBSCRIBERS",
          "SUBSCRIBERS",
          "SUBSCRIBERS",
          "SUBSCRIBERS",
          "SUBSCRIBERS",
          "SUBSCRIBERS",
          "SUBSCRIBERS",
          "SUBSCRIBERS",
          "SUBSCRIBERS",
          "SUBSCRIBERS",
          "SUBSCRIBERS",
          "SUBSCRIBERS",
          "SUBSCRIBERS",
          "SUBSCRIBERS",
          "SUBSCRIBERS",
          "SUBSCRIBERS",
          "SUBSCRIBERS",
          "SUBSCRIBERS",
          "SUBSCRIBERS",
          "SUBSCRIBERS",
          "SUBSCRIBERS",
          "SUBSCRIBERS",
          "SUBSCRIBERS",
          "SUBSCRIBERS",
          "SUBSCRIBERS",
          "SUBSCRIBERS",
          "SUBSCRIBERS",
          "SUBSCRIBERS",
          "SUBSCRIBERS",
          "SUBSCRIBERS",
          "SUBSCRIBERS",
          "SUBSCRIBERS",
          "SUBSCRIBERS",
          "SUBSCRIBERS",
          "SUBSCRIBERS",
          "SUBSCRIBERS",
          "SUBSCRIBERS",
          "SUBSCRIBERS",
          "SUBSCRIBERS",
          "SUBSCRIBERS",
          "SUBSCRIBERS",
          "SUBSCRIBERS",
          "SUBSCRIBERS",
          "SUBSCRIBERS",
          "SUBSCRIBERS",
          "SUBSCRIBERS",
          "SUBSCRIBERS",
          "SUBSCRIBERS",
          "SUBSCRIBERS",
          "SUBSCRIBERS",
          "SUBSCRIBERS",
          "SUBSCRIBERS",
          "SUBSCRIBERS",
          "SUBSCRIBERS",
          "SUBSCRIBERS",
          "SUBSCRIBERS",
          "SUBSCRIBERS",
          "SUBSCRIBERS",
          "SUBSCRIBERS",
          "SUBSCRIBERS",
          "SUBSCRIBERS",
          "SUBSCRIBERS",
          "SUBSCRIBERS",
          "SUBSCRIBERS",
          "SUBSCRIBERS",
          "SUBSCRIBERS",
          "SUBSCRIBERS",
          "SUBSCRIBERS",
          "SUBSCRIBERS",
          "SUBSCRIBERS",
          "SUBSCRIBERS",
          "SUBSCRIBERS",
          "SUBSCRIBERS",
          "SUBSCRIBERS",
          "SUBSCRIBERS",
          "SUBSCRIBERS",
          "SUBSCRIBERS",
          "SUBSCRIBERS",
          "SUBSCRIBERS",
          "SUBSCRIBERS",
          "SUBSCRIBERS",
          "SUBSCRIBERS",
          "SUBSCRIBERS",
          "SUBSCRIBERS",
          "SUBSCRIBERS",
          "SUBSCRIBERS",
          "SUBSCRIBERS",
          "SUBSCRIBERS",
          "SUBSCRIBERS",
          "SUBSCRIBERS",
          "SUBSCRIBERS",
          "SUBSCRIBERS",
          "SUBSCRIBERS",
          "SUBSCRIBERS",
          "SUBSCRIBERS",
          "SUBSCRIBERS",
          "SUBSCRIBERS",
          "SUBSCRIBERS",
          "SUBSCRIBERS",
          "SUBSCRIBERS",
          "SUBSCRIBERS",
          "SUBSCRIBERS",
          "SUBSCRIBERS",
          "SUBSCRIBERS",
          "SUBSCRIBERS",
          "SUBSCRIBERS",
          "SUBSCRIBERS",
          "SUBSCRIBERS",
          "SUBSCRIBERS",
          "SUBSCRIBERS",
          "SUBSCRIBERS",
          "SUBSCRIBERS",
          "SUBSCRIBERS",
          "SUBSCRIBERS",
          "SUBSCRIBERS",
          "SUBSCRIBERS",
          "SUBSCRIBERS",
          "SUBSCRIBERS",
          "SUBSCRIBERS",
          "SUBSCRIBERS",
          "SUBSCRIBERS",
          "SUBSCRIBERS",
          "SUBSCRIBERS",
          "SUBSCRIBERS",
          "SUBSCRIBERS",
          "SUBSCRIBERS",
          "SUBSCRIBERS",
          "SUBSCRIBERS",
          "SUBSCRIBERS",
          "SUBSCRIBERS",
          "SUBSCRIBERS",
          "SUBSCRIBERS",
          "SUBSCRIBERS",
          "SUBSCRIBERS",
          "SUBSCRIBERS",
          "SUBSCRIBERS",
          "SUBSCRIBERS",
          "SUBSCRIBERS",
          "SUBSCRIBERS",
          "SUBSCRIBERS",
          "SUBSCRIBERS",
          "SUBSCRIBERS",
          "SUBSCRIBERS",
          "SUBSCRIBERS",
          "SUBSCRIBERS",
          "SUBSCRIBERS",
          "SUBSCRIBERS",
          "SUBSCRIBERS",
          "SUBSCRIBERS",
          "SUBSCRIBERS",
          "SUBSCRIBERS",
          "SUBSCRIBERS",
          "SUBSCRIBERS",
          "SUBSCRIBERS",
          "SUBSCRIBERS",
          "SUBSCRIBERS",
          "SUBSCRIBERS",
          "SUBSCRIBERS",
          "SUBSCRIBERS",
          "SUBSCRIBERS",
          "SUBSCRIBERS",
          "SUBSCRIBERS",
          "SUBSCRIBERS",
          "SUBSCRIBERS",
          "SUBSCRIBERS",
          "SUBSCRIBERS",
          "SUBSCRIBERS",
          "SUBSCRIBERS",
          "SUBSCRIBERS",
          "SUBSCRIBERS",
          "SUBSCRIBERS",
          "SUBSCRIBERS",
          "SUBSCRIBERS",
          "SUBSCRIBERS",
          "SUBSCRIBERS",
          "SUBSCRIBERS",
          "SUBSCRIBERS",
          "SUBSCRIBERS",
          "SUBSCRIBERS",
          "SUBSCRIBERS",
          "SUBSCRIBERS",
          "SUBSCRIBERS",
          "SUBSCRIBERS",
          "SUBSCRIBERS",
          "SUBSCRIBERS",
          "SUBSCRIBERS",
          "SUBSCRIBERS",
          "SUBSCRIBERS",
          "SUBSCRIBERS",
          "SUBSCRIBERS",
          "SUBSCRIBERS",
          "SUBSCRIBERS",
          "SUBSCRIBERS",
          "SUBSCRIBERS",
          "SUBSCRIBERS",
          "SUBSCRIBERS",
          "SUBSCRIBERS",
          "SUBSCRIBERS",
          "SUBSCRIBERS",
          "SUBSCRIBERS",
          "SUBSCRIBERS",
          "SUBSCRIBERS",
          "SUBSCRIBERS",
          "SUBSCRIBERS",
          "SUBSCRIBERS",
          "SUBSCRIBERS",
          "SUBSCRIBERS",
          "SUBSCRIBERS",
          "SUBSCRIBERS",
          "SUBSCRIBERS",
          "SUBSCRIBERS",
          "SUBSCRIBERS",
          "SUBSCRIBERS",
          "SUBSCRIBERS",
          "SUBSCRIBERS",
          "SUBSCRIBERS",
          "SUBSCRIBERS",
          "SUBSCRIBERS",
          "SUBSCRIBERS",
          "SUBSCRIBERS",
          "SUBSCRIBERS",
          "SUBSCRIBERS",
          "SUBSCRIBERS",
          "SUBSCRIBERS",
          "SUBSCRIBERS",
          "SUBSCRIBERS",
          "SUBSCRIBERS",
          "SUBSCRIBERS",
          "SUBSCRIBERS",
          "SUBSCRIBERS",
          "SUBSCRIBERS",
          "SUBSCRIBERS",
          "SUBSCRIBERS",
          "SUBSCRIBERS",
          "SUBSCRIBERS",
          "SUBSCRIBERS",
          "SUBSCRIBERS",
          "SUBSCRIBERS",
          "SUBSCRIBERS",
          "SUBSCRIBERS",
          "SUBSCRIBERS",
          "SUBSCRIBERS",
          "SUBSCRIBERS",
          "SUBSCRIBERS",
          "SUBSCRIBERS",
          "SUBSCRIBERS",
          "SUBSCRIBERS",
          "SUBSCRIBERS",
          "SUBSCRIBERS",
          "SUBSCRIBERS",
          "SUBSCRIBERS",
          "SUBSCRIBERS",
          "SUBSCRIBERS",
          "SUBSCRIBERS",
          "SUBSCRIBERS",
          "SUBSCRIBERS",
          "SUBSCRIBERS",
          "SUBSCRIBERS",
          "SUBSCRIBERS",
          "SUBSCRIBERS",
          "SUBSCRIBERS",
          "SUBSCRIBERS",
          "SUBSCRIBERS",
          "SUBSCRIBERS",
          "SUBSCRIBERS",
          "SUBSCRIBERS",
          "SUBSCRIBERS",
          "SUBSCRIBERS",
          "SUBSCRIBERS",
          "SUBSCRIBERS",
          "SUBSCRIBERS",
          "SUBSCRIBERS",
          "SUBSCRIBERS",
          "SUBSCRIBERS",
          "SUBSCRIBERS",
          "SUBSCRIBERS",
          "SUBSCRIBERS",
          "SUBSCRIBERS",
          "SUBSCRIBERS",
          "SUBSCRIBERS",
          "SUBSCRIBERS",
          "SUBSCRIBERS",
          "SUBSCRIBERS",
          "SUBSCRIBERS",
          "SUBSCRIBERS",
          "SUBSCRIBERS",
          "SUBSCRIBERS",
          "SUBSCRIBERS",
          "SUBSCRIBERS",
          "SUBSCRIBERS",
          "SUBSCRIBERS",
          "SUBSCRIBERS",
          "SUBSCRIBERS",
          "SUBSCRIBERS",
          "SUBSCRIBERS",
          "SUBSCRIBERS",
          "SUBSCRIBERS",
          "SUBSCRIBERS",
          "SUBSCRIBERS",
          "SUBSCRIBERS",
          "SUBSCRIBERS",
          "SUBSCRIBERS",
          "SUBSCRIBERS",
          "SUBSCRIBERS",
          "SUBSCRIBERS",
          "SUBSCRIBERS",
          "SUBSCRIBERS",
          "SUBSCRIBERS",
          "SUBSCRIBERS",
          "SUBSCRIBERS",
          "SUBSCRIBERS",
          "SUBSCRIBERS",
          "SUBSCRIBERS",
          "SUBSCRIBERS",
          "SUBSCRIBERS",
          "SUBSCRIBERS",
          "SUBSCRIBERS",
          "SUBSCRIBERS",
          "SUBSCRIBERS",
          "SUBSCRIBERS",
          "SUBSCRIBERS",
          "SUBSCRIBERS",
          "SUBSCRIBERS",
          "SUBSCRIBERS",
          "SUBSCRIBERS",
          "SUBSCRIBERS",
          "SUBSCRIBERS",
          "SUBSCRIBERS",
          "SUBSCRIBERS",
          "SUBSCRIBERS",
          "SUBSCRIBERS",
          "SUBSCRIBERS",
          "SUBSCRIBERS",
          "SUBSCRIBERS",
          "SUBSCRIBERS",
          "SUBSCRIBERS",
          "SUBSCRIBERS",
          "SUBSCRIBERS",
          "SUBSCRIBERS",
          "SUBSCRIBERS",
          "SUBSCRIBERS",
          "SUBSCRIBERS",
          "SUBSCRIBERS",
          "SUBSCRIBERS",
          "SUBSCRIBERS",
          "SUBSCRIBERS",
          "SUBSCRIBERS",
          "SUBSCRIBERS",
          "SUBSCRIBERS",
          "SUBSCRIBERS",
          "SUBSCRIBERS",
          "SUBSCRIBERS",
          "SUBSCRIBERS",
          "SUBSCRIBERS",
          "SUBSCRIBERS",
          "SUBSCRIBERS",
          "SUBSCRIBERS",
          "SUBSCRIBERS",
          "SUBSCRIBERS",
          "SUBSCRIBERS",
          "SUBSCRIBERS",
          "SUBSCRIBERS",
          "SUBSCRIBERS",
          "SUBSCRIBERS",
          "SUBSCRIBERS",
          "SUBSCRIBERS",
          "SUBSCRIBERS",
          "SUBSCRIBERS",
          "SUBSCRIBERS",
          "SUBSCRIBERS",
          "SUBSCRIBERS",
          "SUBSCRIBERS",
          "SUBSCRIBERS",
          "SUBSCRIBERS",
          "SUBSCRIBERS",
          "SUBSCRIBERS",
          "SUBSCRIBERS",
          "SUBSCRIBERS",
          "SUBSCRIBERS",
          "SUBSCRIBERS",
          "SUBSCRIBERS",
          "SUBSCRIBERS",
          "SUBSCRIBERS",
          "SUBSCRIBERS",
          "SUBSCRIBERS",
          "SUBSCRIBERS",
          "SUBSCRIBERS",
          "VIEWS",
          "VIEWS",
          "VIEWS",
          "VIEWS",
          "VIEWS",
          "VIEWS",
          "VIEWS",
          "VIEWS",
          "VIEWS",
          "VIEWS",
          "VIEWS",
          "VIEWS",
          "VIEWS",
          "VIEWS",
          "VIEWS",
          "VIEWS",
          "VIEWS",
          "VIEWS",
          "VIEWS",
          "VIEWS",
          "VIEWS",
          "VIEWS",
          "VIEWS",
          "VIEWS",
          "VIEWS",
          "VIEWS",
          "VIEWS",
          "VIEWS",
          "VIEWS",
          "VIEWS",
          "VIEWS",
          "VIEWS",
          "VIEWS",
          "VIEWS",
          "VIEWS",
          "VIEWS",
          "VIEWS",
          "VIEWS",
          "VIEWS",
          "VIEWS",
          "VIEWS",
          "VIEWS",
          "VIEWS",
          "VIEWS",
          "VIEWS",
          "VIEWS",
          "VIEWS",
          "VIEWS",
          "VIEWS",
          "VIEWS",
          "VIEWS",
          "VIEWS",
          "VIEWS",
          "VIEWS",
          "VIEWS",
          "VIEWS",
          "VIEWS",
          "VIEWS",
          "VIEWS",
          "VIEWS",
          "VIEWS",
          "VIEWS",
          "VIEWS",
          "VIEWS",
          "VIEWS",
          "VIEWS",
          "VIEWS",
          "VIEWS",
          "VIEWS",
          "VIEWS",
          "VIEWS",
          "VIEWS",
          "VIEWS",
          "VIEWS",
          "VIEWS",
          "VIEWS",
          "VIEWS",
          "VIEWS",
          "VIEWS",
          "VIEWS",
          "VIEWS",
          "VIEWS",
          "VIEWS",
          "VIEWS",
          "VIEWS",
          "VIEWS",
          "VIEWS",
          "VIEWS",
          "VIEWS",
          "VIEWS",
          "VIEWS",
          "VIEWS",
          "VIEWS",
          "VIEWS",
          "VIEWS",
          "VIEWS",
          "VIEWS",
          "VIEWS",
          "VIEWS",
          "VIEWS",
          "VIEWS",
          "VIEWS",
          "VIEWS",
          "VIEWS",
          "VIEWS",
          "VIEWS",
          "VIEWS",
          "VIEWS",
          "VIEWS",
          "VIEWS",
          "VIEWS",
          "VIEWS",
          "VIEWS",
          "VIEWS",
          "VIEWS",
          "VIEWS",
          "VIEWS",
          "VIEWS",
          "VIEWS",
          "VIEWS",
          "VIEWS",
          "VIEWS",
          "VIEWS",
          "VIEWS",
          "VIEWS",
          "VIEWS",
          "VIEWS",
          "VIEWS",
          "VIEWS",
          "VIEWS",
          "VIEWS",
          "VIEWS",
          "VIEWS",
          "VIEWS",
          "VIEWS",
          "VIEWS",
          "VIEWS",
          "VIEWS",
          "VIEWS",
          "VIEWS",
          "VIEWS",
          "VIEWS",
          "VIEWS",
          "VIEWS",
          "VIEWS",
          "VIEWS",
          "VIEWS",
          "VIEWS",
          "VIEWS",
          "VIEWS",
          "VIEWS",
          "VIEWS",
          "VIEWS",
          "VIEWS",
          "VIEWS",
          "VIEWS",
          "VIEWS",
          "VIEWS",
          "VIEWS",
          "VIEWS",
          "VIEWS",
          "VIEWS",
          "VIEWS",
          "VIEWS",
          "VIEWS",
          "VIEWS",
          "VIEWS",
          "VIEWS",
          "VIEWS",
          "VIEWS",
          "VIEWS",
          "VIEWS",
          "VIEWS",
          "VIEWS",
          "VIEWS",
          "VIEWS",
          "VIEWS",
          "VIEWS",
          "VIEWS",
          "VIEWS",
          "VIEWS",
          "VIEWS",
          "VIEWS",
          "VIEWS",
          "VIEWS",
          "VIEWS",
          "VIEWS",
          "VIEWS",
          "VIEWS",
          "VIEWS",
          "VIEWS",
          "VIEWS",
          "VIEWS",
          "VIEWS",
          "VIEWS",
          "VIEWS",
          "VIEWS",
          "VIEWS",
          "VIEWS",
          "VIEWS",
          "VIEWS",
          "VIEWS",
          "VIEWS",
          "VIEWS",
          "VIEWS",
          "VIEWS",
          "VIEWS",
          "VIEWS",
          "VIEWS",
          "VIEWS",
          "VIEWS",
          "VIEWS",
          "VIEWS",
          "VIEWS",
          "VIEWS",
          "VIEWS",
          "VIEWS",
          "VIEWS",
          "VIEWS",
          "VIEWS",
          "VIEWS",
          "VIEWS",
          "VIEWS",
          "VIEWS",
          "VIEWS",
          "VIEWS",
          "VIEWS",
          "VIEWS",
          "VIEWS",
          "VIEWS",
          "VIEWS",
          "VIEWS",
          "VIEWS",
          "VIEWS",
          "VIEWS",
          "VIEWS",
          "VIEWS",
          "VIEWS",
          "VIEWS",
          "VIEWS",
          "VIEWS",
          "VIEWS",
          "VIEWS",
          "VIEWS",
          "VIEWS",
          "VIEWS",
          "VIEWS",
          "VIEWS",
          "VIEWS",
          "VIEWS",
          "VIEWS",
          "VIEWS",
          "VIEWS",
          "VIEWS",
          "VIEWS",
          "VIEWS",
          "VIEWS",
          "VIEWS",
          "VIEWS",
          "VIEWS",
          "VIEWS",
          "VIEWS",
          "VIEWS",
          "VIEWS",
          "VIEWS",
          "VIEWS",
          "VIEWS",
          "VIEWS",
          "VIEWS",
          "VIEWS",
          "VIEWS",
          "VIEWS",
          "VIEWS",
          "VIEWS",
          "VIEWS",
          "VIEWS",
          "VIEWS",
          "VIEWS",
          "VIEWS",
          "VIEWS",
          "VIEWS",
          "VIEWS",
          "VIEWS",
          "VIEWS",
          "VIEWS",
          "VIEWS",
          "VIEWS",
          "VIEWS",
          "VIEWS",
          "VIEWS",
          "VIEWS",
          "VIEWS",
          "VIEWS",
          "VIEWS",
          "VIEWS",
          "VIEWS",
          "VIEWS",
          "VIEWS",
          "VIEWS",
          "VIEWS",
          "VIEWS",
          "VIEWS",
          "VIEWS",
          "VIEWS",
          "VIEWS",
          "VIEWS",
          "VIEWS",
          "VIEWS",
          "VIEWS",
          "VIEWS",
          "VIEWS",
          "VIEWS",
          "VIEWS",
          "VIEWS",
          "VIEWS",
          "VIEWS",
          "VIEWS",
          "VIEWS",
          "VIEWS",
          "VIEWS",
          "VIEWS",
          "VIEWS",
          "VIEWS",
          "VIEWS",
          "VIEWS",
          "VIEWS",
          "VIEWS",
          "VIEWS",
          "VIEWS",
          "VIEWS",
          "VIEWS",
          "VIEWS",
          "VIEWS",
          "VIEWS",
          "VIEWS",
          "VIEWS",
          "VIEWS",
          "VIEWS",
          "VIEWS",
          "VIEWS",
          "VIEWS",
          "VIEWS",
          "VIEWS",
          "VIEWS",
          "VIEWS",
          "VIEWS",
          "VIEWS",
          "VIEWS",
          "VIEWS",
          "VIEWS",
          "VIEWS",
          "VIEWS",
          "VIEWS",
          "VIEWS",
          "VIEWS",
          "VIEWS",
          "VIEWS",
          "VIEWS",
          "VIEWS",
          "VIEWS",
          "VIEWS",
          "VIEWS",
          "VIEWS",
          "VIEWS",
          "VIEWS",
          "VIEWS",
          "VIEWS",
          "VIEWS",
          "VIEWS",
          "VIEWS",
          "VIEWS",
          "VIEWS",
          "VIEWS",
          "VIEWS",
          "VIEWS",
          "VIEWS",
          "VIEWS",
          "VIEWS",
          "VIEWS",
          "VIEWS",
          "VIEWS",
          "VIEWS",
          "VIEWS",
          "VIEWS",
          "VIEWS",
          "VIEWS",
          "VIEWS",
          "VIEWS",
          "VIEWS",
          "VIEWS",
          "VIEWS",
          "VIEWS",
          "VIEWS",
          "VIEWS",
          "VIEWS",
          "VIEWS",
          "VIEWS",
          "VIEWS",
          "VIEWS",
          "VIEWS",
          "VIEWS",
          "VIEWS",
          "VIEWS",
          "VIEWS",
          "VIEWS",
          "VIEWS",
          "VIEWS",
          "VIEWS",
          "VIEWS",
          "VIEWS",
          "VIEWS",
          "VIEWS",
          "VIEWS",
          "VIEWS",
          "VIEWS",
          "VIEWS",
          "VIEWS",
          "VIEWS",
          "VIEWS",
          "VIEWS",
          "VIEWS",
          "VIEWS",
          "VIEWS",
          "VIEWS",
          "VIEWS",
          "VIEWS",
          "VIEWS",
          "VIEWS",
          "VIEWS",
          "VIEWS",
          "VIEWS",
          "VIEWS",
          "VIEWS",
          "VIEWS",
          "VIEWS",
          "VIEWS",
          "VIEWS",
          "VIEWS",
          "VIEWS",
          "VIEWS",
          "VIEWS",
          "VIEWS",
          "VIEWS",
          "VIEWS",
          "VIEWS",
          "VIEWS",
          "VIEWS",
          "VIEWS",
          "VIEWS",
          "VIEWS",
          "VIEWS",
          "VIEWS",
          "VIEWS",
          "VIEWS",
          "VIEWS",
          "VIEWS",
          "VIEWS",
          "VIEWS",
          "VIEWS",
          "VIEWS",
          "VIEWS",
          "VIEWS",
          "VIEWS",
          "VIEWS",
          "VIEWS",
          "VIEWS",
          "VIEWS",
          "VIEWS",
          "VIEWS",
          "VIEWS",
          "VIEWS",
          "VIEWS",
          "VIEWS",
          "VIEWS",
          "VIEWS",
          "VIEWS",
          "VIEWS",
          "VIEWS",
          "VIEWS",
          "VIEWS",
          "VIEWS",
          "VIEWS",
          "VIEWS",
          "VIEWS",
          "VIEWS"
         ],
         "x0": " ",
         "xaxis": "x",
         "y": [
          -0.2852934028113956,
          0.17086924213832158,
          -0.2767407741156699,
          2.8163476982834017,
          -0.2758428603418404,
          -0.28704433467036305,
          -0.28336288819766225,
          -0.19615301291447484,
          -0.051364416884472575,
          1.4165001248832558,
          -0.1113001612875898,
          -0.2898503152135802,
          1.620999986872918,
          -0.2854505377218158,
          3.6404080642153986,
          -0.14497192780619497,
          -0.24688514113583995,
          -0.23049821476345211,
          -0.26170071840402626,
          3.1032311490219175,
          -0.29763971720155086,
          -0.11062672595721769,
          0.325534889680448,
          -0.24015078783211893,
          -0.17258277635145122,
          7.898090701271294,
          -0.27000642081194887,
          -0.2964050857625353,
          -0.2880993833546127,
          0.1490948331229569,
          0.6083777284367315,
          -0.19794884046213376,
          -0.2995253361265927,
          -0.29341952246455233,
          -0.21119306862611847,
          -0.29721320815898183,
          -0.29236447378030267,
          -0.2843281455045289,
          0.09319970070207231,
          -0.27965899388061566,
          -0.2753939034549257,
          -0.28268945286729014,
          -0.2925889522237601,
          2.696700687920625,
          -0.2989641400179493,
          2.820837267152549,
          -0.02824313720836369,
          -0.2997273667257044,
          -0.27853660166332883,
          -0.3004905934334594,
          -0.27337359746380935,
          -0.21904981414712635,
          -0.2545174082133905,
          -0.25743562797833625,
          -0.24643618424892522,
          -0.2500278393442431,
          -0.23768152495408787,
          -0.07291434745637988,
          4.7493315748947955,
          -0.29974981457005007,
          -0.19682644824484694,
          -0.17235829790799384,
          -0.290972707430867,
          0.18590929784996524,
          -0.19345927159298643,
          -0.29519290216786553,
          -0.20625454287005637,
          -0.2902319285674577,
          -0.26529237349934415,
          -0.1997446680097927,
          -0.30004163654654464,
          -0.2961357116303865,
          -0.28574235969831036,
          -0.12476886789503186,
          -0.27561838189838306,
          -0.26372102439514256,
          -0.045303498911123646,
          -0.24194661537977788,
          -0.3000640843908904,
          -0.3001763236126191,
          8.217748004754586,
          1.7213418510983614,
          -0.30132116367425166,
          -0.2873137088025119,
          -0.27808764477641407,
          0.33249372142762645,
          -0.2727001621334373,
          -0.30058038481084237,
          -0.2847995502357894,
          -0.21815190037329688,
          -0.29880700510752917,
          -0.2966295642059927,
          -0.2854729855661615,
          -0.2919828604264252,
          6.530792502172467,
          -0.10748402774881453,
          -0.24374244292743683,
          -0.27651629567221253,
          -0.22443729679010319,
          1.5801449101636769,
          4.565932686590126,
          -0.28881771437367626,
          -0.2278044734419637,
          -0.12185064813008607,
          -0.23229404231111106,
          -0.25698667109142154,
          -0.2869994389816716,
          -0.279883472324073,
          -0.2909053638978298,
          -0.30019877145696483,
          2.923199437369109,
          -0.2874708437129321,
          -0.28942380617101116,
          -0.27921003699370095,
          -0.093117407367543,
          -0.28668516916083125,
          -0.2801079507675304,
          -0.28740350017989486,
          2.888629757076674,
          -0.29757237366851363,
          -0.29070333329871817,
          -0.29970491888135864,
          -0.2829812748437847,
          -0.22802895188542108,
          0.07636381744276972,
          -0.0435076713634647,
          -0.3009844460090656,
          -0.29793153917804543,
          -0.2628231106213131,
          -0.23992630938866155,
          -0.29914372277271517,
          -0.2979988827110826,
          -0.2882340704206871,
          -0.1775213021075133,
          -0.11242255350487662,
          -0.24845649024004154,
          -0.13105426431183817,
          -0.2996151275039757,
          -0.20513215065276955,
          -0.2067034997569711,
          -0.11601420860019451,
          -0.3017701205611664,
          -0.29564185905478024,
          3.6134706510005143,
          -0.28857078808587316,
          2.7907571557292616,
          -0.15844063441363704,
          -0.22870238721579317,
          -0.28664027347213983,
          -0.2993682012161726,
          1.4784561752774894,
          -0.2634965459516852,
          -0.2515991884484447,
          -0.2753939034549257,
          -0.14182922959779182,
          -0.287223917425129,
          -0.2988967964849121,
          -0.2228659476859016,
          -0.2985151831310346,
          -0.26416998128205726,
          -0.27921003699370095,
          -0.12409543256465976,
          -0.08481170495962038,
          -0.2988967964849121,
          -0.2887952665293305,
          -0.29797643486673686,
          -0.26574133038625886,
          -0.29788664348935395,
          -0.2724756836899799,
          -0.29478884096964225,
          0.39489872870877474,
          -0.03003896475602263,
          -0.27921003699370095,
          -0.22511073212047528,
          -0.3017027770281292,
          -0.29934575337182684,
          -0.13038082898146605,
          -0.23162060698073894,
          -0.28935646263797393,
          -0.27292464057689464,
          -0.2787610801067862,
          -0.2053566290962269,
          -0.2271310381115916,
          -0.26888402859466204,
          -0.1196058636955124,
          -0.3006252804995338,
          -0.28978297168054296,
          -0.29671935558337564,
          -0.30010898007958187,
          -0.2886381316189104,
          -0.2824874222681785,
          -0.28866057946325613,
          -0.07246539056946515,
          -0.2875830829346607,
          -0.282105808914301,
          -0.22825343032887843,
          -0.28598928598611345,
          -0.1930103147060717,
          -0.298649870197109,
          -0.21545815905180846,
          -0.11421838105253557,
          -0.30289251277845325,
          -0.2884585488641445,
          -0.27921003699370095,
          -0.07852630854281409,
          -0.028692094095278422,
          -0.2742715112376388,
          -0.18650043984580802,
          -0.2812976865178545,
          -0.29802133055542834,
          -0.13060530742492343,
          -0.2778631663329567,
          -0.18964313805421115,
          -0.19682644824484694,
          -0.2136623315041495,
          -0.29570920258781747,
          -0.30284761708976177,
          -0.2727001621334373,
          -0.29970491888135864,
          -0.2809609688526684,
          -0.23857943872791734,
          -0.27965899388061566,
          -0.3002436671456563,
          -0.19211240093224222,
          -0.2833404403533165,
          -0.18021504342900171,
          -0.30179256840551216,
          -0.30221907744808113,
          -0.2118665039564906,
          -0.2572111495348789,
          0.9459933073966128,
          -0.28102831238570564,
          -0.2948561845026795,
          -0.2655168519428015,
          -0.24217109382323523,
          -0.2563132357610494,
          -0.2853607463444328,
          -0.2942051970166531,
          -0.27337359746380935,
          -0.2893789104823197,
          -0.21994772792095582,
          -0.28897484928409645,
          -0.2864606907173739,
          -0.1732562116818233,
          -0.1391354882763034,
          -0.29667445989468416,
          -0.2049076722093122,
          4.674804731666949,
          -0.27337359746380935,
          -0.2556398004306773,
          -0.051139938441015206,
          -0.2881442790433042,
          -0.2955296198330516,
          -0.2524971022222742,
          -0.2987621094188377,
          1.7366063852534623,
          -0.24284452915360735,
          -0.25698667109142154,
          -0.29606836809734927,
          -0.24890544712695628,
          -0.28836875748676155,
          -0.23408986985877,
          -0.29752747797982215,
          -0.3008048632542997,
          -0.2639455028385999,
          -0.26574133038625886,
          -0.2908155725204469,
          -0.14362505714545076,
          -0.2648434166124294,
          -0.30161298565074623,
          -0.30197215116027804,
          -0.2840812192167258,
          -0.2527215806657315,
          -0.29974981457005007,
          -0.26170071840402626,
          -0.29873966157449194,
          -0.27561838189838306,
          -0.2911298423412872,
          -0.21074411173920374,
          -0.27921003699370095,
          -0.17370516856873805,
          -0.2989192443292578,
          -0.2937113444410469,
          -0.2242128183466458,
          -0.1355438331809855,
          -0.25900697708253784,
          1.88947620524793,
          -0.27651629567221253,
          -0.28996255443530883,
          -0.29063598976568095,
          -0.20849932730463006,
          -0.29110739449694145,
          -0.27359807590726676,
          -0.2682105932642899,
          -0.28942380617101116,
          -0.260353847743282,
          -0.2897380759918515,
          -0.25137471000498735,
          -0.2587824986390805,
          -0.30172522487247494,
          0.0395493527157614,
          5.4483574478210395,
          -0.29631529438515236,
          -0.2208456416947853,
          -0.28892995359540496,
          -0.2963377422294981,
          0.27143558480722235,
          0.3053318297692849,
          -0.29817846546584853,
          -0.18335774163740487,
          -0.27404703279418147,
          -0.2933521789315151,
          -0.22151907702515738,
          -0.26012936929982466,
          -0.30058038481084237,
          -0.26978194236849146,
          -0.2718022483596078,
          -0.26170071840402626,
          -0.29793153917804543,
          0.14752348401875534,
          -0.2894911497040484,
          -0.28578725538700184,
          -0.22645760278121949,
          -0.20513215065276955,
          -0.2881442790433042,
          -0.3008497589429912,
          -0.29144411216212746,
          -0.2787610801067862,
          0.23102946498489615,
          -0.23498778363259948,
          -0.29948044043790123,
          -0.266414765716631,
          -0.277414209446042,
          -0.1970509266883043,
          -0.30228642098111835,
          -0.23162060698073894,
          -0.29656222067295546,
          -0.2619251968474836,
          -0.3006252804995338,
          -0.30075996756560824,
          1.3383816265600919,
          0.7448606220588112,
          0.08107786475537446,
          -0.2992110663057524,
          -0.28666272131648557,
          -0.296090815941695,
          -0.2453137920316384,
          -0.2751694250114683,
          0.29882195490902125,
          -0.25115023156152994,
          -0.11713660081748135,
          -0.20019362489670744,
          -0.29746013444678493,
          -0.21949877103404108,
          -0.29272363928983447,
          -0.15911406974400913,
          -0.24217109382323523,
          -0.2862586601182623,
          4.113384144580072,
          -0.29018703287876624,
          -0.25768255426613934,
          0.18950095294528313,
          -0.29256650437941434,
          -0.22398833990318845,
          -0.27808764477641407,
          -0.28392408430630567,
          -0.10793298463572927,
          -0.15888959130055177,
          -0.29332973108716937,
          -0.29716831247029035,
          -0.20737693508734323,
          -0.287134126047746,
          -0.18066400031591645,
          0.905811666017744,
          -0.29721320815898183,
          -0.2623741537343983,
          0.7432892729546097,
          -0.2661902872731736,
          -0.28690964760428866,
          -0.26506789505588674,
          -0.2946990495922593,
          -0.27696525255912724,
          -0.06842477858723253,
          -0.2758428603418404,
          -0.218825335703669,
          -0.29281343066721743,
          -0.08481170495962038,
          -0.292678743601143,
          -0.2818139869378064,
          -0.28239763089079556,
          -0.26574133038625886,
          -0.30320678259929357,
          -0.2313961285372816,
          -0.27696525255912724,
          -0.2668637226035457,
          -0.28228539166906685,
          -0.29833560037626866,
          -0.27898555855024354,
          -0.30181501624985785,
          -0.18066400031591645,
          -0.21119306862611847,
          3.4994356017241715,
          -0.2995702318152842,
          -0.27696525255912724,
          -0.3005354891221509,
          -0.29746013444678493,
          -0.2980662262441198,
          -0.2046831937658548,
          -0.27696525255912724,
          -0.2975948215128594,
          -0.3012313722968687,
          -0.30185991193854933,
          -0.29555206767739733,
          -0.2933521789315151,
          -0.28648313856171964,
          -0.2118665039564906,
          -0.21545815905180846,
          -0.16382811705661388,
          -0.29595612887562056,
          -0.273149119020352,
          -0.14497192780619497,
          -0.289266671260591,
          -0.2668637226035457,
          -0.27449598968109623,
          1.0057045733562726,
          -0.301208924452523,
          -0.2913318729403988,
          -0.2972581038476733,
          -0.30197215116027804,
          0.7726959490475248,
          6.298232834750634,
          -0.28203846538126376,
          -0.2542929297699331,
          -0.28417101059410876,
          -0.28704433467036305,
          -0.2682105932642899,
          -0.26012936929982466,
          -0.21456024527797898,
          -0.1831332631939475,
          -0.28055690765444513,
          -0.2747204681245536,
          -0.24778305490966943,
          -0.18156191408974592,
          -0.2851138200566297,
          -0.29918861846140665,
          -0.2722512052465225,
          -0.2849342373018638,
          -0.29519290216786553,
          -0.2967642512720671,
          -0.2738225543507241,
          -0.2849342373018638,
          -0.28275679640032736,
          -0.2972581038476733,
          2.864161606739821,
          0.5423810660602654,
          -0.2691085070381194,
          -0.07403673967366672,
          -0.20647902131351376,
          -0.29923351415009813,
          -0.26259863217785573,
          -0.14070683738050496,
          -0.2722512052465225,
          -0.04889515400644153,
          -0.29418274917230736,
          -0.2877177700007352,
          -0.27965899388061566,
          0.9019955324789687,
          -0.29234202593595693,
          -0.28374450155153974,
          -0.2836996058628483,
          -0.28729126095816615,
          -0.1752765176729396,
          -0.2704553776988636,
          -0.296517324984264,
          -0.2904788548552608,
          -0.2973927909137477,
          -0.27359807590726676,
          -0.26461893816897203,
          -0.19233687937569957,
          -0.2912869772517073,
          -0.2767407741156699,
          -0.28374450155153974,
          -0.29862742235276324,
          -0.29059109407698946,
          -0.10187206666238034,
          10.137317302618074,
          9.84023158329582,
          5.978117232106517,
          5.850794780968408,
          3.7287539286665936,
          3.5589906604824484,
          3.4316682093443394,
          3.219464124114158,
          3.0497008559300127,
          2.8374967706998313,
          2.6337808488788568,
          2.493726152626937,
          2.434309008762486,
          2.3833800283072426,
          1.9335073676192578,
          1.9335073676192578,
          1.8231612432995634,
          1.7043269555706617,
          1.6873506287522473,
          1.6067130763647783,
          1.6067130763647783,
          1.415729399657615,
          1.3860208277253896,
          1.356312213352347,
          1.3181155204517314,
          1.2756747034056952,
          1.2417220497688661,
          1.1950371510182263,
          1.1525963339721899,
          1.139864088858379,
          1.114399598630757,
          1.0762028632893246,
          1.0677146998801172,
          1.0634706181755136,
          1.05922653647091,
          1.0210298011294774,
          0.9319040853328011,
          0.9234159219235938,
          0.9191718402189902,
          0.9191718402189902,
          0.9149277585143866,
          0.8342902061269176,
          0.830046124422314,
          0.8215579610131067,
          0.8088257158992959,
          0.7918493890808813,
          0.7791171439670704,
          0.7748730622624668,
          0.7154559183980159,
          0.702723673284205,
          0.6772591830565833,
          0.6517946928289615,
          0.6390624477151506,
          0.634818366010547,
          0.6093538757829252,
          0.6093538757829252,
          0.6051097940783216,
          0.5669130587368889,
          0.5499367319184744,
          0.5414485685092671,
          0.5287163233954563,
          0.5287163233954563,
          0.5244722416908526,
          0.5202281599862489,
          0.473543261235609,
          0.4692991795310054,
          0.4523228527125909,
          0.43959060759878,
          0.43959060759878,
          0.4268583624849691,
          0.41837019907576184,
          0.41837019907576184,
          0.40563795396195096,
          0.4013938722573473,
          0.3971497905527437,
          0.3929057088481401,
          0.38017346373432914,
          0.37592938202972553,
          0.36744121862051826,
          0.36744121862051826,
          0.358953055211311,
          0.3462208100975001,
          0.3419767283928965,
          0.3419767283928965,
          0.33348856498368923,
          0.3292444832790856,
          0.32075631986987835,
          0.3165122381652747,
          0.3037799930514638,
          0.2952918296422566,
          0.2952918296422566,
          0.2910477479376529,
          0.2868036662330493,
          0.28255958452844565,
          0.26982733941463477,
          0.2528510125962203,
          0.24860693089161662,
          0.24860693089161662,
          0.24860693089161662,
          0.244362849187013,
          0.244362849187013,
          0.24011876748240937,
          0.24011876748240937,
          0.23587468577780574,
          0.2316306040732021,
          0.2316306040732021,
          0.2316306040732021,
          0.22738652236859846,
          0.22314244066399486,
          0.22314244066399486,
          0.21889835895939122,
          0.21889835895939122,
          0.21041019555018395,
          0.2061661138455803,
          0.2019220321409767,
          0.19767795043637307,
          0.19767795043637307,
          0.18070162361795855,
          0.17221346020875128,
          0.17221346020875128,
          0.16372529679954403,
          0.1467489699811295,
          0.1340167248673186,
          0.1340167248673186,
          0.12977264316271497,
          0.12128447975350772,
          0.12128447975350772,
          0.11704039804890409,
          0.10006407123048956,
          0.08308774441207505,
          0.07884366270747141,
          0.07035549929826415,
          0.07035549929826415,
          0.06611141759366053,
          0.06186733588905689,
          0.057623254184453264,
          0.057623254184453264,
          0.053379172479849635,
          0.044891009070642376,
          0.044891009070642376,
          0.03640284566143511,
          0.03215876395683148,
          0.027914682252227853,
          0.027914682252227853,
          0.027914682252227853,
          0.010938355433813333,
          0.010938355433813333,
          0.006694273729209702,
          0.006694273729209702,
          0.0024501920246060714,
          -0.006037971384601189,
          -0.006037971384601189,
          -0.014526134793808449,
          -0.014526134793808449,
          -0.018770216498412078,
          -0.018770216498412078,
          -0.02301429820301571,
          -0.03150246161222297,
          -0.0357465433168266,
          -0.0357465433168266,
          -0.044234706726033864,
          -0.044234706726033864,
          -0.04847878843063749,
          -0.05272287013524112,
          -0.05696695183984475,
          -0.05696695183984475,
          -0.06121103354444838,
          -0.06121103354444838,
          -0.06969919695365565,
          -0.06969919695365565,
          -0.07394327865825927,
          -0.07394327865825927,
          -0.07818740280367995,
          -0.07818740280367995,
          -0.07818740280367995,
          -0.0994078113266981,
          -0.0994078113266981,
          -0.10365185059048468,
          -0.10365185059048468,
          -0.10789593229508831,
          -0.10789593229508831,
          -0.11214001399969195,
          -0.11214001399969195,
          -0.13760450422731374,
          -0.13760450422731374,
          -0.13760450422731374,
          -0.14184858593191735,
          -0.14184858593191735,
          -0.14609266763652098,
          -0.14609266763652098,
          -0.15033674934112462,
          -0.15033674934112462,
          -0.15033674934112462,
          -0.15033674934112462,
          -0.15033674934112462,
          -0.15458083104572826,
          -0.15458083104572826,
          -0.15458083104572826,
          -0.15882491275033186,
          -0.15882491275033186,
          -0.1630689944549355,
          -0.1630689944549355,
          -0.1630689944549355,
          -0.16731307615953914,
          -0.16731307615953914,
          -0.17155715786414277,
          -0.1885334846825573,
          -0.1885334846825573,
          -0.1885334846825573,
          -0.1885334846825573,
          -0.1885334846825573,
          -0.19277756638716093,
          -0.19702164809176456,
          -0.19702164809176456,
          -0.20126572979636817,
          -0.20126572979636817,
          -0.20126572979636817,
          -0.20126572979636817,
          -0.20126572979636817,
          -0.2055098115009718,
          -0.2055098115009718,
          -0.20975389320557544,
          -0.20975389320557544,
          -0.21399797491017908,
          -0.21399797491017908,
          -0.21824205661478271,
          -0.21824205661478271,
          -0.22248613831938632,
          -0.22673022002398996,
          -0.22673022002398996,
          -0.22673022002398996,
          -0.24370654684240448,
          -0.2479506285470081,
          -0.2521947102516117,
          -0.2564387919562154,
          -0.2564387919562154,
          -0.2564387919562154,
          -0.2564387919562154,
          -0.26917103707002626,
          -0.26917103707002626,
          -0.2734151187746299,
          -0.28190328218383714,
          -0.2861473638884408,
          -0.2861473638884408,
          -0.2861473638884408,
          -0.2861473638884408,
          -0.2903914455930444,
          -0.294635527297648,
          -0.2988796090022517,
          -0.3031236907068553,
          -0.30736777241145896,
          -0.31161185411606257,
          -0.31161185411606257,
          -0.3158559358206662,
          -0.32010001752526984,
          -0.3285881809344771,
          -0.3285881809344771,
          -0.3285881809344771,
          -0.3328322626390807,
          -0.33707634434368433,
          -0.33707634434368433,
          -0.341320426048288,
          -0.341320426048288,
          -0.341320426048288,
          -0.341320426048288,
          -0.3455645077528916,
          -0.3455645077528916,
          -0.34980858945749527,
          -0.3540526711620989,
          -0.3540526711620989,
          -0.3582967528667025,
          -0.36254083457130615,
          -0.36254083457130615,
          -0.36254083457130615,
          -0.36254083457130615,
          -0.36678491627590976,
          -0.36678491627590976,
          -0.37102899798051336,
          -0.37102899798051336,
          -0.37102899798051336,
          -0.37102899798051336,
          -0.37102899798051336,
          -0.37527307968511703,
          -0.37527307968511703,
          -0.37527307968511703,
          -0.37527307968511703,
          -0.37951716138972064,
          -0.37951716138972064,
          -0.37951716138972064,
          -0.3837612430943243,
          -0.3837612430943243,
          -0.3880053247989279,
          -0.3880053247989279,
          -0.3880053247989279,
          -0.3880053247989279,
          -0.3922494065035315,
          -0.3964934882081352,
          -0.3964934882081352,
          -0.4007375699127388,
          -0.4007375699127388,
          -0.40498165161734245,
          -0.40498165161734245,
          -0.40498165161734245,
          -0.40498165161734245,
          -0.40498165161734245,
          -0.40922573332194606,
          -0.41346981502654967,
          -0.41346981502654967,
          -0.41346981502654967,
          -0.41771389673115333,
          -0.41771389673115333,
          -0.41771389673115333,
          -0.4262020601403606,
          -0.4262020601403606,
          -0.4304461418449642,
          -0.4304461418449642,
          -0.4304461418449642,
          -0.4346902235495678,
          -0.4346902235495678,
          -0.4389343052541715,
          -0.4389343052541715,
          -0.4389343052541715,
          -0.4431783869587751,
          -0.4431783869587751,
          -0.4431783869587751,
          -0.44742246866337876,
          -0.44742246866337876,
          -0.44742246866337876,
          -0.44742246866337876,
          -0.44742246866337876,
          -0.45166655036798237,
          -0.45166655036798237,
          -0.45166655036798237,
          -0.45166655036798237,
          -0.45166655036798237,
          -0.455910632072586,
          -0.455910632072586,
          -0.455910632072586,
          -0.455910632072586,
          -0.455910632072586,
          -0.4686428771863969,
          -0.4686428771863969,
          -0.4686428771863969,
          -0.4686428771863969,
          -0.4686428771863969,
          -0.4686428771863969,
          -0.4686428771863969,
          -0.4686428771863969,
          -0.4686428771863969,
          -0.4686428771863969,
          -0.4728869588910005,
          -0.4728869588910005,
          -0.4728869588910005,
          -0.47713104059560413,
          -0.47713104059560413,
          -0.47713104059560413,
          -0.47713104059560413,
          -0.47713104059560413,
          -0.4813751223002078,
          -0.4813751223002078,
          -0.4813751223002078,
          -0.4856192040048114,
          -0.4856192040048114,
          -0.4856192040048114,
          -0.4856192040048114,
          -0.4856192040048114,
          -0.48986328570941506,
          -0.48986328570941506,
          -0.48986328570941506,
          -0.48986328570941506,
          -0.48986328570941506,
          -0.49410736741401867,
          -0.49410736741401867,
          -0.4983514491186223,
          -0.4983514491186223,
          -0.5025955308232259,
          -0.5025955308232259,
          -0.5025955308232259,
          -0.5025955308232259,
          -0.5025955308232259,
          -0.5068396125278296,
          -0.5110836942324332,
          -0.5110836942324332,
          -0.5153277759370368,
          -0.5153277759370368,
          -0.5153277759370368,
          -0.5195718576416405,
          -0.5195718576416405,
          -0.5195718576416405,
          -0.5195718576416405,
          -0.5195718576416405,
          -0.5195718576416405,
          -0.523815939346244,
          -0.523815939346244,
          -0.523815939346244,
          -0.5280600210508477,
          -0.5280600210508477,
          -0.5280600210508477,
          -0.5323041027554514,
          -0.5323041027554514,
          -0.5323041027554514,
          -0.5365481844600549,
          -0.5365481844600549,
          -0.5407922661646586,
          -0.5407922661646586,
          -0.5407922661646586,
          -0.5407922661646586,
          -0.5450363478692622,
          -0.5450363478692622,
          -0.5450363478692622,
          -0.5492804295738659,
          -0.5492804295738659,
          -0.5492804295738659,
          -0.5535245112784695,
          -0.5535245112784695,
          -0.5535245112784695,
          -0.5577685929830731,
          -0.5577685929830731,
          -0.5620126746876768,
          -0.5620126746876768,
          -0.5620126746876768,
          -0.5620126746876768,
          -0.5662567563922803,
          -0.5662567563922803,
          -0.5662567563922803,
          -0.5662567563922803,
          -0.5662567563922803,
          -0.570500838096884,
          -0.5747449198014877,
          -0.5747449198014877,
          -0.5747449198014877,
          -0.5747449198014877,
          -0.5747449198014877,
          -0.5789890015060912,
          -0.5789890015060912,
          -0.5789890015060912,
          -0.5832330832106949,
          -0.5832330832106949,
          -0.5832330832106949,
          -0.5832330832106949,
          -0.5832330832106949,
          -0.5832330832106949,
          -0.5874771649152986,
          -0.5874771649152986,
          -0.5874771649152986,
          -0.5917212466199022,
          -0.5917212466199022,
          -0.5917212466199022,
          -0.5917212466199022,
          -0.5917212466199022,
          -0.5959653283245058,
          -0.5959653283245058,
          -0.5959653283245058,
          -0.6002094100291094,
          -0.6002094100291094,
          -0.6044534917337131,
          -0.6044534917337131,
          -0.6044534917337131,
          -0.6044534917337131,
          -0.6044534917337131,
          -0.6044534917337131,
          -0.6044534917337131,
          -0.6044534917337131,
          -0.6044534917337131,
          -0.6044534917337131,
          -0.6086975734383167,
          -0.6086975734383167,
          -0.6086975734383167,
          -0.6086975734383167,
          -0.6086975734383167,
          -0.6086975734383167,
          -0.6086975734383167,
          -0.6086975734383167,
          -0.6086975734383167,
          -0.6129416551429203,
          -0.6129416551429203,
          -0.6129416551429203,
          -0.6129416551429203,
          -0.617185736847524,
          -0.617185736847524,
          -0.617185736847524,
          -0.617185736847524,
          -0.617185736847524,
          -0.6214298185521275,
          -0.6214298185521275,
          1.5466372322885096,
          11.488500964359474,
          7.906768313189471,
          7.030622886806071,
          4.079117022803434,
          3.4734820995576716,
          3.953746736144279,
          0.5017241123254783,
          2.3113959809093534,
          3.1860948270620706,
          0.4887048902493354,
          0.8252758905881429,
          4.64521208641054,
          1.5490481993396472,
          3.399706507792861,
          0.4091429775617949,
          0.196013490241232,
          1.2009045571553794,
          0.7404098503398804,
          2.5090952791026355,
          0.6463821353937337,
          0.5012419189152508,
          0.7298015953630943,
          0.9347337947097895,
          0.9607722388620754,
          0.6184149176005377,
          2.001827811543287,
          -0.46410928836024,
          0.830097824690418,
          1.15027424908149,
          2.087658238563785,
          0.628058785805088,
          0.5219762355550341,
          -0.07160385243504044,
          1.0707123363939495,
          0.7973086727949469,
          -0.15261234535326346,
          0.7495715251824225,
          0.3445290605913075,
          -0.35224041718745586,
          2.254497158502506,
          0.47231031430159975,
          0.6526506496784721,
          1.674418485998802,
          0.3522441551549478,
          1.5485660059294197,
          0.2722000490571798,
          -0.6068385377875853,
          0.2562876665196717,
          -0.15357673217371848,
          -0.22879890416921128,
          0.5788750579618812,
          -0.167078147660089,
          -0.018080383899785953,
          0.9790955884507211,
          -0.13139583530325266,
          -0.6000878300444,
          -0.7838035193410844,
          1.7337282754567869,
          0.7765743561551636,
          0.4578445119947742,
          0.1878162022673642,
          -0.40045975821020763,
          0.04074721214797123,
          -0.059549017179352494,
          0.5518722269891402,
          -0.5398136537659604,
          -0.23072767781012135,
          -0.5205259174050789,
          0.018566315277505407,
          0.38069356635837137,
          -0.5947837025318974,
          -0.694115545038766,
          -0.3739391206476942,
          0.9737914609382183,
          0.42023342599702784,
          0.4814719890959226,
          0.3083645548242437,
          -0.5325807526125476,
          -0.6757921954501204,
          -0.0894450086134586,
          1.165222244798543,
          0.26207398744240196,
          0.07450075086389749,
          0.29486313933787317,
          0.6675986454437445,
          -0.4419283914897742,
          -0.5576548099443784,
          0.4197512325868003,
          0.0016895459195422824,
          -0.7302800508058299,
          -0.1111437120736969,
          1.5374755574941867,
          -0.7085813473455916,
          0.05762398150593436,
          0.03158553735364839,
          1.0417807317802985,
          0.29148778546628057,
          -0.5480109417398281,
          0.9419666958632023,
          -0.5316163657920925,
          0.5668202227061933,
          0.4443430965084037,
          0.12754202598892445,
          0.9824709423223137,
          0.3657455706413183,
          -0.7654801697524387,
          -0.3445253226238156,
          -0.07546139971686058,
          -0.37779666792951433,
          0.4525403844822715,
          -0.5523506824318758,
          0.4197512325868003,
          -0.10053545704869152,
          -0.14200409032825806,
          0.5890011195766591,
          -0.5740493858921141,
          -0.6304660148887337,
          0.6854398015739434,
          -0.28473333975560333,
          0.2635205676730845,
          -0.22011942278511595,
          -0.32813074667607994,
          -0.46266270812955745,
          0.20469297162532732,
          1.1671510184394531,
          0.10246796865709352,
          -0.09523132953618882,
          0.5354776510414047,
          1.8692246237307193,
          0.25050134559694154,
          0.29196997887650805,
          -0.11982319345779223,
          0.12416667211733183,
          0.22735606190602067,
          0.4718281208913722,
          0.008922447072955052,
          0.23989309057193614,
          -0.11307248576282632,
          -0.16032743991690374,
          0.13670370078324728,
          0.6507218760857814,
          0.13525712055256475,
          0.11066525663096133,
          -0.289073080447651,
          0.4081785907413399,
          0.3368139660276672,
          0.9038734164552283,
          -0.2500154142192221,
          0.411071751202705,
          0.1882983956775917,
          -0.221083809605571,
          0.6304697528562256,
          0.028692376892283284,
          -0.038332507129341706,
          -0.2403715460146717,
          -0.23651399873285156,
          0.29679191297878327,
          0.24567941149466635,
          -0.09957107022823648,
          0.07450075086389749,
          -0.15020137830212585,
          -0.0571380501282149,
          -0.39997756479998015,
          -0.28184017929423827,
          -0.3464540962647257,
          -0.37538570087837675,
          -0.6188933730432733,
          -0.11644783963441895,
          -0.7293156639853748,
          0.18636962203668164,
          -0.2625524428851375,
          -0.011811869566828219,
          -0.37104596018632907,
          -0.7466746267535656,
          0.16322433834576078,
          -0.303056689344249,
          0.21674780688101528,
          0.012779994354775195,
          0.40962517097202245,
          0.40721420392088487,
          0.5084748200686636,
          -0.48146825112843067,
          0.2625561808526295,
          -0.5750137727125691,
          -0.7616226224706185,
          -0.08172991404981832,
          -0.15020137830212585,
          -0.00940090251569063,
          -0.1299492550725701,
          0.3623702167697257,
          0.03881843850706116,
          -0.061477790820262564,
          -0.29775256183174637,
          -0.6632551667842049,
          0.4843651495572877,
          -0.07546139971686058,
          -0.44144619807954666,
          0.4284307139708956,
          -0.6622907799637499,
          0.2958275261583282,
          -0.1593630530964487,
          -0.5036491479988965,
          -0.08848062179300356,
          -0.3069142366260692,
          0.08800216635026799,
          -0.05135172920548469,
          -0.1029464240998291,
          -0.2451934801169469,
          -0.24760444716808447,
          -0.6227509203250934,
          -0.5359561064841402,
          -0.06340656446117264,
          -0.4293913628238587,
          0.9202679924029639,
          -0.09137378225436868,
          -0.13862873645666543,
          -0.48050386430797565,
          -0.6820607097830781,
          0.003136126150224836,
          -0.21481529527261325,
          0.9578790784007103,
          -0.25049760762944956,
          0.3898552411526942,
          -0.3131827509590269,
          0.24278625103330123,
          -0.048940762154347096,
          0.20469297162532732,
          -0.20565362047829042,
          -0.25049760762944956,
          -0.3102895904976618,
          0.358030476077678,
          0.17527917360144873,
          0.3136686823367464,
          0.40721420392088487,
          0.17431478678099369,
          -0.06678191833276526,
          -0.7124388946274117,
          -0.33536364782949274,
          -0.6825429031933057,
          0.04460475942979138,
          -0.7944117743660898,
          -0.23024548439989384,
          -0.423122848490901,
          -0.5017203743579864,
          -0.8083953832626878,
          -0.49159431274320853,
          -0.4554298069761447,
          -0.45976954766819234,
          -0.6815785163728506,
          -0.12753828802143252,
          -0.3040210761647041,
          -0.5952658959421249,
          -0.3040210761647041,
          -0.5783891265841618,
          0.48484734296751525,
          -0.29244843431924367,
          -0.39563782410793247,
          -0.7539075279069782,
          -0.1304314484827976,
          -0.3083608168567517,
          0.4491650306106789,
          -0.00698993546455304,
          -0.12512732101851426,
          -0.5287232053307274,
          -0.005543355233870486,
          -0.04508321487252696,
          0.10343235547754856,
          -0.29823475524197385,
          -0.3686349931351915,
          -0.08221210746004583,
          0.028210183482055767,
          0.006511480021817461,
          -0.07401481948617802,
          -0.3908158900056573,
          0.03930063191728868,
          -0.2914840474987886,
          -0.2591770890135449,
          -0.4337311035159064,
          -0.5282410119204999,
          -0.5967124761728074,
          -0.6719346481683003,
          0.007475866842272497,
          -0.45735858061705476,
          -0.515221789844357,
          -0.652164718348972,
          -0.17527543563395678,
          -0.2644812165260476,
          -0.4940052797943461,
          -0.5586191967648335,
          -0.5832110606864369,
          -0.033510573027066524,
          -0.1723822751725917,
          -0.4718243829238803,
          -0.6593976195023847,
          -0.13911092986689294,
          -0.4038351120818003,
          -0.49255869956366355,
          -0.6174467928125907,
          -0.7669267499831213,
          -0.2582127021930899,
          -0.3262019730351699,
          -0.3401855819317679,
          -0.36815279972496395,
          -0.37152815359655655,
          0.45350477130272654,
          2.0302772227467103,
          -0.09908887681800896,
          -0.4346954903363614,
          0.3233125505412967,
          -0.019526964130468505,
          -0.7577650751887984,
          -0.28666211339651343,
          -0.3744213140579217,
          0.07450075086389749,
          -0.20565362047829042,
          -0.7910364204944972,
          -0.17623982245441183,
          -0.558137003354606,
          0.30450700754242355,
          -0.34597190285449814,
          -0.5229368844079972,
          0.2929343656969631,
          -0.7577650751887984,
          -0.7866966798024495,
          0.1497229228593903,
          0.007475866842272497,
          -0.15839866627599367,
          -0.22060161619534346,
          -0.3136649443692544,
          0.27702198315945503,
          -0.00457896841341545,
          -0.13669996281575536,
          -0.7804281654694918,
          -0.8731365992934753,
          0.17961891429349638,
          -0.4766463170261555,
          -0.4940052797943461,
          -0.5504219087909658,
          -0.7924830007251797,
          1.0335834438064306,
          0.5079926266584361,
          0.39612375548565193,
          -0.07883675358845321,
          -0.29051966067833357,
          -0.3749035074681492,
          -0.45639419379659973,
          -0.6213043400944108,
          -0.6425208501444216,
          -0.6854360636546707,
          0.15984898447416815,
          -0.43807084420795406,
          -0.5832110606864369,
          0.2418218642128462,
          -0.11210809894237128,
          -0.3377746148806303,
          -0.4120324000556681,
          -0.7109923143967292,
          -0.13911092986689294,
          -0.7003840593717238,
          -0.7828391325206293,
          -0.06437095128162768,
          -0.14489725078962315,
          -0.1786507895055494,
          -0.2697853440385503,
          -0.4356598771568165,
          0.16997504608894604,
          -0.1839549170180521,
          -0.18491930383850716,
          -0.27605385837150803,
          -0.357062351289731,
          -0.6217865335046384,
          -0.73413759808765,
          -0.07642578653731562,
          -0.2133687150419307,
          0.2905233986458255,
          -0.2027604600169253,
          -0.42987355623408624,
          -0.4718243829238803,
          -0.6053919575569028,
          -0.7987515150581375,
          -0.43180232987499634,
          -0.6217865335046384,
          -0.03399276643729404,
          -0.4303557496443138,
          -0.5243834646868991,
          -0.07208604584526795,
          -0.09426694271573378,
          -0.40865704618407545,
          -0.6357701424012364,
          -0.6376989160421465,
          -0.9115847060264927,
          0.08751997294004046,
          -0.25676612196240733,
          -0.6208221466841833,
          0.07739391132526259,
          -0.18733027088964474,
          -0.35465138423859344,
          -0.4949696666148012,
          -0.5663342913284738,
          -0.6087673114284954,
          -0.3252375862147149,
          -0.39033369659542977,
          -0.24471128670671938,
          -0.3271663598556249,
          -0.5229368844079972,
          -0.7775350050081267,
          -0.09378474930550626,
          -0.23072767781012135,
          -0.4612161278988749,
          -0.4660380620011501,
          -0.6053919575569028,
          -0.7167786353194594,
          -0.3609198985715512,
          -0.48387921817956825,
          -0.5817644804557544,
          0.09089532681163309,
          -0.6483071710671519,
          -0.32282661916357724,
          -0.4578407740272823,
          -0.7095457341660466,
          -0.7736774577263065,
          0.22108754757306293,
          -0.20324265342715284,
          -0.2321742580408039,
          -0.3498294501363183,
          -0.7134032814478668,
          -0.3025744959340215,
          0.01808412186727789,
          0.01374438117523023,
          -0.36718841290450893,
          -0.37152815359655655,
          -0.47037780269319773,
          -0.12271635391915733,
          -0.3146293311897095,
          -0.6005700234546276,
          -0.48677237864093337,
          -0.49786282707616625,
          -0.6160002125819082,
          -0.6637373601944324,
          -0.6767565822705754,
          -0.6868826438853533,
          -0.03977908736002426,
          -0.1834727236078246,
          -0.8880132303858147,
          -0.5036491479988965,
          -0.5619945506364261,
          -0.612142665300088,
          -0.8069488030320052,
          -0.8180392514672382,
          -0.3392211951113129,
          -0.4342132969261339,
          -0.7244937298830997,
          0.3315098385151645,
          -0.12416293419805924,
          -0.21192213481124816,
          -0.36815279972496395,
          -0.3806898283908794,
          -0.3859939559033821,
          -0.4236050419011285,
          -0.4525366465147796,
          -0.4554298069761447,
          -0.5971946695830349,
          -0.6994196725512688,
          -0.7153320550887768,
          -0.32764855326585246,
          -0.44385716513068424,
          -0.6704880679376177,
          -0.6883292241160358,
          -0.7399239190103802,
          -0.7703021038547139,
          -0.7799459720592643,
          -0.7842857127513119,
          -0.8194858316979207,
          -0.14971918489189834,
          -0.21819064914420588,
          -0.5455999746886906,
          -0.7124388946274117,
          0.16274214493553327,
          -0.4665202554113776,
          -0.5123286294312112,
          -0.692186771397856,
          -0.8194858316979207,
          -0.5436712010477804,
          -0.6217865335046384
         ],
         "y0": " ",
         "yaxis": "y"
        }
       ],
       "layout": {
        "boxmode": "group",
        "legend": {
         "tracegroupgap": 0
        },
        "margin": {
         "t": 60
        },
        "template": {
         "data": {
          "bar": [
           {
            "error_x": {
             "color": "#2a3f5f"
            },
            "error_y": {
             "color": "#2a3f5f"
            },
            "marker": {
             "line": {
              "color": "#E5ECF6",
              "width": 0.5
             },
             "pattern": {
              "fillmode": "overlay",
              "size": 10,
              "solidity": 0.2
             }
            },
            "type": "bar"
           }
          ],
          "barpolar": [
           {
            "marker": {
             "line": {
              "color": "#E5ECF6",
              "width": 0.5
             },
             "pattern": {
              "fillmode": "overlay",
              "size": 10,
              "solidity": 0.2
             }
            },
            "type": "barpolar"
           }
          ],
          "carpet": [
           {
            "aaxis": {
             "endlinecolor": "#2a3f5f",
             "gridcolor": "white",
             "linecolor": "white",
             "minorgridcolor": "white",
             "startlinecolor": "#2a3f5f"
            },
            "baxis": {
             "endlinecolor": "#2a3f5f",
             "gridcolor": "white",
             "linecolor": "white",
             "minorgridcolor": "white",
             "startlinecolor": "#2a3f5f"
            },
            "type": "carpet"
           }
          ],
          "choropleth": [
           {
            "colorbar": {
             "outlinewidth": 0,
             "ticks": ""
            },
            "type": "choropleth"
           }
          ],
          "contour": [
           {
            "colorbar": {
             "outlinewidth": 0,
             "ticks": ""
            },
            "colorscale": [
             [
              0,
              "#0d0887"
             ],
             [
              0.1111111111111111,
              "#46039f"
             ],
             [
              0.2222222222222222,
              "#7201a8"
             ],
             [
              0.3333333333333333,
              "#9c179e"
             ],
             [
              0.4444444444444444,
              "#bd3786"
             ],
             [
              0.5555555555555556,
              "#d8576b"
             ],
             [
              0.6666666666666666,
              "#ed7953"
             ],
             [
              0.7777777777777778,
              "#fb9f3a"
             ],
             [
              0.8888888888888888,
              "#fdca26"
             ],
             [
              1,
              "#f0f921"
             ]
            ],
            "type": "contour"
           }
          ],
          "contourcarpet": [
           {
            "colorbar": {
             "outlinewidth": 0,
             "ticks": ""
            },
            "type": "contourcarpet"
           }
          ],
          "heatmap": [
           {
            "colorbar": {
             "outlinewidth": 0,
             "ticks": ""
            },
            "colorscale": [
             [
              0,
              "#0d0887"
             ],
             [
              0.1111111111111111,
              "#46039f"
             ],
             [
              0.2222222222222222,
              "#7201a8"
             ],
             [
              0.3333333333333333,
              "#9c179e"
             ],
             [
              0.4444444444444444,
              "#bd3786"
             ],
             [
              0.5555555555555556,
              "#d8576b"
             ],
             [
              0.6666666666666666,
              "#ed7953"
             ],
             [
              0.7777777777777778,
              "#fb9f3a"
             ],
             [
              0.8888888888888888,
              "#fdca26"
             ],
             [
              1,
              "#f0f921"
             ]
            ],
            "type": "heatmap"
           }
          ],
          "heatmapgl": [
           {
            "colorbar": {
             "outlinewidth": 0,
             "ticks": ""
            },
            "colorscale": [
             [
              0,
              "#0d0887"
             ],
             [
              0.1111111111111111,
              "#46039f"
             ],
             [
              0.2222222222222222,
              "#7201a8"
             ],
             [
              0.3333333333333333,
              "#9c179e"
             ],
             [
              0.4444444444444444,
              "#bd3786"
             ],
             [
              0.5555555555555556,
              "#d8576b"
             ],
             [
              0.6666666666666666,
              "#ed7953"
             ],
             [
              0.7777777777777778,
              "#fb9f3a"
             ],
             [
              0.8888888888888888,
              "#fdca26"
             ],
             [
              1,
              "#f0f921"
             ]
            ],
            "type": "heatmapgl"
           }
          ],
          "histogram": [
           {
            "marker": {
             "pattern": {
              "fillmode": "overlay",
              "size": 10,
              "solidity": 0.2
             }
            },
            "type": "histogram"
           }
          ],
          "histogram2d": [
           {
            "colorbar": {
             "outlinewidth": 0,
             "ticks": ""
            },
            "colorscale": [
             [
              0,
              "#0d0887"
             ],
             [
              0.1111111111111111,
              "#46039f"
             ],
             [
              0.2222222222222222,
              "#7201a8"
             ],
             [
              0.3333333333333333,
              "#9c179e"
             ],
             [
              0.4444444444444444,
              "#bd3786"
             ],
             [
              0.5555555555555556,
              "#d8576b"
             ],
             [
              0.6666666666666666,
              "#ed7953"
             ],
             [
              0.7777777777777778,
              "#fb9f3a"
             ],
             [
              0.8888888888888888,
              "#fdca26"
             ],
             [
              1,
              "#f0f921"
             ]
            ],
            "type": "histogram2d"
           }
          ],
          "histogram2dcontour": [
           {
            "colorbar": {
             "outlinewidth": 0,
             "ticks": ""
            },
            "colorscale": [
             [
              0,
              "#0d0887"
             ],
             [
              0.1111111111111111,
              "#46039f"
             ],
             [
              0.2222222222222222,
              "#7201a8"
             ],
             [
              0.3333333333333333,
              "#9c179e"
             ],
             [
              0.4444444444444444,
              "#bd3786"
             ],
             [
              0.5555555555555556,
              "#d8576b"
             ],
             [
              0.6666666666666666,
              "#ed7953"
             ],
             [
              0.7777777777777778,
              "#fb9f3a"
             ],
             [
              0.8888888888888888,
              "#fdca26"
             ],
             [
              1,
              "#f0f921"
             ]
            ],
            "type": "histogram2dcontour"
           }
          ],
          "mesh3d": [
           {
            "colorbar": {
             "outlinewidth": 0,
             "ticks": ""
            },
            "type": "mesh3d"
           }
          ],
          "parcoords": [
           {
            "line": {
             "colorbar": {
              "outlinewidth": 0,
              "ticks": ""
             }
            },
            "type": "parcoords"
           }
          ],
          "pie": [
           {
            "automargin": true,
            "type": "pie"
           }
          ],
          "scatter": [
           {
            "fillpattern": {
             "fillmode": "overlay",
             "size": 10,
             "solidity": 0.2
            },
            "type": "scatter"
           }
          ],
          "scatter3d": [
           {
            "line": {
             "colorbar": {
              "outlinewidth": 0,
              "ticks": ""
             }
            },
            "marker": {
             "colorbar": {
              "outlinewidth": 0,
              "ticks": ""
             }
            },
            "type": "scatter3d"
           }
          ],
          "scattercarpet": [
           {
            "marker": {
             "colorbar": {
              "outlinewidth": 0,
              "ticks": ""
             }
            },
            "type": "scattercarpet"
           }
          ],
          "scattergeo": [
           {
            "marker": {
             "colorbar": {
              "outlinewidth": 0,
              "ticks": ""
             }
            },
            "type": "scattergeo"
           }
          ],
          "scattergl": [
           {
            "marker": {
             "colorbar": {
              "outlinewidth": 0,
              "ticks": ""
             }
            },
            "type": "scattergl"
           }
          ],
          "scattermapbox": [
           {
            "marker": {
             "colorbar": {
              "outlinewidth": 0,
              "ticks": ""
             }
            },
            "type": "scattermapbox"
           }
          ],
          "scatterpolar": [
           {
            "marker": {
             "colorbar": {
              "outlinewidth": 0,
              "ticks": ""
             }
            },
            "type": "scatterpolar"
           }
          ],
          "scatterpolargl": [
           {
            "marker": {
             "colorbar": {
              "outlinewidth": 0,
              "ticks": ""
             }
            },
            "type": "scatterpolargl"
           }
          ],
          "scatterternary": [
           {
            "marker": {
             "colorbar": {
              "outlinewidth": 0,
              "ticks": ""
             }
            },
            "type": "scatterternary"
           }
          ],
          "surface": [
           {
            "colorbar": {
             "outlinewidth": 0,
             "ticks": ""
            },
            "colorscale": [
             [
              0,
              "#0d0887"
             ],
             [
              0.1111111111111111,
              "#46039f"
             ],
             [
              0.2222222222222222,
              "#7201a8"
             ],
             [
              0.3333333333333333,
              "#9c179e"
             ],
             [
              0.4444444444444444,
              "#bd3786"
             ],
             [
              0.5555555555555556,
              "#d8576b"
             ],
             [
              0.6666666666666666,
              "#ed7953"
             ],
             [
              0.7777777777777778,
              "#fb9f3a"
             ],
             [
              0.8888888888888888,
              "#fdca26"
             ],
             [
              1,
              "#f0f921"
             ]
            ],
            "type": "surface"
           }
          ],
          "table": [
           {
            "cells": {
             "fill": {
              "color": "#EBF0F8"
             },
             "line": {
              "color": "white"
             }
            },
            "header": {
             "fill": {
              "color": "#C8D4E3"
             },
             "line": {
              "color": "white"
             }
            },
            "type": "table"
           }
          ]
         },
         "layout": {
          "annotationdefaults": {
           "arrowcolor": "#2a3f5f",
           "arrowhead": 0,
           "arrowwidth": 1
          },
          "autotypenumbers": "strict",
          "coloraxis": {
           "colorbar": {
            "outlinewidth": 0,
            "ticks": ""
           }
          },
          "colorscale": {
           "diverging": [
            [
             0,
             "#8e0152"
            ],
            [
             0.1,
             "#c51b7d"
            ],
            [
             0.2,
             "#de77ae"
            ],
            [
             0.3,
             "#f1b6da"
            ],
            [
             0.4,
             "#fde0ef"
            ],
            [
             0.5,
             "#f7f7f7"
            ],
            [
             0.6,
             "#e6f5d0"
            ],
            [
             0.7,
             "#b8e186"
            ],
            [
             0.8,
             "#7fbc41"
            ],
            [
             0.9,
             "#4d9221"
            ],
            [
             1,
             "#276419"
            ]
           ],
           "sequential": [
            [
             0,
             "#0d0887"
            ],
            [
             0.1111111111111111,
             "#46039f"
            ],
            [
             0.2222222222222222,
             "#7201a8"
            ],
            [
             0.3333333333333333,
             "#9c179e"
            ],
            [
             0.4444444444444444,
             "#bd3786"
            ],
            [
             0.5555555555555556,
             "#d8576b"
            ],
            [
             0.6666666666666666,
             "#ed7953"
            ],
            [
             0.7777777777777778,
             "#fb9f3a"
            ],
            [
             0.8888888888888888,
             "#fdca26"
            ],
            [
             1,
             "#f0f921"
            ]
           ],
           "sequentialminus": [
            [
             0,
             "#0d0887"
            ],
            [
             0.1111111111111111,
             "#46039f"
            ],
            [
             0.2222222222222222,
             "#7201a8"
            ],
            [
             0.3333333333333333,
             "#9c179e"
            ],
            [
             0.4444444444444444,
             "#bd3786"
            ],
            [
             0.5555555555555556,
             "#d8576b"
            ],
            [
             0.6666666666666666,
             "#ed7953"
            ],
            [
             0.7777777777777778,
             "#fb9f3a"
            ],
            [
             0.8888888888888888,
             "#fdca26"
            ],
            [
             1,
             "#f0f921"
            ]
           ]
          },
          "colorway": [
           "#636efa",
           "#EF553B",
           "#00cc96",
           "#ab63fa",
           "#FFA15A",
           "#19d3f3",
           "#FF6692",
           "#B6E880",
           "#FF97FF",
           "#FECB52"
          ],
          "font": {
           "color": "#2a3f5f"
          },
          "geo": {
           "bgcolor": "white",
           "lakecolor": "white",
           "landcolor": "#E5ECF6",
           "showlakes": true,
           "showland": true,
           "subunitcolor": "white"
          },
          "hoverlabel": {
           "align": "left"
          },
          "hovermode": "closest",
          "mapbox": {
           "style": "light"
          },
          "paper_bgcolor": "white",
          "plot_bgcolor": "#E5ECF6",
          "polar": {
           "angularaxis": {
            "gridcolor": "white",
            "linecolor": "white",
            "ticks": ""
           },
           "bgcolor": "#E5ECF6",
           "radialaxis": {
            "gridcolor": "white",
            "linecolor": "white",
            "ticks": ""
           }
          },
          "scene": {
           "xaxis": {
            "backgroundcolor": "#E5ECF6",
            "gridcolor": "white",
            "gridwidth": 2,
            "linecolor": "white",
            "showbackground": true,
            "ticks": "",
            "zerolinecolor": "white"
           },
           "yaxis": {
            "backgroundcolor": "#E5ECF6",
            "gridcolor": "white",
            "gridwidth": 2,
            "linecolor": "white",
            "showbackground": true,
            "ticks": "",
            "zerolinecolor": "white"
           },
           "zaxis": {
            "backgroundcolor": "#E5ECF6",
            "gridcolor": "white",
            "gridwidth": 2,
            "linecolor": "white",
            "showbackground": true,
            "ticks": "",
            "zerolinecolor": "white"
           }
          },
          "shapedefaults": {
           "line": {
            "color": "#2a3f5f"
           }
          },
          "ternary": {
           "aaxis": {
            "gridcolor": "white",
            "linecolor": "white",
            "ticks": ""
           },
           "baxis": {
            "gridcolor": "white",
            "linecolor": "white",
            "ticks": ""
           },
           "bgcolor": "#E5ECF6",
           "caxis": {
            "gridcolor": "white",
            "linecolor": "white",
            "ticks": ""
           }
          },
          "title": {
           "x": 0.05
          },
          "xaxis": {
           "automargin": true,
           "gridcolor": "white",
           "linecolor": "white",
           "ticks": "",
           "title": {
            "standoff": 15
           },
           "zerolinecolor": "white",
           "zerolinewidth": 2
          },
          "yaxis": {
           "automargin": true,
           "gridcolor": "white",
           "linecolor": "white",
           "ticks": "",
           "title": {
            "standoff": 15
           },
           "zerolinecolor": "white",
           "zerolinewidth": 2
          }
         }
        },
        "xaxis": {
         "anchor": "y",
         "domain": [
          0,
          1
         ],
         "title": {
          "text": "variable"
         }
        },
        "yaxis": {
         "anchor": "x",
         "domain": [
          0,
          1
         ],
         "title": {
          "text": "value"
         }
        }
       }
      }
     },
     "metadata": {},
     "output_type": "display_data"
    }
   ],
   "source": [
    "px.box(scaled_numeric_features)"
   ]
  },
  {
   "cell_type": "markdown",
   "metadata": {},
   "source": [
    "Use the IsolationForest algorithm to detect outliers\n"
   ]
  },
  {
   "cell_type": "code",
   "execution_count": 1114,
   "metadata": {},
   "outputs": [
    {
     "data": {
      "text/html": [
       "<style>#sk-container-id-29 {\n",
       "  /* Definition of color scheme common for light and dark mode */\n",
       "  --sklearn-color-text: black;\n",
       "  --sklearn-color-line: gray;\n",
       "  /* Definition of color scheme for unfitted estimators */\n",
       "  --sklearn-color-unfitted-level-0: #fff5e6;\n",
       "  --sklearn-color-unfitted-level-1: #f6e4d2;\n",
       "  --sklearn-color-unfitted-level-2: #ffe0b3;\n",
       "  --sklearn-color-unfitted-level-3: chocolate;\n",
       "  /* Definition of color scheme for fitted estimators */\n",
       "  --sklearn-color-fitted-level-0: #f0f8ff;\n",
       "  --sklearn-color-fitted-level-1: #d4ebff;\n",
       "  --sklearn-color-fitted-level-2: #b3dbfd;\n",
       "  --sklearn-color-fitted-level-3: cornflowerblue;\n",
       "\n",
       "  /* Specific color for light theme */\n",
       "  --sklearn-color-text-on-default-background: var(--sg-text-color, var(--theme-code-foreground, var(--jp-content-font-color1, black)));\n",
       "  --sklearn-color-background: var(--sg-background-color, var(--theme-background, var(--jp-layout-color0, white)));\n",
       "  --sklearn-color-border-box: var(--sg-text-color, var(--theme-code-foreground, var(--jp-content-font-color1, black)));\n",
       "  --sklearn-color-icon: #696969;\n",
       "\n",
       "  @media (prefers-color-scheme: dark) {\n",
       "    /* Redefinition of color scheme for dark theme */\n",
       "    --sklearn-color-text-on-default-background: var(--sg-text-color, var(--theme-code-foreground, var(--jp-content-font-color1, white)));\n",
       "    --sklearn-color-background: var(--sg-background-color, var(--theme-background, var(--jp-layout-color0, #111)));\n",
       "    --sklearn-color-border-box: var(--sg-text-color, var(--theme-code-foreground, var(--jp-content-font-color1, white)));\n",
       "    --sklearn-color-icon: #878787;\n",
       "  }\n",
       "}\n",
       "\n",
       "#sk-container-id-29 {\n",
       "  color: var(--sklearn-color-text);\n",
       "}\n",
       "\n",
       "#sk-container-id-29 pre {\n",
       "  padding: 0;\n",
       "}\n",
       "\n",
       "#sk-container-id-29 input.sk-hidden--visually {\n",
       "  border: 0;\n",
       "  clip: rect(1px 1px 1px 1px);\n",
       "  clip: rect(1px, 1px, 1px, 1px);\n",
       "  height: 1px;\n",
       "  margin: -1px;\n",
       "  overflow: hidden;\n",
       "  padding: 0;\n",
       "  position: absolute;\n",
       "  width: 1px;\n",
       "}\n",
       "\n",
       "#sk-container-id-29 div.sk-dashed-wrapped {\n",
       "  border: 1px dashed var(--sklearn-color-line);\n",
       "  margin: 0 0.4em 0.5em 0.4em;\n",
       "  box-sizing: border-box;\n",
       "  padding-bottom: 0.4em;\n",
       "  background-color: var(--sklearn-color-background);\n",
       "}\n",
       "\n",
       "#sk-container-id-29 div.sk-container {\n",
       "  /* jupyter's `normalize.less` sets `[hidden] { display: none; }`\n",
       "     but bootstrap.min.css set `[hidden] { display: none !important; }`\n",
       "     so we also need the `!important` here to be able to override the\n",
       "     default hidden behavior on the sphinx rendered scikit-learn.org.\n",
       "     See: https://github.com/scikit-learn/scikit-learn/issues/21755 */\n",
       "  display: inline-block !important;\n",
       "  position: relative;\n",
       "}\n",
       "\n",
       "#sk-container-id-29 div.sk-text-repr-fallback {\n",
       "  display: none;\n",
       "}\n",
       "\n",
       "div.sk-parallel-item,\n",
       "div.sk-serial,\n",
       "div.sk-item {\n",
       "  /* draw centered vertical line to link estimators */\n",
       "  background-image: linear-gradient(var(--sklearn-color-text-on-default-background), var(--sklearn-color-text-on-default-background));\n",
       "  background-size: 2px 100%;\n",
       "  background-repeat: no-repeat;\n",
       "  background-position: center center;\n",
       "}\n",
       "\n",
       "/* Parallel-specific style estimator block */\n",
       "\n",
       "#sk-container-id-29 div.sk-parallel-item::after {\n",
       "  content: \"\";\n",
       "  width: 100%;\n",
       "  border-bottom: 2px solid var(--sklearn-color-text-on-default-background);\n",
       "  flex-grow: 1;\n",
       "}\n",
       "\n",
       "#sk-container-id-29 div.sk-parallel {\n",
       "  display: flex;\n",
       "  align-items: stretch;\n",
       "  justify-content: center;\n",
       "  background-color: var(--sklearn-color-background);\n",
       "  position: relative;\n",
       "}\n",
       "\n",
       "#sk-container-id-29 div.sk-parallel-item {\n",
       "  display: flex;\n",
       "  flex-direction: column;\n",
       "}\n",
       "\n",
       "#sk-container-id-29 div.sk-parallel-item:first-child::after {\n",
       "  align-self: flex-end;\n",
       "  width: 50%;\n",
       "}\n",
       "\n",
       "#sk-container-id-29 div.sk-parallel-item:last-child::after {\n",
       "  align-self: flex-start;\n",
       "  width: 50%;\n",
       "}\n",
       "\n",
       "#sk-container-id-29 div.sk-parallel-item:only-child::after {\n",
       "  width: 0;\n",
       "}\n",
       "\n",
       "/* Serial-specific style estimator block */\n",
       "\n",
       "#sk-container-id-29 div.sk-serial {\n",
       "  display: flex;\n",
       "  flex-direction: column;\n",
       "  align-items: center;\n",
       "  background-color: var(--sklearn-color-background);\n",
       "  padding-right: 1em;\n",
       "  padding-left: 1em;\n",
       "}\n",
       "\n",
       "\n",
       "/* Toggleable style: style used for estimator/Pipeline/ColumnTransformer box that is\n",
       "clickable and can be expanded/collapsed.\n",
       "- Pipeline and ColumnTransformer use this feature and define the default style\n",
       "- Estimators will overwrite some part of the style using the `sk-estimator` class\n",
       "*/\n",
       "\n",
       "/* Pipeline and ColumnTransformer style (default) */\n",
       "\n",
       "#sk-container-id-29 div.sk-toggleable {\n",
       "  /* Default theme specific background. It is overwritten whether we have a\n",
       "  specific estimator or a Pipeline/ColumnTransformer */\n",
       "  background-color: var(--sklearn-color-background);\n",
       "}\n",
       "\n",
       "/* Toggleable label */\n",
       "#sk-container-id-29 label.sk-toggleable__label {\n",
       "  cursor: pointer;\n",
       "  display: block;\n",
       "  width: 100%;\n",
       "  margin-bottom: 0;\n",
       "  padding: 0.5em;\n",
       "  box-sizing: border-box;\n",
       "  text-align: center;\n",
       "}\n",
       "\n",
       "#sk-container-id-29 label.sk-toggleable__label-arrow:before {\n",
       "  /* Arrow on the left of the label */\n",
       "  content: \"▸\";\n",
       "  float: left;\n",
       "  margin-right: 0.25em;\n",
       "  color: var(--sklearn-color-icon);\n",
       "}\n",
       "\n",
       "#sk-container-id-29 label.sk-toggleable__label-arrow:hover:before {\n",
       "  color: var(--sklearn-color-text);\n",
       "}\n",
       "\n",
       "/* Toggleable content - dropdown */\n",
       "\n",
       "#sk-container-id-29 div.sk-toggleable__content {\n",
       "  max-height: 0;\n",
       "  max-width: 0;\n",
       "  overflow: hidden;\n",
       "  text-align: left;\n",
       "  /* unfitted */\n",
       "  background-color: var(--sklearn-color-unfitted-level-0);\n",
       "}\n",
       "\n",
       "#sk-container-id-29 div.sk-toggleable__content.fitted {\n",
       "  /* fitted */\n",
       "  background-color: var(--sklearn-color-fitted-level-0);\n",
       "}\n",
       "\n",
       "#sk-container-id-29 div.sk-toggleable__content pre {\n",
       "  margin: 0.2em;\n",
       "  border-radius: 0.25em;\n",
       "  color: var(--sklearn-color-text);\n",
       "  /* unfitted */\n",
       "  background-color: var(--sklearn-color-unfitted-level-0);\n",
       "}\n",
       "\n",
       "#sk-container-id-29 div.sk-toggleable__content.fitted pre {\n",
       "  /* unfitted */\n",
       "  background-color: var(--sklearn-color-fitted-level-0);\n",
       "}\n",
       "\n",
       "#sk-container-id-29 input.sk-toggleable__control:checked~div.sk-toggleable__content {\n",
       "  /* Expand drop-down */\n",
       "  max-height: 200px;\n",
       "  max-width: 100%;\n",
       "  overflow: auto;\n",
       "}\n",
       "\n",
       "#sk-container-id-29 input.sk-toggleable__control:checked~label.sk-toggleable__label-arrow:before {\n",
       "  content: \"▾\";\n",
       "}\n",
       "\n",
       "/* Pipeline/ColumnTransformer-specific style */\n",
       "\n",
       "#sk-container-id-29 div.sk-label input.sk-toggleable__control:checked~label.sk-toggleable__label {\n",
       "  color: var(--sklearn-color-text);\n",
       "  background-color: var(--sklearn-color-unfitted-level-2);\n",
       "}\n",
       "\n",
       "#sk-container-id-29 div.sk-label.fitted input.sk-toggleable__control:checked~label.sk-toggleable__label {\n",
       "  background-color: var(--sklearn-color-fitted-level-2);\n",
       "}\n",
       "\n",
       "/* Estimator-specific style */\n",
       "\n",
       "/* Colorize estimator box */\n",
       "#sk-container-id-29 div.sk-estimator input.sk-toggleable__control:checked~label.sk-toggleable__label {\n",
       "  /* unfitted */\n",
       "  background-color: var(--sklearn-color-unfitted-level-2);\n",
       "}\n",
       "\n",
       "#sk-container-id-29 div.sk-estimator.fitted input.sk-toggleable__control:checked~label.sk-toggleable__label {\n",
       "  /* fitted */\n",
       "  background-color: var(--sklearn-color-fitted-level-2);\n",
       "}\n",
       "\n",
       "#sk-container-id-29 div.sk-label label.sk-toggleable__label,\n",
       "#sk-container-id-29 div.sk-label label {\n",
       "  /* The background is the default theme color */\n",
       "  color: var(--sklearn-color-text-on-default-background);\n",
       "}\n",
       "\n",
       "/* On hover, darken the color of the background */\n",
       "#sk-container-id-29 div.sk-label:hover label.sk-toggleable__label {\n",
       "  color: var(--sklearn-color-text);\n",
       "  background-color: var(--sklearn-color-unfitted-level-2);\n",
       "}\n",
       "\n",
       "/* Label box, darken color on hover, fitted */\n",
       "#sk-container-id-29 div.sk-label.fitted:hover label.sk-toggleable__label.fitted {\n",
       "  color: var(--sklearn-color-text);\n",
       "  background-color: var(--sklearn-color-fitted-level-2);\n",
       "}\n",
       "\n",
       "/* Estimator label */\n",
       "\n",
       "#sk-container-id-29 div.sk-label label {\n",
       "  font-family: monospace;\n",
       "  font-weight: bold;\n",
       "  display: inline-block;\n",
       "  line-height: 1.2em;\n",
       "}\n",
       "\n",
       "#sk-container-id-29 div.sk-label-container {\n",
       "  text-align: center;\n",
       "}\n",
       "\n",
       "/* Estimator-specific */\n",
       "#sk-container-id-29 div.sk-estimator {\n",
       "  font-family: monospace;\n",
       "  border: 1px dotted var(--sklearn-color-border-box);\n",
       "  border-radius: 0.25em;\n",
       "  box-sizing: border-box;\n",
       "  margin-bottom: 0.5em;\n",
       "  /* unfitted */\n",
       "  background-color: var(--sklearn-color-unfitted-level-0);\n",
       "}\n",
       "\n",
       "#sk-container-id-29 div.sk-estimator.fitted {\n",
       "  /* fitted */\n",
       "  background-color: var(--sklearn-color-fitted-level-0);\n",
       "}\n",
       "\n",
       "/* on hover */\n",
       "#sk-container-id-29 div.sk-estimator:hover {\n",
       "  /* unfitted */\n",
       "  background-color: var(--sklearn-color-unfitted-level-2);\n",
       "}\n",
       "\n",
       "#sk-container-id-29 div.sk-estimator.fitted:hover {\n",
       "  /* fitted */\n",
       "  background-color: var(--sklearn-color-fitted-level-2);\n",
       "}\n",
       "\n",
       "/* Specification for estimator info (e.g. \"i\" and \"?\") */\n",
       "\n",
       "/* Common style for \"i\" and \"?\" */\n",
       "\n",
       ".sk-estimator-doc-link,\n",
       "a:link.sk-estimator-doc-link,\n",
       "a:visited.sk-estimator-doc-link {\n",
       "  float: right;\n",
       "  font-size: smaller;\n",
       "  line-height: 1em;\n",
       "  font-family: monospace;\n",
       "  background-color: var(--sklearn-color-background);\n",
       "  border-radius: 1em;\n",
       "  height: 1em;\n",
       "  width: 1em;\n",
       "  text-decoration: none !important;\n",
       "  margin-left: 1ex;\n",
       "  /* unfitted */\n",
       "  border: var(--sklearn-color-unfitted-level-1) 1pt solid;\n",
       "  color: var(--sklearn-color-unfitted-level-1);\n",
       "}\n",
       "\n",
       ".sk-estimator-doc-link.fitted,\n",
       "a:link.sk-estimator-doc-link.fitted,\n",
       "a:visited.sk-estimator-doc-link.fitted {\n",
       "  /* fitted */\n",
       "  border: var(--sklearn-color-fitted-level-1) 1pt solid;\n",
       "  color: var(--sklearn-color-fitted-level-1);\n",
       "}\n",
       "\n",
       "/* On hover */\n",
       "div.sk-estimator:hover .sk-estimator-doc-link:hover,\n",
       ".sk-estimator-doc-link:hover,\n",
       "div.sk-label-container:hover .sk-estimator-doc-link:hover,\n",
       ".sk-estimator-doc-link:hover {\n",
       "  /* unfitted */\n",
       "  background-color: var(--sklearn-color-unfitted-level-3);\n",
       "  color: var(--sklearn-color-background);\n",
       "  text-decoration: none;\n",
       "}\n",
       "\n",
       "div.sk-estimator.fitted:hover .sk-estimator-doc-link.fitted:hover,\n",
       ".sk-estimator-doc-link.fitted:hover,\n",
       "div.sk-label-container:hover .sk-estimator-doc-link.fitted:hover,\n",
       ".sk-estimator-doc-link.fitted:hover {\n",
       "  /* fitted */\n",
       "  background-color: var(--sklearn-color-fitted-level-3);\n",
       "  color: var(--sklearn-color-background);\n",
       "  text-decoration: none;\n",
       "}\n",
       "\n",
       "/* Span, style for the box shown on hovering the info icon */\n",
       ".sk-estimator-doc-link span {\n",
       "  display: none;\n",
       "  z-index: 9999;\n",
       "  position: relative;\n",
       "  font-weight: normal;\n",
       "  right: .2ex;\n",
       "  padding: .5ex;\n",
       "  margin: .5ex;\n",
       "  width: min-content;\n",
       "  min-width: 20ex;\n",
       "  max-width: 50ex;\n",
       "  color: var(--sklearn-color-text);\n",
       "  box-shadow: 2pt 2pt 4pt #999;\n",
       "  /* unfitted */\n",
       "  background: var(--sklearn-color-unfitted-level-0);\n",
       "  border: .5pt solid var(--sklearn-color-unfitted-level-3);\n",
       "}\n",
       "\n",
       ".sk-estimator-doc-link.fitted span {\n",
       "  /* fitted */\n",
       "  background: var(--sklearn-color-fitted-level-0);\n",
       "  border: var(--sklearn-color-fitted-level-3);\n",
       "}\n",
       "\n",
       ".sk-estimator-doc-link:hover span {\n",
       "  display: block;\n",
       "}\n",
       "\n",
       "/* \"?\"-specific style due to the `<a>` HTML tag */\n",
       "\n",
       "#sk-container-id-29 a.estimator_doc_link {\n",
       "  float: right;\n",
       "  font-size: 1rem;\n",
       "  line-height: 1em;\n",
       "  font-family: monospace;\n",
       "  background-color: var(--sklearn-color-background);\n",
       "  border-radius: 1rem;\n",
       "  height: 1rem;\n",
       "  width: 1rem;\n",
       "  text-decoration: none;\n",
       "  /* unfitted */\n",
       "  color: var(--sklearn-color-unfitted-level-1);\n",
       "  border: var(--sklearn-color-unfitted-level-1) 1pt solid;\n",
       "}\n",
       "\n",
       "#sk-container-id-29 a.estimator_doc_link.fitted {\n",
       "  /* fitted */\n",
       "  border: var(--sklearn-color-fitted-level-1) 1pt solid;\n",
       "  color: var(--sklearn-color-fitted-level-1);\n",
       "}\n",
       "\n",
       "/* On hover */\n",
       "#sk-container-id-29 a.estimator_doc_link:hover {\n",
       "  /* unfitted */\n",
       "  background-color: var(--sklearn-color-unfitted-level-3);\n",
       "  color: var(--sklearn-color-background);\n",
       "  text-decoration: none;\n",
       "}\n",
       "\n",
       "#sk-container-id-29 a.estimator_doc_link.fitted:hover {\n",
       "  /* fitted */\n",
       "  background-color: var(--sklearn-color-fitted-level-3);\n",
       "}\n",
       "</style><div id=\"sk-container-id-29\" class=\"sk-top-container\"><div class=\"sk-text-repr-fallback\"><pre>IsolationForest()</pre><b>In a Jupyter environment, please rerun this cell to show the HTML representation or trust the notebook. <br />On GitHub, the HTML representation is unable to render, please try loading this page with nbviewer.org.</b></div><div class=\"sk-container\" hidden><div class=\"sk-item\"><div class=\"sk-estimator fitted sk-toggleable\"><input class=\"sk-toggleable__control sk-hidden--visually\" id=\"sk-estimator-id-29\" type=\"checkbox\" checked><label for=\"sk-estimator-id-29\" class=\"sk-toggleable__label fitted sk-toggleable__label-arrow fitted\">&nbsp;&nbsp;IsolationForest<a class=\"sk-estimator-doc-link fitted\" rel=\"noreferrer\" target=\"_blank\" href=\"https://scikit-learn.org/1.5/modules/generated/sklearn.ensemble.IsolationForest.html\">?<span>Documentation for IsolationForest</span></a><span class=\"sk-estimator-doc-link fitted\">i<span>Fitted</span></span></label><div class=\"sk-toggleable__content fitted\"><pre>IsolationForest()</pre></div> </div></div></div></div>"
      ],
      "text/plain": [
       "IsolationForest()"
      ]
     },
     "execution_count": 1114,
     "metadata": {},
     "output_type": "execute_result"
    }
   ],
   "source": [
    "iso_forest = IsolationForest()\n",
    "iso_forest.fit(scaled_numeric_features)"
   ]
  },
  {
   "cell_type": "code",
   "execution_count": 1115,
   "metadata": {},
   "outputs": [
    {
     "name": "stdout",
     "output_type": "stream",
     "text": [
      "Outliers: (55, 3)\n",
      "Not outliers: (430, 3)\n"
     ]
    }
   ],
   "source": [
    "outliers_pred = iso_forest.predict(scaled_numeric_features)\n",
    "not_outliers = [True if x == 1 else False for x in outliers_pred]\n",
    "X_without_outliers = scaled_numeric_features[not_outliers]\n",
    "outliers_pred = [False if x == 1 else True for x in outliers_pred]\n",
    "print(f\"Outliers: {scaled_numeric_features[outliers_pred].shape}\")\n",
    "print(f\"Not outliers: {X_without_outliers.shape}\")"
   ]
  },
  {
   "cell_type": "markdown",
   "metadata": {},
   "source": [
    "Imputing outliers with median\n"
   ]
  },
  {
   "cell_type": "code",
   "execution_count": 1116,
   "metadata": {},
   "outputs": [
    {
     "data": {
      "application/vnd.plotly.v1+json": {
       "config": {
        "plotlyServerURL": "https://plot.ly"
       },
       "data": [
        {
         "alignmentgroup": "True",
         "hovertemplate": "variable=%{x}<br>value=%{y}<extra></extra>",
         "legendgroup": "",
         "marker": {
          "color": "#636efa"
         },
         "name": "",
         "notched": false,
         "offsetgroup": "",
         "orientation": "v",
         "showlegend": false,
         "type": "box",
         "x": [
          "VIDEOS",
          "VIDEOS",
          "VIDEOS",
          "VIDEOS",
          "VIDEOS",
          "VIDEOS",
          "VIDEOS",
          "VIDEOS",
          "VIDEOS",
          "VIDEOS",
          "VIDEOS",
          "VIDEOS",
          "VIDEOS",
          "VIDEOS",
          "VIDEOS",
          "VIDEOS",
          "VIDEOS",
          "VIDEOS",
          "VIDEOS",
          "VIDEOS",
          "VIDEOS",
          "VIDEOS",
          "VIDEOS",
          "VIDEOS",
          "VIDEOS",
          "VIDEOS",
          "VIDEOS",
          "VIDEOS",
          "VIDEOS",
          "VIDEOS",
          "VIDEOS",
          "VIDEOS",
          "VIDEOS",
          "VIDEOS",
          "VIDEOS",
          "VIDEOS",
          "VIDEOS",
          "VIDEOS",
          "VIDEOS",
          "VIDEOS",
          "VIDEOS",
          "VIDEOS",
          "VIDEOS",
          "VIDEOS",
          "VIDEOS",
          "VIDEOS",
          "VIDEOS",
          "VIDEOS",
          "VIDEOS",
          "VIDEOS",
          "VIDEOS",
          "VIDEOS",
          "VIDEOS",
          "VIDEOS",
          "VIDEOS",
          "VIDEOS",
          "VIDEOS",
          "VIDEOS",
          "VIDEOS",
          "VIDEOS",
          "VIDEOS",
          "VIDEOS",
          "VIDEOS",
          "VIDEOS",
          "VIDEOS",
          "VIDEOS",
          "VIDEOS",
          "VIDEOS",
          "VIDEOS",
          "VIDEOS",
          "VIDEOS",
          "VIDEOS",
          "VIDEOS",
          "VIDEOS",
          "VIDEOS",
          "VIDEOS",
          "VIDEOS",
          "VIDEOS",
          "VIDEOS",
          "VIDEOS",
          "VIDEOS",
          "VIDEOS",
          "VIDEOS",
          "VIDEOS",
          "VIDEOS",
          "VIDEOS",
          "VIDEOS",
          "VIDEOS",
          "VIDEOS",
          "VIDEOS",
          "VIDEOS",
          "VIDEOS",
          "VIDEOS",
          "VIDEOS",
          "VIDEOS",
          "VIDEOS",
          "VIDEOS",
          "VIDEOS",
          "VIDEOS",
          "VIDEOS",
          "VIDEOS",
          "VIDEOS",
          "VIDEOS",
          "VIDEOS",
          "VIDEOS",
          "VIDEOS",
          "VIDEOS",
          "VIDEOS",
          "VIDEOS",
          "VIDEOS",
          "VIDEOS",
          "VIDEOS",
          "VIDEOS",
          "VIDEOS",
          "VIDEOS",
          "VIDEOS",
          "VIDEOS",
          "VIDEOS",
          "VIDEOS",
          "VIDEOS",
          "VIDEOS",
          "VIDEOS",
          "VIDEOS",
          "VIDEOS",
          "VIDEOS",
          "VIDEOS",
          "VIDEOS",
          "VIDEOS",
          "VIDEOS",
          "VIDEOS",
          "VIDEOS",
          "VIDEOS",
          "VIDEOS",
          "VIDEOS",
          "VIDEOS",
          "VIDEOS",
          "VIDEOS",
          "VIDEOS",
          "VIDEOS",
          "VIDEOS",
          "VIDEOS",
          "VIDEOS",
          "VIDEOS",
          "VIDEOS",
          "VIDEOS",
          "VIDEOS",
          "VIDEOS",
          "VIDEOS",
          "VIDEOS",
          "VIDEOS",
          "VIDEOS",
          "VIDEOS",
          "VIDEOS",
          "VIDEOS",
          "VIDEOS",
          "VIDEOS",
          "VIDEOS",
          "VIDEOS",
          "VIDEOS",
          "VIDEOS",
          "VIDEOS",
          "VIDEOS",
          "VIDEOS",
          "VIDEOS",
          "VIDEOS",
          "VIDEOS",
          "VIDEOS",
          "VIDEOS",
          "VIDEOS",
          "VIDEOS",
          "VIDEOS",
          "VIDEOS",
          "VIDEOS",
          "VIDEOS",
          "VIDEOS",
          "VIDEOS",
          "VIDEOS",
          "VIDEOS",
          "VIDEOS",
          "VIDEOS",
          "VIDEOS",
          "VIDEOS",
          "VIDEOS",
          "VIDEOS",
          "VIDEOS",
          "VIDEOS",
          "VIDEOS",
          "VIDEOS",
          "VIDEOS",
          "VIDEOS",
          "VIDEOS",
          "VIDEOS",
          "VIDEOS",
          "VIDEOS",
          "VIDEOS",
          "VIDEOS",
          "VIDEOS",
          "VIDEOS",
          "VIDEOS",
          "VIDEOS",
          "VIDEOS",
          "VIDEOS",
          "VIDEOS",
          "VIDEOS",
          "VIDEOS",
          "VIDEOS",
          "VIDEOS",
          "VIDEOS",
          "VIDEOS",
          "VIDEOS",
          "VIDEOS",
          "VIDEOS",
          "VIDEOS",
          "VIDEOS",
          "VIDEOS",
          "VIDEOS",
          "VIDEOS",
          "VIDEOS",
          "VIDEOS",
          "VIDEOS",
          "VIDEOS",
          "VIDEOS",
          "VIDEOS",
          "VIDEOS",
          "VIDEOS",
          "VIDEOS",
          "VIDEOS",
          "VIDEOS",
          "VIDEOS",
          "VIDEOS",
          "VIDEOS",
          "VIDEOS",
          "VIDEOS",
          "VIDEOS",
          "VIDEOS",
          "VIDEOS",
          "VIDEOS",
          "VIDEOS",
          "VIDEOS",
          "VIDEOS",
          "VIDEOS",
          "VIDEOS",
          "VIDEOS",
          "VIDEOS",
          "VIDEOS",
          "VIDEOS",
          "VIDEOS",
          "VIDEOS",
          "VIDEOS",
          "VIDEOS",
          "VIDEOS",
          "VIDEOS",
          "VIDEOS",
          "VIDEOS",
          "VIDEOS",
          "VIDEOS",
          "VIDEOS",
          "VIDEOS",
          "VIDEOS",
          "VIDEOS",
          "VIDEOS",
          "VIDEOS",
          "VIDEOS",
          "VIDEOS",
          "VIDEOS",
          "VIDEOS",
          "VIDEOS",
          "VIDEOS",
          "VIDEOS",
          "VIDEOS",
          "VIDEOS",
          "VIDEOS",
          "VIDEOS",
          "VIDEOS",
          "VIDEOS",
          "VIDEOS",
          "VIDEOS",
          "VIDEOS",
          "VIDEOS",
          "VIDEOS",
          "VIDEOS",
          "VIDEOS",
          "VIDEOS",
          "VIDEOS",
          "VIDEOS",
          "VIDEOS",
          "VIDEOS",
          "VIDEOS",
          "VIDEOS",
          "VIDEOS",
          "VIDEOS",
          "VIDEOS",
          "VIDEOS",
          "VIDEOS",
          "VIDEOS",
          "VIDEOS",
          "VIDEOS",
          "VIDEOS",
          "VIDEOS",
          "VIDEOS",
          "VIDEOS",
          "VIDEOS",
          "VIDEOS",
          "VIDEOS",
          "VIDEOS",
          "VIDEOS",
          "VIDEOS",
          "VIDEOS",
          "VIDEOS",
          "VIDEOS",
          "VIDEOS",
          "VIDEOS",
          "VIDEOS",
          "VIDEOS",
          "VIDEOS",
          "VIDEOS",
          "VIDEOS",
          "VIDEOS",
          "VIDEOS",
          "VIDEOS",
          "VIDEOS",
          "VIDEOS",
          "VIDEOS",
          "VIDEOS",
          "VIDEOS",
          "VIDEOS",
          "VIDEOS",
          "VIDEOS",
          "VIDEOS",
          "VIDEOS",
          "VIDEOS",
          "VIDEOS",
          "VIDEOS",
          "VIDEOS",
          "VIDEOS",
          "VIDEOS",
          "VIDEOS",
          "VIDEOS",
          "VIDEOS",
          "VIDEOS",
          "VIDEOS",
          "VIDEOS",
          "VIDEOS",
          "VIDEOS",
          "VIDEOS",
          "VIDEOS",
          "VIDEOS",
          "VIDEOS",
          "VIDEOS",
          "VIDEOS",
          "VIDEOS",
          "VIDEOS",
          "VIDEOS",
          "VIDEOS",
          "VIDEOS",
          "VIDEOS",
          "VIDEOS",
          "VIDEOS",
          "VIDEOS",
          "VIDEOS",
          "VIDEOS",
          "VIDEOS",
          "VIDEOS",
          "VIDEOS",
          "VIDEOS",
          "VIDEOS",
          "VIDEOS",
          "VIDEOS",
          "VIDEOS",
          "VIDEOS",
          "VIDEOS",
          "VIDEOS",
          "VIDEOS",
          "VIDEOS",
          "VIDEOS",
          "VIDEOS",
          "VIDEOS",
          "VIDEOS",
          "VIDEOS",
          "VIDEOS",
          "VIDEOS",
          "VIDEOS",
          "VIDEOS",
          "VIDEOS",
          "VIDEOS",
          "VIDEOS",
          "VIDEOS",
          "VIDEOS",
          "VIDEOS",
          "VIDEOS",
          "VIDEOS",
          "VIDEOS",
          "VIDEOS",
          "VIDEOS",
          "VIDEOS",
          "VIDEOS",
          "VIDEOS",
          "VIDEOS",
          "VIDEOS",
          "VIDEOS",
          "VIDEOS",
          "VIDEOS",
          "VIDEOS",
          "VIDEOS",
          "VIDEOS",
          "VIDEOS",
          "VIDEOS",
          "VIDEOS",
          "VIDEOS",
          "VIDEOS",
          "VIDEOS",
          "VIDEOS",
          "VIDEOS",
          "VIDEOS",
          "VIDEOS",
          "VIDEOS",
          "VIDEOS",
          "VIDEOS",
          "VIDEOS",
          "VIDEOS",
          "VIDEOS",
          "VIDEOS",
          "VIDEOS",
          "VIDEOS",
          "VIDEOS",
          "VIDEOS",
          "VIDEOS",
          "VIDEOS",
          "VIDEOS",
          "VIDEOS",
          "VIDEOS",
          "VIDEOS",
          "VIDEOS",
          "VIDEOS",
          "VIDEOS",
          "VIDEOS",
          "VIDEOS",
          "VIDEOS",
          "VIDEOS",
          "VIDEOS",
          "VIDEOS",
          "VIDEOS",
          "VIDEOS",
          "VIDEOS",
          "VIDEOS",
          "VIDEOS",
          "VIDEOS",
          "VIDEOS",
          "VIDEOS",
          "VIDEOS",
          "VIDEOS",
          "VIDEOS",
          "VIDEOS",
          "VIDEOS",
          "VIDEOS",
          "VIDEOS",
          "VIDEOS",
          "VIDEOS",
          "VIDEOS",
          "VIDEOS",
          "VIDEOS",
          "VIDEOS",
          "VIDEOS",
          "VIDEOS",
          "VIDEOS",
          "VIDEOS",
          "VIDEOS",
          "VIDEOS",
          "VIDEOS",
          "VIDEOS",
          "VIDEOS",
          "VIDEOS",
          "VIDEOS",
          "VIDEOS",
          "VIDEOS",
          "VIDEOS",
          "VIDEOS",
          "VIDEOS",
          "VIDEOS",
          "VIDEOS",
          "VIDEOS",
          "VIDEOS",
          "VIDEOS",
          "VIDEOS",
          "VIDEOS",
          "SUBSCRIBERS",
          "SUBSCRIBERS",
          "SUBSCRIBERS",
          "SUBSCRIBERS",
          "SUBSCRIBERS",
          "SUBSCRIBERS",
          "SUBSCRIBERS",
          "SUBSCRIBERS",
          "SUBSCRIBERS",
          "SUBSCRIBERS",
          "SUBSCRIBERS",
          "SUBSCRIBERS",
          "SUBSCRIBERS",
          "SUBSCRIBERS",
          "SUBSCRIBERS",
          "SUBSCRIBERS",
          "SUBSCRIBERS",
          "SUBSCRIBERS",
          "SUBSCRIBERS",
          "SUBSCRIBERS",
          "SUBSCRIBERS",
          "SUBSCRIBERS",
          "SUBSCRIBERS",
          "SUBSCRIBERS",
          "SUBSCRIBERS",
          "SUBSCRIBERS",
          "SUBSCRIBERS",
          "SUBSCRIBERS",
          "SUBSCRIBERS",
          "SUBSCRIBERS",
          "SUBSCRIBERS",
          "SUBSCRIBERS",
          "SUBSCRIBERS",
          "SUBSCRIBERS",
          "SUBSCRIBERS",
          "SUBSCRIBERS",
          "SUBSCRIBERS",
          "SUBSCRIBERS",
          "SUBSCRIBERS",
          "SUBSCRIBERS",
          "SUBSCRIBERS",
          "SUBSCRIBERS",
          "SUBSCRIBERS",
          "SUBSCRIBERS",
          "SUBSCRIBERS",
          "SUBSCRIBERS",
          "SUBSCRIBERS",
          "SUBSCRIBERS",
          "SUBSCRIBERS",
          "SUBSCRIBERS",
          "SUBSCRIBERS",
          "SUBSCRIBERS",
          "SUBSCRIBERS",
          "SUBSCRIBERS",
          "SUBSCRIBERS",
          "SUBSCRIBERS",
          "SUBSCRIBERS",
          "SUBSCRIBERS",
          "SUBSCRIBERS",
          "SUBSCRIBERS",
          "SUBSCRIBERS",
          "SUBSCRIBERS",
          "SUBSCRIBERS",
          "SUBSCRIBERS",
          "SUBSCRIBERS",
          "SUBSCRIBERS",
          "SUBSCRIBERS",
          "SUBSCRIBERS",
          "SUBSCRIBERS",
          "SUBSCRIBERS",
          "SUBSCRIBERS",
          "SUBSCRIBERS",
          "SUBSCRIBERS",
          "SUBSCRIBERS",
          "SUBSCRIBERS",
          "SUBSCRIBERS",
          "SUBSCRIBERS",
          "SUBSCRIBERS",
          "SUBSCRIBERS",
          "SUBSCRIBERS",
          "SUBSCRIBERS",
          "SUBSCRIBERS",
          "SUBSCRIBERS",
          "SUBSCRIBERS",
          "SUBSCRIBERS",
          "SUBSCRIBERS",
          "SUBSCRIBERS",
          "SUBSCRIBERS",
          "SUBSCRIBERS",
          "SUBSCRIBERS",
          "SUBSCRIBERS",
          "SUBSCRIBERS",
          "SUBSCRIBERS",
          "SUBSCRIBERS",
          "SUBSCRIBERS",
          "SUBSCRIBERS",
          "SUBSCRIBERS",
          "SUBSCRIBERS",
          "SUBSCRIBERS",
          "SUBSCRIBERS",
          "SUBSCRIBERS",
          "SUBSCRIBERS",
          "SUBSCRIBERS",
          "SUBSCRIBERS",
          "SUBSCRIBERS",
          "SUBSCRIBERS",
          "SUBSCRIBERS",
          "SUBSCRIBERS",
          "SUBSCRIBERS",
          "SUBSCRIBERS",
          "SUBSCRIBERS",
          "SUBSCRIBERS",
          "SUBSCRIBERS",
          "SUBSCRIBERS",
          "SUBSCRIBERS",
          "SUBSCRIBERS",
          "SUBSCRIBERS",
          "SUBSCRIBERS",
          "SUBSCRIBERS",
          "SUBSCRIBERS",
          "SUBSCRIBERS",
          "SUBSCRIBERS",
          "SUBSCRIBERS",
          "SUBSCRIBERS",
          "SUBSCRIBERS",
          "SUBSCRIBERS",
          "SUBSCRIBERS",
          "SUBSCRIBERS",
          "SUBSCRIBERS",
          "SUBSCRIBERS",
          "SUBSCRIBERS",
          "SUBSCRIBERS",
          "SUBSCRIBERS",
          "SUBSCRIBERS",
          "SUBSCRIBERS",
          "SUBSCRIBERS",
          "SUBSCRIBERS",
          "SUBSCRIBERS",
          "SUBSCRIBERS",
          "SUBSCRIBERS",
          "SUBSCRIBERS",
          "SUBSCRIBERS",
          "SUBSCRIBERS",
          "SUBSCRIBERS",
          "SUBSCRIBERS",
          "SUBSCRIBERS",
          "SUBSCRIBERS",
          "SUBSCRIBERS",
          "SUBSCRIBERS",
          "SUBSCRIBERS",
          "SUBSCRIBERS",
          "SUBSCRIBERS",
          "SUBSCRIBERS",
          "SUBSCRIBERS",
          "SUBSCRIBERS",
          "SUBSCRIBERS",
          "SUBSCRIBERS",
          "SUBSCRIBERS",
          "SUBSCRIBERS",
          "SUBSCRIBERS",
          "SUBSCRIBERS",
          "SUBSCRIBERS",
          "SUBSCRIBERS",
          "SUBSCRIBERS",
          "SUBSCRIBERS",
          "SUBSCRIBERS",
          "SUBSCRIBERS",
          "SUBSCRIBERS",
          "SUBSCRIBERS",
          "SUBSCRIBERS",
          "SUBSCRIBERS",
          "SUBSCRIBERS",
          "SUBSCRIBERS",
          "SUBSCRIBERS",
          "SUBSCRIBERS",
          "SUBSCRIBERS",
          "SUBSCRIBERS",
          "SUBSCRIBERS",
          "SUBSCRIBERS",
          "SUBSCRIBERS",
          "SUBSCRIBERS",
          "SUBSCRIBERS",
          "SUBSCRIBERS",
          "SUBSCRIBERS",
          "SUBSCRIBERS",
          "SUBSCRIBERS",
          "SUBSCRIBERS",
          "SUBSCRIBERS",
          "SUBSCRIBERS",
          "SUBSCRIBERS",
          "SUBSCRIBERS",
          "SUBSCRIBERS",
          "SUBSCRIBERS",
          "SUBSCRIBERS",
          "SUBSCRIBERS",
          "SUBSCRIBERS",
          "SUBSCRIBERS",
          "SUBSCRIBERS",
          "SUBSCRIBERS",
          "SUBSCRIBERS",
          "SUBSCRIBERS",
          "SUBSCRIBERS",
          "SUBSCRIBERS",
          "SUBSCRIBERS",
          "SUBSCRIBERS",
          "SUBSCRIBERS",
          "SUBSCRIBERS",
          "SUBSCRIBERS",
          "SUBSCRIBERS",
          "SUBSCRIBERS",
          "SUBSCRIBERS",
          "SUBSCRIBERS",
          "SUBSCRIBERS",
          "SUBSCRIBERS",
          "SUBSCRIBERS",
          "SUBSCRIBERS",
          "SUBSCRIBERS",
          "SUBSCRIBERS",
          "SUBSCRIBERS",
          "SUBSCRIBERS",
          "SUBSCRIBERS",
          "SUBSCRIBERS",
          "SUBSCRIBERS",
          "SUBSCRIBERS",
          "SUBSCRIBERS",
          "SUBSCRIBERS",
          "SUBSCRIBERS",
          "SUBSCRIBERS",
          "SUBSCRIBERS",
          "SUBSCRIBERS",
          "SUBSCRIBERS",
          "SUBSCRIBERS",
          "SUBSCRIBERS",
          "SUBSCRIBERS",
          "SUBSCRIBERS",
          "SUBSCRIBERS",
          "SUBSCRIBERS",
          "SUBSCRIBERS",
          "SUBSCRIBERS",
          "SUBSCRIBERS",
          "SUBSCRIBERS",
          "SUBSCRIBERS",
          "SUBSCRIBERS",
          "SUBSCRIBERS",
          "SUBSCRIBERS",
          "SUBSCRIBERS",
          "SUBSCRIBERS",
          "SUBSCRIBERS",
          "SUBSCRIBERS",
          "SUBSCRIBERS",
          "SUBSCRIBERS",
          "SUBSCRIBERS",
          "SUBSCRIBERS",
          "SUBSCRIBERS",
          "SUBSCRIBERS",
          "SUBSCRIBERS",
          "SUBSCRIBERS",
          "SUBSCRIBERS",
          "SUBSCRIBERS",
          "SUBSCRIBERS",
          "SUBSCRIBERS",
          "SUBSCRIBERS",
          "SUBSCRIBERS",
          "SUBSCRIBERS",
          "SUBSCRIBERS",
          "SUBSCRIBERS",
          "SUBSCRIBERS",
          "SUBSCRIBERS",
          "SUBSCRIBERS",
          "SUBSCRIBERS",
          "SUBSCRIBERS",
          "SUBSCRIBERS",
          "SUBSCRIBERS",
          "SUBSCRIBERS",
          "SUBSCRIBERS",
          "SUBSCRIBERS",
          "SUBSCRIBERS",
          "SUBSCRIBERS",
          "SUBSCRIBERS",
          "SUBSCRIBERS",
          "SUBSCRIBERS",
          "SUBSCRIBERS",
          "SUBSCRIBERS",
          "SUBSCRIBERS",
          "SUBSCRIBERS",
          "SUBSCRIBERS",
          "SUBSCRIBERS",
          "SUBSCRIBERS",
          "SUBSCRIBERS",
          "SUBSCRIBERS",
          "SUBSCRIBERS",
          "SUBSCRIBERS",
          "SUBSCRIBERS",
          "SUBSCRIBERS",
          "SUBSCRIBERS",
          "SUBSCRIBERS",
          "SUBSCRIBERS",
          "SUBSCRIBERS",
          "SUBSCRIBERS",
          "SUBSCRIBERS",
          "SUBSCRIBERS",
          "SUBSCRIBERS",
          "SUBSCRIBERS",
          "SUBSCRIBERS",
          "SUBSCRIBERS",
          "SUBSCRIBERS",
          "SUBSCRIBERS",
          "SUBSCRIBERS",
          "SUBSCRIBERS",
          "SUBSCRIBERS",
          "SUBSCRIBERS",
          "SUBSCRIBERS",
          "SUBSCRIBERS",
          "SUBSCRIBERS",
          "SUBSCRIBERS",
          "SUBSCRIBERS",
          "SUBSCRIBERS",
          "SUBSCRIBERS",
          "SUBSCRIBERS",
          "SUBSCRIBERS",
          "SUBSCRIBERS",
          "SUBSCRIBERS",
          "SUBSCRIBERS",
          "SUBSCRIBERS",
          "SUBSCRIBERS",
          "SUBSCRIBERS",
          "SUBSCRIBERS",
          "SUBSCRIBERS",
          "SUBSCRIBERS",
          "SUBSCRIBERS",
          "SUBSCRIBERS",
          "SUBSCRIBERS",
          "SUBSCRIBERS",
          "SUBSCRIBERS",
          "SUBSCRIBERS",
          "SUBSCRIBERS",
          "SUBSCRIBERS",
          "SUBSCRIBERS",
          "SUBSCRIBERS",
          "SUBSCRIBERS",
          "SUBSCRIBERS",
          "SUBSCRIBERS",
          "SUBSCRIBERS",
          "SUBSCRIBERS",
          "SUBSCRIBERS",
          "SUBSCRIBERS",
          "SUBSCRIBERS",
          "SUBSCRIBERS",
          "SUBSCRIBERS",
          "SUBSCRIBERS",
          "SUBSCRIBERS",
          "SUBSCRIBERS",
          "SUBSCRIBERS",
          "SUBSCRIBERS",
          "SUBSCRIBERS",
          "SUBSCRIBERS",
          "SUBSCRIBERS",
          "SUBSCRIBERS",
          "SUBSCRIBERS",
          "SUBSCRIBERS",
          "SUBSCRIBERS",
          "SUBSCRIBERS",
          "SUBSCRIBERS",
          "SUBSCRIBERS",
          "SUBSCRIBERS",
          "SUBSCRIBERS",
          "SUBSCRIBERS",
          "SUBSCRIBERS",
          "SUBSCRIBERS",
          "SUBSCRIBERS",
          "SUBSCRIBERS",
          "SUBSCRIBERS",
          "SUBSCRIBERS",
          "SUBSCRIBERS",
          "SUBSCRIBERS",
          "SUBSCRIBERS",
          "SUBSCRIBERS",
          "SUBSCRIBERS",
          "SUBSCRIBERS",
          "SUBSCRIBERS",
          "SUBSCRIBERS",
          "SUBSCRIBERS",
          "SUBSCRIBERS",
          "SUBSCRIBERS",
          "SUBSCRIBERS",
          "SUBSCRIBERS",
          "SUBSCRIBERS",
          "SUBSCRIBERS",
          "SUBSCRIBERS",
          "SUBSCRIBERS",
          "SUBSCRIBERS",
          "SUBSCRIBERS",
          "SUBSCRIBERS",
          "SUBSCRIBERS",
          "SUBSCRIBERS",
          "SUBSCRIBERS",
          "SUBSCRIBERS",
          "SUBSCRIBERS",
          "SUBSCRIBERS",
          "SUBSCRIBERS",
          "SUBSCRIBERS",
          "SUBSCRIBERS",
          "SUBSCRIBERS",
          "SUBSCRIBERS",
          "SUBSCRIBERS",
          "SUBSCRIBERS",
          "SUBSCRIBERS",
          "SUBSCRIBERS",
          "SUBSCRIBERS",
          "SUBSCRIBERS",
          "SUBSCRIBERS",
          "SUBSCRIBERS",
          "SUBSCRIBERS",
          "SUBSCRIBERS",
          "SUBSCRIBERS",
          "SUBSCRIBERS",
          "SUBSCRIBERS",
          "SUBSCRIBERS",
          "SUBSCRIBERS",
          "SUBSCRIBERS",
          "SUBSCRIBERS",
          "SUBSCRIBERS",
          "SUBSCRIBERS",
          "SUBSCRIBERS",
          "SUBSCRIBERS",
          "SUBSCRIBERS",
          "SUBSCRIBERS",
          "SUBSCRIBERS",
          "SUBSCRIBERS",
          "SUBSCRIBERS",
          "SUBSCRIBERS",
          "SUBSCRIBERS",
          "SUBSCRIBERS",
          "SUBSCRIBERS",
          "SUBSCRIBERS",
          "SUBSCRIBERS",
          "SUBSCRIBERS",
          "SUBSCRIBERS",
          "SUBSCRIBERS",
          "SUBSCRIBERS",
          "SUBSCRIBERS",
          "SUBSCRIBERS",
          "SUBSCRIBERS",
          "SUBSCRIBERS",
          "SUBSCRIBERS",
          "SUBSCRIBERS",
          "SUBSCRIBERS",
          "SUBSCRIBERS",
          "SUBSCRIBERS",
          "SUBSCRIBERS",
          "SUBSCRIBERS",
          "SUBSCRIBERS",
          "SUBSCRIBERS",
          "SUBSCRIBERS",
          "SUBSCRIBERS",
          "SUBSCRIBERS",
          "SUBSCRIBERS",
          "SUBSCRIBERS",
          "SUBSCRIBERS",
          "SUBSCRIBERS",
          "SUBSCRIBERS",
          "SUBSCRIBERS",
          "SUBSCRIBERS",
          "SUBSCRIBERS",
          "SUBSCRIBERS",
          "SUBSCRIBERS",
          "SUBSCRIBERS",
          "SUBSCRIBERS",
          "SUBSCRIBERS",
          "SUBSCRIBERS",
          "SUBSCRIBERS",
          "SUBSCRIBERS",
          "SUBSCRIBERS",
          "SUBSCRIBERS",
          "SUBSCRIBERS",
          "SUBSCRIBERS",
          "SUBSCRIBERS",
          "SUBSCRIBERS",
          "SUBSCRIBERS",
          "SUBSCRIBERS",
          "SUBSCRIBERS",
          "SUBSCRIBERS",
          "SUBSCRIBERS",
          "SUBSCRIBERS",
          "SUBSCRIBERS",
          "VIEWS",
          "VIEWS",
          "VIEWS",
          "VIEWS",
          "VIEWS",
          "VIEWS",
          "VIEWS",
          "VIEWS",
          "VIEWS",
          "VIEWS",
          "VIEWS",
          "VIEWS",
          "VIEWS",
          "VIEWS",
          "VIEWS",
          "VIEWS",
          "VIEWS",
          "VIEWS",
          "VIEWS",
          "VIEWS",
          "VIEWS",
          "VIEWS",
          "VIEWS",
          "VIEWS",
          "VIEWS",
          "VIEWS",
          "VIEWS",
          "VIEWS",
          "VIEWS",
          "VIEWS",
          "VIEWS",
          "VIEWS",
          "VIEWS",
          "VIEWS",
          "VIEWS",
          "VIEWS",
          "VIEWS",
          "VIEWS",
          "VIEWS",
          "VIEWS",
          "VIEWS",
          "VIEWS",
          "VIEWS",
          "VIEWS",
          "VIEWS",
          "VIEWS",
          "VIEWS",
          "VIEWS",
          "VIEWS",
          "VIEWS",
          "VIEWS",
          "VIEWS",
          "VIEWS",
          "VIEWS",
          "VIEWS",
          "VIEWS",
          "VIEWS",
          "VIEWS",
          "VIEWS",
          "VIEWS",
          "VIEWS",
          "VIEWS",
          "VIEWS",
          "VIEWS",
          "VIEWS",
          "VIEWS",
          "VIEWS",
          "VIEWS",
          "VIEWS",
          "VIEWS",
          "VIEWS",
          "VIEWS",
          "VIEWS",
          "VIEWS",
          "VIEWS",
          "VIEWS",
          "VIEWS",
          "VIEWS",
          "VIEWS",
          "VIEWS",
          "VIEWS",
          "VIEWS",
          "VIEWS",
          "VIEWS",
          "VIEWS",
          "VIEWS",
          "VIEWS",
          "VIEWS",
          "VIEWS",
          "VIEWS",
          "VIEWS",
          "VIEWS",
          "VIEWS",
          "VIEWS",
          "VIEWS",
          "VIEWS",
          "VIEWS",
          "VIEWS",
          "VIEWS",
          "VIEWS",
          "VIEWS",
          "VIEWS",
          "VIEWS",
          "VIEWS",
          "VIEWS",
          "VIEWS",
          "VIEWS",
          "VIEWS",
          "VIEWS",
          "VIEWS",
          "VIEWS",
          "VIEWS",
          "VIEWS",
          "VIEWS",
          "VIEWS",
          "VIEWS",
          "VIEWS",
          "VIEWS",
          "VIEWS",
          "VIEWS",
          "VIEWS",
          "VIEWS",
          "VIEWS",
          "VIEWS",
          "VIEWS",
          "VIEWS",
          "VIEWS",
          "VIEWS",
          "VIEWS",
          "VIEWS",
          "VIEWS",
          "VIEWS",
          "VIEWS",
          "VIEWS",
          "VIEWS",
          "VIEWS",
          "VIEWS",
          "VIEWS",
          "VIEWS",
          "VIEWS",
          "VIEWS",
          "VIEWS",
          "VIEWS",
          "VIEWS",
          "VIEWS",
          "VIEWS",
          "VIEWS",
          "VIEWS",
          "VIEWS",
          "VIEWS",
          "VIEWS",
          "VIEWS",
          "VIEWS",
          "VIEWS",
          "VIEWS",
          "VIEWS",
          "VIEWS",
          "VIEWS",
          "VIEWS",
          "VIEWS",
          "VIEWS",
          "VIEWS",
          "VIEWS",
          "VIEWS",
          "VIEWS",
          "VIEWS",
          "VIEWS",
          "VIEWS",
          "VIEWS",
          "VIEWS",
          "VIEWS",
          "VIEWS",
          "VIEWS",
          "VIEWS",
          "VIEWS",
          "VIEWS",
          "VIEWS",
          "VIEWS",
          "VIEWS",
          "VIEWS",
          "VIEWS",
          "VIEWS",
          "VIEWS",
          "VIEWS",
          "VIEWS",
          "VIEWS",
          "VIEWS",
          "VIEWS",
          "VIEWS",
          "VIEWS",
          "VIEWS",
          "VIEWS",
          "VIEWS",
          "VIEWS",
          "VIEWS",
          "VIEWS",
          "VIEWS",
          "VIEWS",
          "VIEWS",
          "VIEWS",
          "VIEWS",
          "VIEWS",
          "VIEWS",
          "VIEWS",
          "VIEWS",
          "VIEWS",
          "VIEWS",
          "VIEWS",
          "VIEWS",
          "VIEWS",
          "VIEWS",
          "VIEWS",
          "VIEWS",
          "VIEWS",
          "VIEWS",
          "VIEWS",
          "VIEWS",
          "VIEWS",
          "VIEWS",
          "VIEWS",
          "VIEWS",
          "VIEWS",
          "VIEWS",
          "VIEWS",
          "VIEWS",
          "VIEWS",
          "VIEWS",
          "VIEWS",
          "VIEWS",
          "VIEWS",
          "VIEWS",
          "VIEWS",
          "VIEWS",
          "VIEWS",
          "VIEWS",
          "VIEWS",
          "VIEWS",
          "VIEWS",
          "VIEWS",
          "VIEWS",
          "VIEWS",
          "VIEWS",
          "VIEWS",
          "VIEWS",
          "VIEWS",
          "VIEWS",
          "VIEWS",
          "VIEWS",
          "VIEWS",
          "VIEWS",
          "VIEWS",
          "VIEWS",
          "VIEWS",
          "VIEWS",
          "VIEWS",
          "VIEWS",
          "VIEWS",
          "VIEWS",
          "VIEWS",
          "VIEWS",
          "VIEWS",
          "VIEWS",
          "VIEWS",
          "VIEWS",
          "VIEWS",
          "VIEWS",
          "VIEWS",
          "VIEWS",
          "VIEWS",
          "VIEWS",
          "VIEWS",
          "VIEWS",
          "VIEWS",
          "VIEWS",
          "VIEWS",
          "VIEWS",
          "VIEWS",
          "VIEWS",
          "VIEWS",
          "VIEWS",
          "VIEWS",
          "VIEWS",
          "VIEWS",
          "VIEWS",
          "VIEWS",
          "VIEWS",
          "VIEWS",
          "VIEWS",
          "VIEWS",
          "VIEWS",
          "VIEWS",
          "VIEWS",
          "VIEWS",
          "VIEWS",
          "VIEWS",
          "VIEWS",
          "VIEWS",
          "VIEWS",
          "VIEWS",
          "VIEWS",
          "VIEWS",
          "VIEWS",
          "VIEWS",
          "VIEWS",
          "VIEWS",
          "VIEWS",
          "VIEWS",
          "VIEWS",
          "VIEWS",
          "VIEWS",
          "VIEWS",
          "VIEWS",
          "VIEWS",
          "VIEWS",
          "VIEWS",
          "VIEWS",
          "VIEWS",
          "VIEWS",
          "VIEWS",
          "VIEWS",
          "VIEWS",
          "VIEWS",
          "VIEWS",
          "VIEWS",
          "VIEWS",
          "VIEWS",
          "VIEWS",
          "VIEWS",
          "VIEWS",
          "VIEWS",
          "VIEWS",
          "VIEWS",
          "VIEWS",
          "VIEWS",
          "VIEWS",
          "VIEWS",
          "VIEWS",
          "VIEWS",
          "VIEWS",
          "VIEWS",
          "VIEWS",
          "VIEWS",
          "VIEWS",
          "VIEWS",
          "VIEWS",
          "VIEWS",
          "VIEWS",
          "VIEWS",
          "VIEWS",
          "VIEWS",
          "VIEWS",
          "VIEWS",
          "VIEWS",
          "VIEWS",
          "VIEWS",
          "VIEWS",
          "VIEWS",
          "VIEWS",
          "VIEWS",
          "VIEWS",
          "VIEWS",
          "VIEWS",
          "VIEWS",
          "VIEWS",
          "VIEWS",
          "VIEWS",
          "VIEWS",
          "VIEWS",
          "VIEWS",
          "VIEWS",
          "VIEWS",
          "VIEWS",
          "VIEWS",
          "VIEWS",
          "VIEWS",
          "VIEWS",
          "VIEWS",
          "VIEWS",
          "VIEWS",
          "VIEWS",
          "VIEWS",
          "VIEWS",
          "VIEWS",
          "VIEWS",
          "VIEWS",
          "VIEWS",
          "VIEWS",
          "VIEWS",
          "VIEWS",
          "VIEWS",
          "VIEWS",
          "VIEWS",
          "VIEWS",
          "VIEWS",
          "VIEWS",
          "VIEWS",
          "VIEWS",
          "VIEWS",
          "VIEWS",
          "VIEWS",
          "VIEWS",
          "VIEWS",
          "VIEWS",
          "VIEWS",
          "VIEWS",
          "VIEWS",
          "VIEWS",
          "VIEWS",
          "VIEWS",
          "VIEWS",
          "VIEWS",
          "VIEWS",
          "VIEWS",
          "VIEWS",
          "VIEWS",
          "VIEWS",
          "VIEWS",
          "VIEWS",
          "VIEWS",
          "VIEWS",
          "VIEWS",
          "VIEWS",
          "VIEWS",
          "VIEWS",
          "VIEWS",
          "VIEWS",
          "VIEWS",
          "VIEWS",
          "VIEWS",
          "VIEWS",
          "VIEWS",
          "VIEWS",
          "VIEWS",
          "VIEWS",
          "VIEWS",
          "VIEWS",
          "VIEWS",
          "VIEWS",
          "VIEWS",
          "VIEWS",
          "VIEWS",
          "VIEWS",
          "VIEWS",
          "VIEWS",
          "VIEWS",
          "VIEWS",
          "VIEWS",
          "VIEWS",
          "VIEWS",
          "VIEWS",
          "VIEWS",
          "VIEWS",
          "VIEWS",
          "VIEWS",
          "VIEWS",
          "VIEWS",
          "VIEWS",
          "VIEWS",
          "VIEWS",
          "VIEWS",
          "VIEWS",
          "VIEWS",
          "VIEWS",
          "VIEWS",
          "VIEWS",
          "VIEWS",
          "VIEWS",
          "VIEWS",
          "VIEWS",
          "VIEWS",
          "VIEWS",
          "VIEWS",
          "VIEWS",
          "VIEWS",
          "VIEWS",
          "VIEWS",
          "VIEWS",
          "VIEWS",
          "VIEWS",
          "VIEWS",
          "VIEWS",
          "VIEWS",
          "VIEWS",
          "VIEWS",
          "VIEWS"
         ],
         "x0": " ",
         "xaxis": "x",
         "y": [
          -0.27763868788949936,
          -0.27763868788949936,
          -0.27763868788949936,
          -0.27763868788949936,
          -0.27763868788949936,
          -0.27763868788949936,
          -0.27763868788949936,
          -0.27763868788949936,
          -0.27763868788949936,
          -0.27763868788949936,
          -0.27763868788949936,
          -0.27763868788949936,
          -0.27763868788949936,
          -0.27763868788949936,
          -0.27763868788949936,
          -0.27763868788949936,
          -0.27763868788949936,
          -0.27763868788949936,
          -0.27763868788949936,
          -0.27763868788949936,
          -0.27763868788949936,
          -0.11062672595721769,
          -0.27763868788949936,
          -0.24015078783211893,
          -0.17258277635145122,
          -0.27763868788949936,
          -0.27763868788949936,
          -0.2964050857625353,
          -0.2880993833546127,
          -0.27763868788949936,
          -0.27763868788949936,
          -0.19794884046213376,
          -0.2995253361265927,
          -0.29341952246455233,
          -0.21119306862611847,
          -0.29721320815898183,
          -0.29236447378030267,
          -0.2843281455045289,
          0.09319970070207231,
          -0.27965899388061566,
          -0.27763868788949936,
          -0.28268945286729014,
          -0.2925889522237601,
          -0.27763868788949936,
          -0.2989641400179493,
          -0.27763868788949936,
          -0.02824313720836369,
          -0.2997273667257044,
          -0.27853660166332883,
          -0.3004905934334594,
          -0.27337359746380935,
          -0.21904981414712635,
          -0.2545174082133905,
          -0.25743562797833625,
          -0.24643618424892522,
          -0.2500278393442431,
          -0.23768152495408787,
          -0.07291434745637988,
          -0.27763868788949936,
          -0.29974981457005007,
          -0.19682644824484694,
          -0.17235829790799384,
          -0.290972707430867,
          0.18590929784996524,
          -0.19345927159298643,
          -0.29519290216786553,
          -0.20625454287005637,
          -0.2902319285674577,
          -0.26529237349934415,
          -0.1997446680097927,
          -0.30004163654654464,
          -0.2961357116303865,
          -0.28574235969831036,
          -0.12476886789503186,
          -0.27561838189838306,
          -0.26372102439514256,
          -0.045303498911123646,
          -0.24194661537977788,
          -0.3000640843908904,
          -0.3001763236126191,
          -0.27763868788949936,
          -0.27763868788949936,
          -0.30132116367425166,
          -0.2873137088025119,
          -0.27808764477641407,
          0.33249372142762645,
          -0.2727001621334373,
          -0.30058038481084237,
          -0.2847995502357894,
          -0.21815190037329688,
          -0.29880700510752917,
          -0.2966295642059927,
          -0.2854729855661615,
          -0.2919828604264252,
          -0.27763868788949936,
          -0.10748402774881453,
          -0.24374244292743683,
          -0.27651629567221253,
          -0.22443729679010319,
          -0.27763868788949936,
          -0.27763868788949936,
          -0.28881771437367626,
          -0.2278044734419637,
          -0.12185064813008607,
          -0.23229404231111106,
          -0.25698667109142154,
          -0.2869994389816716,
          -0.279883472324073,
          -0.2909053638978298,
          -0.30019877145696483,
          -0.27763868788949936,
          -0.2874708437129321,
          -0.28942380617101116,
          -0.27921003699370095,
          -0.093117407367543,
          -0.28668516916083125,
          -0.2801079507675304,
          -0.28740350017989486,
          -0.27763868788949936,
          -0.29757237366851363,
          -0.29070333329871817,
          -0.29970491888135864,
          -0.2829812748437847,
          -0.22802895188542108,
          0.07636381744276972,
          -0.0435076713634647,
          -0.3009844460090656,
          -0.29793153917804543,
          -0.2628231106213131,
          -0.27763868788949936,
          -0.29914372277271517,
          -0.2979988827110826,
          -0.2882340704206871,
          -0.1775213021075133,
          -0.11242255350487662,
          -0.24845649024004154,
          -0.13105426431183817,
          -0.2996151275039757,
          -0.20513215065276955,
          -0.2067034997569711,
          -0.11601420860019451,
          -0.3017701205611664,
          -0.29564185905478024,
          -0.27763868788949936,
          -0.28857078808587316,
          -0.27763868788949936,
          -0.15844063441363704,
          -0.22870238721579317,
          -0.28664027347213983,
          -0.2993682012161726,
          -0.27763868788949936,
          -0.2634965459516852,
          -0.2515991884484447,
          -0.2753939034549257,
          -0.14182922959779182,
          -0.287223917425129,
          -0.2988967964849121,
          -0.2228659476859016,
          -0.2985151831310346,
          -0.26416998128205726,
          -0.27921003699370095,
          -0.12409543256465976,
          -0.08481170495962038,
          -0.2988967964849121,
          -0.2887952665293305,
          -0.29797643486673686,
          -0.26574133038625886,
          -0.29788664348935395,
          -0.2724756836899799,
          -0.29478884096964225,
          0.39489872870877474,
          -0.03003896475602263,
          -0.27921003699370095,
          -0.22511073212047528,
          -0.3017027770281292,
          -0.29934575337182684,
          -0.13038082898146605,
          -0.23162060698073894,
          -0.28935646263797393,
          -0.27292464057689464,
          -0.2787610801067862,
          -0.2053566290962269,
          -0.2271310381115916,
          -0.26888402859466204,
          -0.1196058636955124,
          -0.3006252804995338,
          -0.28978297168054296,
          -0.29671935558337564,
          -0.30010898007958187,
          -0.2886381316189104,
          -0.2824874222681785,
          -0.28866057946325613,
          -0.07246539056946515,
          -0.2875830829346607,
          -0.282105808914301,
          -0.22825343032887843,
          -0.28598928598611345,
          -0.1930103147060717,
          -0.298649870197109,
          -0.21545815905180846,
          -0.11421838105253557,
          -0.30289251277845325,
          -0.2884585488641445,
          -0.27921003699370095,
          -0.07852630854281409,
          -0.028692094095278422,
          -0.2742715112376388,
          -0.18650043984580802,
          -0.2812976865178545,
          -0.29802133055542834,
          -0.13060530742492343,
          -0.2778631663329567,
          -0.18964313805421115,
          -0.19682644824484694,
          -0.2136623315041495,
          -0.29570920258781747,
          -0.30284761708976177,
          -0.2727001621334373,
          -0.29970491888135864,
          -0.2809609688526684,
          -0.23857943872791734,
          -0.27965899388061566,
          -0.3002436671456563,
          -0.19211240093224222,
          -0.2833404403533165,
          -0.18021504342900171,
          -0.30179256840551216,
          -0.30221907744808113,
          -0.2118665039564906,
          -0.2572111495348789,
          -0.27763868788949936,
          -0.28102831238570564,
          -0.2948561845026795,
          -0.2655168519428015,
          -0.24217109382323523,
          -0.2563132357610494,
          -0.2853607463444328,
          -0.2942051970166531,
          -0.27337359746380935,
          -0.2893789104823197,
          -0.21994772792095582,
          -0.28897484928409645,
          -0.2864606907173739,
          -0.1732562116818233,
          -0.1391354882763034,
          -0.29667445989468416,
          -0.2049076722093122,
          -0.27763868788949936,
          -0.27337359746380935,
          -0.2556398004306773,
          -0.051139938441015206,
          -0.2881442790433042,
          -0.2955296198330516,
          -0.2524971022222742,
          -0.2987621094188377,
          -0.27763868788949936,
          -0.24284452915360735,
          -0.25698667109142154,
          -0.29606836809734927,
          -0.24890544712695628,
          -0.28836875748676155,
          -0.23408986985877,
          -0.29752747797982215,
          -0.3008048632542997,
          -0.2639455028385999,
          -0.26574133038625886,
          -0.2908155725204469,
          -0.14362505714545076,
          -0.2648434166124294,
          -0.30161298565074623,
          -0.30197215116027804,
          -0.2840812192167258,
          -0.2527215806657315,
          -0.29974981457005007,
          -0.26170071840402626,
          -0.29873966157449194,
          -0.27561838189838306,
          -0.2911298423412872,
          -0.21074411173920374,
          -0.27921003699370095,
          -0.17370516856873805,
          -0.2989192443292578,
          -0.2937113444410469,
          -0.2242128183466458,
          -0.1355438331809855,
          -0.25900697708253784,
          -0.27763868788949936,
          -0.27651629567221253,
          -0.28996255443530883,
          -0.29063598976568095,
          -0.20849932730463006,
          -0.29110739449694145,
          -0.27359807590726676,
          -0.2682105932642899,
          -0.28942380617101116,
          -0.260353847743282,
          -0.2897380759918515,
          -0.25137471000498735,
          -0.2587824986390805,
          -0.30172522487247494,
          0.0395493527157614,
          -0.27763868788949936,
          -0.29631529438515236,
          -0.2208456416947853,
          -0.28892995359540496,
          -0.2963377422294981,
          -0.27763868788949936,
          0.3053318297692849,
          -0.29817846546584853,
          -0.18335774163740487,
          -0.27404703279418147,
          -0.2933521789315151,
          -0.22151907702515738,
          -0.26012936929982466,
          -0.30058038481084237,
          -0.26978194236849146,
          -0.2718022483596078,
          -0.26170071840402626,
          -0.29793153917804543,
          0.14752348401875534,
          -0.2894911497040484,
          -0.28578725538700184,
          -0.22645760278121949,
          -0.20513215065276955,
          -0.2881442790433042,
          -0.3008497589429912,
          -0.29144411216212746,
          -0.2787610801067862,
          0.23102946498489615,
          -0.23498778363259948,
          -0.29948044043790123,
          -0.266414765716631,
          -0.277414209446042,
          -0.1970509266883043,
          -0.30228642098111835,
          -0.23162060698073894,
          -0.29656222067295546,
          -0.2619251968474836,
          -0.3006252804995338,
          -0.30075996756560824,
          -0.27763868788949936,
          -0.27763868788949936,
          0.08107786475537446,
          -0.2992110663057524,
          -0.28666272131648557,
          -0.296090815941695,
          -0.2453137920316384,
          -0.2751694250114683,
          0.29882195490902125,
          -0.25115023156152994,
          -0.11713660081748135,
          -0.20019362489670744,
          -0.29746013444678493,
          -0.21949877103404108,
          -0.29272363928983447,
          -0.15911406974400913,
          -0.24217109382323523,
          -0.2862586601182623,
          -0.27763868788949936,
          -0.29018703287876624,
          -0.25768255426613934,
          0.18950095294528313,
          -0.29256650437941434,
          -0.22398833990318845,
          -0.27808764477641407,
          -0.28392408430630567,
          -0.10793298463572927,
          -0.15888959130055177,
          -0.29332973108716937,
          -0.29716831247029035,
          -0.20737693508734323,
          -0.287134126047746,
          -0.18066400031591645,
          0.905811666017744,
          -0.29721320815898183,
          -0.2623741537343983,
          0.7432892729546097,
          -0.2661902872731736,
          -0.28690964760428866,
          -0.26506789505588674,
          -0.2946990495922593,
          -0.27696525255912724,
          -0.06842477858723253,
          -0.2758428603418404,
          -0.218825335703669,
          -0.29281343066721743,
          -0.08481170495962038,
          -0.292678743601143,
          -0.2818139869378064,
          -0.28239763089079556,
          -0.26574133038625886,
          -0.30320678259929357,
          -0.2313961285372816,
          -0.27696525255912724,
          -0.2668637226035457,
          -0.28228539166906685,
          -0.29833560037626866,
          -0.27898555855024354,
          -0.30181501624985785,
          -0.18066400031591645,
          -0.21119306862611847,
          -0.27763868788949936,
          -0.2995702318152842,
          -0.27696525255912724,
          -0.3005354891221509,
          -0.29746013444678493,
          -0.2980662262441198,
          -0.2046831937658548,
          -0.27696525255912724,
          -0.2975948215128594,
          -0.3012313722968687,
          -0.30185991193854933,
          -0.29555206767739733,
          -0.2933521789315151,
          -0.28648313856171964,
          -0.2118665039564906,
          -0.21545815905180846,
          -0.16382811705661388,
          -0.29595612887562056,
          -0.273149119020352,
          -0.14497192780619497,
          -0.289266671260591,
          -0.2668637226035457,
          -0.27449598968109623,
          -0.27763868788949936,
          -0.301208924452523,
          -0.2913318729403988,
          -0.2972581038476733,
          -0.30197215116027804,
          0.7726959490475248,
          -0.27763868788949936,
          -0.28203846538126376,
          -0.2542929297699331,
          -0.28417101059410876,
          -0.28704433467036305,
          -0.2682105932642899,
          -0.26012936929982466,
          -0.21456024527797898,
          -0.1831332631939475,
          -0.28055690765444513,
          -0.2747204681245536,
          -0.24778305490966943,
          -0.18156191408974592,
          -0.2851138200566297,
          -0.29918861846140665,
          -0.2722512052465225,
          -0.2849342373018638,
          -0.29519290216786553,
          -0.2967642512720671,
          -0.2738225543507241,
          -0.2849342373018638,
          -0.28275679640032736,
          -0.2972581038476733,
          -0.27763868788949936,
          0.5423810660602654,
          -0.2691085070381194,
          -0.07403673967366672,
          -0.20647902131351376,
          -0.29923351415009813,
          -0.26259863217785573,
          -0.14070683738050496,
          -0.2722512052465225,
          -0.04889515400644153,
          -0.29418274917230736,
          -0.2877177700007352,
          -0.27965899388061566,
          -0.27763868788949936,
          -0.29234202593595693,
          -0.28374450155153974,
          -0.2836996058628483,
          -0.28729126095816615,
          -0.1752765176729396,
          -0.2704553776988636,
          -0.296517324984264,
          -0.2904788548552608,
          -0.2973927909137477,
          -0.27359807590726676,
          -0.26461893816897203,
          -0.19233687937569957,
          -0.2912869772517073,
          -0.2767407741156699,
          -0.28374450155153974,
          -0.29862742235276324,
          -0.29059109407698946,
          -0.10187206666238034,
          -0.33495430349138255,
          -0.33495430349138255,
          -0.33495430349138255,
          -0.33495430349138255,
          -0.33495430349138255,
          -0.33495430349138255,
          -0.33495430349138255,
          -0.33495430349138255,
          -0.33495430349138255,
          -0.33495430349138255,
          -0.33495430349138255,
          -0.33495430349138255,
          -0.33495430349138255,
          -0.33495430349138255,
          -0.33495430349138255,
          -0.33495430349138255,
          -0.33495430349138255,
          -0.33495430349138255,
          -0.33495430349138255,
          -0.33495430349138255,
          -0.33495430349138255,
          1.415729399657615,
          -0.33495430349138255,
          1.356312213352347,
          1.3181155204517314,
          -0.33495430349138255,
          -0.33495430349138255,
          1.1950371510182263,
          1.1525963339721899,
          -0.33495430349138255,
          -0.33495430349138255,
          1.0762028632893246,
          1.0677146998801172,
          1.0634706181755136,
          1.05922653647091,
          1.0210298011294774,
          0.9319040853328011,
          0.9234159219235938,
          0.9191718402189902,
          0.9191718402189902,
          -0.33495430349138255,
          0.8342902061269176,
          0.830046124422314,
          -0.33495430349138255,
          0.8088257158992959,
          -0.33495430349138255,
          0.7791171439670704,
          0.7748730622624668,
          0.7154559183980159,
          0.702723673284205,
          0.6772591830565833,
          0.6517946928289615,
          0.6390624477151506,
          0.634818366010547,
          0.6093538757829252,
          0.6093538757829252,
          0.6051097940783216,
          0.5669130587368889,
          -0.33495430349138255,
          0.5414485685092671,
          0.5287163233954563,
          0.5287163233954563,
          0.5244722416908526,
          0.5202281599862489,
          0.473543261235609,
          0.4692991795310054,
          0.4523228527125909,
          0.43959060759878,
          0.43959060759878,
          0.4268583624849691,
          0.41837019907576184,
          0.41837019907576184,
          0.40563795396195096,
          0.4013938722573473,
          0.3971497905527437,
          0.3929057088481401,
          0.38017346373432914,
          0.37592938202972553,
          0.36744121862051826,
          0.36744121862051826,
          -0.33495430349138255,
          -0.33495430349138255,
          0.3419767283928965,
          0.3419767283928965,
          0.33348856498368923,
          0.3292444832790856,
          0.32075631986987835,
          0.3165122381652747,
          0.3037799930514638,
          0.2952918296422566,
          0.2952918296422566,
          0.2910477479376529,
          0.2868036662330493,
          0.28255958452844565,
          -0.33495430349138255,
          0.2528510125962203,
          0.24860693089161662,
          0.24860693089161662,
          0.24860693089161662,
          -0.33495430349138255,
          -0.33495430349138255,
          0.24011876748240937,
          0.24011876748240937,
          0.23587468577780574,
          0.2316306040732021,
          0.2316306040732021,
          0.2316306040732021,
          0.22738652236859846,
          0.22314244066399486,
          0.22314244066399486,
          -0.33495430349138255,
          0.21889835895939122,
          0.21041019555018395,
          0.2061661138455803,
          0.2019220321409767,
          0.19767795043637307,
          0.19767795043637307,
          0.18070162361795855,
          -0.33495430349138255,
          0.17221346020875128,
          0.16372529679954403,
          0.1467489699811295,
          0.1340167248673186,
          0.1340167248673186,
          0.12977264316271497,
          0.12128447975350772,
          0.12128447975350772,
          0.11704039804890409,
          0.10006407123048956,
          -0.33495430349138255,
          0.07884366270747141,
          0.07035549929826415,
          0.07035549929826415,
          0.06611141759366053,
          0.06186733588905689,
          0.057623254184453264,
          0.057623254184453264,
          0.053379172479849635,
          0.044891009070642376,
          0.044891009070642376,
          0.03640284566143511,
          0.03215876395683148,
          0.027914682252227853,
          -0.33495430349138255,
          0.027914682252227853,
          -0.33495430349138255,
          0.010938355433813333,
          0.006694273729209702,
          0.006694273729209702,
          0.0024501920246060714,
          -0.33495430349138255,
          -0.006037971384601189,
          -0.014526134793808449,
          -0.014526134793808449,
          -0.018770216498412078,
          -0.018770216498412078,
          -0.02301429820301571,
          -0.03150246161222297,
          -0.0357465433168266,
          -0.0357465433168266,
          -0.044234706726033864,
          -0.044234706726033864,
          -0.04847878843063749,
          -0.05272287013524112,
          -0.05696695183984475,
          -0.05696695183984475,
          -0.06121103354444838,
          -0.06121103354444838,
          -0.06969919695365565,
          -0.06969919695365565,
          -0.07394327865825927,
          -0.07394327865825927,
          -0.07818740280367995,
          -0.07818740280367995,
          -0.07818740280367995,
          -0.0994078113266981,
          -0.0994078113266981,
          -0.10365185059048468,
          -0.10365185059048468,
          -0.10789593229508831,
          -0.10789593229508831,
          -0.11214001399969195,
          -0.11214001399969195,
          -0.13760450422731374,
          -0.13760450422731374,
          -0.13760450422731374,
          -0.14184858593191735,
          -0.14184858593191735,
          -0.14609266763652098,
          -0.14609266763652098,
          -0.15033674934112462,
          -0.15033674934112462,
          -0.15033674934112462,
          -0.15033674934112462,
          -0.15033674934112462,
          -0.15458083104572826,
          -0.15458083104572826,
          -0.15458083104572826,
          -0.15882491275033186,
          -0.15882491275033186,
          -0.1630689944549355,
          -0.1630689944549355,
          -0.1630689944549355,
          -0.16731307615953914,
          -0.16731307615953914,
          -0.17155715786414277,
          -0.1885334846825573,
          -0.1885334846825573,
          -0.1885334846825573,
          -0.1885334846825573,
          -0.1885334846825573,
          -0.19277756638716093,
          -0.19702164809176456,
          -0.19702164809176456,
          -0.20126572979636817,
          -0.20126572979636817,
          -0.20126572979636817,
          -0.20126572979636817,
          -0.20126572979636817,
          -0.2055098115009718,
          -0.2055098115009718,
          -0.20975389320557544,
          -0.20975389320557544,
          -0.21399797491017908,
          -0.21399797491017908,
          -0.21824205661478271,
          -0.21824205661478271,
          -0.22248613831938632,
          -0.22673022002398996,
          -0.22673022002398996,
          -0.33495430349138255,
          -0.24370654684240448,
          -0.2479506285470081,
          -0.2521947102516117,
          -0.2564387919562154,
          -0.2564387919562154,
          -0.2564387919562154,
          -0.2564387919562154,
          -0.26917103707002626,
          -0.26917103707002626,
          -0.2734151187746299,
          -0.28190328218383714,
          -0.2861473638884408,
          -0.2861473638884408,
          -0.2861473638884408,
          -0.2861473638884408,
          -0.2903914455930444,
          -0.33495430349138255,
          -0.2988796090022517,
          -0.3031236907068553,
          -0.30736777241145896,
          -0.31161185411606257,
          -0.31161185411606257,
          -0.3158559358206662,
          -0.32010001752526984,
          -0.33495430349138255,
          -0.3285881809344771,
          -0.3285881809344771,
          -0.3328322626390807,
          -0.33707634434368433,
          -0.33707634434368433,
          -0.341320426048288,
          -0.341320426048288,
          -0.341320426048288,
          -0.341320426048288,
          -0.3455645077528916,
          -0.3455645077528916,
          -0.34980858945749527,
          -0.3540526711620989,
          -0.3540526711620989,
          -0.3582967528667025,
          -0.36254083457130615,
          -0.36254083457130615,
          -0.36254083457130615,
          -0.36254083457130615,
          -0.36678491627590976,
          -0.36678491627590976,
          -0.37102899798051336,
          -0.37102899798051336,
          -0.37102899798051336,
          -0.37102899798051336,
          -0.37102899798051336,
          -0.37527307968511703,
          -0.37527307968511703,
          -0.37527307968511703,
          -0.37527307968511703,
          -0.33495430349138255,
          -0.37951716138972064,
          -0.37951716138972064,
          -0.3837612430943243,
          -0.3837612430943243,
          -0.3880053247989279,
          -0.3880053247989279,
          -0.3880053247989279,
          -0.3880053247989279,
          -0.3922494065035315,
          -0.3964934882081352,
          -0.3964934882081352,
          -0.4007375699127388,
          -0.4007375699127388,
          -0.40498165161734245,
          -0.33495430349138255,
          -0.40498165161734245,
          -0.40498165161734245,
          -0.40498165161734245,
          -0.40922573332194606,
          -0.33495430349138255,
          -0.41346981502654967,
          -0.41346981502654967,
          -0.41771389673115333,
          -0.41771389673115333,
          -0.41771389673115333,
          -0.4262020601403606,
          -0.4262020601403606,
          -0.4304461418449642,
          -0.4304461418449642,
          -0.4304461418449642,
          -0.4346902235495678,
          -0.4346902235495678,
          -0.4389343052541715,
          -0.4389343052541715,
          -0.4389343052541715,
          -0.4431783869587751,
          -0.4431783869587751,
          -0.4431783869587751,
          -0.44742246866337876,
          -0.44742246866337876,
          -0.44742246866337876,
          -0.44742246866337876,
          -0.44742246866337876,
          -0.45166655036798237,
          -0.45166655036798237,
          -0.45166655036798237,
          -0.45166655036798237,
          -0.45166655036798237,
          -0.455910632072586,
          -0.455910632072586,
          -0.455910632072586,
          -0.455910632072586,
          -0.455910632072586,
          -0.33495430349138255,
          -0.33495430349138255,
          -0.4686428771863969,
          -0.4686428771863969,
          -0.4686428771863969,
          -0.4686428771863969,
          -0.4686428771863969,
          -0.4686428771863969,
          -0.4686428771863969,
          -0.4686428771863969,
          -0.4728869588910005,
          -0.4728869588910005,
          -0.4728869588910005,
          -0.47713104059560413,
          -0.47713104059560413,
          -0.47713104059560413,
          -0.47713104059560413,
          -0.47713104059560413,
          -0.33495430349138255,
          -0.4813751223002078,
          -0.4813751223002078,
          -0.4856192040048114,
          -0.4856192040048114,
          -0.4856192040048114,
          -0.4856192040048114,
          -0.4856192040048114,
          -0.48986328570941506,
          -0.48986328570941506,
          -0.48986328570941506,
          -0.48986328570941506,
          -0.48986328570941506,
          -0.49410736741401867,
          -0.49410736741401867,
          -0.4983514491186223,
          -0.4983514491186223,
          -0.5025955308232259,
          -0.5025955308232259,
          -0.5025955308232259,
          -0.5025955308232259,
          -0.5025955308232259,
          -0.5068396125278296,
          -0.5110836942324332,
          -0.5110836942324332,
          -0.5153277759370368,
          -0.5153277759370368,
          -0.5153277759370368,
          -0.5195718576416405,
          -0.5195718576416405,
          -0.5195718576416405,
          -0.5195718576416405,
          -0.5195718576416405,
          -0.5195718576416405,
          -0.523815939346244,
          -0.523815939346244,
          -0.523815939346244,
          -0.5280600210508477,
          -0.5280600210508477,
          -0.5280600210508477,
          -0.5323041027554514,
          -0.5323041027554514,
          -0.5323041027554514,
          -0.33495430349138255,
          -0.5365481844600549,
          -0.5407922661646586,
          -0.5407922661646586,
          -0.5407922661646586,
          -0.5407922661646586,
          -0.5450363478692622,
          -0.5450363478692622,
          -0.5450363478692622,
          -0.5492804295738659,
          -0.5492804295738659,
          -0.5492804295738659,
          -0.5535245112784695,
          -0.5535245112784695,
          -0.5535245112784695,
          -0.5577685929830731,
          -0.5577685929830731,
          -0.5620126746876768,
          -0.5620126746876768,
          -0.5620126746876768,
          -0.5620126746876768,
          -0.5662567563922803,
          -0.5662567563922803,
          -0.33495430349138255,
          -0.5662567563922803,
          -0.5662567563922803,
          -0.570500838096884,
          -0.5747449198014877,
          -0.5747449198014877,
          -0.33495430349138255,
          -0.5747449198014877,
          -0.5747449198014877,
          -0.5789890015060912,
          -0.5789890015060912,
          -0.5789890015060912,
          -0.5832330832106949,
          -0.5832330832106949,
          -0.5832330832106949,
          -0.5832330832106949,
          -0.5832330832106949,
          -0.5832330832106949,
          -0.5874771649152986,
          -0.5874771649152986,
          -0.5874771649152986,
          -0.5917212466199022,
          -0.5917212466199022,
          -0.5917212466199022,
          -0.5917212466199022,
          -0.5917212466199022,
          -0.5959653283245058,
          -0.5959653283245058,
          -0.5959653283245058,
          -0.33495430349138255,
          -0.6002094100291094,
          -0.6044534917337131,
          -0.6044534917337131,
          -0.6044534917337131,
          -0.6044534917337131,
          -0.6044534917337131,
          -0.6044534917337131,
          -0.6044534917337131,
          -0.6044534917337131,
          -0.6044534917337131,
          -0.6044534917337131,
          -0.6086975734383167,
          -0.33495430349138255,
          -0.6086975734383167,
          -0.6086975734383167,
          -0.6086975734383167,
          -0.6086975734383167,
          -0.6086975734383167,
          -0.6086975734383167,
          -0.6086975734383167,
          -0.6129416551429203,
          -0.6129416551429203,
          -0.6129416551429203,
          -0.6129416551429203,
          -0.617185736847524,
          -0.617185736847524,
          -0.617185736847524,
          -0.617185736847524,
          -0.617185736847524,
          -0.6214298185521275,
          -0.6214298185521275,
          -0.2536318647959285,
          -0.2536318647959285,
          -0.2536318647959285,
          -0.2536318647959285,
          -0.2536318647959285,
          -0.2536318647959285,
          -0.2536318647959285,
          -0.2536318647959285,
          -0.2536318647959285,
          -0.2536318647959285,
          -0.2536318647959285,
          -0.2536318647959285,
          -0.2536318647959285,
          -0.2536318647959285,
          -0.2536318647959285,
          -0.2536318647959285,
          -0.2536318647959285,
          -0.2536318647959285,
          -0.2536318647959285,
          -0.2536318647959285,
          -0.2536318647959285,
          0.5012419189152508,
          -0.2536318647959285,
          0.9347337947097895,
          0.9607722388620754,
          -0.2536318647959285,
          -0.2536318647959285,
          -0.46410928836024,
          0.830097824690418,
          -0.2536318647959285,
          -0.2536318647959285,
          0.628058785805088,
          0.5219762355550341,
          -0.07160385243504044,
          1.0707123363939495,
          0.7973086727949469,
          -0.15261234535326346,
          0.7495715251824225,
          0.3445290605913075,
          -0.35224041718745586,
          -0.2536318647959285,
          0.47231031430159975,
          0.6526506496784721,
          -0.2536318647959285,
          0.3522441551549478,
          -0.2536318647959285,
          0.2722000490571798,
          -0.6068385377875853,
          0.2562876665196717,
          -0.15357673217371848,
          -0.22879890416921128,
          0.5788750579618812,
          -0.167078147660089,
          -0.018080383899785953,
          0.9790955884507211,
          -0.13139583530325266,
          -0.6000878300444,
          -0.7838035193410844,
          -0.2536318647959285,
          0.7765743561551636,
          0.4578445119947742,
          0.1878162022673642,
          -0.40045975821020763,
          0.04074721214797123,
          -0.059549017179352494,
          0.5518722269891402,
          -0.5398136537659604,
          -0.23072767781012135,
          -0.5205259174050789,
          0.018566315277505407,
          0.38069356635837137,
          -0.5947837025318974,
          -0.694115545038766,
          -0.3739391206476942,
          0.9737914609382183,
          0.42023342599702784,
          0.4814719890959226,
          0.3083645548242437,
          -0.5325807526125476,
          -0.6757921954501204,
          -0.2536318647959285,
          -0.2536318647959285,
          0.26207398744240196,
          0.07450075086389749,
          0.29486313933787317,
          0.6675986454437445,
          -0.4419283914897742,
          -0.5576548099443784,
          0.4197512325868003,
          0.0016895459195422824,
          -0.7302800508058299,
          -0.1111437120736969,
          1.5374755574941867,
          -0.7085813473455916,
          -0.2536318647959285,
          0.03158553735364839,
          1.0417807317802985,
          0.29148778546628057,
          -0.5480109417398281,
          -0.2536318647959285,
          -0.2536318647959285,
          0.5668202227061933,
          0.4443430965084037,
          0.12754202598892445,
          0.9824709423223137,
          0.3657455706413183,
          -0.7654801697524387,
          -0.3445253226238156,
          -0.07546139971686058,
          -0.37779666792951433,
          -0.2536318647959285,
          -0.5523506824318758,
          0.4197512325868003,
          -0.10053545704869152,
          -0.14200409032825806,
          0.5890011195766591,
          -0.5740493858921141,
          -0.6304660148887337,
          -0.2536318647959285,
          -0.28473333975560333,
          0.2635205676730845,
          -0.22011942278511595,
          -0.32813074667607994,
          -0.46266270812955745,
          0.20469297162532732,
          1.1671510184394531,
          0.10246796865709352,
          -0.09523132953618882,
          0.5354776510414047,
          -0.2536318647959285,
          0.25050134559694154,
          0.29196997887650805,
          -0.11982319345779223,
          0.12416667211733183,
          0.22735606190602067,
          0.4718281208913722,
          0.008922447072955052,
          0.23989309057193614,
          -0.11307248576282632,
          -0.16032743991690374,
          0.13670370078324728,
          0.6507218760857814,
          0.13525712055256475,
          -0.2536318647959285,
          -0.289073080447651,
          -0.2536318647959285,
          0.3368139660276672,
          0.9038734164552283,
          -0.2500154142192221,
          0.411071751202705,
          -0.2536318647959285,
          -0.221083809605571,
          0.6304697528562256,
          0.028692376892283284,
          -0.038332507129341706,
          -0.2403715460146717,
          -0.23651399873285156,
          0.29679191297878327,
          0.24567941149466635,
          -0.09957107022823648,
          0.07450075086389749,
          -0.15020137830212585,
          -0.0571380501282149,
          -0.39997756479998015,
          -0.28184017929423827,
          -0.3464540962647257,
          -0.37538570087837675,
          -0.6188933730432733,
          -0.11644783963441895,
          -0.7293156639853748,
          0.18636962203668164,
          -0.2625524428851375,
          -0.011811869566828219,
          -0.37104596018632907,
          -0.7466746267535656,
          0.16322433834576078,
          -0.303056689344249,
          0.21674780688101528,
          0.012779994354775195,
          0.40962517097202245,
          0.40721420392088487,
          0.5084748200686636,
          -0.48146825112843067,
          0.2625561808526295,
          -0.5750137727125691,
          -0.7616226224706185,
          -0.08172991404981832,
          -0.15020137830212585,
          -0.00940090251569063,
          -0.1299492550725701,
          0.3623702167697257,
          0.03881843850706116,
          -0.061477790820262564,
          -0.29775256183174637,
          -0.6632551667842049,
          0.4843651495572877,
          -0.07546139971686058,
          -0.44144619807954666,
          0.4284307139708956,
          -0.6622907799637499,
          0.2958275261583282,
          -0.1593630530964487,
          -0.5036491479988965,
          -0.08848062179300356,
          -0.3069142366260692,
          0.08800216635026799,
          -0.05135172920548469,
          -0.1029464240998291,
          -0.2451934801169469,
          -0.24760444716808447,
          -0.6227509203250934,
          -0.5359561064841402,
          -0.06340656446117264,
          -0.4293913628238587,
          0.9202679924029639,
          -0.09137378225436868,
          -0.13862873645666543,
          -0.48050386430797565,
          -0.6820607097830781,
          0.003136126150224836,
          -0.21481529527261325,
          0.9578790784007103,
          -0.25049760762944956,
          0.3898552411526942,
          -0.3131827509590269,
          0.24278625103330123,
          -0.048940762154347096,
          0.20469297162532732,
          -0.20565362047829042,
          -0.25049760762944956,
          -0.2536318647959285,
          0.358030476077678,
          0.17527917360144873,
          0.3136686823367464,
          0.40721420392088487,
          0.17431478678099369,
          -0.06678191833276526,
          -0.7124388946274117,
          -0.33536364782949274,
          -0.6825429031933057,
          0.04460475942979138,
          -0.7944117743660898,
          -0.23024548439989384,
          -0.423122848490901,
          -0.5017203743579864,
          -0.8083953832626878,
          -0.49159431274320853,
          -0.2536318647959285,
          -0.45976954766819234,
          -0.6815785163728506,
          -0.12753828802143252,
          -0.3040210761647041,
          -0.5952658959421249,
          -0.3040210761647041,
          -0.5783891265841618,
          -0.2536318647959285,
          -0.29244843431924367,
          -0.39563782410793247,
          -0.7539075279069782,
          -0.1304314484827976,
          -0.3083608168567517,
          0.4491650306106789,
          -0.00698993546455304,
          -0.12512732101851426,
          -0.5287232053307274,
          -0.005543355233870486,
          -0.04508321487252696,
          0.10343235547754856,
          -0.29823475524197385,
          -0.3686349931351915,
          -0.08221210746004583,
          0.028210183482055767,
          0.006511480021817461,
          -0.07401481948617802,
          -0.3908158900056573,
          0.03930063191728868,
          -0.2914840474987886,
          -0.2591770890135449,
          -0.4337311035159064,
          -0.5282410119204999,
          -0.5967124761728074,
          -0.6719346481683003,
          0.007475866842272497,
          -0.45735858061705476,
          -0.515221789844357,
          -0.652164718348972,
          -0.2536318647959285,
          -0.2644812165260476,
          -0.4940052797943461,
          -0.5586191967648335,
          -0.5832110606864369,
          -0.033510573027066524,
          -0.1723822751725917,
          -0.4718243829238803,
          -0.6593976195023847,
          -0.13911092986689294,
          -0.4038351120818003,
          -0.49255869956366355,
          -0.6174467928125907,
          -0.7669267499831213,
          -0.2582127021930899,
          -0.2536318647959285,
          -0.3401855819317679,
          -0.36815279972496395,
          -0.37152815359655655,
          0.45350477130272654,
          -0.2536318647959285,
          -0.09908887681800896,
          -0.4346954903363614,
          0.3233125505412967,
          -0.019526964130468505,
          -0.7577650751887984,
          -0.28666211339651343,
          -0.3744213140579217,
          0.07450075086389749,
          -0.20565362047829042,
          -0.7910364204944972,
          -0.17623982245441183,
          -0.558137003354606,
          0.30450700754242355,
          -0.34597190285449814,
          -0.5229368844079972,
          0.2929343656969631,
          -0.7577650751887984,
          -0.7866966798024495,
          0.1497229228593903,
          0.007475866842272497,
          -0.15839866627599367,
          -0.22060161619534346,
          -0.3136649443692544,
          0.27702198315945503,
          -0.00457896841341545,
          -0.13669996281575536,
          -0.7804281654694918,
          -0.8731365992934753,
          0.17961891429349638,
          -0.4766463170261555,
          -0.4940052797943461,
          -0.5504219087909658,
          -0.7924830007251797,
          -0.2536318647959285,
          -0.2536318647959285,
          0.39612375548565193,
          -0.07883675358845321,
          -0.29051966067833357,
          -0.3749035074681492,
          -0.45639419379659973,
          -0.6213043400944108,
          -0.6425208501444216,
          -0.6854360636546707,
          0.15984898447416815,
          -0.43807084420795406,
          -0.5832110606864369,
          0.2418218642128462,
          -0.11210809894237128,
          -0.3377746148806303,
          -0.4120324000556681,
          -0.7109923143967292,
          -0.2536318647959285,
          -0.7003840593717238,
          -0.7828391325206293,
          -0.06437095128162768,
          -0.14489725078962315,
          -0.1786507895055494,
          -0.2697853440385503,
          -0.4356598771568165,
          0.16997504608894604,
          -0.1839549170180521,
          -0.18491930383850716,
          -0.27605385837150803,
          -0.357062351289731,
          -0.6217865335046384,
          -0.73413759808765,
          -0.07642578653731562,
          -0.2133687150419307,
          0.2905233986458255,
          -0.2027604600169253,
          -0.42987355623408624,
          -0.4718243829238803,
          -0.6053919575569028,
          -0.7987515150581375,
          -0.43180232987499634,
          -0.6217865335046384,
          -0.03399276643729404,
          -0.4303557496443138,
          -0.5243834646868991,
          -0.07208604584526795,
          -0.09426694271573378,
          -0.40865704618407545,
          -0.6357701424012364,
          -0.6376989160421465,
          -0.9115847060264927,
          0.08751997294004046,
          -0.25676612196240733,
          -0.6208221466841833,
          0.07739391132526259,
          -0.18733027088964474,
          -0.35465138423859344,
          -0.4949696666148012,
          -0.5663342913284738,
          -0.6087673114284954,
          -0.2536318647959285,
          -0.39033369659542977,
          -0.24471128670671938,
          -0.3271663598556249,
          -0.5229368844079972,
          -0.7775350050081267,
          -0.09378474930550626,
          -0.23072767781012135,
          -0.4612161278988749,
          -0.4660380620011501,
          -0.6053919575569028,
          -0.7167786353194594,
          -0.3609198985715512,
          -0.48387921817956825,
          -0.5817644804557544,
          0.09089532681163309,
          -0.6483071710671519,
          -0.32282661916357724,
          -0.4578407740272823,
          -0.7095457341660466,
          -0.7736774577263065,
          0.22108754757306293,
          -0.20324265342715284,
          -0.2536318647959285,
          -0.3498294501363183,
          -0.7134032814478668,
          -0.3025744959340215,
          0.01808412186727789,
          0.01374438117523023,
          -0.2536318647959285,
          -0.37152815359655655,
          -0.47037780269319773,
          -0.12271635391915733,
          -0.3146293311897095,
          -0.6005700234546276,
          -0.48677237864093337,
          -0.49786282707616625,
          -0.6160002125819082,
          -0.6637373601944324,
          -0.6767565822705754,
          -0.6868826438853533,
          -0.03977908736002426,
          -0.1834727236078246,
          -0.8880132303858147,
          -0.5036491479988965,
          -0.5619945506364261,
          -0.612142665300088,
          -0.8069488030320052,
          -0.8180392514672382,
          -0.3392211951113129,
          -0.4342132969261339,
          -0.7244937298830997,
          -0.2536318647959285,
          -0.12416293419805924,
          -0.21192213481124816,
          -0.36815279972496395,
          -0.3806898283908794,
          -0.3859939559033821,
          -0.4236050419011285,
          -0.4525366465147796,
          -0.4554298069761447,
          -0.5971946695830349,
          -0.6994196725512688,
          -0.7153320550887768,
          -0.32764855326585246,
          -0.2536318647959285,
          -0.6704880679376177,
          -0.6883292241160358,
          -0.7399239190103802,
          -0.7703021038547139,
          -0.7799459720592643,
          -0.7842857127513119,
          -0.8194858316979207,
          -0.14971918489189834,
          -0.21819064914420588,
          -0.5455999746886906,
          -0.7124388946274117,
          0.16274214493553327,
          -0.4665202554113776,
          -0.5123286294312112,
          -0.692186771397856,
          -0.8194858316979207,
          -0.5436712010477804,
          -0.6217865335046384
         ],
         "y0": " ",
         "yaxis": "y"
        }
       ],
       "layout": {
        "boxmode": "group",
        "legend": {
         "tracegroupgap": 0
        },
        "margin": {
         "t": 60
        },
        "template": {
         "data": {
          "bar": [
           {
            "error_x": {
             "color": "#2a3f5f"
            },
            "error_y": {
             "color": "#2a3f5f"
            },
            "marker": {
             "line": {
              "color": "#E5ECF6",
              "width": 0.5
             },
             "pattern": {
              "fillmode": "overlay",
              "size": 10,
              "solidity": 0.2
             }
            },
            "type": "bar"
           }
          ],
          "barpolar": [
           {
            "marker": {
             "line": {
              "color": "#E5ECF6",
              "width": 0.5
             },
             "pattern": {
              "fillmode": "overlay",
              "size": 10,
              "solidity": 0.2
             }
            },
            "type": "barpolar"
           }
          ],
          "carpet": [
           {
            "aaxis": {
             "endlinecolor": "#2a3f5f",
             "gridcolor": "white",
             "linecolor": "white",
             "minorgridcolor": "white",
             "startlinecolor": "#2a3f5f"
            },
            "baxis": {
             "endlinecolor": "#2a3f5f",
             "gridcolor": "white",
             "linecolor": "white",
             "minorgridcolor": "white",
             "startlinecolor": "#2a3f5f"
            },
            "type": "carpet"
           }
          ],
          "choropleth": [
           {
            "colorbar": {
             "outlinewidth": 0,
             "ticks": ""
            },
            "type": "choropleth"
           }
          ],
          "contour": [
           {
            "colorbar": {
             "outlinewidth": 0,
             "ticks": ""
            },
            "colorscale": [
             [
              0,
              "#0d0887"
             ],
             [
              0.1111111111111111,
              "#46039f"
             ],
             [
              0.2222222222222222,
              "#7201a8"
             ],
             [
              0.3333333333333333,
              "#9c179e"
             ],
             [
              0.4444444444444444,
              "#bd3786"
             ],
             [
              0.5555555555555556,
              "#d8576b"
             ],
             [
              0.6666666666666666,
              "#ed7953"
             ],
             [
              0.7777777777777778,
              "#fb9f3a"
             ],
             [
              0.8888888888888888,
              "#fdca26"
             ],
             [
              1,
              "#f0f921"
             ]
            ],
            "type": "contour"
           }
          ],
          "contourcarpet": [
           {
            "colorbar": {
             "outlinewidth": 0,
             "ticks": ""
            },
            "type": "contourcarpet"
           }
          ],
          "heatmap": [
           {
            "colorbar": {
             "outlinewidth": 0,
             "ticks": ""
            },
            "colorscale": [
             [
              0,
              "#0d0887"
             ],
             [
              0.1111111111111111,
              "#46039f"
             ],
             [
              0.2222222222222222,
              "#7201a8"
             ],
             [
              0.3333333333333333,
              "#9c179e"
             ],
             [
              0.4444444444444444,
              "#bd3786"
             ],
             [
              0.5555555555555556,
              "#d8576b"
             ],
             [
              0.6666666666666666,
              "#ed7953"
             ],
             [
              0.7777777777777778,
              "#fb9f3a"
             ],
             [
              0.8888888888888888,
              "#fdca26"
             ],
             [
              1,
              "#f0f921"
             ]
            ],
            "type": "heatmap"
           }
          ],
          "heatmapgl": [
           {
            "colorbar": {
             "outlinewidth": 0,
             "ticks": ""
            },
            "colorscale": [
             [
              0,
              "#0d0887"
             ],
             [
              0.1111111111111111,
              "#46039f"
             ],
             [
              0.2222222222222222,
              "#7201a8"
             ],
             [
              0.3333333333333333,
              "#9c179e"
             ],
             [
              0.4444444444444444,
              "#bd3786"
             ],
             [
              0.5555555555555556,
              "#d8576b"
             ],
             [
              0.6666666666666666,
              "#ed7953"
             ],
             [
              0.7777777777777778,
              "#fb9f3a"
             ],
             [
              0.8888888888888888,
              "#fdca26"
             ],
             [
              1,
              "#f0f921"
             ]
            ],
            "type": "heatmapgl"
           }
          ],
          "histogram": [
           {
            "marker": {
             "pattern": {
              "fillmode": "overlay",
              "size": 10,
              "solidity": 0.2
             }
            },
            "type": "histogram"
           }
          ],
          "histogram2d": [
           {
            "colorbar": {
             "outlinewidth": 0,
             "ticks": ""
            },
            "colorscale": [
             [
              0,
              "#0d0887"
             ],
             [
              0.1111111111111111,
              "#46039f"
             ],
             [
              0.2222222222222222,
              "#7201a8"
             ],
             [
              0.3333333333333333,
              "#9c179e"
             ],
             [
              0.4444444444444444,
              "#bd3786"
             ],
             [
              0.5555555555555556,
              "#d8576b"
             ],
             [
              0.6666666666666666,
              "#ed7953"
             ],
             [
              0.7777777777777778,
              "#fb9f3a"
             ],
             [
              0.8888888888888888,
              "#fdca26"
             ],
             [
              1,
              "#f0f921"
             ]
            ],
            "type": "histogram2d"
           }
          ],
          "histogram2dcontour": [
           {
            "colorbar": {
             "outlinewidth": 0,
             "ticks": ""
            },
            "colorscale": [
             [
              0,
              "#0d0887"
             ],
             [
              0.1111111111111111,
              "#46039f"
             ],
             [
              0.2222222222222222,
              "#7201a8"
             ],
             [
              0.3333333333333333,
              "#9c179e"
             ],
             [
              0.4444444444444444,
              "#bd3786"
             ],
             [
              0.5555555555555556,
              "#d8576b"
             ],
             [
              0.6666666666666666,
              "#ed7953"
             ],
             [
              0.7777777777777778,
              "#fb9f3a"
             ],
             [
              0.8888888888888888,
              "#fdca26"
             ],
             [
              1,
              "#f0f921"
             ]
            ],
            "type": "histogram2dcontour"
           }
          ],
          "mesh3d": [
           {
            "colorbar": {
             "outlinewidth": 0,
             "ticks": ""
            },
            "type": "mesh3d"
           }
          ],
          "parcoords": [
           {
            "line": {
             "colorbar": {
              "outlinewidth": 0,
              "ticks": ""
             }
            },
            "type": "parcoords"
           }
          ],
          "pie": [
           {
            "automargin": true,
            "type": "pie"
           }
          ],
          "scatter": [
           {
            "fillpattern": {
             "fillmode": "overlay",
             "size": 10,
             "solidity": 0.2
            },
            "type": "scatter"
           }
          ],
          "scatter3d": [
           {
            "line": {
             "colorbar": {
              "outlinewidth": 0,
              "ticks": ""
             }
            },
            "marker": {
             "colorbar": {
              "outlinewidth": 0,
              "ticks": ""
             }
            },
            "type": "scatter3d"
           }
          ],
          "scattercarpet": [
           {
            "marker": {
             "colorbar": {
              "outlinewidth": 0,
              "ticks": ""
             }
            },
            "type": "scattercarpet"
           }
          ],
          "scattergeo": [
           {
            "marker": {
             "colorbar": {
              "outlinewidth": 0,
              "ticks": ""
             }
            },
            "type": "scattergeo"
           }
          ],
          "scattergl": [
           {
            "marker": {
             "colorbar": {
              "outlinewidth": 0,
              "ticks": ""
             }
            },
            "type": "scattergl"
           }
          ],
          "scattermapbox": [
           {
            "marker": {
             "colorbar": {
              "outlinewidth": 0,
              "ticks": ""
             }
            },
            "type": "scattermapbox"
           }
          ],
          "scatterpolar": [
           {
            "marker": {
             "colorbar": {
              "outlinewidth": 0,
              "ticks": ""
             }
            },
            "type": "scatterpolar"
           }
          ],
          "scatterpolargl": [
           {
            "marker": {
             "colorbar": {
              "outlinewidth": 0,
              "ticks": ""
             }
            },
            "type": "scatterpolargl"
           }
          ],
          "scatterternary": [
           {
            "marker": {
             "colorbar": {
              "outlinewidth": 0,
              "ticks": ""
             }
            },
            "type": "scatterternary"
           }
          ],
          "surface": [
           {
            "colorbar": {
             "outlinewidth": 0,
             "ticks": ""
            },
            "colorscale": [
             [
              0,
              "#0d0887"
             ],
             [
              0.1111111111111111,
              "#46039f"
             ],
             [
              0.2222222222222222,
              "#7201a8"
             ],
             [
              0.3333333333333333,
              "#9c179e"
             ],
             [
              0.4444444444444444,
              "#bd3786"
             ],
             [
              0.5555555555555556,
              "#d8576b"
             ],
             [
              0.6666666666666666,
              "#ed7953"
             ],
             [
              0.7777777777777778,
              "#fb9f3a"
             ],
             [
              0.8888888888888888,
              "#fdca26"
             ],
             [
              1,
              "#f0f921"
             ]
            ],
            "type": "surface"
           }
          ],
          "table": [
           {
            "cells": {
             "fill": {
              "color": "#EBF0F8"
             },
             "line": {
              "color": "white"
             }
            },
            "header": {
             "fill": {
              "color": "#C8D4E3"
             },
             "line": {
              "color": "white"
             }
            },
            "type": "table"
           }
          ]
         },
         "layout": {
          "annotationdefaults": {
           "arrowcolor": "#2a3f5f",
           "arrowhead": 0,
           "arrowwidth": 1
          },
          "autotypenumbers": "strict",
          "coloraxis": {
           "colorbar": {
            "outlinewidth": 0,
            "ticks": ""
           }
          },
          "colorscale": {
           "diverging": [
            [
             0,
             "#8e0152"
            ],
            [
             0.1,
             "#c51b7d"
            ],
            [
             0.2,
             "#de77ae"
            ],
            [
             0.3,
             "#f1b6da"
            ],
            [
             0.4,
             "#fde0ef"
            ],
            [
             0.5,
             "#f7f7f7"
            ],
            [
             0.6,
             "#e6f5d0"
            ],
            [
             0.7,
             "#b8e186"
            ],
            [
             0.8,
             "#7fbc41"
            ],
            [
             0.9,
             "#4d9221"
            ],
            [
             1,
             "#276419"
            ]
           ],
           "sequential": [
            [
             0,
             "#0d0887"
            ],
            [
             0.1111111111111111,
             "#46039f"
            ],
            [
             0.2222222222222222,
             "#7201a8"
            ],
            [
             0.3333333333333333,
             "#9c179e"
            ],
            [
             0.4444444444444444,
             "#bd3786"
            ],
            [
             0.5555555555555556,
             "#d8576b"
            ],
            [
             0.6666666666666666,
             "#ed7953"
            ],
            [
             0.7777777777777778,
             "#fb9f3a"
            ],
            [
             0.8888888888888888,
             "#fdca26"
            ],
            [
             1,
             "#f0f921"
            ]
           ],
           "sequentialminus": [
            [
             0,
             "#0d0887"
            ],
            [
             0.1111111111111111,
             "#46039f"
            ],
            [
             0.2222222222222222,
             "#7201a8"
            ],
            [
             0.3333333333333333,
             "#9c179e"
            ],
            [
             0.4444444444444444,
             "#bd3786"
            ],
            [
             0.5555555555555556,
             "#d8576b"
            ],
            [
             0.6666666666666666,
             "#ed7953"
            ],
            [
             0.7777777777777778,
             "#fb9f3a"
            ],
            [
             0.8888888888888888,
             "#fdca26"
            ],
            [
             1,
             "#f0f921"
            ]
           ]
          },
          "colorway": [
           "#636efa",
           "#EF553B",
           "#00cc96",
           "#ab63fa",
           "#FFA15A",
           "#19d3f3",
           "#FF6692",
           "#B6E880",
           "#FF97FF",
           "#FECB52"
          ],
          "font": {
           "color": "#2a3f5f"
          },
          "geo": {
           "bgcolor": "white",
           "lakecolor": "white",
           "landcolor": "#E5ECF6",
           "showlakes": true,
           "showland": true,
           "subunitcolor": "white"
          },
          "hoverlabel": {
           "align": "left"
          },
          "hovermode": "closest",
          "mapbox": {
           "style": "light"
          },
          "paper_bgcolor": "white",
          "plot_bgcolor": "#E5ECF6",
          "polar": {
           "angularaxis": {
            "gridcolor": "white",
            "linecolor": "white",
            "ticks": ""
           },
           "bgcolor": "#E5ECF6",
           "radialaxis": {
            "gridcolor": "white",
            "linecolor": "white",
            "ticks": ""
           }
          },
          "scene": {
           "xaxis": {
            "backgroundcolor": "#E5ECF6",
            "gridcolor": "white",
            "gridwidth": 2,
            "linecolor": "white",
            "showbackground": true,
            "ticks": "",
            "zerolinecolor": "white"
           },
           "yaxis": {
            "backgroundcolor": "#E5ECF6",
            "gridcolor": "white",
            "gridwidth": 2,
            "linecolor": "white",
            "showbackground": true,
            "ticks": "",
            "zerolinecolor": "white"
           },
           "zaxis": {
            "backgroundcolor": "#E5ECF6",
            "gridcolor": "white",
            "gridwidth": 2,
            "linecolor": "white",
            "showbackground": true,
            "ticks": "",
            "zerolinecolor": "white"
           }
          },
          "shapedefaults": {
           "line": {
            "color": "#2a3f5f"
           }
          },
          "ternary": {
           "aaxis": {
            "gridcolor": "white",
            "linecolor": "white",
            "ticks": ""
           },
           "baxis": {
            "gridcolor": "white",
            "linecolor": "white",
            "ticks": ""
           },
           "bgcolor": "#E5ECF6",
           "caxis": {
            "gridcolor": "white",
            "linecolor": "white",
            "ticks": ""
           }
          },
          "title": {
           "x": 0.05
          },
          "xaxis": {
           "automargin": true,
           "gridcolor": "white",
           "linecolor": "white",
           "ticks": "",
           "title": {
            "standoff": 15
           },
           "zerolinecolor": "white",
           "zerolinewidth": 2
          },
          "yaxis": {
           "automargin": true,
           "gridcolor": "white",
           "linecolor": "white",
           "ticks": "",
           "title": {
            "standoff": 15
           },
           "zerolinecolor": "white",
           "zerolinewidth": 2
          }
         }
        },
        "xaxis": {
         "anchor": "y",
         "domain": [
          0,
          1
         ],
         "title": {
          "text": "variable"
         }
        },
        "yaxis": {
         "anchor": "x",
         "domain": [
          0,
          1
         ],
         "title": {
          "text": "value"
         }
        }
       }
      }
     },
     "metadata": {},
     "output_type": "display_data"
    }
   ],
   "source": [
    "# Filtering scaled_numeric_features and X with the not outliers, then the outliers index are removed and been reindexed, filled with NaN and imputing these NaN values with median. For testing reasons a copy of numeric_features will be saved to also train models without impute data (keeping the outliers) to compare\n",
    "\n",
    "\n",
    "def replace_outliers_median(df):\n",
    "    imputer = SimpleImputer(strategy=\"median\")\n",
    "    new_numeric_features = df[not_outliers].reindex(\n",
    "        list(range(scaled_numeric_features.index.min(), scaled_numeric_features.index.max() + 1)), fill_value=np.nan\n",
    "    )\n",
    "    return pd.DataFrame(imputer.fit_transform(new_numeric_features), columns=new_numeric_features.columns)\n",
    "\n",
    "numeric_features_with_outliers = yt_df.iloc[:, :-1]\n",
    "\n",
    "scaled_numeric_features = replace_outliers_median(scaled_numeric_features)\n",
    "\n",
    "numeric_features = replace_outliers_median(numeric_features)\n",
    "\n",
    "px.box(scaled_numeric_features)"
   ]
  },
  {
   "cell_type": "markdown",
   "metadata": {},
   "source": [
    "### Explore data and visualization\n"
   ]
  },
  {
   "cell_type": "code",
   "execution_count": 1117,
   "metadata": {},
   "outputs": [
    {
     "data": {
      "application/vnd.plotly.v1+json": {
       "config": {
        "plotlyServerURL": "https://plot.ly"
       },
       "data": [
        {
         "dimensions": [
          {
           "axis": {
            "matches": true
           },
           "label": "VIDEOS",
           "values": [
            1140,
            1140,
            1140,
            1140,
            1140,
            1140,
            304,
            17660,
            915,
            1140,
            1140,
            1100,
            1330,
            2040,
            2530,
            10260,
            1140,
            5830,
            546,
            4890,
            4610,
            142,
            779,
            136,
            709,
            28320,
            8720,
            1190,
            3360,
            723,
            549,
            1140,
            702,
            1030,
            558,
            902,
            3350,
            11570,
            100,
            182,
            7670,
            161,
            4370,
            338,
            1140,
            739,
            172,
            1770,
            3580,
            210,
            9730,
            643,
            238,
            376,
            31100,
            12170,
            1070,
            173,
            7700,
            3190,
            3390,
            139,
            650,
            649,
            10280,
            697,
            3340,
            204,
            3910,
            15,
            658,
            1070,
            12230,
            232,
            7690,
            4740,
            3990,
            17,
            1360,
            157,
            133,
            4950,
            4070,
            1140,
            1680,
            1330,
            747,
            5790,
            7310,
            1140,
            1330,
            672,
            199,
            1140,
            2690,
            2060,
            662,
            1750,
            7110,
            853,
            155,
            1230,
            4120,
            5770,
            424,
            1970,
            561,
            4220,
            540,
            1560,
            2310,
            1980,
            67,
            1140,
            3670,
            1140,
            225,
            440,
            3640,
            612,
            4730,
            3190,
            1840,
            116,
            110,
            26820,
            2320,
            8290,
            6420,
            581,
            2029,
            3530,
            441,
            270,
            717,
            1820,
            46620,
            1650,
            1700,
            1170,
            464,
            9730,
            954,
            1670,
            3200,
            1620,
            933,
            1080,
            1170,
            4390,
            1170,
            251,
            342,
            4070,
            1620,
            56,
            1140,
            944,
            2180,
            849,
            1560,
            1920,
            1010,
            1270,
            2470,
            807,
            1380,
            358,
            37670,
            1520,
            11330,
            403,
            691,
            1050,
            1140,
            485,
            868,
            870,
            5700,
            1460,
            568,
            260,
            563,
            8970
           ]
          },
          {
           "axis": {
            "matches": true
           },
           "label": "SUBSCRIBERS",
           "values": [
            27250000,
            27250000,
            27250000,
            27250000,
            27250000,
            27250000,
            63300000,
            56800000,
            54800000,
            27250000,
            27250000,
            52000000,
            51100000,
            50100000,
            49500000,
            48500000,
            27250000,
            47600000,
            47500000,
            46300000,
            45200000,
            45000000,
            44700000,
            43800000,
            43200000,
            42900000,
            41100000,
            41000000,
            40800000,
            40600000,
            40400000,
            27250000,
            40300000,
            39800000,
            39000000,
            38300000,
            38300000,
            38000000,
            38000000,
            37000000,
            36500000,
            36400000,
            36200000,
            35800000,
            27250000,
            35300000,
            35200000,
            35000000,
            34400000,
            34300000,
            34000000,
            33800000,
            33700000,
            33500000,
            33400000,
            33400000,
            33299999,
            32799999,
            32799999,
            32700000,
            32500000,
            31700000,
            31700000,
            31600000,
            31600000,
            31600000,
            31500000,
            31400000,
            31400000,
            31300000,
            31300000,
            31200000,
            31100000,
            30700000,
            30700000,
            30500000,
            30400000,
            30400000,
            30400000,
            30400000,
            30200000,
            30100000,
            29800000,
            27250000,
            29200000,
            28800000,
            28400000,
            28400000,
            28400000,
            27250000,
            28100000,
            27800000,
            27600000,
            27250000,
            27400000,
            27400000,
            27200000,
            27100000,
            26900000,
            26600000,
            26600000,
            26500000,
            26400000,
            26400000,
            26300000,
            26300000,
            26100000,
            26100000,
            26000000,
            26000000,
            25800000,
            25700000,
            25700000,
            27250000,
            25600000,
            27250000,
            25400000,
            25300000,
            25100000,
            24800000,
            24500000,
            24400000,
            24400000,
            24400000,
            24400000,
            24100000,
            24100000,
            24000000,
            23900000,
            23800000,
            23800000,
            23700000,
            23600000,
            23600000,
            23500000,
            23300000,
            23300000,
            23300000,
            23300000,
            23100000,
            23000000,
            22900000,
            22900000,
            22900000,
            22800000,
            22800000,
            22700000,
            22700000,
            22400000,
            22300000,
            22300000,
            22300000,
            22200000,
            22100000,
            21800000,
            21600000,
            27250000,
            21600000,
            21600000,
            21500000,
            21500000,
            21400000,
            21400000,
            21400000,
            21400000,
            21300000,
            21200000,
            21200000,
            21000000,
            20900000,
            20900000,
            20900000,
            20900000,
            20800000,
            27250000,
            20800000,
            20800000,
            20800000,
            20800000,
            20800000,
            20700000,
            20700000,
            20500000,
            20500000
           ]
          },
          {
           "axis": {
            "matches": true
           },
           "label": "VIEWS",
           "values": [
            13645000000,
            13645000000,
            13645000000,
            13645000000,
            13645000000,
            13645000000,
            9280000000,
            26050000000,
            28700000000,
            13645000000,
            13645000000,
            24220000000,
            14160000000,
            18530000000,
            39210000000,
            2650000000,
            13645000000,
            22800000000,
            10600000000,
            17670000000,
            19290000000,
            26800000000,
            4510000000,
            4890000000,
            20450000000,
            32750000000,
            19560000000,
            24950000000,
            28120000000,
            3030000000,
            17340000000,
            13645000000,
            7450000000,
            7000000000,
            24370000000,
            12100000000,
            9310000000,
            43110000000,
            21030000000,
            24100000000,
            19090000000,
            23880000000,
            16559999999,
            21710000000,
            13645000000,
            13720000000,
            27430000000,
            14320000000,
            25060000000,
            24000000000,
            17720000000,
            13060000000,
            6070000000,
            3780000000,
            22770000000,
            13460000000,
            18660000000,
            22290000000,
            12620000000,
            23400000000,
            8920000000,
            18710000000,
            16210000000,
            19710000000,
            17630000000,
            12730000000,
            28950000000,
            27790000000,
            5170000000,
            15600000000,
            8460000000,
            17070000000,
            20730000000,
            13770000000,
            5990000000,
            10000000000,
            37990000000,
            16030000000,
            8940000000,
            4760000000,
            13710000000,
            26990000000,
            14640000000,
            13645000000,
            25410000000,
            11950000000,
            14130000000,
            10130000000,
            8500000000,
            13645000000,
            9370000000,
            12600000000,
            6910000000,
            13645000000,
            12840000000,
            10700000000,
            12510000000,
            7940000000,
            21050000000,
            19490000000,
            17370000000,
            12860000000,
            9910000000,
            6530000000,
            19060000000,
            5380000000,
            7320000000,
            6810000000,
            18210000000,
            9120000000,
            8690000000,
            6100000000,
            3000000000,
            13645000000,
            11270000000,
            13645000000,
            9890000000,
            3190000000,
            12960000000,
            11730000000,
            2720000000,
            22630000000,
            8660000000,
            7490000000,
            2470000000,
            5580000000,
            4690000000,
            22220000000,
            11900000000,
            4380000000,
            2670000000,
            15200000000,
            15070000000,
            13180000000,
            6010000000,
            24930000000,
            14700000000,
            9990000000,
            6350000000,
            9950000000,
            8029999999,
            17410000000,
            10430000000,
            5680000000,
            20720000000,
            6030000000,
            20510000000,
            11550000000,
            13830000000,
            16960000000,
            14120000000,
            9340000000,
            4040000000,
            6840000000,
            23490000000,
            19280000000,
            13645000000,
            11200000000,
            9150000000,
            16360000000,
            6450000000,
            8810000000,
            5140000000,
            4870000000,
            4660000000,
            15100000000,
            8460000000,
            6210000000,
            16329999999,
            14510000000,
            6520000000,
            4400000000,
            4070000000,
            12110000000,
            13645000000,
            5000000000,
            4630000000,
            3560000000,
            2730000000,
            2640000000,
            15800000000,
            14380000000,
            7630000000,
            6010000000
           ]
          }
         ],
         "hovertemplate": "color=Entertainment<br>%{xaxis.title.text}=%{x}<br>%{yaxis.title.text}=%{y}<extra></extra>",
         "legendgroup": "Entertainment",
         "marker": {
          "color": "#636efa",
          "symbol": "circle"
         },
         "name": "Entertainment",
         "showlegend": true,
         "type": "splom"
        },
        {
         "dimensions": [
          {
           "axis": {
            "matches": true
           },
           "label": "VIDEOS",
           "values": [
            1140,
            1140,
            1140,
            1140,
            1140,
            1140,
            8580,
            1140,
            2810,
            5820,
            1140,
            4690,
            165,
            4100,
            268,
            484,
            474,
            190,
            122,
            21790,
            358,
            579,
            1690,
            1230,
            1140,
            118,
            501,
            1140,
            8080,
            1040,
            1140,
            252,
            16910,
            1800,
            1140,
            668,
            2440,
            6450,
            3320,
            1140,
            2300,
            7190,
            193,
            1070,
            7980,
            193,
            1670,
            68,
            618,
            4360,
            599,
            290,
            4910,
            8420,
            10010,
            5200,
            1130,
            335,
            992,
            1050,
            5480,
            64,
            2720,
            635,
            3080,
            254,
            553,
            1710,
            72,
            56,
            2250,
            1850,
            192,
            3520,
            637,
            307,
            1920,
            236,
            777,
            672,
            106,
            1090,
            3040,
            167,
            42,
            297,
            1140,
            1140,
            318,
            257,
            3730,
            475,
            1120,
            6430,
            5460,
            727,
            218,
            63,
            163,
            89,
            61,
            1140,
            530,
            266,
            5420,
            912,
            1140,
            4310,
            299
           ]
          },
          {
           "axis": {
            "matches": true
           },
           "label": "SUBSCRIBERS",
           "values": [
            27250000,
            27250000,
            27250000,
            27250000,
            27250000,
            27250000,
            68500000,
            27250000,
            67099999,
            66200000,
            27250000,
            60500000,
            60300000,
            60100000,
            59200000,
            57100000,
            54700000,
            54200000,
            51700000,
            47400000,
            46200000,
            45500000,
            45500000,
            44500000,
            27250000,
            42600000,
            41800000,
            27250000,
            40700000,
            40500000,
            27250000,
            39200000,
            38200000,
            37500000,
            27250000,
            36800000,
            36500000,
            35400000,
            35300000,
            27250000,
            34800000,
            34700000,
            34600000,
            34100000,
            34100000,
            33900000,
            33700000,
            33299999,
            32700000,
            32500000,
            31800000,
            31800000,
            31500000,
            31300000,
            31200000,
            30700000,
            30600000,
            30400000,
            30300000,
            30200000,
            30000000,
            30000000,
            29100000,
            28500000,
            27100000,
            27100000,
            27000000,
            26800000,
            26800000,
            26700000,
            26600000,
            26600000,
            26400000,
            26300000,
            25600000,
            25500000,
            25100000,
            24900000,
            24800000,
            24700000,
            24600000,
            24600000,
            24600000,
            24500000,
            24500000,
            24400000,
            27250000,
            27250000,
            24100000,
            24000000,
            23900000,
            23700000,
            23700000,
            23600000,
            23500000,
            23300000,
            22700000,
            22600000,
            22500000,
            22200000,
            22200000,
            27250000,
            21800000,
            21700000,
            21300000,
            21100000,
            27250000,
            20900000,
            20800000
           ]
          },
          {
           "axis": {
            "matches": true
           },
           "label": "VIEWS",
           "values": [
            13645000000,
            13645000000,
            13645000000,
            13645000000,
            13645000000,
            13645000000,
            29300000000,
            13645000000,
            38290000000,
            38830000000,
            13645000000,
            31930000000,
            29730000000,
            41110000000,
            35440000000,
            15740000000,
            32439999999,
            26210000000,
            15720000000,
            19750000000,
            30350000000,
            14120000000,
            8109999999,
            39100000000,
            13645000000,
            7340000000,
            4210000000,
            13645000000,
            21550000000,
            11760000000,
            13645000000,
            13000000000,
            23150000000,
            30010000000,
            13645000000,
            16420000000,
            28690000000,
            25890000000,
            37650000000,
            13645000000,
            31980000000,
            18110000000,
            14000000000,
            20450000000,
            15790000000,
            10610000000,
            11120000000,
            3420000000,
            19170000000,
            29450000000,
            17210000000,
            15790000000,
            9750000000,
            25040000000,
            12540000000,
            16770000000,
            7790000000,
            17010000000,
            18970000000,
            38770000000,
            23940000000,
            17890000000,
            27350000000,
            2430000000,
            28220000000,
            18760000000,
            17970000000,
            12720000000,
            11260000000,
            17200000000,
            19040000000,
            10800000000,
            4970000000,
            9420000000,
            11200000000,
            28310000000,
            11140000000,
            7330000000,
            8060000000,
            2590000000,
            22010000000,
            15620000000,
            12400000000,
            24650000000,
            797360000,
            9020000000,
            13645000000,
            13645000000,
            11130000000,
            6810000000,
            23920000000,
            15900000000,
            13310000000,
            15090000000,
            3680000000,
            9120000000,
            15020000000,
            8640000000,
            10810000000,
            9240000000,
            6350000000,
            13645000000,
            4110000000,
            12630000000,
            18080000000,
            9900000000,
            13645000000,
            11010000000,
            1910000000
           ]
          }
         ],
         "hovertemplate": "color=Music<br>%{xaxis.title.text}=%{x}<br>%{yaxis.title.text}=%{y}<extra></extra>",
         "legendgroup": "Music",
         "marker": {
          "color": "#EF553B",
          "symbol": "circle"
         },
         "name": "Music",
         "showlegend": true,
         "type": "splom"
        },
        {
         "dimensions": [
          {
           "axis": {
            "matches": true
           },
           "label": "VIDEOS",
           "values": [
            1140,
            1140,
            1140,
            1140,
            1140,
            1140,
            1140,
            674,
            842,
            1050,
            1140,
            155,
            7950,
            1760,
            1140,
            85,
            1360,
            197,
            1140,
            1140,
            642,
            1070,
            705,
            236,
            5600,
            8500,
            4300,
            8340,
            653,
            1140,
            1240,
            234,
            1090,
            116,
            924,
            977,
            2880,
            886,
            45,
            989,
            2090,
            402,
            11230,
            343,
            319,
            2420,
            1670,
            200,
            1140,
            1190,
            591,
            1320,
            1910,
            27110,
            5340,
            118,
            20080,
            525,
            23800,
            17120,
            179,
            4590,
            1220,
            3760,
            470,
            1,
            1170,
            120,
            257,
            440,
            6210,
            622,
            180,
            178,
            7240,
            4940,
            868
           ]
          },
          {
           "axis": {
            "matches": true
           },
           "label": "SUBSCRIBERS",
           "values": [
            27250000,
            27250000,
            27250000,
            27250000,
            27250000,
            27250000,
            27250000,
            62300000,
            56900000,
            56800000,
            27250000,
            47900000,
            44600000,
            44400000,
            27250000,
            43200000,
            42700000,
            42100000,
            27250000,
            27250000,
            40800000,
            40000000,
            39400000,
            37900000,
            36700000,
            36600000,
            36200000,
            36000000,
            35800000,
            27250000,
            34800000,
            33800000,
            32600000,
            31900000,
            31600000,
            30700000,
            30300000,
            30100000,
            29900000,
            29400000,
            29100000,
            29100000,
            27900000,
            27800000,
            27300000,
            27200000,
            27000000,
            26500000,
            27250000,
            26200000,
            26200000,
            26000000,
            25900000,
            25400000,
            25300000,
            25000000,
            24800000,
            24600000,
            24600000,
            24100000,
            24100000,
            24000000,
            23000000,
            23000000,
            22900000,
            22900000,
            22800000,
            22400000,
            22400000,
            22100000,
            22000000,
            21900000,
            21300000,
            20900000,
            20900000,
            20600000,
            20600000
           ]
          },
          {
           "axis": {
            "matches": true
           },
           "label": "VIEWS",
           "values": [
            13645000000,
            13645000000,
            13645000000,
            13645000000,
            13645000000,
            13645000000,
            13645000000,
            36120000000,
            34450000000,
            11600000000,
            13645000000,
            35010000000,
            11150000000,
            27620000000,
            13645000000,
            24340000000,
            9740000000,
            3760000000,
            13645000000,
            13645000000,
            30660000000,
            16820000000,
            5830000000,
            16930000000,
            21480000000,
            23620000000,
            15580000000,
            21740000000,
            12910000000,
            13645000000,
            19500000000,
            11720000000,
            27350000000,
            3110000000,
            26420000000,
            13820000000,
            14450000000,
            12410000000,
            23150000000,
            26330000000,
            22520000000,
            4130000000,
            16260000000,
            6560000000,
            3270000000,
            16200000000,
            18790000000,
            19720000000,
            13645000000,
            13420000000,
            8660000000,
            15330000000,
            16020000000,
            16850000000,
            25610000000,
            20450000000,
            25220000000,
            19060000000,
            14330000000,
            27120000000,
            17270000000,
            9820000000,
            18200000000,
            9980000000,
            16950000000,
            1390,
            13580000000,
            12120000000,
            8060000000,
            11420000000,
            5460000000,
            2860000000,
            488840000,
            10900000000,
            9520000000,
            22280000000,
            4550000000
           ]
          }
         ],
         "hovertemplate": "color=Kids<br>%{xaxis.title.text}=%{x}<br>%{yaxis.title.text}=%{y}<extra></extra>",
         "legendgroup": "Kids",
         "marker": {
          "color": "#00cc96",
          "symbol": "circle"
         },
         "name": "Kids",
         "showlegend": true,
         "type": "splom"
        },
        {
         "dimensions": [
          {
           "axis": {
            "matches": true
           },
           "label": "VIDEOS",
           "values": [
            1140,
            437
           ]
          },
          {
           "axis": {
            "matches": true
           },
           "label": "SUBSCRIBERS",
           "values": [
            27250000,
            60200000
           ]
          },
          {
           "axis": {
            "matches": true
           },
           "label": "VIEWS",
           "values": [
            13645000000,
            17420000000
           ]
          }
         ],
         "hovertemplate": "color=Sports/Entertainment<br>%{xaxis.title.text}=%{x}<br>%{yaxis.title.text}=%{y}<extra></extra>",
         "legendgroup": "Sports/Entertainment",
         "marker": {
          "color": "#ab63fa",
          "symbol": "circle"
         },
         "name": "Sports/Entertainment",
         "showlegend": true,
         "type": "splom"
        },
        {
         "dimensions": [
          {
           "axis": {
            "matches": true
           },
           "label": "VIDEOS",
           "values": [
            1140,
            1140,
            12250,
            615,
            3480,
            1350,
            768,
            5060,
            108,
            1070,
            7470,
            3420,
            928,
            4100
           ]
          },
          {
           "axis": {
            "matches": true
           },
           "label": "SUBSCRIBERS",
           "values": [
            27250000,
            27250000,
            53500000,
            40100000,
            33299999,
            32600000,
            31500000,
            30500000,
            27100000,
            26400000,
            26300000,
            24700000,
            22900000,
            22600000
           ]
          },
          {
           "axis": {
            "matches": true
           },
           "label": "VIEWS",
           "values": [
            13645000000,
            13645000000,
            24550000000,
            27610000000,
            11210000000,
            27400000000,
            17340000000,
            17590000000,
            16309999999,
            7950000000,
            8220000000,
            24980000000,
            5720000000,
            6280000000
           ]
          }
         ],
         "hovertemplate": "color=Movies<br>%{xaxis.title.text}=%{x}<br>%{yaxis.title.text}=%{y}<extra></extra>",
         "legendgroup": "Movies",
         "marker": {
          "color": "#FFA15A",
          "symbol": "circle"
         },
         "name": "Movies",
         "showlegend": true,
         "type": "splom"
        },
        {
         "dimensions": [
          {
           "axis": {
            "matches": true
           },
           "label": "VIDEOS",
           "values": [
            1140
           ]
          },
          {
           "axis": {
            "matches": true
           },
           "label": "SUBSCRIBERS",
           "values": [
            27250000
           ]
          },
          {
           "axis": {
            "matches": true
           },
           "label": "VIEWS",
           "values": [
            13645000000
           ]
          }
         ],
         "hovertemplate": "color=DIY/Education<br>%{xaxis.title.text}=%{x}<br>%{yaxis.title.text}=%{y}<extra></extra>",
         "legendgroup": "DIY/Education",
         "marker": {
          "color": "#19d3f3",
          "symbol": "circle"
         },
         "name": "DIY/Education",
         "showlegend": true,
         "type": "splom"
        },
        {
         "dimensions": [
          {
           "axis": {
            "matches": true
           },
           "label": "VIDEOS",
           "values": [
            1140,
            141,
            791,
            65,
            2050,
            4380,
            2120,
            15270,
            2720,
            268,
            1140,
            7050,
            47930,
            266,
            710
           ]
          },
          {
           "axis": {
            "matches": true
           },
           "label": "SUBSCRIBERS",
           "values": [
            27250000,
            43800000,
            41900000,
            35900000,
            29800000,
            28300000,
            28000000,
            25600000,
            23900000,
            23400000,
            27250000,
            21900000,
            21600000,
            21100000,
            20800000
           ]
          },
          {
           "axis": {
            "matches": true
           },
           "label": "VIEWS",
           "values": [
            13645000000,
            7860000000,
            50790000000,
            32400000000,
            13710000000,
            8710000000,
            4770000000,
            13550000000,
            10360000000,
            14480000000,
            13645000000,
            4190000000,
            19190000000,
            3880000000,
            2930000000
           ]
          }
         ],
         "hovertemplate": "color=News<br>%{xaxis.title.text}=%{x}<br>%{yaxis.title.text}=%{y}<extra></extra>",
         "legendgroup": "News",
         "marker": {
          "color": "#FF6692",
          "symbol": "circle"
         },
         "name": "News",
         "showlegend": true,
         "type": "splom"
        },
        {
         "dimensions": [
          {
           "axis": {
            "matches": true
           },
           "label": "VIDEOS",
           "values": [
            156,
            2920,
            4320,
            316,
            3510,
            9360,
            1530,
            373,
            3710,
            308,
            1640,
            380,
            10460,
            230,
            3910,
            1340,
            90,
            5350,
            288,
            1180
           ]
          },
          {
           "axis": {
            "matches": true
           },
           "label": "SUBSCRIBERS",
           "values": [
            53400000,
            49400000,
            45800000,
            45000000,
            41000000,
            39900000,
            31900000,
            29300000,
            28700000,
            25600000,
            24500000,
            23200000,
            23100000,
            22400000,
            22000000,
            21900000,
            21800000,
            21400000,
            21200000,
            20600000
           ]
          },
          {
           "axis": {
            "matches": true
           },
           "label": "VIEWS",
           "values": [
            6320000000,
            6460000000,
            7710000000,
            6570000000,
            7540000000,
            15960000000,
            24350000000,
            22540000000,
            19830000000,
            11850000000,
            18810000000,
            2340000000,
            6010000000,
            2780000000,
            20790000000,
            9410000000,
            11650000000,
            6130000000,
            2170000000,
            8279999999
           ]
          }
         ],
         "hovertemplate": "color=Education<br>%{xaxis.title.text}=%{x}<br>%{yaxis.title.text}=%{y}<extra></extra>",
         "legendgroup": "Education",
         "marker": {
          "color": "#B6E880",
          "symbol": "circle"
         },
         "name": "Education",
         "showlegend": true,
         "type": "splom"
        },
        {
         "dimensions": [
          {
           "axis": {
            "matches": true
           },
           "label": "VIDEOS",
           "values": [
            3750,
            2170,
            2370,
            4740,
            11490,
            2730,
            821,
            2650,
            135,
            737,
            157,
            233,
            713,
            1740,
            1370,
            8180,
            1290,
            796,
            617,
            292,
            539,
            615,
            601,
            1490,
            738,
            1140,
            21950,
            860,
            53860,
            5460,
            746,
            324,
            721,
            815,
            10210,
            1720,
            532
           ]
          },
          {
           "axis": {
            "matches": true
           },
           "label": "SUBSCRIBERS",
           "values": [
            50500000,
            50200000,
            49500000,
            47600000,
            44100000,
            44000000,
            42300000,
            41000000,
            40400000,
            39800000,
            38600000,
            36800000,
            34700000,
            34300000,
            33500000,
            31900000,
            30700000,
            29100000,
            28800000,
            28400000,
            26400000,
            26000000,
            25800000,
            25000000,
            24100000,
            27250000,
            23700000,
            23700000,
            23400000,
            22600000,
            22100000,
            21900000,
            21500000,
            21200000,
            20900000,
            20700000,
            20600000
           ]
          },
          {
           "axis": {
            "matches": true
           },
           "label": "VIEWS",
           "values": [
            30910000000,
            15440000000,
            16180000000,
            28400000000,
            28890000000,
            25300000000,
            27610000000,
            40510000000,
            11070000000,
            31120000000,
            14340000000,
            24960000000,
            13920000000,
            16840000000,
            16489999999,
            6980000000,
            17840000000,
            17520000000,
            4750000000,
            2140000000,
            13530000000,
            5230000000,
            10530000000,
            14640000000,
            12880000000,
            13645000000,
            17570000000,
            9870000000,
            17320000000,
            7160000000,
            8870000000,
            12210000000,
            12380000000,
            7250000000,
            11270000000,
            4130000000,
            9230000000
           ]
          }
         ],
         "hovertemplate": "color=Gaming/Entertainment<br>%{xaxis.title.text}=%{x}<br>%{yaxis.title.text}=%{y}<extra></extra>",
         "legendgroup": "Gaming/Entertainment",
         "marker": {
          "color": "#FF97FF",
          "symbol": "circle"
         },
         "name": "Gaming/Entertainment",
         "showlegend": true,
         "type": "splom"
        },
        {
         "dimensions": [
          {
           "axis": {
            "matches": true
           },
           "label": "VIDEOS",
           "values": [
            1120
           ]
          },
          {
           "axis": {
            "matches": true
           },
           "label": "SUBSCRIBERS",
           "values": [
            43000000
           ]
          },
          {
           "axis": {
            "matches": true
           },
           "label": "VIEWS",
           "values": [
            25020000000
           ]
          }
         ],
         "hovertemplate": "color=Travel/Entertainment<br>%{xaxis.title.text}=%{x}<br>%{yaxis.title.text}=%{y}<extra></extra>",
         "legendgroup": "Travel/Entertainment",
         "marker": {
          "color": "#FECB52",
          "symbol": "circle"
         },
         "name": "Travel/Entertainment",
         "showlegend": true,
         "type": "splom"
        },
        {
         "dimensions": [
          {
           "axis": {
            "matches": true
           },
           "label": "VIDEOS",
           "values": [
            3790,
            2260,
            8700,
            1310,
            815
           ]
          },
          {
           "axis": {
            "matches": true
           },
           "label": "SUBSCRIBERS",
           "values": [
            42100000,
            27700000,
            23600000,
            21200000,
            21100000
           ]
          },
          {
           "axis": {
            "matches": true
           },
           "label": "VIEWS",
           "values": [
            18940000000,
            12600000000,
            22430000000,
            1940000000,
            11870000000
           ]
          }
         ],
         "hovertemplate": "color=Animation<br>%{xaxis.title.text}=%{x}<br>%{yaxis.title.text}=%{y}<extra></extra>",
         "legendgroup": "Animation",
         "marker": {
          "color": "#636efa",
          "symbol": "circle"
         },
         "name": "Animation",
         "showlegend": true,
         "type": "splom"
        },
        {
         "dimensions": [
          {
           "axis": {
            "matches": true
           },
           "label": "VIDEOS",
           "values": [
            294,
            2060
           ]
          },
          {
           "axis": {
            "matches": true
           },
           "label": "SUBSCRIBERS",
           "values": [
            42000000,
            40600000
           ]
          },
          {
           "axis": {
            "matches": true
           },
           "label": "VIEWS",
           "values": [
            16600000000,
            26490000000
           ]
          }
         ],
         "hovertemplate": "color=Gaming<br>%{xaxis.title.text}=%{x}<br>%{yaxis.title.text}=%{y}<extra></extra>",
         "legendgroup": "Gaming",
         "marker": {
          "color": "#EF553B",
          "symbol": "circle"
         },
         "name": "Gaming",
         "showlegend": true,
         "type": "splom"
        },
        {
         "dimensions": [
          {
           "axis": {
            "matches": true
           },
           "label": "VIDEOS",
           "values": [
            3160
           ]
          },
          {
           "axis": {
            "matches": true
           },
           "label": "SUBSCRIBERS",
           "values": [
            40600000
           ]
          },
          {
           "axis": {
            "matches": true
           },
           "label": "VIEWS",
           "values": [
            39280000000
           ]
          }
         ],
         "hovertemplate": "color=Platform<br>%{xaxis.title.text}=%{x}<br>%{yaxis.title.text}=%{y}<extra></extra>",
         "legendgroup": "Platform",
         "marker": {
          "color": "#00cc96",
          "symbol": "circle"
         },
         "name": "Platform",
         "showlegend": true,
         "type": "splom"
        },
        {
         "dimensions": [
          {
           "axis": {
            "matches": true
           },
           "label": "VIDEOS",
           "values": [
            941
           ]
          },
          {
           "axis": {
            "matches": true
           },
           "label": "SUBSCRIBERS",
           "values": [
            31600000
           ]
          },
          {
           "axis": {
            "matches": true
           },
           "label": "VIEWS",
           "values": [
            5150000000
           ]
          }
         ],
         "hovertemplate": "color=toyoraljanahtv<br>%{xaxis.title.text}=%{x}<br>%{yaxis.title.text}=%{y}<extra></extra>",
         "legendgroup": "toyoraljanahtv",
         "marker": {
          "color": "#ab63fa",
          "symbol": "circle"
         },
         "name": "toyoraljanahtv",
         "showlegend": true,
         "type": "splom"
        },
        {
         "dimensions": [
          {
           "axis": {
            "matches": true
           },
           "label": "VIDEOS",
           "values": [
            1300
           ]
          },
          {
           "axis": {
            "matches": true
           },
           "label": "SUBSCRIBERS",
           "values": [
            25300000
           ]
          },
          {
           "axis": {
            "matches": true
           },
           "label": "VIEWS",
           "values": [
            18500000000
           ]
          }
         ],
         "hovertemplate": "color=Fitness/Health<br>%{xaxis.title.text}=%{x}<br>%{yaxis.title.text}=%{y}<extra></extra>",
         "legendgroup": "Fitness/Health",
         "marker": {
          "color": "#FFA15A",
          "symbol": "circle"
         },
         "name": "Fitness/Health",
         "showlegend": true,
         "type": "splom"
        },
        {
         "dimensions": [
          {
           "axis": {
            "matches": true
           },
           "label": "VIDEOS",
           "values": [
            1400,
            1850,
            3950,
            1320
           ]
          },
          {
           "axis": {
            "matches": true
           },
           "label": "SUBSCRIBERS",
           "values": [
            25000000,
            24900000,
            21400000,
            20700000
           ]
          },
          {
           "axis": {
            "matches": true
           },
           "label": "VIEWS",
           "values": [
            2500000000,
            15250000000,
            8580000000,
            7590000000
           ]
          }
         ],
         "hovertemplate": "color=Food<br>%{xaxis.title.text}=%{x}<br>%{yaxis.title.text}=%{y}<extra></extra>",
         "legendgroup": "Food",
         "marker": {
          "color": "#19d3f3",
          "symbol": "circle"
         },
         "name": "Food",
         "showlegend": true,
         "type": "splom"
        },
        {
         "dimensions": [
          {
           "axis": {
            "matches": true
           },
           "label": "VIDEOS",
           "values": [
            4370,
            756
           ]
          },
          {
           "axis": {
            "matches": true
           },
           "label": "SUBSCRIBERS",
           "values": [
            24700000,
            23900000
           ]
          },
          {
           "axis": {
            "matches": true
           },
           "label": "VIEWS",
           "values": [
            3190000000,
            4160000000
           ]
          }
         ],
         "hovertemplate": "color=Beauty/Lifestyle<br>%{xaxis.title.text}=%{x}<br>%{yaxis.title.text}=%{y}<extra></extra>",
         "legendgroup": "Beauty/Lifestyle",
         "marker": {
          "color": "#FF6692",
          "symbol": "circle"
         },
         "name": "Beauty/Lifestyle",
         "showlegend": true,
         "type": "splom"
        },
        {
         "dimensions": [
          {
           "axis": {
            "matches": true
           },
           "label": "VIDEOS",
           "values": [
            1150
           ]
          },
          {
           "axis": {
            "matches": true
           },
           "label": "SUBSCRIBERS",
           "values": [
            24500000
           ]
          },
          {
           "axis": {
            "matches": true
           },
           "label": "VIEWS",
           "values": [
            16070000000
           ]
          }
         ],
         "hovertemplate": "color=Charity/Non-profit<br>%{xaxis.title.text}=%{x}<br>%{yaxis.title.text}=%{y}<extra></extra>",
         "legendgroup": "Charity/Non-profit",
         "marker": {
          "color": "#B6E880",
          "symbol": "circle"
         },
         "name": "Charity/Non-profit",
         "showlegend": true,
         "type": "splom"
        },
        {
         "dimensions": [
          {
           "axis": {
            "matches": true
           },
           "label": "VIDEOS",
           "values": [
            2580
           ]
          },
          {
           "axis": {
            "matches": true
           },
           "label": "SUBSCRIBERS",
           "values": [
            24100000
           ]
          },
          {
           "axis": {
            "matches": true
           },
           "label": "VIEWS",
           "values": [
            9440000000
           ]
          }
         ],
         "hovertemplate": "color=Politics<br>%{xaxis.title.text}=%{x}<br>%{yaxis.title.text}=%{y}<extra></extra>",
         "legendgroup": "Politics",
         "marker": {
          "color": "#FF97FF",
          "symbol": "circle"
         },
         "name": "Politics",
         "showlegend": true,
         "type": "splom"
        },
        {
         "dimensions": [
          {
           "axis": {
            "matches": true
           },
           "label": "VIDEOS",
           "values": [
            1250,
            4270
           ]
          },
          {
           "axis": {
            "matches": true
           },
           "label": "SUBSCRIBERS",
           "values": [
            24100000,
            23600000
           ]
          },
          {
           "axis": {
            "matches": true
           },
           "label": "VIEWS",
           "values": [
            6020000000,
            11500000000
           ]
          }
         ],
         "hovertemplate": "color=Technology<br>%{xaxis.title.text}=%{x}<br>%{yaxis.title.text}=%{y}<extra></extra>",
         "legendgroup": "Technology",
         "marker": {
          "color": "#FECB52",
          "symbol": "circle"
         },
         "name": "Technology",
         "showlegend": true,
         "type": "splom"
        },
        {
         "dimensions": [
          {
           "axis": {
            "matches": true
           },
           "label": "VIDEOS",
           "values": [
            468,
            205
           ]
          },
          {
           "axis": {
            "matches": true
           },
           "label": "SUBSCRIBERS",
           "values": [
            23900000,
            20600000
           ]
          },
          {
           "axis": {
            "matches": true
           },
           "label": "VIEWS",
           "values": [
            16579999999,
            1910000000
           ]
          }
         ],
         "hovertemplate": "color=DIY<br>%{xaxis.title.text}=%{x}<br>%{yaxis.title.text}=%{y}<extra></extra>",
         "legendgroup": "DIY",
         "marker": {
          "color": "#636efa",
          "symbol": "circle"
         },
         "name": "DIY",
         "showlegend": true,
         "type": "splom"
        },
        {
         "dimensions": [
          {
           "axis": {
            "matches": true
           },
           "label": "VIDEOS",
           "values": [
            1280,
            1380
           ]
          },
          {
           "axis": {
            "matches": true
           },
           "label": "SUBSCRIBERS",
           "values": [
            21800000,
            20900000
           ]
          },
          {
           "axis": {
            "matches": true
           },
           "label": "VIEWS",
           "values": [
            14690000000,
            9460000000
           ]
          }
         ],
         "hovertemplate": "color=Sports<br>%{xaxis.title.text}=%{x}<br>%{yaxis.title.text}=%{y}<extra></extra>",
         "legendgroup": "Sports",
         "marker": {
          "color": "#EF553B",
          "symbol": "circle"
         },
         "name": "Sports",
         "showlegend": true,
         "type": "splom"
        },
        {
         "dimensions": [
          {
           "axis": {
            "matches": true
           },
           "label": "VIDEOS",
           "values": [
            1810
           ]
          },
          {
           "axis": {
            "matches": true
           },
           "label": "SUBSCRIBERS",
           "values": [
            20900000
           ]
          },
          {
           "axis": {
            "matches": true
           },
           "label": "VIEWS",
           "values": [
            10120000000
           ]
          }
         ],
         "hovertemplate": "color=Arab Games Network<br>%{xaxis.title.text}=%{x}<br>%{yaxis.title.text}=%{y}<extra></extra>",
         "legendgroup": "Arab Games Network",
         "marker": {
          "color": "#00cc96",
          "symbol": "circle"
         },
         "name": "Arab Games Network",
         "showlegend": true,
         "type": "splom"
        }
       ],
       "layout": {
        "dragmode": "select",
        "legend": {
         "title": {
          "text": "Categories"
         },
         "tracegroupgap": 0
        },
        "margin": {
         "t": 60
        },
        "template": {
         "data": {
          "bar": [
           {
            "error_x": {
             "color": "#2a3f5f"
            },
            "error_y": {
             "color": "#2a3f5f"
            },
            "marker": {
             "line": {
              "color": "#E5ECF6",
              "width": 0.5
             },
             "pattern": {
              "fillmode": "overlay",
              "size": 10,
              "solidity": 0.2
             }
            },
            "type": "bar"
           }
          ],
          "barpolar": [
           {
            "marker": {
             "line": {
              "color": "#E5ECF6",
              "width": 0.5
             },
             "pattern": {
              "fillmode": "overlay",
              "size": 10,
              "solidity": 0.2
             }
            },
            "type": "barpolar"
           }
          ],
          "carpet": [
           {
            "aaxis": {
             "endlinecolor": "#2a3f5f",
             "gridcolor": "white",
             "linecolor": "white",
             "minorgridcolor": "white",
             "startlinecolor": "#2a3f5f"
            },
            "baxis": {
             "endlinecolor": "#2a3f5f",
             "gridcolor": "white",
             "linecolor": "white",
             "minorgridcolor": "white",
             "startlinecolor": "#2a3f5f"
            },
            "type": "carpet"
           }
          ],
          "choropleth": [
           {
            "colorbar": {
             "outlinewidth": 0,
             "ticks": ""
            },
            "type": "choropleth"
           }
          ],
          "contour": [
           {
            "colorbar": {
             "outlinewidth": 0,
             "ticks": ""
            },
            "colorscale": [
             [
              0,
              "#0d0887"
             ],
             [
              0.1111111111111111,
              "#46039f"
             ],
             [
              0.2222222222222222,
              "#7201a8"
             ],
             [
              0.3333333333333333,
              "#9c179e"
             ],
             [
              0.4444444444444444,
              "#bd3786"
             ],
             [
              0.5555555555555556,
              "#d8576b"
             ],
             [
              0.6666666666666666,
              "#ed7953"
             ],
             [
              0.7777777777777778,
              "#fb9f3a"
             ],
             [
              0.8888888888888888,
              "#fdca26"
             ],
             [
              1,
              "#f0f921"
             ]
            ],
            "type": "contour"
           }
          ],
          "contourcarpet": [
           {
            "colorbar": {
             "outlinewidth": 0,
             "ticks": ""
            },
            "type": "contourcarpet"
           }
          ],
          "heatmap": [
           {
            "colorbar": {
             "outlinewidth": 0,
             "ticks": ""
            },
            "colorscale": [
             [
              0,
              "#0d0887"
             ],
             [
              0.1111111111111111,
              "#46039f"
             ],
             [
              0.2222222222222222,
              "#7201a8"
             ],
             [
              0.3333333333333333,
              "#9c179e"
             ],
             [
              0.4444444444444444,
              "#bd3786"
             ],
             [
              0.5555555555555556,
              "#d8576b"
             ],
             [
              0.6666666666666666,
              "#ed7953"
             ],
             [
              0.7777777777777778,
              "#fb9f3a"
             ],
             [
              0.8888888888888888,
              "#fdca26"
             ],
             [
              1,
              "#f0f921"
             ]
            ],
            "type": "heatmap"
           }
          ],
          "heatmapgl": [
           {
            "colorbar": {
             "outlinewidth": 0,
             "ticks": ""
            },
            "colorscale": [
             [
              0,
              "#0d0887"
             ],
             [
              0.1111111111111111,
              "#46039f"
             ],
             [
              0.2222222222222222,
              "#7201a8"
             ],
             [
              0.3333333333333333,
              "#9c179e"
             ],
             [
              0.4444444444444444,
              "#bd3786"
             ],
             [
              0.5555555555555556,
              "#d8576b"
             ],
             [
              0.6666666666666666,
              "#ed7953"
             ],
             [
              0.7777777777777778,
              "#fb9f3a"
             ],
             [
              0.8888888888888888,
              "#fdca26"
             ],
             [
              1,
              "#f0f921"
             ]
            ],
            "type": "heatmapgl"
           }
          ],
          "histogram": [
           {
            "marker": {
             "pattern": {
              "fillmode": "overlay",
              "size": 10,
              "solidity": 0.2
             }
            },
            "type": "histogram"
           }
          ],
          "histogram2d": [
           {
            "colorbar": {
             "outlinewidth": 0,
             "ticks": ""
            },
            "colorscale": [
             [
              0,
              "#0d0887"
             ],
             [
              0.1111111111111111,
              "#46039f"
             ],
             [
              0.2222222222222222,
              "#7201a8"
             ],
             [
              0.3333333333333333,
              "#9c179e"
             ],
             [
              0.4444444444444444,
              "#bd3786"
             ],
             [
              0.5555555555555556,
              "#d8576b"
             ],
             [
              0.6666666666666666,
              "#ed7953"
             ],
             [
              0.7777777777777778,
              "#fb9f3a"
             ],
             [
              0.8888888888888888,
              "#fdca26"
             ],
             [
              1,
              "#f0f921"
             ]
            ],
            "type": "histogram2d"
           }
          ],
          "histogram2dcontour": [
           {
            "colorbar": {
             "outlinewidth": 0,
             "ticks": ""
            },
            "colorscale": [
             [
              0,
              "#0d0887"
             ],
             [
              0.1111111111111111,
              "#46039f"
             ],
             [
              0.2222222222222222,
              "#7201a8"
             ],
             [
              0.3333333333333333,
              "#9c179e"
             ],
             [
              0.4444444444444444,
              "#bd3786"
             ],
             [
              0.5555555555555556,
              "#d8576b"
             ],
             [
              0.6666666666666666,
              "#ed7953"
             ],
             [
              0.7777777777777778,
              "#fb9f3a"
             ],
             [
              0.8888888888888888,
              "#fdca26"
             ],
             [
              1,
              "#f0f921"
             ]
            ],
            "type": "histogram2dcontour"
           }
          ],
          "mesh3d": [
           {
            "colorbar": {
             "outlinewidth": 0,
             "ticks": ""
            },
            "type": "mesh3d"
           }
          ],
          "parcoords": [
           {
            "line": {
             "colorbar": {
              "outlinewidth": 0,
              "ticks": ""
             }
            },
            "type": "parcoords"
           }
          ],
          "pie": [
           {
            "automargin": true,
            "type": "pie"
           }
          ],
          "scatter": [
           {
            "fillpattern": {
             "fillmode": "overlay",
             "size": 10,
             "solidity": 0.2
            },
            "type": "scatter"
           }
          ],
          "scatter3d": [
           {
            "line": {
             "colorbar": {
              "outlinewidth": 0,
              "ticks": ""
             }
            },
            "marker": {
             "colorbar": {
              "outlinewidth": 0,
              "ticks": ""
             }
            },
            "type": "scatter3d"
           }
          ],
          "scattercarpet": [
           {
            "marker": {
             "colorbar": {
              "outlinewidth": 0,
              "ticks": ""
             }
            },
            "type": "scattercarpet"
           }
          ],
          "scattergeo": [
           {
            "marker": {
             "colorbar": {
              "outlinewidth": 0,
              "ticks": ""
             }
            },
            "type": "scattergeo"
           }
          ],
          "scattergl": [
           {
            "marker": {
             "colorbar": {
              "outlinewidth": 0,
              "ticks": ""
             }
            },
            "type": "scattergl"
           }
          ],
          "scattermapbox": [
           {
            "marker": {
             "colorbar": {
              "outlinewidth": 0,
              "ticks": ""
             }
            },
            "type": "scattermapbox"
           }
          ],
          "scatterpolar": [
           {
            "marker": {
             "colorbar": {
              "outlinewidth": 0,
              "ticks": ""
             }
            },
            "type": "scatterpolar"
           }
          ],
          "scatterpolargl": [
           {
            "marker": {
             "colorbar": {
              "outlinewidth": 0,
              "ticks": ""
             }
            },
            "type": "scatterpolargl"
           }
          ],
          "scatterternary": [
           {
            "marker": {
             "colorbar": {
              "outlinewidth": 0,
              "ticks": ""
             }
            },
            "type": "scatterternary"
           }
          ],
          "surface": [
           {
            "colorbar": {
             "outlinewidth": 0,
             "ticks": ""
            },
            "colorscale": [
             [
              0,
              "#0d0887"
             ],
             [
              0.1111111111111111,
              "#46039f"
             ],
             [
              0.2222222222222222,
              "#7201a8"
             ],
             [
              0.3333333333333333,
              "#9c179e"
             ],
             [
              0.4444444444444444,
              "#bd3786"
             ],
             [
              0.5555555555555556,
              "#d8576b"
             ],
             [
              0.6666666666666666,
              "#ed7953"
             ],
             [
              0.7777777777777778,
              "#fb9f3a"
             ],
             [
              0.8888888888888888,
              "#fdca26"
             ],
             [
              1,
              "#f0f921"
             ]
            ],
            "type": "surface"
           }
          ],
          "table": [
           {
            "cells": {
             "fill": {
              "color": "#EBF0F8"
             },
             "line": {
              "color": "white"
             }
            },
            "header": {
             "fill": {
              "color": "#C8D4E3"
             },
             "line": {
              "color": "white"
             }
            },
            "type": "table"
           }
          ]
         },
         "layout": {
          "annotationdefaults": {
           "arrowcolor": "#2a3f5f",
           "arrowhead": 0,
           "arrowwidth": 1
          },
          "autotypenumbers": "strict",
          "coloraxis": {
           "colorbar": {
            "outlinewidth": 0,
            "ticks": ""
           }
          },
          "colorscale": {
           "diverging": [
            [
             0,
             "#8e0152"
            ],
            [
             0.1,
             "#c51b7d"
            ],
            [
             0.2,
             "#de77ae"
            ],
            [
             0.3,
             "#f1b6da"
            ],
            [
             0.4,
             "#fde0ef"
            ],
            [
             0.5,
             "#f7f7f7"
            ],
            [
             0.6,
             "#e6f5d0"
            ],
            [
             0.7,
             "#b8e186"
            ],
            [
             0.8,
             "#7fbc41"
            ],
            [
             0.9,
             "#4d9221"
            ],
            [
             1,
             "#276419"
            ]
           ],
           "sequential": [
            [
             0,
             "#0d0887"
            ],
            [
             0.1111111111111111,
             "#46039f"
            ],
            [
             0.2222222222222222,
             "#7201a8"
            ],
            [
             0.3333333333333333,
             "#9c179e"
            ],
            [
             0.4444444444444444,
             "#bd3786"
            ],
            [
             0.5555555555555556,
             "#d8576b"
            ],
            [
             0.6666666666666666,
             "#ed7953"
            ],
            [
             0.7777777777777778,
             "#fb9f3a"
            ],
            [
             0.8888888888888888,
             "#fdca26"
            ],
            [
             1,
             "#f0f921"
            ]
           ],
           "sequentialminus": [
            [
             0,
             "#0d0887"
            ],
            [
             0.1111111111111111,
             "#46039f"
            ],
            [
             0.2222222222222222,
             "#7201a8"
            ],
            [
             0.3333333333333333,
             "#9c179e"
            ],
            [
             0.4444444444444444,
             "#bd3786"
            ],
            [
             0.5555555555555556,
             "#d8576b"
            ],
            [
             0.6666666666666666,
             "#ed7953"
            ],
            [
             0.7777777777777778,
             "#fb9f3a"
            ],
            [
             0.8888888888888888,
             "#fdca26"
            ],
            [
             1,
             "#f0f921"
            ]
           ]
          },
          "colorway": [
           "#636efa",
           "#EF553B",
           "#00cc96",
           "#ab63fa",
           "#FFA15A",
           "#19d3f3",
           "#FF6692",
           "#B6E880",
           "#FF97FF",
           "#FECB52"
          ],
          "font": {
           "color": "#2a3f5f"
          },
          "geo": {
           "bgcolor": "white",
           "lakecolor": "white",
           "landcolor": "#E5ECF6",
           "showlakes": true,
           "showland": true,
           "subunitcolor": "white"
          },
          "hoverlabel": {
           "align": "left"
          },
          "hovermode": "closest",
          "mapbox": {
           "style": "light"
          },
          "paper_bgcolor": "white",
          "plot_bgcolor": "#E5ECF6",
          "polar": {
           "angularaxis": {
            "gridcolor": "white",
            "linecolor": "white",
            "ticks": ""
           },
           "bgcolor": "#E5ECF6",
           "radialaxis": {
            "gridcolor": "white",
            "linecolor": "white",
            "ticks": ""
           }
          },
          "scene": {
           "xaxis": {
            "backgroundcolor": "#E5ECF6",
            "gridcolor": "white",
            "gridwidth": 2,
            "linecolor": "white",
            "showbackground": true,
            "ticks": "",
            "zerolinecolor": "white"
           },
           "yaxis": {
            "backgroundcolor": "#E5ECF6",
            "gridcolor": "white",
            "gridwidth": 2,
            "linecolor": "white",
            "showbackground": true,
            "ticks": "",
            "zerolinecolor": "white"
           },
           "zaxis": {
            "backgroundcolor": "#E5ECF6",
            "gridcolor": "white",
            "gridwidth": 2,
            "linecolor": "white",
            "showbackground": true,
            "ticks": "",
            "zerolinecolor": "white"
           }
          },
          "shapedefaults": {
           "line": {
            "color": "#2a3f5f"
           }
          },
          "ternary": {
           "aaxis": {
            "gridcolor": "white",
            "linecolor": "white",
            "ticks": ""
           },
           "baxis": {
            "gridcolor": "white",
            "linecolor": "white",
            "ticks": ""
           },
           "bgcolor": "#E5ECF6",
           "caxis": {
            "gridcolor": "white",
            "linecolor": "white",
            "ticks": ""
           }
          },
          "title": {
           "x": 0.05
          },
          "xaxis": {
           "automargin": true,
           "gridcolor": "white",
           "linecolor": "white",
           "ticks": "",
           "title": {
            "standoff": 15
           },
           "zerolinecolor": "white",
           "zerolinewidth": 2
          },
          "yaxis": {
           "automargin": true,
           "gridcolor": "white",
           "linecolor": "white",
           "ticks": "",
           "title": {
            "standoff": 15
           },
           "zerolinecolor": "white",
           "zerolinewidth": 2
          }
         }
        }
       }
      }
     },
     "metadata": {},
     "output_type": "display_data"
    }
   ],
   "source": [
    "fig = px.scatter_matrix(numeric_features, numeric_features.columns, color=categories)\n",
    "fig.update_layout(legend_title_text=\"Categories\")\n",
    "fig.show()"
   ]
  },
  {
   "cell_type": "code",
   "execution_count": 1118,
   "metadata": {},
   "outputs": [
    {
     "data": {
      "application/vnd.plotly.v1+json": {
       "config": {
        "plotlyServerURL": "https://plot.ly"
       },
       "data": [
        {
         "domain": {
          "x": [
           0,
           1
          ],
          "y": [
           0,
           1
          ]
         },
         "hovertemplate": "label=%{label}<br>VIDEOS=%{value}<extra></extra>",
         "labels": [
          "Entertainment",
          "Music",
          "Kids",
          "Entertainment",
          "Kids",
          "Kids",
          "Kids",
          "Entertainment",
          "Music",
          "Sports/Entertainment",
          "Movies",
          "Music",
          "Entertainment",
          "Kids",
          "Entertainment",
          "DIY/Education",
          "Music",
          "Kids",
          "Music",
          "Entertainment",
          "Music",
          "Music",
          "Music",
          "Music",
          "Music",
          "News",
          "Kids",
          "Entertainment",
          "Kids",
          "Music",
          "Movies",
          "Music",
          "Music",
          "Sports/Entertainment",
          "Music",
          "Music",
          "Music",
          "Kids",
          "Entertainment",
          "Kids",
          "Kids",
          "Entertainment",
          "Music",
          "Entertainment",
          "Music",
          "Entertainment",
          "Movies",
          "Education",
          "Entertainment",
          "Music",
          "Entertainment",
          "Gaming/Entertainment",
          "Gaming/Entertainment",
          "Entertainment",
          "Entertainment",
          "Gaming/Entertainment",
          "Education",
          "Entertainment",
          "Entertainment",
          "Kids",
          "Gaming/Entertainment",
          "Entertainment",
          "Entertainment",
          "Music",
          "Entertainment",
          "Music",
          "Education",
          "Music",
          "Music",
          "Entertainment",
          "Entertainment",
          "Education",
          "Entertainment",
          "Kids",
          "Music",
          "Kids",
          "Gaming/Entertainment",
          "Gaming/Entertainment",
          "News",
          "Entertainment",
          "Music",
          "Kids",
          "Kids",
          "Entertainment",
          "Travel/Entertainment",
          "Entertainment",
          "Kids",
          "Music",
          "Gaming/Entertainment",
          "Animation",
          "Kids",
          "Gaming",
          "News",
          "Music",
          "Kids",
          "Entertainment",
          "Gaming/Entertainment",
          "Entertainment",
          "Education",
          "Kids",
          "Music",
          "Kids",
          "Entertainment",
          "Music",
          "Platform",
          "Gaming",
          "Entertainment",
          "Music",
          "Entertainment",
          "Gaming/Entertainment",
          "Entertainment",
          "Entertainment",
          "Movies",
          "Kids",
          "Education",
          "Gaming/Entertainment",
          "Entertainment",
          "Kids",
          "Music",
          "Music",
          "Entertainment",
          "Gaming/Entertainment",
          "Entertainment",
          "Entertainment",
          "Music",
          "Entertainment",
          "Entertainment",
          "Kids",
          "Music",
          "Music",
          "Entertainment",
          "Gaming/Entertainment",
          "Music",
          "Kids",
          "Kids",
          "Music",
          "Entertainment",
          "Entertainment",
          "Entertainment",
          "Kids",
          "Kids",
          "News",
          "Entertainment",
          "Entertainment",
          "Kids",
          "Kids",
          "Music",
          "Music",
          "Entertainment",
          "Entertainment",
          "Music",
          "Entertainment",
          "Music",
          "Kids",
          "Music",
          "Gaming/Entertainment",
          "Music",
          "Entertainment",
          "Entertainment",
          "Gaming/Entertainment",
          "Music",
          "Music",
          "Entertainment",
          "Music",
          "Entertainment",
          "Kids",
          "Music",
          "Entertainment",
          "Gaming/Entertainment",
          "Entertainment",
          "Entertainment",
          "Entertainment",
          "Entertainment",
          "Movies",
          "Music",
          "Entertainment",
          "Entertainment",
          "Entertainment",
          "Music",
          "Movies",
          "Kids",
          "Music",
          "Entertainment",
          "Education",
          "Gaming/Entertainment",
          "Kids",
          "Music",
          "Music",
          "Entertainment",
          "Entertainment",
          "Kids",
          "Entertainment",
          "Entertainment",
          "Entertainment",
          "toyoraljanahtv",
          "Entertainment",
          "Movies",
          "Music",
          "Entertainment",
          "Entertainment",
          "Music",
          "Entertainment",
          "Entertainment",
          "Entertainment",
          "Music",
          "Entertainment",
          "Gaming/Entertainment",
          "Music",
          "Kids",
          "Entertainment",
          "Entertainment",
          "Music",
          "Movies",
          "Entertainment",
          "Entertainment",
          "Music",
          "Entertainment",
          "Entertainment",
          "Entertainment",
          "Music",
          "Kids",
          "Music",
          "Entertainment",
          "Entertainment",
          "Kids",
          "Music",
          "Music",
          "Kids",
          "Entertainment",
          "News",
          "Entertainment",
          "Kids",
          "Education",
          "Entertainment",
          "Music",
          "Kids",
          "Gaming/Entertainment",
          "Kids",
          "Entertainment",
          "Gaming/Entertainment",
          "Education",
          "Music",
          "Entertainment",
          "Entertainment",
          "Entertainment",
          "Gaming/Entertainment",
          "News",
          "Entertainment",
          "Entertainment",
          "News",
          "Kids",
          "Entertainment",
          "Kids",
          "Animation",
          "Entertainment",
          "Entertainment",
          "Entertainment",
          "Entertainment",
          "Kids",
          "Kids",
          "Entertainment",
          "Music",
          "Music",
          "Movies",
          "Entertainment",
          "Kids",
          "Music",
          "Entertainment",
          "Music",
          "Music",
          "Music",
          "Entertainment",
          "Music",
          "Entertainment",
          "Music",
          "Kids",
          "Entertainment",
          "Gaming/Entertainment",
          "Entertainment",
          "Movies",
          "Entertainment",
          "Music",
          "Entertainment",
          "Music",
          "Movies",
          "Entertainment",
          "Kids",
          "Kids",
          "Kids",
          "Entertainment",
          "Entertainment",
          "Entertainment",
          "Kids",
          "Entertainment",
          "Gaming/Entertainment",
          "Kids",
          "Gaming/Entertainment",
          "Entertainment",
          "Entertainment",
          "Entertainment",
          "News",
          "Entertainment",
          "Education",
          "Entertainment",
          "Music",
          "Music",
          "Entertainment",
          "Kids",
          "Entertainment",
          "Kids",
          "Fitness/Health",
          "Entertainment",
          "Entertainment",
          "Music",
          "Kids",
          "Gaming/Entertainment",
          "Food",
          "Food",
          "Music",
          "Kids",
          "Entertainment",
          "Music",
          "Movies",
          "Beauty/Lifestyle",
          "Music",
          "Music",
          "Kids",
          "Music",
          "Kids",
          "Music",
          "Music",
          "Education",
          "Charity/Non-profit",
          "Entertainment",
          "Music",
          "Entertainment",
          "Music",
          "Entertainment",
          "Entertainment",
          "Entertainment",
          "Music",
          "Music",
          "Kids",
          "Kids",
          "Gaming/Entertainment",
          "Music",
          "Politics",
          "Technology",
          "Entertainment",
          "Entertainment",
          "Entertainment",
          "Kids",
          "Music",
          "Music",
          "DIY",
          "Entertainment",
          "News",
          "Beauty/Lifestyle",
          "Gaming/Entertainment",
          "Entertainment",
          "Entertainment",
          "Gaming/Entertainment",
          "Music",
          "Entertainment",
          "Music",
          "Gaming/Entertainment",
          "Animation",
          "Music",
          "Entertainment",
          "Entertainment",
          "Technology",
          "Entertainment",
          "Music",
          "Gaming/Entertainment",
          "News",
          "Entertainment",
          "Entertainment",
          "Entertainment",
          "Music",
          "Entertainment",
          "Education",
          "Entertainment",
          "Education",
          "Kids",
          "Kids",
          "Entertainment",
          "Entertainment",
          "Kids",
          "Entertainment",
          "Movies",
          "Entertainment",
          "Kids",
          "Entertainment",
          "Kids",
          "Entertainment",
          "Entertainment",
          "Music",
          "Entertainment",
          "Music",
          "Gaming/Entertainment",
          "Movies",
          "News",
          "Music",
          "Entertainment",
          "Kids",
          "Kids",
          "Education",
          "Entertainment",
          "Entertainment",
          "Entertainment",
          "Music",
          "Music",
          "Entertainment",
          "Kids",
          "Gaming/Entertainment",
          "Entertainment",
          "Education",
          "Kids",
          "Gaming/Entertainment",
          "Education",
          "News",
          "Kids",
          "Entertainment",
          "Sports",
          "Music",
          "Education",
          "Music",
          "Music",
          "Entertainment",
          "News",
          "Entertainment",
          "Entertainment",
          "Entertainment",
          "Entertainment",
          "Gaming/Entertainment",
          "Entertainment",
          "Entertainment",
          "Food",
          "Education",
          "Entertainment",
          "Entertainment",
          "Entertainment",
          "Music",
          "Entertainment",
          "Kids",
          "Entertainment",
          "Gaming/Entertainment",
          "Entertainment",
          "Education",
          "Animation",
          "Animation",
          "Music",
          "News",
          "Music",
          "Entertainment",
          "Entertainment",
          "Gaming/Entertainment",
          "Music",
          "Kids",
          "Arab Games Network",
          "Kids",
          "Sports",
          "Entertainment",
          "Entertainment",
          "Entertainment",
          "Entertainment",
          "Entertainment",
          "Entertainment",
          "Entertainment",
          "Entertainment",
          "News",
          "Entertainment",
          "Entertainment",
          "Music",
          "Entertainment",
          "Entertainment",
          "Food",
          "Gaming/Entertainment",
          "Kids",
          "Gaming/Entertainment",
          "Education",
          "Kids",
          "DIY",
          "Entertainment",
          "Entertainment"
         ],
         "legendgroup": "",
         "name": "",
         "showlegend": true,
         "textposition": "inside",
         "type": "pie",
         "values": [
          1140,
          1140,
          1140,
          1140,
          1140,
          1140,
          1140,
          1140,
          1140,
          1140,
          1140,
          1140,
          1140,
          1140,
          1140,
          1140,
          1140,
          1140,
          1140,
          1140,
          1140,
          8580,
          1140,
          2810,
          5820,
          1140,
          1140,
          304,
          674,
          1140,
          1140,
          4690,
          165,
          437,
          4100,
          268,
          484,
          842,
          17660,
          1050,
          1140,
          915,
          474,
          1140,
          190,
          1140,
          12250,
          156,
          1100,
          122,
          1330,
          3750,
          2170,
          2040,
          2530,
          2370,
          2920,
          10260,
          1140,
          155,
          4740,
          5830,
          546,
          21790,
          4890,
          358,
          4320,
          579,
          1690,
          4610,
          142,
          316,
          779,
          7950,
          1230,
          1760,
          11490,
          2730,
          141,
          136,
          1140,
          1140,
          85,
          709,
          1120,
          28320,
          1360,
          118,
          821,
          3790,
          197,
          294,
          791,
          501,
          1140,
          8720,
          2650,
          1190,
          3510,
          1140,
          1140,
          642,
          3360,
          8080,
          3160,
          2060,
          723,
          1040,
          549,
          135,
          1140,
          702,
          615,
          1070,
          9360,
          737,
          1030,
          705,
          1140,
          252,
          558,
          157,
          902,
          3350,
          16910,
          11570,
          100,
          236,
          1800,
          1140,
          182,
          233,
          668,
          5600,
          8500,
          2440,
          7670,
          161,
          4370,
          4300,
          8340,
          65,
          338,
          1140,
          653,
          1140,
          6450,
          3320,
          739,
          172,
          1140,
          1770,
          2300,
          1240,
          7190,
          713,
          193,
          3580,
          210,
          1740,
          1070,
          7980,
          9730,
          193,
          643,
          234,
          1670,
          238,
          1370,
          376,
          31100,
          12170,
          1070,
          3480,
          68,
          173,
          7700,
          3190,
          618,
          1350,
          1090,
          4360,
          3390,
          1530,
          8180,
          116,
          599,
          290,
          139,
          650,
          924,
          649,
          10280,
          697,
          941,
          3340,
          768,
          4910,
          204,
          3910,
          8420,
          15,
          658,
          1070,
          10010,
          12230,
          1290,
          5200,
          977,
          232,
          7690,
          1130,
          5060,
          4740,
          3990,
          335,
          17,
          1360,
          157,
          992,
          2880,
          1050,
          133,
          4950,
          886,
          5480,
          64,
          45,
          4070,
          2050,
          1140,
          989,
          373,
          1680,
          2720,
          2090,
          796,
          402,
          1330,
          617,
          3710,
          635,
          747,
          5790,
          7310,
          292,
          4380,
          1140,
          1330,
          2120,
          11230,
          672,
          343,
          2260,
          199,
          1140,
          2690,
          2060,
          319,
          2420,
          662,
          3080,
          254,
          108,
          1750,
          1670,
          553,
          7110,
          1710,
          72,
          56,
          853,
          2250,
          155,
          1850,
          200,
          1230,
          539,
          4120,
          1070,
          5770,
          192,
          424,
          3520,
          7470,
          1970,
          1140,
          1190,
          591,
          561,
          4220,
          540,
          1320,
          1560,
          615,
          1910,
          601,
          2310,
          1980,
          67,
          15270,
          1140,
          308,
          3670,
          637,
          307,
          1140,
          27110,
          225,
          5340,
          1300,
          440,
          3640,
          1920,
          118,
          1490,
          1400,
          1850,
          236,
          20080,
          612,
          777,
          3420,
          4370,
          672,
          106,
          525,
          1090,
          23800,
          3040,
          167,
          1640,
          1150,
          4730,
          42,
          3190,
          297,
          1840,
          116,
          110,
          1140,
          1140,
          17120,
          179,
          738,
          318,
          2580,
          1250,
          26820,
          2320,
          8290,
          4590,
          257,
          3730,
          468,
          6420,
          2720,
          756,
          1140,
          581,
          2029,
          21950,
          475,
          3530,
          1120,
          860,
          8700,
          6430,
          441,
          270,
          4270,
          717,
          5460,
          53860,
          268,
          1820,
          46620,
          1650,
          727,
          1700,
          380,
          1170,
          10460,
          1220,
          3760,
          464,
          9730,
          470,
          954,
          928,
          1670,
          1,
          3200,
          1170,
          1620,
          933,
          218,
          1080,
          63,
          5460,
          4100,
          1140,
          163,
          1170,
          120,
          257,
          230,
          4390,
          1170,
          251,
          89,
          61,
          342,
          440,
          746,
          4070,
          3910,
          6210,
          324,
          1340,
          7050,
          622,
          1620,
          1280,
          1140,
          90,
          530,
          266,
          56,
          47930,
          1140,
          944,
          2180,
          849,
          721,
          1560,
          1920,
          3950,
          5350,
          1010,
          1270,
          2470,
          5420,
          807,
          180,
          1380,
          815,
          358,
          288,
          1310,
          815,
          912,
          266,
          1140,
          37670,
          1520,
          10210,
          4310,
          178,
          1810,
          7240,
          1380,
          11330,
          403,
          691,
          1050,
          1140,
          485,
          868,
          870,
          710,
          5700,
          1460,
          299,
          568,
          260,
          1320,
          1720,
          4940,
          532,
          1180,
          868,
          205,
          563,
          8970
         ]
        }
       ],
       "layout": {
        "height": 500,
        "legend": {
         "title": {
          "text": "Categories"
         },
         "tracegroupgap": 0
        },
        "template": {
         "data": {
          "bar": [
           {
            "error_x": {
             "color": "#2a3f5f"
            },
            "error_y": {
             "color": "#2a3f5f"
            },
            "marker": {
             "line": {
              "color": "#E5ECF6",
              "width": 0.5
             },
             "pattern": {
              "fillmode": "overlay",
              "size": 10,
              "solidity": 0.2
             }
            },
            "type": "bar"
           }
          ],
          "barpolar": [
           {
            "marker": {
             "line": {
              "color": "#E5ECF6",
              "width": 0.5
             },
             "pattern": {
              "fillmode": "overlay",
              "size": 10,
              "solidity": 0.2
             }
            },
            "type": "barpolar"
           }
          ],
          "carpet": [
           {
            "aaxis": {
             "endlinecolor": "#2a3f5f",
             "gridcolor": "white",
             "linecolor": "white",
             "minorgridcolor": "white",
             "startlinecolor": "#2a3f5f"
            },
            "baxis": {
             "endlinecolor": "#2a3f5f",
             "gridcolor": "white",
             "linecolor": "white",
             "minorgridcolor": "white",
             "startlinecolor": "#2a3f5f"
            },
            "type": "carpet"
           }
          ],
          "choropleth": [
           {
            "colorbar": {
             "outlinewidth": 0,
             "ticks": ""
            },
            "type": "choropleth"
           }
          ],
          "contour": [
           {
            "colorbar": {
             "outlinewidth": 0,
             "ticks": ""
            },
            "colorscale": [
             [
              0,
              "#0d0887"
             ],
             [
              0.1111111111111111,
              "#46039f"
             ],
             [
              0.2222222222222222,
              "#7201a8"
             ],
             [
              0.3333333333333333,
              "#9c179e"
             ],
             [
              0.4444444444444444,
              "#bd3786"
             ],
             [
              0.5555555555555556,
              "#d8576b"
             ],
             [
              0.6666666666666666,
              "#ed7953"
             ],
             [
              0.7777777777777778,
              "#fb9f3a"
             ],
             [
              0.8888888888888888,
              "#fdca26"
             ],
             [
              1,
              "#f0f921"
             ]
            ],
            "type": "contour"
           }
          ],
          "contourcarpet": [
           {
            "colorbar": {
             "outlinewidth": 0,
             "ticks": ""
            },
            "type": "contourcarpet"
           }
          ],
          "heatmap": [
           {
            "colorbar": {
             "outlinewidth": 0,
             "ticks": ""
            },
            "colorscale": [
             [
              0,
              "#0d0887"
             ],
             [
              0.1111111111111111,
              "#46039f"
             ],
             [
              0.2222222222222222,
              "#7201a8"
             ],
             [
              0.3333333333333333,
              "#9c179e"
             ],
             [
              0.4444444444444444,
              "#bd3786"
             ],
             [
              0.5555555555555556,
              "#d8576b"
             ],
             [
              0.6666666666666666,
              "#ed7953"
             ],
             [
              0.7777777777777778,
              "#fb9f3a"
             ],
             [
              0.8888888888888888,
              "#fdca26"
             ],
             [
              1,
              "#f0f921"
             ]
            ],
            "type": "heatmap"
           }
          ],
          "heatmapgl": [
           {
            "colorbar": {
             "outlinewidth": 0,
             "ticks": ""
            },
            "colorscale": [
             [
              0,
              "#0d0887"
             ],
             [
              0.1111111111111111,
              "#46039f"
             ],
             [
              0.2222222222222222,
              "#7201a8"
             ],
             [
              0.3333333333333333,
              "#9c179e"
             ],
             [
              0.4444444444444444,
              "#bd3786"
             ],
             [
              0.5555555555555556,
              "#d8576b"
             ],
             [
              0.6666666666666666,
              "#ed7953"
             ],
             [
              0.7777777777777778,
              "#fb9f3a"
             ],
             [
              0.8888888888888888,
              "#fdca26"
             ],
             [
              1,
              "#f0f921"
             ]
            ],
            "type": "heatmapgl"
           }
          ],
          "histogram": [
           {
            "marker": {
             "pattern": {
              "fillmode": "overlay",
              "size": 10,
              "solidity": 0.2
             }
            },
            "type": "histogram"
           }
          ],
          "histogram2d": [
           {
            "colorbar": {
             "outlinewidth": 0,
             "ticks": ""
            },
            "colorscale": [
             [
              0,
              "#0d0887"
             ],
             [
              0.1111111111111111,
              "#46039f"
             ],
             [
              0.2222222222222222,
              "#7201a8"
             ],
             [
              0.3333333333333333,
              "#9c179e"
             ],
             [
              0.4444444444444444,
              "#bd3786"
             ],
             [
              0.5555555555555556,
              "#d8576b"
             ],
             [
              0.6666666666666666,
              "#ed7953"
             ],
             [
              0.7777777777777778,
              "#fb9f3a"
             ],
             [
              0.8888888888888888,
              "#fdca26"
             ],
             [
              1,
              "#f0f921"
             ]
            ],
            "type": "histogram2d"
           }
          ],
          "histogram2dcontour": [
           {
            "colorbar": {
             "outlinewidth": 0,
             "ticks": ""
            },
            "colorscale": [
             [
              0,
              "#0d0887"
             ],
             [
              0.1111111111111111,
              "#46039f"
             ],
             [
              0.2222222222222222,
              "#7201a8"
             ],
             [
              0.3333333333333333,
              "#9c179e"
             ],
             [
              0.4444444444444444,
              "#bd3786"
             ],
             [
              0.5555555555555556,
              "#d8576b"
             ],
             [
              0.6666666666666666,
              "#ed7953"
             ],
             [
              0.7777777777777778,
              "#fb9f3a"
             ],
             [
              0.8888888888888888,
              "#fdca26"
             ],
             [
              1,
              "#f0f921"
             ]
            ],
            "type": "histogram2dcontour"
           }
          ],
          "mesh3d": [
           {
            "colorbar": {
             "outlinewidth": 0,
             "ticks": ""
            },
            "type": "mesh3d"
           }
          ],
          "parcoords": [
           {
            "line": {
             "colorbar": {
              "outlinewidth": 0,
              "ticks": ""
             }
            },
            "type": "parcoords"
           }
          ],
          "pie": [
           {
            "automargin": true,
            "type": "pie"
           }
          ],
          "scatter": [
           {
            "fillpattern": {
             "fillmode": "overlay",
             "size": 10,
             "solidity": 0.2
            },
            "type": "scatter"
           }
          ],
          "scatter3d": [
           {
            "line": {
             "colorbar": {
              "outlinewidth": 0,
              "ticks": ""
             }
            },
            "marker": {
             "colorbar": {
              "outlinewidth": 0,
              "ticks": ""
             }
            },
            "type": "scatter3d"
           }
          ],
          "scattercarpet": [
           {
            "marker": {
             "colorbar": {
              "outlinewidth": 0,
              "ticks": ""
             }
            },
            "type": "scattercarpet"
           }
          ],
          "scattergeo": [
           {
            "marker": {
             "colorbar": {
              "outlinewidth": 0,
              "ticks": ""
             }
            },
            "type": "scattergeo"
           }
          ],
          "scattergl": [
           {
            "marker": {
             "colorbar": {
              "outlinewidth": 0,
              "ticks": ""
             }
            },
            "type": "scattergl"
           }
          ],
          "scattermapbox": [
           {
            "marker": {
             "colorbar": {
              "outlinewidth": 0,
              "ticks": ""
             }
            },
            "type": "scattermapbox"
           }
          ],
          "scatterpolar": [
           {
            "marker": {
             "colorbar": {
              "outlinewidth": 0,
              "ticks": ""
             }
            },
            "type": "scatterpolar"
           }
          ],
          "scatterpolargl": [
           {
            "marker": {
             "colorbar": {
              "outlinewidth": 0,
              "ticks": ""
             }
            },
            "type": "scatterpolargl"
           }
          ],
          "scatterternary": [
           {
            "marker": {
             "colorbar": {
              "outlinewidth": 0,
              "ticks": ""
             }
            },
            "type": "scatterternary"
           }
          ],
          "surface": [
           {
            "colorbar": {
             "outlinewidth": 0,
             "ticks": ""
            },
            "colorscale": [
             [
              0,
              "#0d0887"
             ],
             [
              0.1111111111111111,
              "#46039f"
             ],
             [
              0.2222222222222222,
              "#7201a8"
             ],
             [
              0.3333333333333333,
              "#9c179e"
             ],
             [
              0.4444444444444444,
              "#bd3786"
             ],
             [
              0.5555555555555556,
              "#d8576b"
             ],
             [
              0.6666666666666666,
              "#ed7953"
             ],
             [
              0.7777777777777778,
              "#fb9f3a"
             ],
             [
              0.8888888888888888,
              "#fdca26"
             ],
             [
              1,
              "#f0f921"
             ]
            ],
            "type": "surface"
           }
          ],
          "table": [
           {
            "cells": {
             "fill": {
              "color": "#EBF0F8"
             },
             "line": {
              "color": "white"
             }
            },
            "header": {
             "fill": {
              "color": "#C8D4E3"
             },
             "line": {
              "color": "white"
             }
            },
            "type": "table"
           }
          ]
         },
         "layout": {
          "annotationdefaults": {
           "arrowcolor": "#2a3f5f",
           "arrowhead": 0,
           "arrowwidth": 1
          },
          "autotypenumbers": "strict",
          "coloraxis": {
           "colorbar": {
            "outlinewidth": 0,
            "ticks": ""
           }
          },
          "colorscale": {
           "diverging": [
            [
             0,
             "#8e0152"
            ],
            [
             0.1,
             "#c51b7d"
            ],
            [
             0.2,
             "#de77ae"
            ],
            [
             0.3,
             "#f1b6da"
            ],
            [
             0.4,
             "#fde0ef"
            ],
            [
             0.5,
             "#f7f7f7"
            ],
            [
             0.6,
             "#e6f5d0"
            ],
            [
             0.7,
             "#b8e186"
            ],
            [
             0.8,
             "#7fbc41"
            ],
            [
             0.9,
             "#4d9221"
            ],
            [
             1,
             "#276419"
            ]
           ],
           "sequential": [
            [
             0,
             "#0d0887"
            ],
            [
             0.1111111111111111,
             "#46039f"
            ],
            [
             0.2222222222222222,
             "#7201a8"
            ],
            [
             0.3333333333333333,
             "#9c179e"
            ],
            [
             0.4444444444444444,
             "#bd3786"
            ],
            [
             0.5555555555555556,
             "#d8576b"
            ],
            [
             0.6666666666666666,
             "#ed7953"
            ],
            [
             0.7777777777777778,
             "#fb9f3a"
            ],
            [
             0.8888888888888888,
             "#fdca26"
            ],
            [
             1,
             "#f0f921"
            ]
           ],
           "sequentialminus": [
            [
             0,
             "#0d0887"
            ],
            [
             0.1111111111111111,
             "#46039f"
            ],
            [
             0.2222222222222222,
             "#7201a8"
            ],
            [
             0.3333333333333333,
             "#9c179e"
            ],
            [
             0.4444444444444444,
             "#bd3786"
            ],
            [
             0.5555555555555556,
             "#d8576b"
            ],
            [
             0.6666666666666666,
             "#ed7953"
            ],
            [
             0.7777777777777778,
             "#fb9f3a"
            ],
            [
             0.8888888888888888,
             "#fdca26"
            ],
            [
             1,
             "#f0f921"
            ]
           ]
          },
          "colorway": [
           "#636efa",
           "#EF553B",
           "#00cc96",
           "#ab63fa",
           "#FFA15A",
           "#19d3f3",
           "#FF6692",
           "#B6E880",
           "#FF97FF",
           "#FECB52"
          ],
          "font": {
           "color": "#2a3f5f"
          },
          "geo": {
           "bgcolor": "white",
           "lakecolor": "white",
           "landcolor": "#E5ECF6",
           "showlakes": true,
           "showland": true,
           "subunitcolor": "white"
          },
          "hoverlabel": {
           "align": "left"
          },
          "hovermode": "closest",
          "mapbox": {
           "style": "light"
          },
          "paper_bgcolor": "white",
          "plot_bgcolor": "#E5ECF6",
          "polar": {
           "angularaxis": {
            "gridcolor": "white",
            "linecolor": "white",
            "ticks": ""
           },
           "bgcolor": "#E5ECF6",
           "radialaxis": {
            "gridcolor": "white",
            "linecolor": "white",
            "ticks": ""
           }
          },
          "scene": {
           "xaxis": {
            "backgroundcolor": "#E5ECF6",
            "gridcolor": "white",
            "gridwidth": 2,
            "linecolor": "white",
            "showbackground": true,
            "ticks": "",
            "zerolinecolor": "white"
           },
           "yaxis": {
            "backgroundcolor": "#E5ECF6",
            "gridcolor": "white",
            "gridwidth": 2,
            "linecolor": "white",
            "showbackground": true,
            "ticks": "",
            "zerolinecolor": "white"
           },
           "zaxis": {
            "backgroundcolor": "#E5ECF6",
            "gridcolor": "white",
            "gridwidth": 2,
            "linecolor": "white",
            "showbackground": true,
            "ticks": "",
            "zerolinecolor": "white"
           }
          },
          "shapedefaults": {
           "line": {
            "color": "#2a3f5f"
           }
          },
          "ternary": {
           "aaxis": {
            "gridcolor": "white",
            "linecolor": "white",
            "ticks": ""
           },
           "baxis": {
            "gridcolor": "white",
            "linecolor": "white",
            "ticks": ""
           },
           "bgcolor": "#E5ECF6",
           "caxis": {
            "gridcolor": "white",
            "linecolor": "white",
            "ticks": ""
           }
          },
          "title": {
           "x": 0.05
          },
          "xaxis": {
           "automargin": true,
           "gridcolor": "white",
           "linecolor": "white",
           "ticks": "",
           "title": {
            "standoff": 15
           },
           "zerolinecolor": "white",
           "zerolinewidth": 2
          },
          "yaxis": {
           "automargin": true,
           "gridcolor": "white",
           "linecolor": "white",
           "ticks": "",
           "title": {
            "standoff": 15
           },
           "zerolinecolor": "white",
           "zerolinewidth": 2
          }
         }
        },
        "title": {
         "text": "VIDEOS PER CATEGORY"
        }
       }
      }
     },
     "metadata": {},
     "output_type": "display_data"
    },
    {
     "data": {
      "application/vnd.plotly.v1+json": {
       "config": {
        "plotlyServerURL": "https://plot.ly"
       },
       "data": [
        {
         "domain": {
          "x": [
           0,
           1
          ],
          "y": [
           0,
           1
          ]
         },
         "hovertemplate": "label=%{label}<br>SUBSCRIBERS=%{value}<extra></extra>",
         "labels": [
          "Entertainment",
          "Music",
          "Kids",
          "Entertainment",
          "Kids",
          "Kids",
          "Kids",
          "Entertainment",
          "Music",
          "Sports/Entertainment",
          "Movies",
          "Music",
          "Entertainment",
          "Kids",
          "Entertainment",
          "DIY/Education",
          "Music",
          "Kids",
          "Music",
          "Entertainment",
          "Music",
          "Music",
          "Music",
          "Music",
          "Music",
          "News",
          "Kids",
          "Entertainment",
          "Kids",
          "Music",
          "Movies",
          "Music",
          "Music",
          "Sports/Entertainment",
          "Music",
          "Music",
          "Music",
          "Kids",
          "Entertainment",
          "Kids",
          "Kids",
          "Entertainment",
          "Music",
          "Entertainment",
          "Music",
          "Entertainment",
          "Movies",
          "Education",
          "Entertainment",
          "Music",
          "Entertainment",
          "Gaming/Entertainment",
          "Gaming/Entertainment",
          "Entertainment",
          "Entertainment",
          "Gaming/Entertainment",
          "Education",
          "Entertainment",
          "Entertainment",
          "Kids",
          "Gaming/Entertainment",
          "Entertainment",
          "Entertainment",
          "Music",
          "Entertainment",
          "Music",
          "Education",
          "Music",
          "Music",
          "Entertainment",
          "Entertainment",
          "Education",
          "Entertainment",
          "Kids",
          "Music",
          "Kids",
          "Gaming/Entertainment",
          "Gaming/Entertainment",
          "News",
          "Entertainment",
          "Music",
          "Kids",
          "Kids",
          "Entertainment",
          "Travel/Entertainment",
          "Entertainment",
          "Kids",
          "Music",
          "Gaming/Entertainment",
          "Animation",
          "Kids",
          "Gaming",
          "News",
          "Music",
          "Kids",
          "Entertainment",
          "Gaming/Entertainment",
          "Entertainment",
          "Education",
          "Kids",
          "Music",
          "Kids",
          "Entertainment",
          "Music",
          "Platform",
          "Gaming",
          "Entertainment",
          "Music",
          "Entertainment",
          "Gaming/Entertainment",
          "Entertainment",
          "Entertainment",
          "Movies",
          "Kids",
          "Education",
          "Gaming/Entertainment",
          "Entertainment",
          "Kids",
          "Music",
          "Music",
          "Entertainment",
          "Gaming/Entertainment",
          "Entertainment",
          "Entertainment",
          "Music",
          "Entertainment",
          "Entertainment",
          "Kids",
          "Music",
          "Music",
          "Entertainment",
          "Gaming/Entertainment",
          "Music",
          "Kids",
          "Kids",
          "Music",
          "Entertainment",
          "Entertainment",
          "Entertainment",
          "Kids",
          "Kids",
          "News",
          "Entertainment",
          "Entertainment",
          "Kids",
          "Kids",
          "Music",
          "Music",
          "Entertainment",
          "Entertainment",
          "Music",
          "Entertainment",
          "Music",
          "Kids",
          "Music",
          "Gaming/Entertainment",
          "Music",
          "Entertainment",
          "Entertainment",
          "Gaming/Entertainment",
          "Music",
          "Music",
          "Entertainment",
          "Music",
          "Entertainment",
          "Kids",
          "Music",
          "Entertainment",
          "Gaming/Entertainment",
          "Entertainment",
          "Entertainment",
          "Entertainment",
          "Entertainment",
          "Movies",
          "Music",
          "Entertainment",
          "Entertainment",
          "Entertainment",
          "Music",
          "Movies",
          "Kids",
          "Music",
          "Entertainment",
          "Education",
          "Gaming/Entertainment",
          "Kids",
          "Music",
          "Music",
          "Entertainment",
          "Entertainment",
          "Kids",
          "Entertainment",
          "Entertainment",
          "Entertainment",
          "toyoraljanahtv",
          "Entertainment",
          "Movies",
          "Music",
          "Entertainment",
          "Entertainment",
          "Music",
          "Entertainment",
          "Entertainment",
          "Entertainment",
          "Music",
          "Entertainment",
          "Gaming/Entertainment",
          "Music",
          "Kids",
          "Entertainment",
          "Entertainment",
          "Music",
          "Movies",
          "Entertainment",
          "Entertainment",
          "Music",
          "Entertainment",
          "Entertainment",
          "Entertainment",
          "Music",
          "Kids",
          "Music",
          "Entertainment",
          "Entertainment",
          "Kids",
          "Music",
          "Music",
          "Kids",
          "Entertainment",
          "News",
          "Entertainment",
          "Kids",
          "Education",
          "Entertainment",
          "Music",
          "Kids",
          "Gaming/Entertainment",
          "Kids",
          "Entertainment",
          "Gaming/Entertainment",
          "Education",
          "Music",
          "Entertainment",
          "Entertainment",
          "Entertainment",
          "Gaming/Entertainment",
          "News",
          "Entertainment",
          "Entertainment",
          "News",
          "Kids",
          "Entertainment",
          "Kids",
          "Animation",
          "Entertainment",
          "Entertainment",
          "Entertainment",
          "Entertainment",
          "Kids",
          "Kids",
          "Entertainment",
          "Music",
          "Music",
          "Movies",
          "Entertainment",
          "Kids",
          "Music",
          "Entertainment",
          "Music",
          "Music",
          "Music",
          "Entertainment",
          "Music",
          "Entertainment",
          "Music",
          "Kids",
          "Entertainment",
          "Gaming/Entertainment",
          "Entertainment",
          "Movies",
          "Entertainment",
          "Music",
          "Entertainment",
          "Music",
          "Movies",
          "Entertainment",
          "Kids",
          "Kids",
          "Kids",
          "Entertainment",
          "Entertainment",
          "Entertainment",
          "Kids",
          "Entertainment",
          "Gaming/Entertainment",
          "Kids",
          "Gaming/Entertainment",
          "Entertainment",
          "Entertainment",
          "Entertainment",
          "News",
          "Entertainment",
          "Education",
          "Entertainment",
          "Music",
          "Music",
          "Entertainment",
          "Kids",
          "Entertainment",
          "Kids",
          "Fitness/Health",
          "Entertainment",
          "Entertainment",
          "Music",
          "Kids",
          "Gaming/Entertainment",
          "Food",
          "Food",
          "Music",
          "Kids",
          "Entertainment",
          "Music",
          "Movies",
          "Beauty/Lifestyle",
          "Music",
          "Music",
          "Kids",
          "Music",
          "Kids",
          "Music",
          "Music",
          "Education",
          "Charity/Non-profit",
          "Entertainment",
          "Music",
          "Entertainment",
          "Music",
          "Entertainment",
          "Entertainment",
          "Entertainment",
          "Music",
          "Music",
          "Kids",
          "Kids",
          "Gaming/Entertainment",
          "Music",
          "Politics",
          "Technology",
          "Entertainment",
          "Entertainment",
          "Entertainment",
          "Kids",
          "Music",
          "Music",
          "DIY",
          "Entertainment",
          "News",
          "Beauty/Lifestyle",
          "Gaming/Entertainment",
          "Entertainment",
          "Entertainment",
          "Gaming/Entertainment",
          "Music",
          "Entertainment",
          "Music",
          "Gaming/Entertainment",
          "Animation",
          "Music",
          "Entertainment",
          "Entertainment",
          "Technology",
          "Entertainment",
          "Music",
          "Gaming/Entertainment",
          "News",
          "Entertainment",
          "Entertainment",
          "Entertainment",
          "Music",
          "Entertainment",
          "Education",
          "Entertainment",
          "Education",
          "Kids",
          "Kids",
          "Entertainment",
          "Entertainment",
          "Kids",
          "Entertainment",
          "Movies",
          "Entertainment",
          "Kids",
          "Entertainment",
          "Kids",
          "Entertainment",
          "Entertainment",
          "Music",
          "Entertainment",
          "Music",
          "Gaming/Entertainment",
          "Movies",
          "News",
          "Music",
          "Entertainment",
          "Kids",
          "Kids",
          "Education",
          "Entertainment",
          "Entertainment",
          "Entertainment",
          "Music",
          "Music",
          "Entertainment",
          "Kids",
          "Gaming/Entertainment",
          "Entertainment",
          "Education",
          "Kids",
          "Gaming/Entertainment",
          "Education",
          "News",
          "Kids",
          "Entertainment",
          "Sports",
          "Music",
          "Education",
          "Music",
          "Music",
          "Entertainment",
          "News",
          "Entertainment",
          "Entertainment",
          "Entertainment",
          "Entertainment",
          "Gaming/Entertainment",
          "Entertainment",
          "Entertainment",
          "Food",
          "Education",
          "Entertainment",
          "Entertainment",
          "Entertainment",
          "Music",
          "Entertainment",
          "Kids",
          "Entertainment",
          "Gaming/Entertainment",
          "Entertainment",
          "Education",
          "Animation",
          "Animation",
          "Music",
          "News",
          "Music",
          "Entertainment",
          "Entertainment",
          "Gaming/Entertainment",
          "Music",
          "Kids",
          "Arab Games Network",
          "Kids",
          "Sports",
          "Entertainment",
          "Entertainment",
          "Entertainment",
          "Entertainment",
          "Entertainment",
          "Entertainment",
          "Entertainment",
          "Entertainment",
          "News",
          "Entertainment",
          "Entertainment",
          "Music",
          "Entertainment",
          "Entertainment",
          "Food",
          "Gaming/Entertainment",
          "Kids",
          "Gaming/Entertainment",
          "Education",
          "Kids",
          "DIY",
          "Entertainment",
          "Entertainment"
         ],
         "legendgroup": "",
         "name": "",
         "showlegend": true,
         "textposition": "inside",
         "type": "pie",
         "values": [
          27250000,
          27250000,
          27250000,
          27250000,
          27250000,
          27250000,
          27250000,
          27250000,
          27250000,
          27250000,
          27250000,
          27250000,
          27250000,
          27250000,
          27250000,
          27250000,
          27250000,
          27250000,
          27250000,
          27250000,
          27250000,
          68500000,
          27250000,
          67099999,
          66200000,
          27250000,
          27250000,
          63300000,
          62300000,
          27250000,
          27250000,
          60500000,
          60300000,
          60200000,
          60100000,
          59200000,
          57100000,
          56900000,
          56800000,
          56800000,
          27250000,
          54800000,
          54700000,
          27250000,
          54200000,
          27250000,
          53500000,
          53400000,
          52000000,
          51700000,
          51100000,
          50500000,
          50200000,
          50100000,
          49500000,
          49500000,
          49400000,
          48500000,
          27250000,
          47900000,
          47600000,
          47600000,
          47500000,
          47400000,
          46300000,
          46200000,
          45800000,
          45500000,
          45500000,
          45200000,
          45000000,
          45000000,
          44700000,
          44600000,
          44500000,
          44400000,
          44100000,
          44000000,
          43800000,
          43800000,
          27250000,
          27250000,
          43200000,
          43200000,
          43000000,
          42900000,
          42700000,
          42600000,
          42300000,
          42100000,
          42100000,
          42000000,
          41900000,
          41800000,
          27250000,
          41100000,
          41000000,
          41000000,
          41000000,
          27250000,
          27250000,
          40800000,
          40800000,
          40700000,
          40600000,
          40600000,
          40600000,
          40500000,
          40400000,
          40400000,
          27250000,
          40300000,
          40100000,
          40000000,
          39900000,
          39800000,
          39800000,
          39400000,
          27250000,
          39200000,
          39000000,
          38600000,
          38300000,
          38300000,
          38200000,
          38000000,
          38000000,
          37900000,
          37500000,
          27250000,
          37000000,
          36800000,
          36800000,
          36700000,
          36600000,
          36500000,
          36500000,
          36400000,
          36200000,
          36200000,
          36000000,
          35900000,
          35800000,
          27250000,
          35800000,
          27250000,
          35400000,
          35300000,
          35300000,
          35200000,
          27250000,
          35000000,
          34800000,
          34800000,
          34700000,
          34700000,
          34600000,
          34400000,
          34300000,
          34300000,
          34100000,
          34100000,
          34000000,
          33900000,
          33800000,
          33800000,
          33700000,
          33700000,
          33500000,
          33500000,
          33400000,
          33400000,
          33299999,
          33299999,
          33299999,
          32799999,
          32799999,
          32700000,
          32700000,
          32600000,
          32600000,
          32500000,
          32500000,
          31900000,
          31900000,
          31900000,
          31800000,
          31800000,
          31700000,
          31700000,
          31600000,
          31600000,
          31600000,
          31600000,
          31600000,
          31500000,
          31500000,
          31500000,
          31400000,
          31400000,
          31300000,
          31300000,
          31300000,
          31200000,
          31200000,
          31100000,
          30700000,
          30700000,
          30700000,
          30700000,
          30700000,
          30600000,
          30500000,
          30500000,
          30400000,
          30400000,
          30400000,
          30400000,
          30400000,
          30300000,
          30300000,
          30200000,
          30200000,
          30100000,
          30100000,
          30000000,
          30000000,
          29900000,
          29800000,
          29800000,
          27250000,
          29400000,
          29300000,
          29200000,
          29100000,
          29100000,
          29100000,
          29100000,
          28800000,
          28800000,
          28700000,
          28500000,
          28400000,
          28400000,
          28400000,
          28400000,
          28300000,
          27250000,
          28100000,
          28000000,
          27900000,
          27800000,
          27800000,
          27700000,
          27600000,
          27250000,
          27400000,
          27400000,
          27300000,
          27200000,
          27200000,
          27100000,
          27100000,
          27100000,
          27100000,
          27000000,
          27000000,
          26900000,
          26800000,
          26800000,
          26700000,
          26600000,
          26600000,
          26600000,
          26600000,
          26500000,
          26500000,
          26400000,
          26400000,
          26400000,
          26400000,
          26400000,
          26300000,
          26300000,
          26300000,
          26300000,
          27250000,
          26200000,
          26200000,
          26100000,
          26100000,
          26000000,
          26000000,
          26000000,
          26000000,
          25900000,
          25800000,
          25800000,
          25700000,
          25700000,
          25600000,
          27250000,
          25600000,
          25600000,
          25600000,
          25500000,
          27250000,
          25400000,
          25400000,
          25300000,
          25300000,
          25300000,
          25100000,
          25100000,
          25000000,
          25000000,
          25000000,
          24900000,
          24900000,
          24800000,
          24800000,
          24800000,
          24700000,
          24700000,
          24700000,
          24600000,
          24600000,
          24600000,
          24600000,
          24600000,
          24500000,
          24500000,
          24500000,
          24500000,
          24500000,
          24400000,
          24400000,
          24400000,
          24400000,
          24400000,
          27250000,
          27250000,
          24100000,
          24100000,
          24100000,
          24100000,
          24100000,
          24100000,
          24100000,
          24100000,
          24000000,
          24000000,
          24000000,
          23900000,
          23900000,
          23900000,
          23900000,
          23900000,
          27250000,
          23800000,
          23800000,
          23700000,
          23700000,
          23700000,
          23700000,
          23700000,
          23600000,
          23600000,
          23600000,
          23600000,
          23600000,
          23500000,
          23500000,
          23400000,
          23400000,
          23300000,
          23300000,
          23300000,
          23300000,
          23300000,
          23200000,
          23100000,
          23100000,
          23000000,
          23000000,
          23000000,
          22900000,
          22900000,
          22900000,
          22900000,
          22900000,
          22900000,
          22800000,
          22800000,
          22800000,
          22700000,
          22700000,
          22700000,
          22600000,
          22600000,
          22600000,
          27250000,
          22500000,
          22400000,
          22400000,
          22400000,
          22400000,
          22300000,
          22300000,
          22300000,
          22200000,
          22200000,
          22200000,
          22100000,
          22100000,
          22100000,
          22000000,
          22000000,
          21900000,
          21900000,
          21900000,
          21900000,
          21800000,
          21800000,
          27250000,
          21800000,
          21800000,
          21700000,
          21600000,
          21600000,
          27250000,
          21600000,
          21600000,
          21500000,
          21500000,
          21500000,
          21400000,
          21400000,
          21400000,
          21400000,
          21400000,
          21400000,
          21300000,
          21300000,
          21300000,
          21200000,
          21200000,
          21200000,
          21200000,
          21200000,
          21100000,
          21100000,
          21100000,
          27250000,
          21000000,
          20900000,
          20900000,
          20900000,
          20900000,
          20900000,
          20900000,
          20900000,
          20900000,
          20900000,
          20900000,
          20800000,
          27250000,
          20800000,
          20800000,
          20800000,
          20800000,
          20800000,
          20800000,
          20800000,
          20700000,
          20700000,
          20700000,
          20700000,
          20600000,
          20600000,
          20600000,
          20600000,
          20600000,
          20500000,
          20500000
         ]
        }
       ],
       "layout": {
        "height": 500,
        "legend": {
         "title": {
          "text": "Categories"
         },
         "tracegroupgap": 0
        },
        "template": {
         "data": {
          "bar": [
           {
            "error_x": {
             "color": "#2a3f5f"
            },
            "error_y": {
             "color": "#2a3f5f"
            },
            "marker": {
             "line": {
              "color": "#E5ECF6",
              "width": 0.5
             },
             "pattern": {
              "fillmode": "overlay",
              "size": 10,
              "solidity": 0.2
             }
            },
            "type": "bar"
           }
          ],
          "barpolar": [
           {
            "marker": {
             "line": {
              "color": "#E5ECF6",
              "width": 0.5
             },
             "pattern": {
              "fillmode": "overlay",
              "size": 10,
              "solidity": 0.2
             }
            },
            "type": "barpolar"
           }
          ],
          "carpet": [
           {
            "aaxis": {
             "endlinecolor": "#2a3f5f",
             "gridcolor": "white",
             "linecolor": "white",
             "minorgridcolor": "white",
             "startlinecolor": "#2a3f5f"
            },
            "baxis": {
             "endlinecolor": "#2a3f5f",
             "gridcolor": "white",
             "linecolor": "white",
             "minorgridcolor": "white",
             "startlinecolor": "#2a3f5f"
            },
            "type": "carpet"
           }
          ],
          "choropleth": [
           {
            "colorbar": {
             "outlinewidth": 0,
             "ticks": ""
            },
            "type": "choropleth"
           }
          ],
          "contour": [
           {
            "colorbar": {
             "outlinewidth": 0,
             "ticks": ""
            },
            "colorscale": [
             [
              0,
              "#0d0887"
             ],
             [
              0.1111111111111111,
              "#46039f"
             ],
             [
              0.2222222222222222,
              "#7201a8"
             ],
             [
              0.3333333333333333,
              "#9c179e"
             ],
             [
              0.4444444444444444,
              "#bd3786"
             ],
             [
              0.5555555555555556,
              "#d8576b"
             ],
             [
              0.6666666666666666,
              "#ed7953"
             ],
             [
              0.7777777777777778,
              "#fb9f3a"
             ],
             [
              0.8888888888888888,
              "#fdca26"
             ],
             [
              1,
              "#f0f921"
             ]
            ],
            "type": "contour"
           }
          ],
          "contourcarpet": [
           {
            "colorbar": {
             "outlinewidth": 0,
             "ticks": ""
            },
            "type": "contourcarpet"
           }
          ],
          "heatmap": [
           {
            "colorbar": {
             "outlinewidth": 0,
             "ticks": ""
            },
            "colorscale": [
             [
              0,
              "#0d0887"
             ],
             [
              0.1111111111111111,
              "#46039f"
             ],
             [
              0.2222222222222222,
              "#7201a8"
             ],
             [
              0.3333333333333333,
              "#9c179e"
             ],
             [
              0.4444444444444444,
              "#bd3786"
             ],
             [
              0.5555555555555556,
              "#d8576b"
             ],
             [
              0.6666666666666666,
              "#ed7953"
             ],
             [
              0.7777777777777778,
              "#fb9f3a"
             ],
             [
              0.8888888888888888,
              "#fdca26"
             ],
             [
              1,
              "#f0f921"
             ]
            ],
            "type": "heatmap"
           }
          ],
          "heatmapgl": [
           {
            "colorbar": {
             "outlinewidth": 0,
             "ticks": ""
            },
            "colorscale": [
             [
              0,
              "#0d0887"
             ],
             [
              0.1111111111111111,
              "#46039f"
             ],
             [
              0.2222222222222222,
              "#7201a8"
             ],
             [
              0.3333333333333333,
              "#9c179e"
             ],
             [
              0.4444444444444444,
              "#bd3786"
             ],
             [
              0.5555555555555556,
              "#d8576b"
             ],
             [
              0.6666666666666666,
              "#ed7953"
             ],
             [
              0.7777777777777778,
              "#fb9f3a"
             ],
             [
              0.8888888888888888,
              "#fdca26"
             ],
             [
              1,
              "#f0f921"
             ]
            ],
            "type": "heatmapgl"
           }
          ],
          "histogram": [
           {
            "marker": {
             "pattern": {
              "fillmode": "overlay",
              "size": 10,
              "solidity": 0.2
             }
            },
            "type": "histogram"
           }
          ],
          "histogram2d": [
           {
            "colorbar": {
             "outlinewidth": 0,
             "ticks": ""
            },
            "colorscale": [
             [
              0,
              "#0d0887"
             ],
             [
              0.1111111111111111,
              "#46039f"
             ],
             [
              0.2222222222222222,
              "#7201a8"
             ],
             [
              0.3333333333333333,
              "#9c179e"
             ],
             [
              0.4444444444444444,
              "#bd3786"
             ],
             [
              0.5555555555555556,
              "#d8576b"
             ],
             [
              0.6666666666666666,
              "#ed7953"
             ],
             [
              0.7777777777777778,
              "#fb9f3a"
             ],
             [
              0.8888888888888888,
              "#fdca26"
             ],
             [
              1,
              "#f0f921"
             ]
            ],
            "type": "histogram2d"
           }
          ],
          "histogram2dcontour": [
           {
            "colorbar": {
             "outlinewidth": 0,
             "ticks": ""
            },
            "colorscale": [
             [
              0,
              "#0d0887"
             ],
             [
              0.1111111111111111,
              "#46039f"
             ],
             [
              0.2222222222222222,
              "#7201a8"
             ],
             [
              0.3333333333333333,
              "#9c179e"
             ],
             [
              0.4444444444444444,
              "#bd3786"
             ],
             [
              0.5555555555555556,
              "#d8576b"
             ],
             [
              0.6666666666666666,
              "#ed7953"
             ],
             [
              0.7777777777777778,
              "#fb9f3a"
             ],
             [
              0.8888888888888888,
              "#fdca26"
             ],
             [
              1,
              "#f0f921"
             ]
            ],
            "type": "histogram2dcontour"
           }
          ],
          "mesh3d": [
           {
            "colorbar": {
             "outlinewidth": 0,
             "ticks": ""
            },
            "type": "mesh3d"
           }
          ],
          "parcoords": [
           {
            "line": {
             "colorbar": {
              "outlinewidth": 0,
              "ticks": ""
             }
            },
            "type": "parcoords"
           }
          ],
          "pie": [
           {
            "automargin": true,
            "type": "pie"
           }
          ],
          "scatter": [
           {
            "fillpattern": {
             "fillmode": "overlay",
             "size": 10,
             "solidity": 0.2
            },
            "type": "scatter"
           }
          ],
          "scatter3d": [
           {
            "line": {
             "colorbar": {
              "outlinewidth": 0,
              "ticks": ""
             }
            },
            "marker": {
             "colorbar": {
              "outlinewidth": 0,
              "ticks": ""
             }
            },
            "type": "scatter3d"
           }
          ],
          "scattercarpet": [
           {
            "marker": {
             "colorbar": {
              "outlinewidth": 0,
              "ticks": ""
             }
            },
            "type": "scattercarpet"
           }
          ],
          "scattergeo": [
           {
            "marker": {
             "colorbar": {
              "outlinewidth": 0,
              "ticks": ""
             }
            },
            "type": "scattergeo"
           }
          ],
          "scattergl": [
           {
            "marker": {
             "colorbar": {
              "outlinewidth": 0,
              "ticks": ""
             }
            },
            "type": "scattergl"
           }
          ],
          "scattermapbox": [
           {
            "marker": {
             "colorbar": {
              "outlinewidth": 0,
              "ticks": ""
             }
            },
            "type": "scattermapbox"
           }
          ],
          "scatterpolar": [
           {
            "marker": {
             "colorbar": {
              "outlinewidth": 0,
              "ticks": ""
             }
            },
            "type": "scatterpolar"
           }
          ],
          "scatterpolargl": [
           {
            "marker": {
             "colorbar": {
              "outlinewidth": 0,
              "ticks": ""
             }
            },
            "type": "scatterpolargl"
           }
          ],
          "scatterternary": [
           {
            "marker": {
             "colorbar": {
              "outlinewidth": 0,
              "ticks": ""
             }
            },
            "type": "scatterternary"
           }
          ],
          "surface": [
           {
            "colorbar": {
             "outlinewidth": 0,
             "ticks": ""
            },
            "colorscale": [
             [
              0,
              "#0d0887"
             ],
             [
              0.1111111111111111,
              "#46039f"
             ],
             [
              0.2222222222222222,
              "#7201a8"
             ],
             [
              0.3333333333333333,
              "#9c179e"
             ],
             [
              0.4444444444444444,
              "#bd3786"
             ],
             [
              0.5555555555555556,
              "#d8576b"
             ],
             [
              0.6666666666666666,
              "#ed7953"
             ],
             [
              0.7777777777777778,
              "#fb9f3a"
             ],
             [
              0.8888888888888888,
              "#fdca26"
             ],
             [
              1,
              "#f0f921"
             ]
            ],
            "type": "surface"
           }
          ],
          "table": [
           {
            "cells": {
             "fill": {
              "color": "#EBF0F8"
             },
             "line": {
              "color": "white"
             }
            },
            "header": {
             "fill": {
              "color": "#C8D4E3"
             },
             "line": {
              "color": "white"
             }
            },
            "type": "table"
           }
          ]
         },
         "layout": {
          "annotationdefaults": {
           "arrowcolor": "#2a3f5f",
           "arrowhead": 0,
           "arrowwidth": 1
          },
          "autotypenumbers": "strict",
          "coloraxis": {
           "colorbar": {
            "outlinewidth": 0,
            "ticks": ""
           }
          },
          "colorscale": {
           "diverging": [
            [
             0,
             "#8e0152"
            ],
            [
             0.1,
             "#c51b7d"
            ],
            [
             0.2,
             "#de77ae"
            ],
            [
             0.3,
             "#f1b6da"
            ],
            [
             0.4,
             "#fde0ef"
            ],
            [
             0.5,
             "#f7f7f7"
            ],
            [
             0.6,
             "#e6f5d0"
            ],
            [
             0.7,
             "#b8e186"
            ],
            [
             0.8,
             "#7fbc41"
            ],
            [
             0.9,
             "#4d9221"
            ],
            [
             1,
             "#276419"
            ]
           ],
           "sequential": [
            [
             0,
             "#0d0887"
            ],
            [
             0.1111111111111111,
             "#46039f"
            ],
            [
             0.2222222222222222,
             "#7201a8"
            ],
            [
             0.3333333333333333,
             "#9c179e"
            ],
            [
             0.4444444444444444,
             "#bd3786"
            ],
            [
             0.5555555555555556,
             "#d8576b"
            ],
            [
             0.6666666666666666,
             "#ed7953"
            ],
            [
             0.7777777777777778,
             "#fb9f3a"
            ],
            [
             0.8888888888888888,
             "#fdca26"
            ],
            [
             1,
             "#f0f921"
            ]
           ],
           "sequentialminus": [
            [
             0,
             "#0d0887"
            ],
            [
             0.1111111111111111,
             "#46039f"
            ],
            [
             0.2222222222222222,
             "#7201a8"
            ],
            [
             0.3333333333333333,
             "#9c179e"
            ],
            [
             0.4444444444444444,
             "#bd3786"
            ],
            [
             0.5555555555555556,
             "#d8576b"
            ],
            [
             0.6666666666666666,
             "#ed7953"
            ],
            [
             0.7777777777777778,
             "#fb9f3a"
            ],
            [
             0.8888888888888888,
             "#fdca26"
            ],
            [
             1,
             "#f0f921"
            ]
           ]
          },
          "colorway": [
           "#636efa",
           "#EF553B",
           "#00cc96",
           "#ab63fa",
           "#FFA15A",
           "#19d3f3",
           "#FF6692",
           "#B6E880",
           "#FF97FF",
           "#FECB52"
          ],
          "font": {
           "color": "#2a3f5f"
          },
          "geo": {
           "bgcolor": "white",
           "lakecolor": "white",
           "landcolor": "#E5ECF6",
           "showlakes": true,
           "showland": true,
           "subunitcolor": "white"
          },
          "hoverlabel": {
           "align": "left"
          },
          "hovermode": "closest",
          "mapbox": {
           "style": "light"
          },
          "paper_bgcolor": "white",
          "plot_bgcolor": "#E5ECF6",
          "polar": {
           "angularaxis": {
            "gridcolor": "white",
            "linecolor": "white",
            "ticks": ""
           },
           "bgcolor": "#E5ECF6",
           "radialaxis": {
            "gridcolor": "white",
            "linecolor": "white",
            "ticks": ""
           }
          },
          "scene": {
           "xaxis": {
            "backgroundcolor": "#E5ECF6",
            "gridcolor": "white",
            "gridwidth": 2,
            "linecolor": "white",
            "showbackground": true,
            "ticks": "",
            "zerolinecolor": "white"
           },
           "yaxis": {
            "backgroundcolor": "#E5ECF6",
            "gridcolor": "white",
            "gridwidth": 2,
            "linecolor": "white",
            "showbackground": true,
            "ticks": "",
            "zerolinecolor": "white"
           },
           "zaxis": {
            "backgroundcolor": "#E5ECF6",
            "gridcolor": "white",
            "gridwidth": 2,
            "linecolor": "white",
            "showbackground": true,
            "ticks": "",
            "zerolinecolor": "white"
           }
          },
          "shapedefaults": {
           "line": {
            "color": "#2a3f5f"
           }
          },
          "ternary": {
           "aaxis": {
            "gridcolor": "white",
            "linecolor": "white",
            "ticks": ""
           },
           "baxis": {
            "gridcolor": "white",
            "linecolor": "white",
            "ticks": ""
           },
           "bgcolor": "#E5ECF6",
           "caxis": {
            "gridcolor": "white",
            "linecolor": "white",
            "ticks": ""
           }
          },
          "title": {
           "x": 0.05
          },
          "xaxis": {
           "automargin": true,
           "gridcolor": "white",
           "linecolor": "white",
           "ticks": "",
           "title": {
            "standoff": 15
           },
           "zerolinecolor": "white",
           "zerolinewidth": 2
          },
          "yaxis": {
           "automargin": true,
           "gridcolor": "white",
           "linecolor": "white",
           "ticks": "",
           "title": {
            "standoff": 15
           },
           "zerolinecolor": "white",
           "zerolinewidth": 2
          }
         }
        },
        "title": {
         "text": "SUBSCRIBERS PER CATEGORY"
        }
       }
      }
     },
     "metadata": {},
     "output_type": "display_data"
    },
    {
     "data": {
      "application/vnd.plotly.v1+json": {
       "config": {
        "plotlyServerURL": "https://plot.ly"
       },
       "data": [
        {
         "domain": {
          "x": [
           0,
           1
          ],
          "y": [
           0,
           1
          ]
         },
         "hovertemplate": "label=%{label}<br>VIEWS=%{value}<extra></extra>",
         "labels": [
          "Entertainment",
          "Music",
          "Kids",
          "Entertainment",
          "Kids",
          "Kids",
          "Kids",
          "Entertainment",
          "Music",
          "Sports/Entertainment",
          "Movies",
          "Music",
          "Entertainment",
          "Kids",
          "Entertainment",
          "DIY/Education",
          "Music",
          "Kids",
          "Music",
          "Entertainment",
          "Music",
          "Music",
          "Music",
          "Music",
          "Music",
          "News",
          "Kids",
          "Entertainment",
          "Kids",
          "Music",
          "Movies",
          "Music",
          "Music",
          "Sports/Entertainment",
          "Music",
          "Music",
          "Music",
          "Kids",
          "Entertainment",
          "Kids",
          "Kids",
          "Entertainment",
          "Music",
          "Entertainment",
          "Music",
          "Entertainment",
          "Movies",
          "Education",
          "Entertainment",
          "Music",
          "Entertainment",
          "Gaming/Entertainment",
          "Gaming/Entertainment",
          "Entertainment",
          "Entertainment",
          "Gaming/Entertainment",
          "Education",
          "Entertainment",
          "Entertainment",
          "Kids",
          "Gaming/Entertainment",
          "Entertainment",
          "Entertainment",
          "Music",
          "Entertainment",
          "Music",
          "Education",
          "Music",
          "Music",
          "Entertainment",
          "Entertainment",
          "Education",
          "Entertainment",
          "Kids",
          "Music",
          "Kids",
          "Gaming/Entertainment",
          "Gaming/Entertainment",
          "News",
          "Entertainment",
          "Music",
          "Kids",
          "Kids",
          "Entertainment",
          "Travel/Entertainment",
          "Entertainment",
          "Kids",
          "Music",
          "Gaming/Entertainment",
          "Animation",
          "Kids",
          "Gaming",
          "News",
          "Music",
          "Kids",
          "Entertainment",
          "Gaming/Entertainment",
          "Entertainment",
          "Education",
          "Kids",
          "Music",
          "Kids",
          "Entertainment",
          "Music",
          "Platform",
          "Gaming",
          "Entertainment",
          "Music",
          "Entertainment",
          "Gaming/Entertainment",
          "Entertainment",
          "Entertainment",
          "Movies",
          "Kids",
          "Education",
          "Gaming/Entertainment",
          "Entertainment",
          "Kids",
          "Music",
          "Music",
          "Entertainment",
          "Gaming/Entertainment",
          "Entertainment",
          "Entertainment",
          "Music",
          "Entertainment",
          "Entertainment",
          "Kids",
          "Music",
          "Music",
          "Entertainment",
          "Gaming/Entertainment",
          "Music",
          "Kids",
          "Kids",
          "Music",
          "Entertainment",
          "Entertainment",
          "Entertainment",
          "Kids",
          "Kids",
          "News",
          "Entertainment",
          "Entertainment",
          "Kids",
          "Kids",
          "Music",
          "Music",
          "Entertainment",
          "Entertainment",
          "Music",
          "Entertainment",
          "Music",
          "Kids",
          "Music",
          "Gaming/Entertainment",
          "Music",
          "Entertainment",
          "Entertainment",
          "Gaming/Entertainment",
          "Music",
          "Music",
          "Entertainment",
          "Music",
          "Entertainment",
          "Kids",
          "Music",
          "Entertainment",
          "Gaming/Entertainment",
          "Entertainment",
          "Entertainment",
          "Entertainment",
          "Entertainment",
          "Movies",
          "Music",
          "Entertainment",
          "Entertainment",
          "Entertainment",
          "Music",
          "Movies",
          "Kids",
          "Music",
          "Entertainment",
          "Education",
          "Gaming/Entertainment",
          "Kids",
          "Music",
          "Music",
          "Entertainment",
          "Entertainment",
          "Kids",
          "Entertainment",
          "Entertainment",
          "Entertainment",
          "toyoraljanahtv",
          "Entertainment",
          "Movies",
          "Music",
          "Entertainment",
          "Entertainment",
          "Music",
          "Entertainment",
          "Entertainment",
          "Entertainment",
          "Music",
          "Entertainment",
          "Gaming/Entertainment",
          "Music",
          "Kids",
          "Entertainment",
          "Entertainment",
          "Music",
          "Movies",
          "Entertainment",
          "Entertainment",
          "Music",
          "Entertainment",
          "Entertainment",
          "Entertainment",
          "Music",
          "Kids",
          "Music",
          "Entertainment",
          "Entertainment",
          "Kids",
          "Music",
          "Music",
          "Kids",
          "Entertainment",
          "News",
          "Entertainment",
          "Kids",
          "Education",
          "Entertainment",
          "Music",
          "Kids",
          "Gaming/Entertainment",
          "Kids",
          "Entertainment",
          "Gaming/Entertainment",
          "Education",
          "Music",
          "Entertainment",
          "Entertainment",
          "Entertainment",
          "Gaming/Entertainment",
          "News",
          "Entertainment",
          "Entertainment",
          "News",
          "Kids",
          "Entertainment",
          "Kids",
          "Animation",
          "Entertainment",
          "Entertainment",
          "Entertainment",
          "Entertainment",
          "Kids",
          "Kids",
          "Entertainment",
          "Music",
          "Music",
          "Movies",
          "Entertainment",
          "Kids",
          "Music",
          "Entertainment",
          "Music",
          "Music",
          "Music",
          "Entertainment",
          "Music",
          "Entertainment",
          "Music",
          "Kids",
          "Entertainment",
          "Gaming/Entertainment",
          "Entertainment",
          "Movies",
          "Entertainment",
          "Music",
          "Entertainment",
          "Music",
          "Movies",
          "Entertainment",
          "Kids",
          "Kids",
          "Kids",
          "Entertainment",
          "Entertainment",
          "Entertainment",
          "Kids",
          "Entertainment",
          "Gaming/Entertainment",
          "Kids",
          "Gaming/Entertainment",
          "Entertainment",
          "Entertainment",
          "Entertainment",
          "News",
          "Entertainment",
          "Education",
          "Entertainment",
          "Music",
          "Music",
          "Entertainment",
          "Kids",
          "Entertainment",
          "Kids",
          "Fitness/Health",
          "Entertainment",
          "Entertainment",
          "Music",
          "Kids",
          "Gaming/Entertainment",
          "Food",
          "Food",
          "Music",
          "Kids",
          "Entertainment",
          "Music",
          "Movies",
          "Beauty/Lifestyle",
          "Music",
          "Music",
          "Kids",
          "Music",
          "Kids",
          "Music",
          "Music",
          "Education",
          "Charity/Non-profit",
          "Entertainment",
          "Music",
          "Entertainment",
          "Music",
          "Entertainment",
          "Entertainment",
          "Entertainment",
          "Music",
          "Music",
          "Kids",
          "Kids",
          "Gaming/Entertainment",
          "Music",
          "Politics",
          "Technology",
          "Entertainment",
          "Entertainment",
          "Entertainment",
          "Kids",
          "Music",
          "Music",
          "DIY",
          "Entertainment",
          "News",
          "Beauty/Lifestyle",
          "Gaming/Entertainment",
          "Entertainment",
          "Entertainment",
          "Gaming/Entertainment",
          "Music",
          "Entertainment",
          "Music",
          "Gaming/Entertainment",
          "Animation",
          "Music",
          "Entertainment",
          "Entertainment",
          "Technology",
          "Entertainment",
          "Music",
          "Gaming/Entertainment",
          "News",
          "Entertainment",
          "Entertainment",
          "Entertainment",
          "Music",
          "Entertainment",
          "Education",
          "Entertainment",
          "Education",
          "Kids",
          "Kids",
          "Entertainment",
          "Entertainment",
          "Kids",
          "Entertainment",
          "Movies",
          "Entertainment",
          "Kids",
          "Entertainment",
          "Kids",
          "Entertainment",
          "Entertainment",
          "Music",
          "Entertainment",
          "Music",
          "Gaming/Entertainment",
          "Movies",
          "News",
          "Music",
          "Entertainment",
          "Kids",
          "Kids",
          "Education",
          "Entertainment",
          "Entertainment",
          "Entertainment",
          "Music",
          "Music",
          "Entertainment",
          "Kids",
          "Gaming/Entertainment",
          "Entertainment",
          "Education",
          "Kids",
          "Gaming/Entertainment",
          "Education",
          "News",
          "Kids",
          "Entertainment",
          "Sports",
          "Music",
          "Education",
          "Music",
          "Music",
          "Entertainment",
          "News",
          "Entertainment",
          "Entertainment",
          "Entertainment",
          "Entertainment",
          "Gaming/Entertainment",
          "Entertainment",
          "Entertainment",
          "Food",
          "Education",
          "Entertainment",
          "Entertainment",
          "Entertainment",
          "Music",
          "Entertainment",
          "Kids",
          "Entertainment",
          "Gaming/Entertainment",
          "Entertainment",
          "Education",
          "Animation",
          "Animation",
          "Music",
          "News",
          "Music",
          "Entertainment",
          "Entertainment",
          "Gaming/Entertainment",
          "Music",
          "Kids",
          "Arab Games Network",
          "Kids",
          "Sports",
          "Entertainment",
          "Entertainment",
          "Entertainment",
          "Entertainment",
          "Entertainment",
          "Entertainment",
          "Entertainment",
          "Entertainment",
          "News",
          "Entertainment",
          "Entertainment",
          "Music",
          "Entertainment",
          "Entertainment",
          "Food",
          "Gaming/Entertainment",
          "Kids",
          "Gaming/Entertainment",
          "Education",
          "Kids",
          "DIY",
          "Entertainment",
          "Entertainment"
         ],
         "legendgroup": "",
         "name": "",
         "showlegend": true,
         "textposition": "inside",
         "type": "pie",
         "values": [
          13645000000,
          13645000000,
          13645000000,
          13645000000,
          13645000000,
          13645000000,
          13645000000,
          13645000000,
          13645000000,
          13645000000,
          13645000000,
          13645000000,
          13645000000,
          13645000000,
          13645000000,
          13645000000,
          13645000000,
          13645000000,
          13645000000,
          13645000000,
          13645000000,
          29300000000,
          13645000000,
          38290000000,
          38830000000,
          13645000000,
          13645000000,
          9280000000,
          36120000000,
          13645000000,
          13645000000,
          31930000000,
          29730000000,
          17420000000,
          41110000000,
          35440000000,
          15740000000,
          34450000000,
          26050000000,
          11600000000,
          13645000000,
          28700000000,
          32439999999,
          13645000000,
          26210000000,
          13645000000,
          24550000000,
          6320000000,
          24220000000,
          15720000000,
          14160000000,
          30910000000,
          15440000000,
          18530000000,
          39210000000,
          16180000000,
          6460000000,
          2650000000,
          13645000000,
          35010000000,
          28400000000,
          22800000000,
          10600000000,
          19750000000,
          17670000000,
          30350000000,
          7710000000,
          14120000000,
          8109999999,
          19290000000,
          26800000000,
          6570000000,
          4510000000,
          11150000000,
          39100000000,
          27620000000,
          28890000000,
          25300000000,
          7860000000,
          4890000000,
          13645000000,
          13645000000,
          24340000000,
          20450000000,
          25020000000,
          32750000000,
          9740000000,
          7340000000,
          27610000000,
          18940000000,
          3760000000,
          16600000000,
          50790000000,
          4210000000,
          13645000000,
          19560000000,
          40510000000,
          24950000000,
          7540000000,
          13645000000,
          13645000000,
          30660000000,
          28120000000,
          21550000000,
          39280000000,
          26490000000,
          3030000000,
          11760000000,
          17340000000,
          11070000000,
          13645000000,
          7450000000,
          27610000000,
          16820000000,
          15960000000,
          31120000000,
          7000000000,
          5830000000,
          13645000000,
          13000000000,
          24370000000,
          14340000000,
          12100000000,
          9310000000,
          23150000000,
          43110000000,
          21030000000,
          16930000000,
          30010000000,
          13645000000,
          24100000000,
          24960000000,
          16420000000,
          21480000000,
          23620000000,
          28690000000,
          19090000000,
          23880000000,
          16559999999,
          15580000000,
          21740000000,
          32400000000,
          21710000000,
          13645000000,
          12910000000,
          13645000000,
          25890000000,
          37650000000,
          13720000000,
          27430000000,
          13645000000,
          14320000000,
          31980000000,
          19500000000,
          18110000000,
          13920000000,
          14000000000,
          25060000000,
          24000000000,
          16840000000,
          20450000000,
          15790000000,
          17720000000,
          10610000000,
          13060000000,
          11720000000,
          11120000000,
          6070000000,
          16489999999,
          3780000000,
          22770000000,
          13460000000,
          18660000000,
          11210000000,
          3420000000,
          22290000000,
          12620000000,
          23400000000,
          19170000000,
          27400000000,
          27350000000,
          29450000000,
          8920000000,
          24350000000,
          6980000000,
          3110000000,
          17210000000,
          15790000000,
          18710000000,
          16210000000,
          26420000000,
          19710000000,
          17630000000,
          12730000000,
          5150000000,
          28950000000,
          17340000000,
          9750000000,
          27790000000,
          5170000000,
          25040000000,
          15600000000,
          8460000000,
          17070000000,
          12540000000,
          20730000000,
          17840000000,
          16770000000,
          13820000000,
          13770000000,
          5990000000,
          7790000000,
          17590000000,
          10000000000,
          37990000000,
          17010000000,
          16030000000,
          8940000000,
          4760000000,
          18970000000,
          14450000000,
          38770000000,
          13710000000,
          26990000000,
          12410000000,
          23940000000,
          17890000000,
          23150000000,
          14640000000,
          13710000000,
          13645000000,
          26330000000,
          22540000000,
          25410000000,
          27350000000,
          22520000000,
          17520000000,
          4130000000,
          11950000000,
          4750000000,
          19830000000,
          2430000000,
          14130000000,
          10130000000,
          8500000000,
          2140000000,
          8710000000,
          13645000000,
          9370000000,
          4770000000,
          16260000000,
          12600000000,
          6560000000,
          12600000000,
          6910000000,
          13645000000,
          12840000000,
          10700000000,
          3270000000,
          16200000000,
          12510000000,
          28220000000,
          18760000000,
          16309999999,
          7940000000,
          18790000000,
          17970000000,
          21050000000,
          12720000000,
          11260000000,
          17200000000,
          19490000000,
          19040000000,
          17370000000,
          10800000000,
          19720000000,
          12860000000,
          13530000000,
          9910000000,
          7950000000,
          6530000000,
          4970000000,
          19060000000,
          9420000000,
          8220000000,
          5380000000,
          13645000000,
          13420000000,
          8660000000,
          7320000000,
          6810000000,
          18210000000,
          15330000000,
          9120000000,
          5230000000,
          16020000000,
          10530000000,
          8690000000,
          6100000000,
          3000000000,
          13550000000,
          13645000000,
          11850000000,
          11270000000,
          11200000000,
          28310000000,
          13645000000,
          16850000000,
          9890000000,
          25610000000,
          18500000000,
          3190000000,
          12960000000,
          11140000000,
          20450000000,
          14640000000,
          2500000000,
          15250000000,
          7330000000,
          25220000000,
          11730000000,
          8060000000,
          24980000000,
          3190000000,
          2590000000,
          22010000000,
          19060000000,
          15620000000,
          14330000000,
          12400000000,
          24650000000,
          18810000000,
          16070000000,
          2720000000,
          797360000,
          22630000000,
          9020000000,
          8660000000,
          7490000000,
          2470000000,
          13645000000,
          13645000000,
          27120000000,
          17270000000,
          12880000000,
          11130000000,
          9440000000,
          6020000000,
          5580000000,
          4690000000,
          22220000000,
          9820000000,
          6810000000,
          23920000000,
          16579999999,
          11900000000,
          10360000000,
          4160000000,
          13645000000,
          4380000000,
          2670000000,
          17570000000,
          15900000000,
          15200000000,
          13310000000,
          9870000000,
          22430000000,
          15090000000,
          15070000000,
          13180000000,
          11500000000,
          6010000000,
          3680000000,
          17320000000,
          14480000000,
          24930000000,
          14700000000,
          9990000000,
          9120000000,
          6350000000,
          2340000000,
          9950000000,
          6010000000,
          18200000000,
          9980000000,
          8029999999,
          17410000000,
          16950000000,
          10430000000,
          5720000000,
          5680000000,
          1390,
          20720000000,
          13580000000,
          6030000000,
          20510000000,
          15020000000,
          11550000000,
          8640000000,
          7160000000,
          6280000000,
          13645000000,
          10810000000,
          13830000000,
          12120000000,
          8060000000,
          2780000000,
          16960000000,
          14120000000,
          9340000000,
          9240000000,
          6350000000,
          4040000000,
          11420000000,
          8870000000,
          6840000000,
          20790000000,
          5460000000,
          12210000000,
          9410000000,
          4190000000,
          2860000000,
          23490000000,
          14690000000,
          13645000000,
          11650000000,
          4110000000,
          12630000000,
          19280000000,
          19190000000,
          13645000000,
          11200000000,
          9150000000,
          16360000000,
          12380000000,
          6450000000,
          8810000000,
          8580000000,
          6130000000,
          5140000000,
          4870000000,
          4660000000,
          18080000000,
          15100000000,
          488840000,
          8460000000,
          7250000000,
          6210000000,
          2170000000,
          1940000000,
          11870000000,
          9900000000,
          3880000000,
          13645000000,
          16329999999,
          14510000000,
          11270000000,
          11010000000,
          10900000000,
          10120000000,
          9520000000,
          9460000000,
          6520000000,
          4400000000,
          4070000000,
          12110000000,
          13645000000,
          5000000000,
          4630000000,
          3560000000,
          2930000000,
          2730000000,
          2640000000,
          1910000000,
          15800000000,
          14380000000,
          7590000000,
          4130000000,
          22280000000,
          9230000000,
          8279999999,
          4550000000,
          1910000000,
          7630000000,
          6010000000
         ]
        }
       ],
       "layout": {
        "height": 500,
        "legend": {
         "title": {
          "text": "Categories"
         },
         "tracegroupgap": 0
        },
        "template": {
         "data": {
          "bar": [
           {
            "error_x": {
             "color": "#2a3f5f"
            },
            "error_y": {
             "color": "#2a3f5f"
            },
            "marker": {
             "line": {
              "color": "#E5ECF6",
              "width": 0.5
             },
             "pattern": {
              "fillmode": "overlay",
              "size": 10,
              "solidity": 0.2
             }
            },
            "type": "bar"
           }
          ],
          "barpolar": [
           {
            "marker": {
             "line": {
              "color": "#E5ECF6",
              "width": 0.5
             },
             "pattern": {
              "fillmode": "overlay",
              "size": 10,
              "solidity": 0.2
             }
            },
            "type": "barpolar"
           }
          ],
          "carpet": [
           {
            "aaxis": {
             "endlinecolor": "#2a3f5f",
             "gridcolor": "white",
             "linecolor": "white",
             "minorgridcolor": "white",
             "startlinecolor": "#2a3f5f"
            },
            "baxis": {
             "endlinecolor": "#2a3f5f",
             "gridcolor": "white",
             "linecolor": "white",
             "minorgridcolor": "white",
             "startlinecolor": "#2a3f5f"
            },
            "type": "carpet"
           }
          ],
          "choropleth": [
           {
            "colorbar": {
             "outlinewidth": 0,
             "ticks": ""
            },
            "type": "choropleth"
           }
          ],
          "contour": [
           {
            "colorbar": {
             "outlinewidth": 0,
             "ticks": ""
            },
            "colorscale": [
             [
              0,
              "#0d0887"
             ],
             [
              0.1111111111111111,
              "#46039f"
             ],
             [
              0.2222222222222222,
              "#7201a8"
             ],
             [
              0.3333333333333333,
              "#9c179e"
             ],
             [
              0.4444444444444444,
              "#bd3786"
             ],
             [
              0.5555555555555556,
              "#d8576b"
             ],
             [
              0.6666666666666666,
              "#ed7953"
             ],
             [
              0.7777777777777778,
              "#fb9f3a"
             ],
             [
              0.8888888888888888,
              "#fdca26"
             ],
             [
              1,
              "#f0f921"
             ]
            ],
            "type": "contour"
           }
          ],
          "contourcarpet": [
           {
            "colorbar": {
             "outlinewidth": 0,
             "ticks": ""
            },
            "type": "contourcarpet"
           }
          ],
          "heatmap": [
           {
            "colorbar": {
             "outlinewidth": 0,
             "ticks": ""
            },
            "colorscale": [
             [
              0,
              "#0d0887"
             ],
             [
              0.1111111111111111,
              "#46039f"
             ],
             [
              0.2222222222222222,
              "#7201a8"
             ],
             [
              0.3333333333333333,
              "#9c179e"
             ],
             [
              0.4444444444444444,
              "#bd3786"
             ],
             [
              0.5555555555555556,
              "#d8576b"
             ],
             [
              0.6666666666666666,
              "#ed7953"
             ],
             [
              0.7777777777777778,
              "#fb9f3a"
             ],
             [
              0.8888888888888888,
              "#fdca26"
             ],
             [
              1,
              "#f0f921"
             ]
            ],
            "type": "heatmap"
           }
          ],
          "heatmapgl": [
           {
            "colorbar": {
             "outlinewidth": 0,
             "ticks": ""
            },
            "colorscale": [
             [
              0,
              "#0d0887"
             ],
             [
              0.1111111111111111,
              "#46039f"
             ],
             [
              0.2222222222222222,
              "#7201a8"
             ],
             [
              0.3333333333333333,
              "#9c179e"
             ],
             [
              0.4444444444444444,
              "#bd3786"
             ],
             [
              0.5555555555555556,
              "#d8576b"
             ],
             [
              0.6666666666666666,
              "#ed7953"
             ],
             [
              0.7777777777777778,
              "#fb9f3a"
             ],
             [
              0.8888888888888888,
              "#fdca26"
             ],
             [
              1,
              "#f0f921"
             ]
            ],
            "type": "heatmapgl"
           }
          ],
          "histogram": [
           {
            "marker": {
             "pattern": {
              "fillmode": "overlay",
              "size": 10,
              "solidity": 0.2
             }
            },
            "type": "histogram"
           }
          ],
          "histogram2d": [
           {
            "colorbar": {
             "outlinewidth": 0,
             "ticks": ""
            },
            "colorscale": [
             [
              0,
              "#0d0887"
             ],
             [
              0.1111111111111111,
              "#46039f"
             ],
             [
              0.2222222222222222,
              "#7201a8"
             ],
             [
              0.3333333333333333,
              "#9c179e"
             ],
             [
              0.4444444444444444,
              "#bd3786"
             ],
             [
              0.5555555555555556,
              "#d8576b"
             ],
             [
              0.6666666666666666,
              "#ed7953"
             ],
             [
              0.7777777777777778,
              "#fb9f3a"
             ],
             [
              0.8888888888888888,
              "#fdca26"
             ],
             [
              1,
              "#f0f921"
             ]
            ],
            "type": "histogram2d"
           }
          ],
          "histogram2dcontour": [
           {
            "colorbar": {
             "outlinewidth": 0,
             "ticks": ""
            },
            "colorscale": [
             [
              0,
              "#0d0887"
             ],
             [
              0.1111111111111111,
              "#46039f"
             ],
             [
              0.2222222222222222,
              "#7201a8"
             ],
             [
              0.3333333333333333,
              "#9c179e"
             ],
             [
              0.4444444444444444,
              "#bd3786"
             ],
             [
              0.5555555555555556,
              "#d8576b"
             ],
             [
              0.6666666666666666,
              "#ed7953"
             ],
             [
              0.7777777777777778,
              "#fb9f3a"
             ],
             [
              0.8888888888888888,
              "#fdca26"
             ],
             [
              1,
              "#f0f921"
             ]
            ],
            "type": "histogram2dcontour"
           }
          ],
          "mesh3d": [
           {
            "colorbar": {
             "outlinewidth": 0,
             "ticks": ""
            },
            "type": "mesh3d"
           }
          ],
          "parcoords": [
           {
            "line": {
             "colorbar": {
              "outlinewidth": 0,
              "ticks": ""
             }
            },
            "type": "parcoords"
           }
          ],
          "pie": [
           {
            "automargin": true,
            "type": "pie"
           }
          ],
          "scatter": [
           {
            "fillpattern": {
             "fillmode": "overlay",
             "size": 10,
             "solidity": 0.2
            },
            "type": "scatter"
           }
          ],
          "scatter3d": [
           {
            "line": {
             "colorbar": {
              "outlinewidth": 0,
              "ticks": ""
             }
            },
            "marker": {
             "colorbar": {
              "outlinewidth": 0,
              "ticks": ""
             }
            },
            "type": "scatter3d"
           }
          ],
          "scattercarpet": [
           {
            "marker": {
             "colorbar": {
              "outlinewidth": 0,
              "ticks": ""
             }
            },
            "type": "scattercarpet"
           }
          ],
          "scattergeo": [
           {
            "marker": {
             "colorbar": {
              "outlinewidth": 0,
              "ticks": ""
             }
            },
            "type": "scattergeo"
           }
          ],
          "scattergl": [
           {
            "marker": {
             "colorbar": {
              "outlinewidth": 0,
              "ticks": ""
             }
            },
            "type": "scattergl"
           }
          ],
          "scattermapbox": [
           {
            "marker": {
             "colorbar": {
              "outlinewidth": 0,
              "ticks": ""
             }
            },
            "type": "scattermapbox"
           }
          ],
          "scatterpolar": [
           {
            "marker": {
             "colorbar": {
              "outlinewidth": 0,
              "ticks": ""
             }
            },
            "type": "scatterpolar"
           }
          ],
          "scatterpolargl": [
           {
            "marker": {
             "colorbar": {
              "outlinewidth": 0,
              "ticks": ""
             }
            },
            "type": "scatterpolargl"
           }
          ],
          "scatterternary": [
           {
            "marker": {
             "colorbar": {
              "outlinewidth": 0,
              "ticks": ""
             }
            },
            "type": "scatterternary"
           }
          ],
          "surface": [
           {
            "colorbar": {
             "outlinewidth": 0,
             "ticks": ""
            },
            "colorscale": [
             [
              0,
              "#0d0887"
             ],
             [
              0.1111111111111111,
              "#46039f"
             ],
             [
              0.2222222222222222,
              "#7201a8"
             ],
             [
              0.3333333333333333,
              "#9c179e"
             ],
             [
              0.4444444444444444,
              "#bd3786"
             ],
             [
              0.5555555555555556,
              "#d8576b"
             ],
             [
              0.6666666666666666,
              "#ed7953"
             ],
             [
              0.7777777777777778,
              "#fb9f3a"
             ],
             [
              0.8888888888888888,
              "#fdca26"
             ],
             [
              1,
              "#f0f921"
             ]
            ],
            "type": "surface"
           }
          ],
          "table": [
           {
            "cells": {
             "fill": {
              "color": "#EBF0F8"
             },
             "line": {
              "color": "white"
             }
            },
            "header": {
             "fill": {
              "color": "#C8D4E3"
             },
             "line": {
              "color": "white"
             }
            },
            "type": "table"
           }
          ]
         },
         "layout": {
          "annotationdefaults": {
           "arrowcolor": "#2a3f5f",
           "arrowhead": 0,
           "arrowwidth": 1
          },
          "autotypenumbers": "strict",
          "coloraxis": {
           "colorbar": {
            "outlinewidth": 0,
            "ticks": ""
           }
          },
          "colorscale": {
           "diverging": [
            [
             0,
             "#8e0152"
            ],
            [
             0.1,
             "#c51b7d"
            ],
            [
             0.2,
             "#de77ae"
            ],
            [
             0.3,
             "#f1b6da"
            ],
            [
             0.4,
             "#fde0ef"
            ],
            [
             0.5,
             "#f7f7f7"
            ],
            [
             0.6,
             "#e6f5d0"
            ],
            [
             0.7,
             "#b8e186"
            ],
            [
             0.8,
             "#7fbc41"
            ],
            [
             0.9,
             "#4d9221"
            ],
            [
             1,
             "#276419"
            ]
           ],
           "sequential": [
            [
             0,
             "#0d0887"
            ],
            [
             0.1111111111111111,
             "#46039f"
            ],
            [
             0.2222222222222222,
             "#7201a8"
            ],
            [
             0.3333333333333333,
             "#9c179e"
            ],
            [
             0.4444444444444444,
             "#bd3786"
            ],
            [
             0.5555555555555556,
             "#d8576b"
            ],
            [
             0.6666666666666666,
             "#ed7953"
            ],
            [
             0.7777777777777778,
             "#fb9f3a"
            ],
            [
             0.8888888888888888,
             "#fdca26"
            ],
            [
             1,
             "#f0f921"
            ]
           ],
           "sequentialminus": [
            [
             0,
             "#0d0887"
            ],
            [
             0.1111111111111111,
             "#46039f"
            ],
            [
             0.2222222222222222,
             "#7201a8"
            ],
            [
             0.3333333333333333,
             "#9c179e"
            ],
            [
             0.4444444444444444,
             "#bd3786"
            ],
            [
             0.5555555555555556,
             "#d8576b"
            ],
            [
             0.6666666666666666,
             "#ed7953"
            ],
            [
             0.7777777777777778,
             "#fb9f3a"
            ],
            [
             0.8888888888888888,
             "#fdca26"
            ],
            [
             1,
             "#f0f921"
            ]
           ]
          },
          "colorway": [
           "#636efa",
           "#EF553B",
           "#00cc96",
           "#ab63fa",
           "#FFA15A",
           "#19d3f3",
           "#FF6692",
           "#B6E880",
           "#FF97FF",
           "#FECB52"
          ],
          "font": {
           "color": "#2a3f5f"
          },
          "geo": {
           "bgcolor": "white",
           "lakecolor": "white",
           "landcolor": "#E5ECF6",
           "showlakes": true,
           "showland": true,
           "subunitcolor": "white"
          },
          "hoverlabel": {
           "align": "left"
          },
          "hovermode": "closest",
          "mapbox": {
           "style": "light"
          },
          "paper_bgcolor": "white",
          "plot_bgcolor": "#E5ECF6",
          "polar": {
           "angularaxis": {
            "gridcolor": "white",
            "linecolor": "white",
            "ticks": ""
           },
           "bgcolor": "#E5ECF6",
           "radialaxis": {
            "gridcolor": "white",
            "linecolor": "white",
            "ticks": ""
           }
          },
          "scene": {
           "xaxis": {
            "backgroundcolor": "#E5ECF6",
            "gridcolor": "white",
            "gridwidth": 2,
            "linecolor": "white",
            "showbackground": true,
            "ticks": "",
            "zerolinecolor": "white"
           },
           "yaxis": {
            "backgroundcolor": "#E5ECF6",
            "gridcolor": "white",
            "gridwidth": 2,
            "linecolor": "white",
            "showbackground": true,
            "ticks": "",
            "zerolinecolor": "white"
           },
           "zaxis": {
            "backgroundcolor": "#E5ECF6",
            "gridcolor": "white",
            "gridwidth": 2,
            "linecolor": "white",
            "showbackground": true,
            "ticks": "",
            "zerolinecolor": "white"
           }
          },
          "shapedefaults": {
           "line": {
            "color": "#2a3f5f"
           }
          },
          "ternary": {
           "aaxis": {
            "gridcolor": "white",
            "linecolor": "white",
            "ticks": ""
           },
           "baxis": {
            "gridcolor": "white",
            "linecolor": "white",
            "ticks": ""
           },
           "bgcolor": "#E5ECF6",
           "caxis": {
            "gridcolor": "white",
            "linecolor": "white",
            "ticks": ""
           }
          },
          "title": {
           "x": 0.05
          },
          "xaxis": {
           "automargin": true,
           "gridcolor": "white",
           "linecolor": "white",
           "ticks": "",
           "title": {
            "standoff": 15
           },
           "zerolinecolor": "white",
           "zerolinewidth": 2
          },
          "yaxis": {
           "automargin": true,
           "gridcolor": "white",
           "linecolor": "white",
           "ticks": "",
           "title": {
            "standoff": 15
           },
           "zerolinecolor": "white",
           "zerolinewidth": 2
          }
         }
        },
        "title": {
         "text": "VIEWS PER CATEGORY"
        }
       }
      }
     },
     "metadata": {},
     "output_type": "display_data"
    }
   ],
   "source": [
    "for col in numeric_features.columns:\n",
    "    fig = px.pie(\n",
    "        numeric_features, values=col, names=categories, height=500, title=f\"{col} PER CATEGORY\"\n",
    "    )\n",
    "    fig.update_traces(textposition=\"inside\")\n",
    "    fig.update_layout(legend_title_text=\"Categories\")\n",
    "    fig.show()"
   ]
  },
  {
   "cell_type": "code",
   "execution_count": 1119,
   "metadata": {},
   "outputs": [
    {
     "data": {
      "application/vnd.plotly.v1+json": {
       "config": {
        "plotlyServerURL": "https://plot.ly"
       },
       "data": [
        {
         "alignmentgroup": "True",
         "bingroup": "x",
         "histfunc": "sum",
         "hovertemplate": "color=Entertainment<br>SUBSCRIBERS=%{x}<br>sum of VIEWS=%{y}<extra></extra>",
         "legendgroup": "Entertainment",
         "marker": {
          "color": "#636efa",
          "pattern": {
           "shape": ""
          }
         },
         "name": "Entertainment",
         "offsetgroup": "Entertainment",
         "orientation": "v",
         "showlegend": true,
         "type": "histogram",
         "x": [
          27250000,
          27250000,
          27250000,
          27250000,
          27250000,
          27250000,
          63300000,
          56800000,
          54800000,
          27250000,
          27250000,
          52000000,
          51100000,
          50100000,
          49500000,
          48500000,
          27250000,
          47600000,
          47500000,
          46300000,
          45200000,
          45000000,
          44700000,
          43800000,
          43200000,
          42900000,
          41100000,
          41000000,
          40800000,
          40600000,
          40400000,
          27250000,
          40300000,
          39800000,
          39000000,
          38300000,
          38300000,
          38000000,
          38000000,
          37000000,
          36500000,
          36400000,
          36200000,
          35800000,
          27250000,
          35300000,
          35200000,
          35000000,
          34400000,
          34300000,
          34000000,
          33800000,
          33700000,
          33500000,
          33400000,
          33400000,
          33299999,
          32799999,
          32799999,
          32700000,
          32500000,
          31700000,
          31700000,
          31600000,
          31600000,
          31600000,
          31500000,
          31400000,
          31400000,
          31300000,
          31300000,
          31200000,
          31100000,
          30700000,
          30700000,
          30500000,
          30400000,
          30400000,
          30400000,
          30400000,
          30200000,
          30100000,
          29800000,
          27250000,
          29200000,
          28800000,
          28400000,
          28400000,
          28400000,
          27250000,
          28100000,
          27800000,
          27600000,
          27250000,
          27400000,
          27400000,
          27200000,
          27100000,
          26900000,
          26600000,
          26600000,
          26500000,
          26400000,
          26400000,
          26300000,
          26300000,
          26100000,
          26100000,
          26000000,
          26000000,
          25800000,
          25700000,
          25700000,
          27250000,
          25600000,
          27250000,
          25400000,
          25300000,
          25100000,
          24800000,
          24500000,
          24400000,
          24400000,
          24400000,
          24400000,
          24100000,
          24100000,
          24000000,
          23900000,
          23800000,
          23800000,
          23700000,
          23600000,
          23600000,
          23500000,
          23300000,
          23300000,
          23300000,
          23300000,
          23100000,
          23000000,
          22900000,
          22900000,
          22900000,
          22800000,
          22800000,
          22700000,
          22700000,
          22400000,
          22300000,
          22300000,
          22300000,
          22200000,
          22100000,
          21800000,
          21600000,
          27250000,
          21600000,
          21600000,
          21500000,
          21500000,
          21400000,
          21400000,
          21400000,
          21400000,
          21300000,
          21200000,
          21200000,
          21000000,
          20900000,
          20900000,
          20900000,
          20900000,
          20800000,
          27250000,
          20800000,
          20800000,
          20800000,
          20800000,
          20800000,
          20700000,
          20700000,
          20500000,
          20500000
         ],
         "xaxis": "x",
         "y": [
          13645000000,
          13645000000,
          13645000000,
          13645000000,
          13645000000,
          13645000000,
          9280000000,
          26050000000,
          28700000000,
          13645000000,
          13645000000,
          24220000000,
          14160000000,
          18530000000,
          39210000000,
          2650000000,
          13645000000,
          22800000000,
          10600000000,
          17670000000,
          19290000000,
          26800000000,
          4510000000,
          4890000000,
          20450000000,
          32750000000,
          19560000000,
          24950000000,
          28120000000,
          3030000000,
          17340000000,
          13645000000,
          7450000000,
          7000000000,
          24370000000,
          12100000000,
          9310000000,
          43110000000,
          21030000000,
          24100000000,
          19090000000,
          23880000000,
          16559999999,
          21710000000,
          13645000000,
          13720000000,
          27430000000,
          14320000000,
          25060000000,
          24000000000,
          17720000000,
          13060000000,
          6070000000,
          3780000000,
          22770000000,
          13460000000,
          18660000000,
          22290000000,
          12620000000,
          23400000000,
          8920000000,
          18710000000,
          16210000000,
          19710000000,
          17630000000,
          12730000000,
          28950000000,
          27790000000,
          5170000000,
          15600000000,
          8460000000,
          17070000000,
          20730000000,
          13770000000,
          5990000000,
          10000000000,
          37990000000,
          16030000000,
          8940000000,
          4760000000,
          13710000000,
          26990000000,
          14640000000,
          13645000000,
          25410000000,
          11950000000,
          14130000000,
          10130000000,
          8500000000,
          13645000000,
          9370000000,
          12600000000,
          6910000000,
          13645000000,
          12840000000,
          10700000000,
          12510000000,
          7940000000,
          21050000000,
          19490000000,
          17370000000,
          12860000000,
          9910000000,
          6530000000,
          19060000000,
          5380000000,
          7320000000,
          6810000000,
          18210000000,
          9120000000,
          8690000000,
          6100000000,
          3000000000,
          13645000000,
          11270000000,
          13645000000,
          9890000000,
          3190000000,
          12960000000,
          11730000000,
          2720000000,
          22630000000,
          8660000000,
          7490000000,
          2470000000,
          5580000000,
          4690000000,
          22220000000,
          11900000000,
          4380000000,
          2670000000,
          15200000000,
          15070000000,
          13180000000,
          6010000000,
          24930000000,
          14700000000,
          9990000000,
          6350000000,
          9950000000,
          8029999999,
          17410000000,
          10430000000,
          5680000000,
          20720000000,
          6030000000,
          20510000000,
          11550000000,
          13830000000,
          16960000000,
          14120000000,
          9340000000,
          4040000000,
          6840000000,
          23490000000,
          19280000000,
          13645000000,
          11200000000,
          9150000000,
          16360000000,
          6450000000,
          8810000000,
          5140000000,
          4870000000,
          4660000000,
          15100000000,
          8460000000,
          6210000000,
          16329999999,
          14510000000,
          6520000000,
          4400000000,
          4070000000,
          12110000000,
          13645000000,
          5000000000,
          4630000000,
          3560000000,
          2730000000,
          2640000000,
          15800000000,
          14380000000,
          7630000000,
          6010000000
         ],
         "yaxis": "y"
        },
        {
         "alignmentgroup": "True",
         "bingroup": "x",
         "histfunc": "sum",
         "hovertemplate": "color=Music<br>SUBSCRIBERS=%{x}<br>sum of VIEWS=%{y}<extra></extra>",
         "legendgroup": "Music",
         "marker": {
          "color": "#EF553B",
          "pattern": {
           "shape": ""
          }
         },
         "name": "Music",
         "offsetgroup": "Music",
         "orientation": "v",
         "showlegend": true,
         "type": "histogram",
         "x": [
          27250000,
          27250000,
          27250000,
          27250000,
          27250000,
          27250000,
          68500000,
          27250000,
          67099999,
          66200000,
          27250000,
          60500000,
          60300000,
          60100000,
          59200000,
          57100000,
          54700000,
          54200000,
          51700000,
          47400000,
          46200000,
          45500000,
          45500000,
          44500000,
          27250000,
          42600000,
          41800000,
          27250000,
          40700000,
          40500000,
          27250000,
          39200000,
          38200000,
          37500000,
          27250000,
          36800000,
          36500000,
          35400000,
          35300000,
          27250000,
          34800000,
          34700000,
          34600000,
          34100000,
          34100000,
          33900000,
          33700000,
          33299999,
          32700000,
          32500000,
          31800000,
          31800000,
          31500000,
          31300000,
          31200000,
          30700000,
          30600000,
          30400000,
          30300000,
          30200000,
          30000000,
          30000000,
          29100000,
          28500000,
          27100000,
          27100000,
          27000000,
          26800000,
          26800000,
          26700000,
          26600000,
          26600000,
          26400000,
          26300000,
          25600000,
          25500000,
          25100000,
          24900000,
          24800000,
          24700000,
          24600000,
          24600000,
          24600000,
          24500000,
          24500000,
          24400000,
          27250000,
          27250000,
          24100000,
          24000000,
          23900000,
          23700000,
          23700000,
          23600000,
          23500000,
          23300000,
          22700000,
          22600000,
          22500000,
          22200000,
          22200000,
          27250000,
          21800000,
          21700000,
          21300000,
          21100000,
          27250000,
          20900000,
          20800000
         ],
         "xaxis": "x",
         "y": [
          13645000000,
          13645000000,
          13645000000,
          13645000000,
          13645000000,
          13645000000,
          29300000000,
          13645000000,
          38290000000,
          38830000000,
          13645000000,
          31930000000,
          29730000000,
          41110000000,
          35440000000,
          15740000000,
          32439999999,
          26210000000,
          15720000000,
          19750000000,
          30350000000,
          14120000000,
          8109999999,
          39100000000,
          13645000000,
          7340000000,
          4210000000,
          13645000000,
          21550000000,
          11760000000,
          13645000000,
          13000000000,
          23150000000,
          30010000000,
          13645000000,
          16420000000,
          28690000000,
          25890000000,
          37650000000,
          13645000000,
          31980000000,
          18110000000,
          14000000000,
          20450000000,
          15790000000,
          10610000000,
          11120000000,
          3420000000,
          19170000000,
          29450000000,
          17210000000,
          15790000000,
          9750000000,
          25040000000,
          12540000000,
          16770000000,
          7790000000,
          17010000000,
          18970000000,
          38770000000,
          23940000000,
          17890000000,
          27350000000,
          2430000000,
          28220000000,
          18760000000,
          17970000000,
          12720000000,
          11260000000,
          17200000000,
          19040000000,
          10800000000,
          4970000000,
          9420000000,
          11200000000,
          28310000000,
          11140000000,
          7330000000,
          8060000000,
          2590000000,
          22010000000,
          15620000000,
          12400000000,
          24650000000,
          797360000,
          9020000000,
          13645000000,
          13645000000,
          11130000000,
          6810000000,
          23920000000,
          15900000000,
          13310000000,
          15090000000,
          3680000000,
          9120000000,
          15020000000,
          8640000000,
          10810000000,
          9240000000,
          6350000000,
          13645000000,
          4110000000,
          12630000000,
          18080000000,
          9900000000,
          13645000000,
          11010000000,
          1910000000
         ],
         "yaxis": "y"
        },
        {
         "alignmentgroup": "True",
         "bingroup": "x",
         "histfunc": "sum",
         "hovertemplate": "color=Kids<br>SUBSCRIBERS=%{x}<br>sum of VIEWS=%{y}<extra></extra>",
         "legendgroup": "Kids",
         "marker": {
          "color": "#00cc96",
          "pattern": {
           "shape": ""
          }
         },
         "name": "Kids",
         "offsetgroup": "Kids",
         "orientation": "v",
         "showlegend": true,
         "type": "histogram",
         "x": [
          27250000,
          27250000,
          27250000,
          27250000,
          27250000,
          27250000,
          27250000,
          62300000,
          56900000,
          56800000,
          27250000,
          47900000,
          44600000,
          44400000,
          27250000,
          43200000,
          42700000,
          42100000,
          27250000,
          27250000,
          40800000,
          40000000,
          39400000,
          37900000,
          36700000,
          36600000,
          36200000,
          36000000,
          35800000,
          27250000,
          34800000,
          33800000,
          32600000,
          31900000,
          31600000,
          30700000,
          30300000,
          30100000,
          29900000,
          29400000,
          29100000,
          29100000,
          27900000,
          27800000,
          27300000,
          27200000,
          27000000,
          26500000,
          27250000,
          26200000,
          26200000,
          26000000,
          25900000,
          25400000,
          25300000,
          25000000,
          24800000,
          24600000,
          24600000,
          24100000,
          24100000,
          24000000,
          23000000,
          23000000,
          22900000,
          22900000,
          22800000,
          22400000,
          22400000,
          22100000,
          22000000,
          21900000,
          21300000,
          20900000,
          20900000,
          20600000,
          20600000
         ],
         "xaxis": "x",
         "y": [
          13645000000,
          13645000000,
          13645000000,
          13645000000,
          13645000000,
          13645000000,
          13645000000,
          36120000000,
          34450000000,
          11600000000,
          13645000000,
          35010000000,
          11150000000,
          27620000000,
          13645000000,
          24340000000,
          9740000000,
          3760000000,
          13645000000,
          13645000000,
          30660000000,
          16820000000,
          5830000000,
          16930000000,
          21480000000,
          23620000000,
          15580000000,
          21740000000,
          12910000000,
          13645000000,
          19500000000,
          11720000000,
          27350000000,
          3110000000,
          26420000000,
          13820000000,
          14450000000,
          12410000000,
          23150000000,
          26330000000,
          22520000000,
          4130000000,
          16260000000,
          6560000000,
          3270000000,
          16200000000,
          18790000000,
          19720000000,
          13645000000,
          13420000000,
          8660000000,
          15330000000,
          16020000000,
          16850000000,
          25610000000,
          20450000000,
          25220000000,
          19060000000,
          14330000000,
          27120000000,
          17270000000,
          9820000000,
          18200000000,
          9980000000,
          16950000000,
          1390,
          13580000000,
          12120000000,
          8060000000,
          11420000000,
          5460000000,
          2860000000,
          488840000,
          10900000000,
          9520000000,
          22280000000,
          4550000000
         ],
         "yaxis": "y"
        },
        {
         "alignmentgroup": "True",
         "bingroup": "x",
         "histfunc": "sum",
         "hovertemplate": "color=Sports/Entertainment<br>SUBSCRIBERS=%{x}<br>sum of VIEWS=%{y}<extra></extra>",
         "legendgroup": "Sports/Entertainment",
         "marker": {
          "color": "#ab63fa",
          "pattern": {
           "shape": ""
          }
         },
         "name": "Sports/Entertainment",
         "offsetgroup": "Sports/Entertainment",
         "orientation": "v",
         "showlegend": true,
         "type": "histogram",
         "x": [
          27250000,
          60200000
         ],
         "xaxis": "x",
         "y": [
          13645000000,
          17420000000
         ],
         "yaxis": "y"
        },
        {
         "alignmentgroup": "True",
         "bingroup": "x",
         "histfunc": "sum",
         "hovertemplate": "color=Movies<br>SUBSCRIBERS=%{x}<br>sum of VIEWS=%{y}<extra></extra>",
         "legendgroup": "Movies",
         "marker": {
          "color": "#FFA15A",
          "pattern": {
           "shape": ""
          }
         },
         "name": "Movies",
         "offsetgroup": "Movies",
         "orientation": "v",
         "showlegend": true,
         "type": "histogram",
         "x": [
          27250000,
          27250000,
          53500000,
          40100000,
          33299999,
          32600000,
          31500000,
          30500000,
          27100000,
          26400000,
          26300000,
          24700000,
          22900000,
          22600000
         ],
         "xaxis": "x",
         "y": [
          13645000000,
          13645000000,
          24550000000,
          27610000000,
          11210000000,
          27400000000,
          17340000000,
          17590000000,
          16309999999,
          7950000000,
          8220000000,
          24980000000,
          5720000000,
          6280000000
         ],
         "yaxis": "y"
        },
        {
         "alignmentgroup": "True",
         "bingroup": "x",
         "histfunc": "sum",
         "hovertemplate": "color=DIY/Education<br>SUBSCRIBERS=%{x}<br>sum of VIEWS=%{y}<extra></extra>",
         "legendgroup": "DIY/Education",
         "marker": {
          "color": "#19d3f3",
          "pattern": {
           "shape": ""
          }
         },
         "name": "DIY/Education",
         "offsetgroup": "DIY/Education",
         "orientation": "v",
         "showlegend": true,
         "type": "histogram",
         "x": [
          27250000
         ],
         "xaxis": "x",
         "y": [
          13645000000
         ],
         "yaxis": "y"
        },
        {
         "alignmentgroup": "True",
         "bingroup": "x",
         "histfunc": "sum",
         "hovertemplate": "color=News<br>SUBSCRIBERS=%{x}<br>sum of VIEWS=%{y}<extra></extra>",
         "legendgroup": "News",
         "marker": {
          "color": "#FF6692",
          "pattern": {
           "shape": ""
          }
         },
         "name": "News",
         "offsetgroup": "News",
         "orientation": "v",
         "showlegend": true,
         "type": "histogram",
         "x": [
          27250000,
          43800000,
          41900000,
          35900000,
          29800000,
          28300000,
          28000000,
          25600000,
          23900000,
          23400000,
          27250000,
          21900000,
          21600000,
          21100000,
          20800000
         ],
         "xaxis": "x",
         "y": [
          13645000000,
          7860000000,
          50790000000,
          32400000000,
          13710000000,
          8710000000,
          4770000000,
          13550000000,
          10360000000,
          14480000000,
          13645000000,
          4190000000,
          19190000000,
          3880000000,
          2930000000
         ],
         "yaxis": "y"
        },
        {
         "alignmentgroup": "True",
         "bingroup": "x",
         "histfunc": "sum",
         "hovertemplate": "color=Education<br>SUBSCRIBERS=%{x}<br>sum of VIEWS=%{y}<extra></extra>",
         "legendgroup": "Education",
         "marker": {
          "color": "#B6E880",
          "pattern": {
           "shape": ""
          }
         },
         "name": "Education",
         "offsetgroup": "Education",
         "orientation": "v",
         "showlegend": true,
         "type": "histogram",
         "x": [
          53400000,
          49400000,
          45800000,
          45000000,
          41000000,
          39900000,
          31900000,
          29300000,
          28700000,
          25600000,
          24500000,
          23200000,
          23100000,
          22400000,
          22000000,
          21900000,
          21800000,
          21400000,
          21200000,
          20600000
         ],
         "xaxis": "x",
         "y": [
          6320000000,
          6460000000,
          7710000000,
          6570000000,
          7540000000,
          15960000000,
          24350000000,
          22540000000,
          19830000000,
          11850000000,
          18810000000,
          2340000000,
          6010000000,
          2780000000,
          20790000000,
          9410000000,
          11650000000,
          6130000000,
          2170000000,
          8279999999
         ],
         "yaxis": "y"
        },
        {
         "alignmentgroup": "True",
         "bingroup": "x",
         "histfunc": "sum",
         "hovertemplate": "color=Gaming/Entertainment<br>SUBSCRIBERS=%{x}<br>sum of VIEWS=%{y}<extra></extra>",
         "legendgroup": "Gaming/Entertainment",
         "marker": {
          "color": "#FF97FF",
          "pattern": {
           "shape": ""
          }
         },
         "name": "Gaming/Entertainment",
         "offsetgroup": "Gaming/Entertainment",
         "orientation": "v",
         "showlegend": true,
         "type": "histogram",
         "x": [
          50500000,
          50200000,
          49500000,
          47600000,
          44100000,
          44000000,
          42300000,
          41000000,
          40400000,
          39800000,
          38600000,
          36800000,
          34700000,
          34300000,
          33500000,
          31900000,
          30700000,
          29100000,
          28800000,
          28400000,
          26400000,
          26000000,
          25800000,
          25000000,
          24100000,
          27250000,
          23700000,
          23700000,
          23400000,
          22600000,
          22100000,
          21900000,
          21500000,
          21200000,
          20900000,
          20700000,
          20600000
         ],
         "xaxis": "x",
         "y": [
          30910000000,
          15440000000,
          16180000000,
          28400000000,
          28890000000,
          25300000000,
          27610000000,
          40510000000,
          11070000000,
          31120000000,
          14340000000,
          24960000000,
          13920000000,
          16840000000,
          16489999999,
          6980000000,
          17840000000,
          17520000000,
          4750000000,
          2140000000,
          13530000000,
          5230000000,
          10530000000,
          14640000000,
          12880000000,
          13645000000,
          17570000000,
          9870000000,
          17320000000,
          7160000000,
          8870000000,
          12210000000,
          12380000000,
          7250000000,
          11270000000,
          4130000000,
          9230000000
         ],
         "yaxis": "y"
        },
        {
         "alignmentgroup": "True",
         "bingroup": "x",
         "histfunc": "sum",
         "hovertemplate": "color=Travel/Entertainment<br>SUBSCRIBERS=%{x}<br>sum of VIEWS=%{y}<extra></extra>",
         "legendgroup": "Travel/Entertainment",
         "marker": {
          "color": "#FECB52",
          "pattern": {
           "shape": ""
          }
         },
         "name": "Travel/Entertainment",
         "offsetgroup": "Travel/Entertainment",
         "orientation": "v",
         "showlegend": true,
         "type": "histogram",
         "x": [
          43000000
         ],
         "xaxis": "x",
         "y": [
          25020000000
         ],
         "yaxis": "y"
        },
        {
         "alignmentgroup": "True",
         "bingroup": "x",
         "histfunc": "sum",
         "hovertemplate": "color=Animation<br>SUBSCRIBERS=%{x}<br>sum of VIEWS=%{y}<extra></extra>",
         "legendgroup": "Animation",
         "marker": {
          "color": "#636efa",
          "pattern": {
           "shape": ""
          }
         },
         "name": "Animation",
         "offsetgroup": "Animation",
         "orientation": "v",
         "showlegend": true,
         "type": "histogram",
         "x": [
          42100000,
          27700000,
          23600000,
          21200000,
          21100000
         ],
         "xaxis": "x",
         "y": [
          18940000000,
          12600000000,
          22430000000,
          1940000000,
          11870000000
         ],
         "yaxis": "y"
        },
        {
         "alignmentgroup": "True",
         "bingroup": "x",
         "histfunc": "sum",
         "hovertemplate": "color=Gaming<br>SUBSCRIBERS=%{x}<br>sum of VIEWS=%{y}<extra></extra>",
         "legendgroup": "Gaming",
         "marker": {
          "color": "#EF553B",
          "pattern": {
           "shape": ""
          }
         },
         "name": "Gaming",
         "offsetgroup": "Gaming",
         "orientation": "v",
         "showlegend": true,
         "type": "histogram",
         "x": [
          42000000,
          40600000
         ],
         "xaxis": "x",
         "y": [
          16600000000,
          26490000000
         ],
         "yaxis": "y"
        },
        {
         "alignmentgroup": "True",
         "bingroup": "x",
         "histfunc": "sum",
         "hovertemplate": "color=Platform<br>SUBSCRIBERS=%{x}<br>sum of VIEWS=%{y}<extra></extra>",
         "legendgroup": "Platform",
         "marker": {
          "color": "#00cc96",
          "pattern": {
           "shape": ""
          }
         },
         "name": "Platform",
         "offsetgroup": "Platform",
         "orientation": "v",
         "showlegend": true,
         "type": "histogram",
         "x": [
          40600000
         ],
         "xaxis": "x",
         "y": [
          39280000000
         ],
         "yaxis": "y"
        },
        {
         "alignmentgroup": "True",
         "bingroup": "x",
         "histfunc": "sum",
         "hovertemplate": "color=toyoraljanahtv<br>SUBSCRIBERS=%{x}<br>sum of VIEWS=%{y}<extra></extra>",
         "legendgroup": "toyoraljanahtv",
         "marker": {
          "color": "#ab63fa",
          "pattern": {
           "shape": ""
          }
         },
         "name": "toyoraljanahtv",
         "offsetgroup": "toyoraljanahtv",
         "orientation": "v",
         "showlegend": true,
         "type": "histogram",
         "x": [
          31600000
         ],
         "xaxis": "x",
         "y": [
          5150000000
         ],
         "yaxis": "y"
        },
        {
         "alignmentgroup": "True",
         "bingroup": "x",
         "histfunc": "sum",
         "hovertemplate": "color=Fitness/Health<br>SUBSCRIBERS=%{x}<br>sum of VIEWS=%{y}<extra></extra>",
         "legendgroup": "Fitness/Health",
         "marker": {
          "color": "#FFA15A",
          "pattern": {
           "shape": ""
          }
         },
         "name": "Fitness/Health",
         "offsetgroup": "Fitness/Health",
         "orientation": "v",
         "showlegend": true,
         "type": "histogram",
         "x": [
          25300000
         ],
         "xaxis": "x",
         "y": [
          18500000000
         ],
         "yaxis": "y"
        },
        {
         "alignmentgroup": "True",
         "bingroup": "x",
         "histfunc": "sum",
         "hovertemplate": "color=Food<br>SUBSCRIBERS=%{x}<br>sum of VIEWS=%{y}<extra></extra>",
         "legendgroup": "Food",
         "marker": {
          "color": "#19d3f3",
          "pattern": {
           "shape": ""
          }
         },
         "name": "Food",
         "offsetgroup": "Food",
         "orientation": "v",
         "showlegend": true,
         "type": "histogram",
         "x": [
          25000000,
          24900000,
          21400000,
          20700000
         ],
         "xaxis": "x",
         "y": [
          2500000000,
          15250000000,
          8580000000,
          7590000000
         ],
         "yaxis": "y"
        },
        {
         "alignmentgroup": "True",
         "bingroup": "x",
         "histfunc": "sum",
         "hovertemplate": "color=Beauty/Lifestyle<br>SUBSCRIBERS=%{x}<br>sum of VIEWS=%{y}<extra></extra>",
         "legendgroup": "Beauty/Lifestyle",
         "marker": {
          "color": "#FF6692",
          "pattern": {
           "shape": ""
          }
         },
         "name": "Beauty/Lifestyle",
         "offsetgroup": "Beauty/Lifestyle",
         "orientation": "v",
         "showlegend": true,
         "type": "histogram",
         "x": [
          24700000,
          23900000
         ],
         "xaxis": "x",
         "y": [
          3190000000,
          4160000000
         ],
         "yaxis": "y"
        },
        {
         "alignmentgroup": "True",
         "bingroup": "x",
         "histfunc": "sum",
         "hovertemplate": "color=Charity/Non-profit<br>SUBSCRIBERS=%{x}<br>sum of VIEWS=%{y}<extra></extra>",
         "legendgroup": "Charity/Non-profit",
         "marker": {
          "color": "#B6E880",
          "pattern": {
           "shape": ""
          }
         },
         "name": "Charity/Non-profit",
         "offsetgroup": "Charity/Non-profit",
         "orientation": "v",
         "showlegend": true,
         "type": "histogram",
         "x": [
          24500000
         ],
         "xaxis": "x",
         "y": [
          16070000000
         ],
         "yaxis": "y"
        },
        {
         "alignmentgroup": "True",
         "bingroup": "x",
         "histfunc": "sum",
         "hovertemplate": "color=Politics<br>SUBSCRIBERS=%{x}<br>sum of VIEWS=%{y}<extra></extra>",
         "legendgroup": "Politics",
         "marker": {
          "color": "#FF97FF",
          "pattern": {
           "shape": ""
          }
         },
         "name": "Politics",
         "offsetgroup": "Politics",
         "orientation": "v",
         "showlegend": true,
         "type": "histogram",
         "x": [
          24100000
         ],
         "xaxis": "x",
         "y": [
          9440000000
         ],
         "yaxis": "y"
        },
        {
         "alignmentgroup": "True",
         "bingroup": "x",
         "histfunc": "sum",
         "hovertemplate": "color=Technology<br>SUBSCRIBERS=%{x}<br>sum of VIEWS=%{y}<extra></extra>",
         "legendgroup": "Technology",
         "marker": {
          "color": "#FECB52",
          "pattern": {
           "shape": ""
          }
         },
         "name": "Technology",
         "offsetgroup": "Technology",
         "orientation": "v",
         "showlegend": true,
         "type": "histogram",
         "x": [
          24100000,
          23600000
         ],
         "xaxis": "x",
         "y": [
          6020000000,
          11500000000
         ],
         "yaxis": "y"
        },
        {
         "alignmentgroup": "True",
         "bingroup": "x",
         "histfunc": "sum",
         "hovertemplate": "color=DIY<br>SUBSCRIBERS=%{x}<br>sum of VIEWS=%{y}<extra></extra>",
         "legendgroup": "DIY",
         "marker": {
          "color": "#636efa",
          "pattern": {
           "shape": ""
          }
         },
         "name": "DIY",
         "offsetgroup": "DIY",
         "orientation": "v",
         "showlegend": true,
         "type": "histogram",
         "x": [
          23900000,
          20600000
         ],
         "xaxis": "x",
         "y": [
          16579999999,
          1910000000
         ],
         "yaxis": "y"
        },
        {
         "alignmentgroup": "True",
         "bingroup": "x",
         "histfunc": "sum",
         "hovertemplate": "color=Sports<br>SUBSCRIBERS=%{x}<br>sum of VIEWS=%{y}<extra></extra>",
         "legendgroup": "Sports",
         "marker": {
          "color": "#EF553B",
          "pattern": {
           "shape": ""
          }
         },
         "name": "Sports",
         "offsetgroup": "Sports",
         "orientation": "v",
         "showlegend": true,
         "type": "histogram",
         "x": [
          21800000,
          20900000
         ],
         "xaxis": "x",
         "y": [
          14690000000,
          9460000000
         ],
         "yaxis": "y"
        },
        {
         "alignmentgroup": "True",
         "bingroup": "x",
         "histfunc": "sum",
         "hovertemplate": "color=Arab Games Network<br>SUBSCRIBERS=%{x}<br>sum of VIEWS=%{y}<extra></extra>",
         "legendgroup": "Arab Games Network",
         "marker": {
          "color": "#00cc96",
          "pattern": {
           "shape": ""
          }
         },
         "name": "Arab Games Network",
         "offsetgroup": "Arab Games Network",
         "orientation": "v",
         "showlegend": true,
         "type": "histogram",
         "x": [
          20900000
         ],
         "xaxis": "x",
         "y": [
          10120000000
         ],
         "yaxis": "y"
        }
       ],
       "layout": {
        "barmode": "relative",
        "legend": {
         "title": {
          "text": "Categories"
         },
         "tracegroupgap": 0
        },
        "margin": {
         "t": 60
        },
        "template": {
         "data": {
          "bar": [
           {
            "error_x": {
             "color": "#2a3f5f"
            },
            "error_y": {
             "color": "#2a3f5f"
            },
            "marker": {
             "line": {
              "color": "#E5ECF6",
              "width": 0.5
             },
             "pattern": {
              "fillmode": "overlay",
              "size": 10,
              "solidity": 0.2
             }
            },
            "type": "bar"
           }
          ],
          "barpolar": [
           {
            "marker": {
             "line": {
              "color": "#E5ECF6",
              "width": 0.5
             },
             "pattern": {
              "fillmode": "overlay",
              "size": 10,
              "solidity": 0.2
             }
            },
            "type": "barpolar"
           }
          ],
          "carpet": [
           {
            "aaxis": {
             "endlinecolor": "#2a3f5f",
             "gridcolor": "white",
             "linecolor": "white",
             "minorgridcolor": "white",
             "startlinecolor": "#2a3f5f"
            },
            "baxis": {
             "endlinecolor": "#2a3f5f",
             "gridcolor": "white",
             "linecolor": "white",
             "minorgridcolor": "white",
             "startlinecolor": "#2a3f5f"
            },
            "type": "carpet"
           }
          ],
          "choropleth": [
           {
            "colorbar": {
             "outlinewidth": 0,
             "ticks": ""
            },
            "type": "choropleth"
           }
          ],
          "contour": [
           {
            "colorbar": {
             "outlinewidth": 0,
             "ticks": ""
            },
            "colorscale": [
             [
              0,
              "#0d0887"
             ],
             [
              0.1111111111111111,
              "#46039f"
             ],
             [
              0.2222222222222222,
              "#7201a8"
             ],
             [
              0.3333333333333333,
              "#9c179e"
             ],
             [
              0.4444444444444444,
              "#bd3786"
             ],
             [
              0.5555555555555556,
              "#d8576b"
             ],
             [
              0.6666666666666666,
              "#ed7953"
             ],
             [
              0.7777777777777778,
              "#fb9f3a"
             ],
             [
              0.8888888888888888,
              "#fdca26"
             ],
             [
              1,
              "#f0f921"
             ]
            ],
            "type": "contour"
           }
          ],
          "contourcarpet": [
           {
            "colorbar": {
             "outlinewidth": 0,
             "ticks": ""
            },
            "type": "contourcarpet"
           }
          ],
          "heatmap": [
           {
            "colorbar": {
             "outlinewidth": 0,
             "ticks": ""
            },
            "colorscale": [
             [
              0,
              "#0d0887"
             ],
             [
              0.1111111111111111,
              "#46039f"
             ],
             [
              0.2222222222222222,
              "#7201a8"
             ],
             [
              0.3333333333333333,
              "#9c179e"
             ],
             [
              0.4444444444444444,
              "#bd3786"
             ],
             [
              0.5555555555555556,
              "#d8576b"
             ],
             [
              0.6666666666666666,
              "#ed7953"
             ],
             [
              0.7777777777777778,
              "#fb9f3a"
             ],
             [
              0.8888888888888888,
              "#fdca26"
             ],
             [
              1,
              "#f0f921"
             ]
            ],
            "type": "heatmap"
           }
          ],
          "heatmapgl": [
           {
            "colorbar": {
             "outlinewidth": 0,
             "ticks": ""
            },
            "colorscale": [
             [
              0,
              "#0d0887"
             ],
             [
              0.1111111111111111,
              "#46039f"
             ],
             [
              0.2222222222222222,
              "#7201a8"
             ],
             [
              0.3333333333333333,
              "#9c179e"
             ],
             [
              0.4444444444444444,
              "#bd3786"
             ],
             [
              0.5555555555555556,
              "#d8576b"
             ],
             [
              0.6666666666666666,
              "#ed7953"
             ],
             [
              0.7777777777777778,
              "#fb9f3a"
             ],
             [
              0.8888888888888888,
              "#fdca26"
             ],
             [
              1,
              "#f0f921"
             ]
            ],
            "type": "heatmapgl"
           }
          ],
          "histogram": [
           {
            "marker": {
             "pattern": {
              "fillmode": "overlay",
              "size": 10,
              "solidity": 0.2
             }
            },
            "type": "histogram"
           }
          ],
          "histogram2d": [
           {
            "colorbar": {
             "outlinewidth": 0,
             "ticks": ""
            },
            "colorscale": [
             [
              0,
              "#0d0887"
             ],
             [
              0.1111111111111111,
              "#46039f"
             ],
             [
              0.2222222222222222,
              "#7201a8"
             ],
             [
              0.3333333333333333,
              "#9c179e"
             ],
             [
              0.4444444444444444,
              "#bd3786"
             ],
             [
              0.5555555555555556,
              "#d8576b"
             ],
             [
              0.6666666666666666,
              "#ed7953"
             ],
             [
              0.7777777777777778,
              "#fb9f3a"
             ],
             [
              0.8888888888888888,
              "#fdca26"
             ],
             [
              1,
              "#f0f921"
             ]
            ],
            "type": "histogram2d"
           }
          ],
          "histogram2dcontour": [
           {
            "colorbar": {
             "outlinewidth": 0,
             "ticks": ""
            },
            "colorscale": [
             [
              0,
              "#0d0887"
             ],
             [
              0.1111111111111111,
              "#46039f"
             ],
             [
              0.2222222222222222,
              "#7201a8"
             ],
             [
              0.3333333333333333,
              "#9c179e"
             ],
             [
              0.4444444444444444,
              "#bd3786"
             ],
             [
              0.5555555555555556,
              "#d8576b"
             ],
             [
              0.6666666666666666,
              "#ed7953"
             ],
             [
              0.7777777777777778,
              "#fb9f3a"
             ],
             [
              0.8888888888888888,
              "#fdca26"
             ],
             [
              1,
              "#f0f921"
             ]
            ],
            "type": "histogram2dcontour"
           }
          ],
          "mesh3d": [
           {
            "colorbar": {
             "outlinewidth": 0,
             "ticks": ""
            },
            "type": "mesh3d"
           }
          ],
          "parcoords": [
           {
            "line": {
             "colorbar": {
              "outlinewidth": 0,
              "ticks": ""
             }
            },
            "type": "parcoords"
           }
          ],
          "pie": [
           {
            "automargin": true,
            "type": "pie"
           }
          ],
          "scatter": [
           {
            "fillpattern": {
             "fillmode": "overlay",
             "size": 10,
             "solidity": 0.2
            },
            "type": "scatter"
           }
          ],
          "scatter3d": [
           {
            "line": {
             "colorbar": {
              "outlinewidth": 0,
              "ticks": ""
             }
            },
            "marker": {
             "colorbar": {
              "outlinewidth": 0,
              "ticks": ""
             }
            },
            "type": "scatter3d"
           }
          ],
          "scattercarpet": [
           {
            "marker": {
             "colorbar": {
              "outlinewidth": 0,
              "ticks": ""
             }
            },
            "type": "scattercarpet"
           }
          ],
          "scattergeo": [
           {
            "marker": {
             "colorbar": {
              "outlinewidth": 0,
              "ticks": ""
             }
            },
            "type": "scattergeo"
           }
          ],
          "scattergl": [
           {
            "marker": {
             "colorbar": {
              "outlinewidth": 0,
              "ticks": ""
             }
            },
            "type": "scattergl"
           }
          ],
          "scattermapbox": [
           {
            "marker": {
             "colorbar": {
              "outlinewidth": 0,
              "ticks": ""
             }
            },
            "type": "scattermapbox"
           }
          ],
          "scatterpolar": [
           {
            "marker": {
             "colorbar": {
              "outlinewidth": 0,
              "ticks": ""
             }
            },
            "type": "scatterpolar"
           }
          ],
          "scatterpolargl": [
           {
            "marker": {
             "colorbar": {
              "outlinewidth": 0,
              "ticks": ""
             }
            },
            "type": "scatterpolargl"
           }
          ],
          "scatterternary": [
           {
            "marker": {
             "colorbar": {
              "outlinewidth": 0,
              "ticks": ""
             }
            },
            "type": "scatterternary"
           }
          ],
          "surface": [
           {
            "colorbar": {
             "outlinewidth": 0,
             "ticks": ""
            },
            "colorscale": [
             [
              0,
              "#0d0887"
             ],
             [
              0.1111111111111111,
              "#46039f"
             ],
             [
              0.2222222222222222,
              "#7201a8"
             ],
             [
              0.3333333333333333,
              "#9c179e"
             ],
             [
              0.4444444444444444,
              "#bd3786"
             ],
             [
              0.5555555555555556,
              "#d8576b"
             ],
             [
              0.6666666666666666,
              "#ed7953"
             ],
             [
              0.7777777777777778,
              "#fb9f3a"
             ],
             [
              0.8888888888888888,
              "#fdca26"
             ],
             [
              1,
              "#f0f921"
             ]
            ],
            "type": "surface"
           }
          ],
          "table": [
           {
            "cells": {
             "fill": {
              "color": "#EBF0F8"
             },
             "line": {
              "color": "white"
             }
            },
            "header": {
             "fill": {
              "color": "#C8D4E3"
             },
             "line": {
              "color": "white"
             }
            },
            "type": "table"
           }
          ]
         },
         "layout": {
          "annotationdefaults": {
           "arrowcolor": "#2a3f5f",
           "arrowhead": 0,
           "arrowwidth": 1
          },
          "autotypenumbers": "strict",
          "coloraxis": {
           "colorbar": {
            "outlinewidth": 0,
            "ticks": ""
           }
          },
          "colorscale": {
           "diverging": [
            [
             0,
             "#8e0152"
            ],
            [
             0.1,
             "#c51b7d"
            ],
            [
             0.2,
             "#de77ae"
            ],
            [
             0.3,
             "#f1b6da"
            ],
            [
             0.4,
             "#fde0ef"
            ],
            [
             0.5,
             "#f7f7f7"
            ],
            [
             0.6,
             "#e6f5d0"
            ],
            [
             0.7,
             "#b8e186"
            ],
            [
             0.8,
             "#7fbc41"
            ],
            [
             0.9,
             "#4d9221"
            ],
            [
             1,
             "#276419"
            ]
           ],
           "sequential": [
            [
             0,
             "#0d0887"
            ],
            [
             0.1111111111111111,
             "#46039f"
            ],
            [
             0.2222222222222222,
             "#7201a8"
            ],
            [
             0.3333333333333333,
             "#9c179e"
            ],
            [
             0.4444444444444444,
             "#bd3786"
            ],
            [
             0.5555555555555556,
             "#d8576b"
            ],
            [
             0.6666666666666666,
             "#ed7953"
            ],
            [
             0.7777777777777778,
             "#fb9f3a"
            ],
            [
             0.8888888888888888,
             "#fdca26"
            ],
            [
             1,
             "#f0f921"
            ]
           ],
           "sequentialminus": [
            [
             0,
             "#0d0887"
            ],
            [
             0.1111111111111111,
             "#46039f"
            ],
            [
             0.2222222222222222,
             "#7201a8"
            ],
            [
             0.3333333333333333,
             "#9c179e"
            ],
            [
             0.4444444444444444,
             "#bd3786"
            ],
            [
             0.5555555555555556,
             "#d8576b"
            ],
            [
             0.6666666666666666,
             "#ed7953"
            ],
            [
             0.7777777777777778,
             "#fb9f3a"
            ],
            [
             0.8888888888888888,
             "#fdca26"
            ],
            [
             1,
             "#f0f921"
            ]
           ]
          },
          "colorway": [
           "#636efa",
           "#EF553B",
           "#00cc96",
           "#ab63fa",
           "#FFA15A",
           "#19d3f3",
           "#FF6692",
           "#B6E880",
           "#FF97FF",
           "#FECB52"
          ],
          "font": {
           "color": "#2a3f5f"
          },
          "geo": {
           "bgcolor": "white",
           "lakecolor": "white",
           "landcolor": "#E5ECF6",
           "showlakes": true,
           "showland": true,
           "subunitcolor": "white"
          },
          "hoverlabel": {
           "align": "left"
          },
          "hovermode": "closest",
          "mapbox": {
           "style": "light"
          },
          "paper_bgcolor": "white",
          "plot_bgcolor": "#E5ECF6",
          "polar": {
           "angularaxis": {
            "gridcolor": "white",
            "linecolor": "white",
            "ticks": ""
           },
           "bgcolor": "#E5ECF6",
           "radialaxis": {
            "gridcolor": "white",
            "linecolor": "white",
            "ticks": ""
           }
          },
          "scene": {
           "xaxis": {
            "backgroundcolor": "#E5ECF6",
            "gridcolor": "white",
            "gridwidth": 2,
            "linecolor": "white",
            "showbackground": true,
            "ticks": "",
            "zerolinecolor": "white"
           },
           "yaxis": {
            "backgroundcolor": "#E5ECF6",
            "gridcolor": "white",
            "gridwidth": 2,
            "linecolor": "white",
            "showbackground": true,
            "ticks": "",
            "zerolinecolor": "white"
           },
           "zaxis": {
            "backgroundcolor": "#E5ECF6",
            "gridcolor": "white",
            "gridwidth": 2,
            "linecolor": "white",
            "showbackground": true,
            "ticks": "",
            "zerolinecolor": "white"
           }
          },
          "shapedefaults": {
           "line": {
            "color": "#2a3f5f"
           }
          },
          "ternary": {
           "aaxis": {
            "gridcolor": "white",
            "linecolor": "white",
            "ticks": ""
           },
           "baxis": {
            "gridcolor": "white",
            "linecolor": "white",
            "ticks": ""
           },
           "bgcolor": "#E5ECF6",
           "caxis": {
            "gridcolor": "white",
            "linecolor": "white",
            "ticks": ""
           }
          },
          "title": {
           "x": 0.05
          },
          "xaxis": {
           "automargin": true,
           "gridcolor": "white",
           "linecolor": "white",
           "ticks": "",
           "title": {
            "standoff": 15
           },
           "zerolinecolor": "white",
           "zerolinewidth": 2
          },
          "yaxis": {
           "automargin": true,
           "gridcolor": "white",
           "linecolor": "white",
           "ticks": "",
           "title": {
            "standoff": 15
           },
           "zerolinecolor": "white",
           "zerolinewidth": 2
          }
         }
        },
        "xaxis": {
         "anchor": "y",
         "domain": [
          0,
          1
         ],
         "title": {
          "text": "SUBSCRIBERS"
         }
        },
        "yaxis": {
         "anchor": "x",
         "domain": [
          0,
          1
         ],
         "title": {
          "text": "sum of VIEWS"
         }
        }
       }
      }
     },
     "metadata": {},
     "output_type": "display_data"
    }
   ],
   "source": [
    "fig = px.histogram(numeric_features, x=\"SUBSCRIBERS\", y=\"VIEWS\", color=categories)\n",
    "fig.update_layout(legend_title_text=\"Categories\")\n",
    "\n",
    "\n",
    "fig.show()"
   ]
  },
  {
   "cell_type": "code",
   "execution_count": 1120,
   "metadata": {},
   "outputs": [
    {
     "data": {
      "application/vnd.plotly.v1+json": {
       "config": {
        "plotlyServerURL": "https://plot.ly"
       },
       "data": [
        {
         "coloraxis": "coloraxis",
         "hovertemplate": "x: %{x}<br>y: %{y}<br>color: %{z}<extra></extra>",
         "name": "0",
         "texttemplate": "%{z}",
         "type": "heatmap",
         "x": [
          "VIDEOS",
          "SUBSCRIBERS",
          "VIEWS",
          "CATEGORY"
         ],
         "xaxis": "x",
         "y": [
          "VIDEOS",
          "SUBSCRIBERS",
          "VIEWS",
          "CATEGORY"
         ],
         "yaxis": "y",
         "z": [
          [
           1,
           0.003694333470513024,
           0.13138007841578336,
           -0.027100335915569956
          ],
          [
           0.003694333470513024,
           1,
           0.49436675565659294,
           0.11429506857660737
          ],
          [
           0.13138007841578336,
           0.49436675565659294,
           1,
           0.15586644941003513
          ],
          [
           -0.027100335915569956,
           0.11429506857660737,
           0.15586644941003513,
           1
          ]
         ]
        }
       ],
       "layout": {
        "coloraxis": {
         "colorscale": [
          [
           0,
           "rgb(255,255,204)"
          ],
          [
           0.125,
           "rgb(255,237,160)"
          ],
          [
           0.25,
           "rgb(254,217,118)"
          ],
          [
           0.375,
           "rgb(254,178,76)"
          ],
          [
           0.5,
           "rgb(253,141,60)"
          ],
          [
           0.625,
           "rgb(252,78,42)"
          ],
          [
           0.75,
           "rgb(227,26,28)"
          ],
          [
           0.875,
           "rgb(189,0,38)"
          ],
          [
           1,
           "rgb(128,0,38)"
          ]
         ]
        },
        "margin": {
         "t": 60
        },
        "template": {
         "data": {
          "bar": [
           {
            "error_x": {
             "color": "#2a3f5f"
            },
            "error_y": {
             "color": "#2a3f5f"
            },
            "marker": {
             "line": {
              "color": "#E5ECF6",
              "width": 0.5
             },
             "pattern": {
              "fillmode": "overlay",
              "size": 10,
              "solidity": 0.2
             }
            },
            "type": "bar"
           }
          ],
          "barpolar": [
           {
            "marker": {
             "line": {
              "color": "#E5ECF6",
              "width": 0.5
             },
             "pattern": {
              "fillmode": "overlay",
              "size": 10,
              "solidity": 0.2
             }
            },
            "type": "barpolar"
           }
          ],
          "carpet": [
           {
            "aaxis": {
             "endlinecolor": "#2a3f5f",
             "gridcolor": "white",
             "linecolor": "white",
             "minorgridcolor": "white",
             "startlinecolor": "#2a3f5f"
            },
            "baxis": {
             "endlinecolor": "#2a3f5f",
             "gridcolor": "white",
             "linecolor": "white",
             "minorgridcolor": "white",
             "startlinecolor": "#2a3f5f"
            },
            "type": "carpet"
           }
          ],
          "choropleth": [
           {
            "colorbar": {
             "outlinewidth": 0,
             "ticks": ""
            },
            "type": "choropleth"
           }
          ],
          "contour": [
           {
            "colorbar": {
             "outlinewidth": 0,
             "ticks": ""
            },
            "colorscale": [
             [
              0,
              "#0d0887"
             ],
             [
              0.1111111111111111,
              "#46039f"
             ],
             [
              0.2222222222222222,
              "#7201a8"
             ],
             [
              0.3333333333333333,
              "#9c179e"
             ],
             [
              0.4444444444444444,
              "#bd3786"
             ],
             [
              0.5555555555555556,
              "#d8576b"
             ],
             [
              0.6666666666666666,
              "#ed7953"
             ],
             [
              0.7777777777777778,
              "#fb9f3a"
             ],
             [
              0.8888888888888888,
              "#fdca26"
             ],
             [
              1,
              "#f0f921"
             ]
            ],
            "type": "contour"
           }
          ],
          "contourcarpet": [
           {
            "colorbar": {
             "outlinewidth": 0,
             "ticks": ""
            },
            "type": "contourcarpet"
           }
          ],
          "heatmap": [
           {
            "colorbar": {
             "outlinewidth": 0,
             "ticks": ""
            },
            "colorscale": [
             [
              0,
              "#0d0887"
             ],
             [
              0.1111111111111111,
              "#46039f"
             ],
             [
              0.2222222222222222,
              "#7201a8"
             ],
             [
              0.3333333333333333,
              "#9c179e"
             ],
             [
              0.4444444444444444,
              "#bd3786"
             ],
             [
              0.5555555555555556,
              "#d8576b"
             ],
             [
              0.6666666666666666,
              "#ed7953"
             ],
             [
              0.7777777777777778,
              "#fb9f3a"
             ],
             [
              0.8888888888888888,
              "#fdca26"
             ],
             [
              1,
              "#f0f921"
             ]
            ],
            "type": "heatmap"
           }
          ],
          "heatmapgl": [
           {
            "colorbar": {
             "outlinewidth": 0,
             "ticks": ""
            },
            "colorscale": [
             [
              0,
              "#0d0887"
             ],
             [
              0.1111111111111111,
              "#46039f"
             ],
             [
              0.2222222222222222,
              "#7201a8"
             ],
             [
              0.3333333333333333,
              "#9c179e"
             ],
             [
              0.4444444444444444,
              "#bd3786"
             ],
             [
              0.5555555555555556,
              "#d8576b"
             ],
             [
              0.6666666666666666,
              "#ed7953"
             ],
             [
              0.7777777777777778,
              "#fb9f3a"
             ],
             [
              0.8888888888888888,
              "#fdca26"
             ],
             [
              1,
              "#f0f921"
             ]
            ],
            "type": "heatmapgl"
           }
          ],
          "histogram": [
           {
            "marker": {
             "pattern": {
              "fillmode": "overlay",
              "size": 10,
              "solidity": 0.2
             }
            },
            "type": "histogram"
           }
          ],
          "histogram2d": [
           {
            "colorbar": {
             "outlinewidth": 0,
             "ticks": ""
            },
            "colorscale": [
             [
              0,
              "#0d0887"
             ],
             [
              0.1111111111111111,
              "#46039f"
             ],
             [
              0.2222222222222222,
              "#7201a8"
             ],
             [
              0.3333333333333333,
              "#9c179e"
             ],
             [
              0.4444444444444444,
              "#bd3786"
             ],
             [
              0.5555555555555556,
              "#d8576b"
             ],
             [
              0.6666666666666666,
              "#ed7953"
             ],
             [
              0.7777777777777778,
              "#fb9f3a"
             ],
             [
              0.8888888888888888,
              "#fdca26"
             ],
             [
              1,
              "#f0f921"
             ]
            ],
            "type": "histogram2d"
           }
          ],
          "histogram2dcontour": [
           {
            "colorbar": {
             "outlinewidth": 0,
             "ticks": ""
            },
            "colorscale": [
             [
              0,
              "#0d0887"
             ],
             [
              0.1111111111111111,
              "#46039f"
             ],
             [
              0.2222222222222222,
              "#7201a8"
             ],
             [
              0.3333333333333333,
              "#9c179e"
             ],
             [
              0.4444444444444444,
              "#bd3786"
             ],
             [
              0.5555555555555556,
              "#d8576b"
             ],
             [
              0.6666666666666666,
              "#ed7953"
             ],
             [
              0.7777777777777778,
              "#fb9f3a"
             ],
             [
              0.8888888888888888,
              "#fdca26"
             ],
             [
              1,
              "#f0f921"
             ]
            ],
            "type": "histogram2dcontour"
           }
          ],
          "mesh3d": [
           {
            "colorbar": {
             "outlinewidth": 0,
             "ticks": ""
            },
            "type": "mesh3d"
           }
          ],
          "parcoords": [
           {
            "line": {
             "colorbar": {
              "outlinewidth": 0,
              "ticks": ""
             }
            },
            "type": "parcoords"
           }
          ],
          "pie": [
           {
            "automargin": true,
            "type": "pie"
           }
          ],
          "scatter": [
           {
            "fillpattern": {
             "fillmode": "overlay",
             "size": 10,
             "solidity": 0.2
            },
            "type": "scatter"
           }
          ],
          "scatter3d": [
           {
            "line": {
             "colorbar": {
              "outlinewidth": 0,
              "ticks": ""
             }
            },
            "marker": {
             "colorbar": {
              "outlinewidth": 0,
              "ticks": ""
             }
            },
            "type": "scatter3d"
           }
          ],
          "scattercarpet": [
           {
            "marker": {
             "colorbar": {
              "outlinewidth": 0,
              "ticks": ""
             }
            },
            "type": "scattercarpet"
           }
          ],
          "scattergeo": [
           {
            "marker": {
             "colorbar": {
              "outlinewidth": 0,
              "ticks": ""
             }
            },
            "type": "scattergeo"
           }
          ],
          "scattergl": [
           {
            "marker": {
             "colorbar": {
              "outlinewidth": 0,
              "ticks": ""
             }
            },
            "type": "scattergl"
           }
          ],
          "scattermapbox": [
           {
            "marker": {
             "colorbar": {
              "outlinewidth": 0,
              "ticks": ""
             }
            },
            "type": "scattermapbox"
           }
          ],
          "scatterpolar": [
           {
            "marker": {
             "colorbar": {
              "outlinewidth": 0,
              "ticks": ""
             }
            },
            "type": "scatterpolar"
           }
          ],
          "scatterpolargl": [
           {
            "marker": {
             "colorbar": {
              "outlinewidth": 0,
              "ticks": ""
             }
            },
            "type": "scatterpolargl"
           }
          ],
          "scatterternary": [
           {
            "marker": {
             "colorbar": {
              "outlinewidth": 0,
              "ticks": ""
             }
            },
            "type": "scatterternary"
           }
          ],
          "surface": [
           {
            "colorbar": {
             "outlinewidth": 0,
             "ticks": ""
            },
            "colorscale": [
             [
              0,
              "#0d0887"
             ],
             [
              0.1111111111111111,
              "#46039f"
             ],
             [
              0.2222222222222222,
              "#7201a8"
             ],
             [
              0.3333333333333333,
              "#9c179e"
             ],
             [
              0.4444444444444444,
              "#bd3786"
             ],
             [
              0.5555555555555556,
              "#d8576b"
             ],
             [
              0.6666666666666666,
              "#ed7953"
             ],
             [
              0.7777777777777778,
              "#fb9f3a"
             ],
             [
              0.8888888888888888,
              "#fdca26"
             ],
             [
              1,
              "#f0f921"
             ]
            ],
            "type": "surface"
           }
          ],
          "table": [
           {
            "cells": {
             "fill": {
              "color": "#EBF0F8"
             },
             "line": {
              "color": "white"
             }
            },
            "header": {
             "fill": {
              "color": "#C8D4E3"
             },
             "line": {
              "color": "white"
             }
            },
            "type": "table"
           }
          ]
         },
         "layout": {
          "annotationdefaults": {
           "arrowcolor": "#2a3f5f",
           "arrowhead": 0,
           "arrowwidth": 1
          },
          "autotypenumbers": "strict",
          "coloraxis": {
           "colorbar": {
            "outlinewidth": 0,
            "ticks": ""
           }
          },
          "colorscale": {
           "diverging": [
            [
             0,
             "#8e0152"
            ],
            [
             0.1,
             "#c51b7d"
            ],
            [
             0.2,
             "#de77ae"
            ],
            [
             0.3,
             "#f1b6da"
            ],
            [
             0.4,
             "#fde0ef"
            ],
            [
             0.5,
             "#f7f7f7"
            ],
            [
             0.6,
             "#e6f5d0"
            ],
            [
             0.7,
             "#b8e186"
            ],
            [
             0.8,
             "#7fbc41"
            ],
            [
             0.9,
             "#4d9221"
            ],
            [
             1,
             "#276419"
            ]
           ],
           "sequential": [
            [
             0,
             "#0d0887"
            ],
            [
             0.1111111111111111,
             "#46039f"
            ],
            [
             0.2222222222222222,
             "#7201a8"
            ],
            [
             0.3333333333333333,
             "#9c179e"
            ],
            [
             0.4444444444444444,
             "#bd3786"
            ],
            [
             0.5555555555555556,
             "#d8576b"
            ],
            [
             0.6666666666666666,
             "#ed7953"
            ],
            [
             0.7777777777777778,
             "#fb9f3a"
            ],
            [
             0.8888888888888888,
             "#fdca26"
            ],
            [
             1,
             "#f0f921"
            ]
           ],
           "sequentialminus": [
            [
             0,
             "#0d0887"
            ],
            [
             0.1111111111111111,
             "#46039f"
            ],
            [
             0.2222222222222222,
             "#7201a8"
            ],
            [
             0.3333333333333333,
             "#9c179e"
            ],
            [
             0.4444444444444444,
             "#bd3786"
            ],
            [
             0.5555555555555556,
             "#d8576b"
            ],
            [
             0.6666666666666666,
             "#ed7953"
            ],
            [
             0.7777777777777778,
             "#fb9f3a"
            ],
            [
             0.8888888888888888,
             "#fdca26"
            ],
            [
             1,
             "#f0f921"
            ]
           ]
          },
          "colorway": [
           "#636efa",
           "#EF553B",
           "#00cc96",
           "#ab63fa",
           "#FFA15A",
           "#19d3f3",
           "#FF6692",
           "#B6E880",
           "#FF97FF",
           "#FECB52"
          ],
          "font": {
           "color": "#2a3f5f"
          },
          "geo": {
           "bgcolor": "white",
           "lakecolor": "white",
           "landcolor": "#E5ECF6",
           "showlakes": true,
           "showland": true,
           "subunitcolor": "white"
          },
          "hoverlabel": {
           "align": "left"
          },
          "hovermode": "closest",
          "mapbox": {
           "style": "light"
          },
          "paper_bgcolor": "white",
          "plot_bgcolor": "#E5ECF6",
          "polar": {
           "angularaxis": {
            "gridcolor": "white",
            "linecolor": "white",
            "ticks": ""
           },
           "bgcolor": "#E5ECF6",
           "radialaxis": {
            "gridcolor": "white",
            "linecolor": "white",
            "ticks": ""
           }
          },
          "scene": {
           "xaxis": {
            "backgroundcolor": "#E5ECF6",
            "gridcolor": "white",
            "gridwidth": 2,
            "linecolor": "white",
            "showbackground": true,
            "ticks": "",
            "zerolinecolor": "white"
           },
           "yaxis": {
            "backgroundcolor": "#E5ECF6",
            "gridcolor": "white",
            "gridwidth": 2,
            "linecolor": "white",
            "showbackground": true,
            "ticks": "",
            "zerolinecolor": "white"
           },
           "zaxis": {
            "backgroundcolor": "#E5ECF6",
            "gridcolor": "white",
            "gridwidth": 2,
            "linecolor": "white",
            "showbackground": true,
            "ticks": "",
            "zerolinecolor": "white"
           }
          },
          "shapedefaults": {
           "line": {
            "color": "#2a3f5f"
           }
          },
          "ternary": {
           "aaxis": {
            "gridcolor": "white",
            "linecolor": "white",
            "ticks": ""
           },
           "baxis": {
            "gridcolor": "white",
            "linecolor": "white",
            "ticks": ""
           },
           "bgcolor": "#E5ECF6",
           "caxis": {
            "gridcolor": "white",
            "linecolor": "white",
            "ticks": ""
           }
          },
          "title": {
           "x": 0.05
          },
          "xaxis": {
           "automargin": true,
           "gridcolor": "white",
           "linecolor": "white",
           "ticks": "",
           "title": {
            "standoff": 15
           },
           "zerolinecolor": "white",
           "zerolinewidth": 2
          },
          "yaxis": {
           "automargin": true,
           "gridcolor": "white",
           "linecolor": "white",
           "ticks": "",
           "title": {
            "standoff": 15
           },
           "zerolinecolor": "white",
           "zerolinewidth": 2
          }
         }
        },
        "xaxis": {
         "anchor": "y",
         "constrain": "domain",
         "domain": [
          0,
          1
         ],
         "scaleanchor": "y"
        },
        "yaxis": {
         "anchor": "x",
         "autorange": "reversed",
         "constrain": "domain",
         "domain": [
          0,
          1
         ]
        }
       }
      }
     },
     "metadata": {},
     "output_type": "display_data"
    }
   ],
   "source": [
    "fig = px.imshow(numeric_features.join(encoded_categories).corr(), text_auto=True, color_continuous_scale=\"ylorrd\")\n",
    "fig.show()"
   ]
  },
  {
   "cell_type": "markdown",
   "metadata": {},
   "source": [
    "Some conclussions from the visualization:\n",
    "\n",
    "- Scatter matrix: in general channels with more subscribers have less videos, looks like the videos do not impact too much in views, there is some correlation between views and subscribers (more visible in correlation matrix later)\n",
    "- Pie: the first 5 categories which have the biggest value per feature are Entertainment, Music, Kids, Gaming/Entertainment, Education, which are also the most counted\n",
    "- Histogram: channels between 22M and 32M of subscribers have more sum of views than the rest\n",
    "- Correlation matrix: the strongest relation is between subscribers and views\n"
   ]
  },
  {
   "cell_type": "markdown",
   "metadata": {},
   "source": [
    "# Objective\n",
    "\n",
    "Train a model to predict the views that a channel can have based on the rest of the features\n"
   ]
  },
  {
   "cell_type": "markdown",
   "metadata": {},
   "source": [
    "# Train and predict\n",
    "\n",
    "The models that will be used for the regression are multiple linear regression (L1, L2 and elastic net), decision tree, knn and gradient boosting, all with cross validation\n"
   ]
  },
  {
   "cell_type": "code",
   "execution_count": 1121,
   "metadata": {},
   "outputs": [],
   "source": [
    "seed = 0\n",
    "\n",
    "X_imputed = numeric_features.iloc[:, :2].join(encoded_categories)\n",
    "y_imputed = numeric_features[\"VIEWS\"]\n",
    "\n",
    "X_train, X_test, y_train, y_test = train_test_split(X_imputed, y_imputed, random_state=seed)\n",
    "\n",
    "def get_best_estimator(estimator, params, X , y):\n",
    "    cv = RandomizedSearchCV(estimator, params, n_iter=100).fit(X, y)\n",
    "    print(f\"Best params: \\n {cv.best_params_}\")\n",
    "    return cv.best_estimator_\n"
   ]
  },
  {
   "cell_type": "code",
   "execution_count": 1122,
   "metadata": {},
   "outputs": [],
   "source": [
    "l1_l2_params = {\"alpha\": np.logspace(-5, 0, 50), \"fit_intercept\": [True],}\n",
    "enet_params = {\"alpha\": np.logspace(-1, 1, 50), \"fit_intercept\": [True], }\n",
    "knn_params = {\"n_neighbors\": np.arange(5, 30, 5)}\n",
    "tree_params = {\n",
    "    \"criterion\": [\"squared_error\", \"absolute_error\"],\n",
    "    \"max_depth\": [None, *np.arange(2, 6)],\n",
    "    \"min_samples_split\": [2, 8, 15],\n",
    "    \"min_samples_leaf\": np.arange(1, 7),\n",
    "}\n",
    "gb_params = {\n",
    "    \"n_estimators\": [100, 200],\n",
    "    \"learning_rate\": [0.01, 0.1, 1],\n",
    "    \"max_depth\": [2, 3, 4],\n",
    "}"
   ]
  },
  {
   "cell_type": "code",
   "execution_count": 1123,
   "metadata": {},
   "outputs": [
    {
     "name": "stdout",
     "output_type": "stream",
     "text": [
      "Best params: \n",
      " {'fit_intercept': True, 'alpha': 1.0}\n"
     ]
    }
   ],
   "source": [
    "ridge = get_best_estimator(Ridge(), l1_l2_params, X_imputed, y_imputed)"
   ]
  },
  {
   "cell_type": "code",
   "execution_count": 1124,
   "metadata": {},
   "outputs": [
    {
     "name": "stdout",
     "output_type": "stream",
     "text": [
      "Best params: \n",
      " {'fit_intercept': True, 'alpha': 1.0}\n"
     ]
    }
   ],
   "source": [
    "lasso = get_best_estimator(Lasso(), l1_l2_params, X_imputed, y_imputed)"
   ]
  },
  {
   "cell_type": "code",
   "execution_count": 1125,
   "metadata": {},
   "outputs": [
    {
     "name": "stdout",
     "output_type": "stream",
     "text": [
      "Best params: \n",
      " {'fit_intercept': True, 'alpha': 10.0}\n"
     ]
    }
   ],
   "source": [
    "enet = get_best_estimator(ElasticNet(), enet_params, X_imputed, y_imputed)"
   ]
  },
  {
   "cell_type": "code",
   "execution_count": 1126,
   "metadata": {},
   "outputs": [
    {
     "name": "stdout",
     "output_type": "stream",
     "text": [
      "Best params: \n",
      " {'n_neighbors': 10}\n"
     ]
    }
   ],
   "source": [
    "knn = get_best_estimator(KNeighborsRegressor(), knn_params, X_imputed, y_imputed)"
   ]
  },
  {
   "cell_type": "code",
   "execution_count": 1127,
   "metadata": {},
   "outputs": [
    {
     "name": "stdout",
     "output_type": "stream",
     "text": [
      "Best params: \n",
      " {'min_samples_split': 8, 'min_samples_leaf': 4, 'max_depth': 3, 'criterion': 'absolute_error'}\n"
     ]
    }
   ],
   "source": [
    "tree = get_best_estimator(DecisionTreeRegressor(), tree_params, X_imputed, y_imputed)"
   ]
  },
  {
   "cell_type": "code",
   "execution_count": 1128,
   "metadata": {},
   "outputs": [
    {
     "name": "stdout",
     "output_type": "stream",
     "text": [
      "Best params: \n",
      " {'n_estimators': 200, 'max_depth': 3, 'learning_rate': 0.01}\n"
     ]
    }
   ],
   "source": [
    "gb = get_best_estimator(GradientBoostingRegressor(), gb_params, X_imputed, y_imputed)"
   ]
  },
  {
   "cell_type": "code",
   "execution_count": 1129,
   "metadata": {},
   "outputs": [],
   "source": [
    "report = pd.DataFrame(columns=[\"Model\", \"MAE\", \"MSE\", \"R2\"])\n",
    "\n",
    "models = [\n",
    "    {\"name\": \"Ridge\", \"estimator\": ridge},\n",
    "    {\"name\": \"Lasso\", \"estimator\": lasso},\n",
    "    {\"name\": \"ElasticNet\", \"estimator\": enet},\n",
    "    {\"name\": \"KNN\", \"estimator\": knn},\n",
    "    {\"name\": \"Tree\", \"estimator\": tree},\n",
    "    {\"name\": \"GradientBoosting\", \"estimator\": gb},\n",
    "]\n",
    "\n",
    "\n",
    "def regression_report(name, estimator):\n",
    "    y_pred = estimator.predict(X_test)\n",
    "    report.loc[len(report)] = [\n",
    "        name,\n",
    "        mean_absolute_error(y_test, y_pred),\n",
    "        mean_squared_error(y_test, y_pred),\n",
    "        r2_score(y_test, y_pred),\n",
    "    ]"
   ]
  },
  {
   "cell_type": "code",
   "execution_count": 1130,
   "metadata": {},
   "outputs": [
    {
     "data": {
      "text/html": [
       "<div>\n",
       "<style scoped>\n",
       "    .dataframe tbody tr th:only-of-type {\n",
       "        vertical-align: middle;\n",
       "    }\n",
       "\n",
       "    .dataframe tbody tr th {\n",
       "        vertical-align: top;\n",
       "    }\n",
       "\n",
       "    .dataframe thead th {\n",
       "        text-align: right;\n",
       "    }\n",
       "</style>\n",
       "<table border=\"1\" class=\"dataframe\">\n",
       "  <thead>\n",
       "    <tr style=\"text-align: right;\">\n",
       "      <th></th>\n",
       "      <th>Model</th>\n",
       "      <th>MAE</th>\n",
       "      <th>MSE</th>\n",
       "      <th>R2</th>\n",
       "    </tr>\n",
       "  </thead>\n",
       "  <tbody>\n",
       "    <tr>\n",
       "      <th>5</th>\n",
       "      <td>GradientBoosting</td>\n",
       "      <td>5.425932e+09</td>\n",
       "      <td>4.814282e+19</td>\n",
       "      <td>0.383522</td>\n",
       "    </tr>\n",
       "    <tr>\n",
       "      <th>3</th>\n",
       "      <td>KNN</td>\n",
       "      <td>5.277900e+09</td>\n",
       "      <td>5.033752e+19</td>\n",
       "      <td>0.355419</td>\n",
       "    </tr>\n",
       "    <tr>\n",
       "      <th>4</th>\n",
       "      <td>Tree</td>\n",
       "      <td>5.545902e+09</td>\n",
       "      <td>5.463535e+19</td>\n",
       "      <td>0.300384</td>\n",
       "    </tr>\n",
       "    <tr>\n",
       "      <th>2</th>\n",
       "      <td>ElasticNet</td>\n",
       "      <td>5.903436e+09</td>\n",
       "      <td>5.668662e+19</td>\n",
       "      <td>0.274117</td>\n",
       "    </tr>\n",
       "    <tr>\n",
       "      <th>0</th>\n",
       "      <td>Ridge</td>\n",
       "      <td>5.948407e+09</td>\n",
       "      <td>5.719494e+19</td>\n",
       "      <td>0.267608</td>\n",
       "    </tr>\n",
       "    <tr>\n",
       "      <th>1</th>\n",
       "      <td>Lasso</td>\n",
       "      <td>5.948436e+09</td>\n",
       "      <td>5.719527e+19</td>\n",
       "      <td>0.267604</td>\n",
       "    </tr>\n",
       "  </tbody>\n",
       "</table>\n",
       "</div>"
      ],
      "text/plain": [
       "              Model           MAE           MSE        R2\n",
       "5  GradientBoosting  5.425932e+09  4.814282e+19  0.383522\n",
       "3               KNN  5.277900e+09  5.033752e+19  0.355419\n",
       "4              Tree  5.545902e+09  5.463535e+19  0.300384\n",
       "2        ElasticNet  5.903436e+09  5.668662e+19  0.274117\n",
       "0             Ridge  5.948407e+09  5.719494e+19  0.267608\n",
       "1             Lasso  5.948436e+09  5.719527e+19  0.267604"
      ]
     },
     "execution_count": 1130,
     "metadata": {},
     "output_type": "execute_result"
    }
   ],
   "source": [
    "for model in models:\n",
    "    regression_report(model[\"name\"], model[\"estimator\"])\n",
    "\n",
    "report.sort_values(\"R2\", ascending=False)"
   ]
  },
  {
   "cell_type": "markdown",
   "metadata": {},
   "source": [
    "Now using the data without impute"
   ]
  },
  {
   "cell_type": "code",
   "execution_count": 1131,
   "metadata": {},
   "outputs": [],
   "source": [
    "X = numeric_features_with_outliers.iloc[:, :2].join(encoded_categories)\n",
    "y = numeric_features_with_outliers[\"VIEWS\"]\n",
    "\n",
    "X_train, X_test, y_train, y_test = train_test_split(X, y, random_state=seed)"
   ]
  },
  {
   "cell_type": "code",
   "execution_count": 1132,
   "metadata": {},
   "outputs": [
    {
     "name": "stdout",
     "output_type": "stream",
     "text": [
      "Best params: \n",
      " {'fit_intercept': True, 'alpha': 1.0}\n"
     ]
    }
   ],
   "source": [
    "ridge_with_outlier = get_best_estimator(Ridge(), l1_l2_params, X, y)"
   ]
  },
  {
   "cell_type": "code",
   "execution_count": 1133,
   "metadata": {},
   "outputs": [
    {
     "name": "stdout",
     "output_type": "stream",
     "text": [
      "Best params: \n",
      " {'fit_intercept': True, 'alpha': 1.0}\n"
     ]
    }
   ],
   "source": [
    "lasso_with_outlier = get_best_estimator(Lasso(), l1_l2_params, X, y)"
   ]
  },
  {
   "cell_type": "code",
   "execution_count": 1134,
   "metadata": {},
   "outputs": [
    {
     "name": "stdout",
     "output_type": "stream",
     "text": [
      "Best params: \n",
      " {'fit_intercept': True, 'alpha': 10.0}\n"
     ]
    }
   ],
   "source": [
    "enet_with_outlier = get_best_estimator(ElasticNet(), enet_params, X, y)"
   ]
  },
  {
   "cell_type": "code",
   "execution_count": 1135,
   "metadata": {},
   "outputs": [
    {
     "name": "stdout",
     "output_type": "stream",
     "text": [
      "Best params: \n",
      " {'n_neighbors': 10}\n"
     ]
    }
   ],
   "source": [
    "knn_with_outlier = get_best_estimator(KNeighborsRegressor(), knn_params, X, y)"
   ]
  },
  {
   "cell_type": "code",
   "execution_count": 1136,
   "metadata": {},
   "outputs": [
    {
     "name": "stdout",
     "output_type": "stream",
     "text": [
      "Best params: \n",
      " {'min_samples_split': 8, 'min_samples_leaf': 4, 'max_depth': 5, 'criterion': 'squared_error'}\n"
     ]
    }
   ],
   "source": [
    "tree_with_outlier = get_best_estimator(DecisionTreeRegressor(), tree_params, X, y)"
   ]
  },
  {
   "cell_type": "code",
   "execution_count": 1137,
   "metadata": {},
   "outputs": [
    {
     "name": "stdout",
     "output_type": "stream",
     "text": [
      "Best params: \n",
      " {'n_estimators': 100, 'max_depth': 2, 'learning_rate': 0.1}\n"
     ]
    }
   ],
   "source": [
    "gb_with_outlier = get_best_estimator(GradientBoostingRegressor(), gb_params, X, y)"
   ]
  },
  {
   "cell_type": "code",
   "execution_count": 1138,
   "metadata": {},
   "outputs": [
    {
     "data": {
      "text/html": [
       "<div>\n",
       "<style scoped>\n",
       "    .dataframe tbody tr th:only-of-type {\n",
       "        vertical-align: middle;\n",
       "    }\n",
       "\n",
       "    .dataframe tbody tr th {\n",
       "        vertical-align: top;\n",
       "    }\n",
       "\n",
       "    .dataframe thead th {\n",
       "        text-align: right;\n",
       "    }\n",
       "</style>\n",
       "<table border=\"1\" class=\"dataframe\">\n",
       "  <thead>\n",
       "    <tr style=\"text-align: right;\">\n",
       "      <th></th>\n",
       "      <th>Model</th>\n",
       "      <th>MAE</th>\n",
       "      <th>MSE</th>\n",
       "      <th>R2</th>\n",
       "    </tr>\n",
       "  </thead>\n",
       "  <tbody>\n",
       "    <tr>\n",
       "      <th>11</th>\n",
       "      <td>GradientBoosting (without impute)</td>\n",
       "      <td>6.223114e+09</td>\n",
       "      <td>5.879555e+19</td>\n",
       "      <td>0.918547</td>\n",
       "    </tr>\n",
       "    <tr>\n",
       "      <th>8</th>\n",
       "      <td>ElasticNet (without impute)</td>\n",
       "      <td>8.370641e+09</td>\n",
       "      <td>1.774013e+20</td>\n",
       "      <td>0.754236</td>\n",
       "    </tr>\n",
       "    <tr>\n",
       "      <th>6</th>\n",
       "      <td>Ridge (without impute)</td>\n",
       "      <td>8.405711e+09</td>\n",
       "      <td>1.780957e+20</td>\n",
       "      <td>0.753274</td>\n",
       "    </tr>\n",
       "    <tr>\n",
       "      <th>7</th>\n",
       "      <td>Lasso (without impute)</td>\n",
       "      <td>8.405731e+09</td>\n",
       "      <td>1.780962e+20</td>\n",
       "      <td>0.753273</td>\n",
       "    </tr>\n",
       "    <tr>\n",
       "      <th>10</th>\n",
       "      <td>Tree (without impute)</td>\n",
       "      <td>7.669205e+09</td>\n",
       "      <td>1.991543e+20</td>\n",
       "      <td>0.724100</td>\n",
       "    </tr>\n",
       "    <tr>\n",
       "      <th>9</th>\n",
       "      <td>KNN (without impute)</td>\n",
       "      <td>8.474875e+09</td>\n",
       "      <td>2.928207e+20</td>\n",
       "      <td>0.594339</td>\n",
       "    </tr>\n",
       "    <tr>\n",
       "      <th>5</th>\n",
       "      <td>GradientBoosting</td>\n",
       "      <td>5.425932e+09</td>\n",
       "      <td>4.814282e+19</td>\n",
       "      <td>0.383522</td>\n",
       "    </tr>\n",
       "    <tr>\n",
       "      <th>3</th>\n",
       "      <td>KNN</td>\n",
       "      <td>5.277900e+09</td>\n",
       "      <td>5.033752e+19</td>\n",
       "      <td>0.355419</td>\n",
       "    </tr>\n",
       "    <tr>\n",
       "      <th>4</th>\n",
       "      <td>Tree</td>\n",
       "      <td>5.545902e+09</td>\n",
       "      <td>5.463535e+19</td>\n",
       "      <td>0.300384</td>\n",
       "    </tr>\n",
       "    <tr>\n",
       "      <th>2</th>\n",
       "      <td>ElasticNet</td>\n",
       "      <td>5.903436e+09</td>\n",
       "      <td>5.668662e+19</td>\n",
       "      <td>0.274117</td>\n",
       "    </tr>\n",
       "    <tr>\n",
       "      <th>0</th>\n",
       "      <td>Ridge</td>\n",
       "      <td>5.948407e+09</td>\n",
       "      <td>5.719494e+19</td>\n",
       "      <td>0.267608</td>\n",
       "    </tr>\n",
       "    <tr>\n",
       "      <th>1</th>\n",
       "      <td>Lasso</td>\n",
       "      <td>5.948436e+09</td>\n",
       "      <td>5.719527e+19</td>\n",
       "      <td>0.267604</td>\n",
       "    </tr>\n",
       "  </tbody>\n",
       "</table>\n",
       "</div>"
      ],
      "text/plain": [
       "                                Model           MAE           MSE        R2\n",
       "11  GradientBoosting (without impute)  6.223114e+09  5.879555e+19  0.918547\n",
       "8         ElasticNet (without impute)  8.370641e+09  1.774013e+20  0.754236\n",
       "6              Ridge (without impute)  8.405711e+09  1.780957e+20  0.753274\n",
       "7              Lasso (without impute)  8.405731e+09  1.780962e+20  0.753273\n",
       "10              Tree (without impute)  7.669205e+09  1.991543e+20  0.724100\n",
       "9                KNN (without impute)  8.474875e+09  2.928207e+20  0.594339\n",
       "5                    GradientBoosting  5.425932e+09  4.814282e+19  0.383522\n",
       "3                                 KNN  5.277900e+09  5.033752e+19  0.355419\n",
       "4                                Tree  5.545902e+09  5.463535e+19  0.300384\n",
       "2                          ElasticNet  5.903436e+09  5.668662e+19  0.274117\n",
       "0                               Ridge  5.948407e+09  5.719494e+19  0.267608\n",
       "1                               Lasso  5.948436e+09  5.719527e+19  0.267604"
      ]
     },
     "execution_count": 1138,
     "metadata": {},
     "output_type": "execute_result"
    }
   ],
   "source": [
    "models = [\n",
    "    {\"name\": \"Ridge\", \"estimator\": ridge_with_outlier},\n",
    "    {\"name\": \"Lasso\", \"estimator\": lasso_with_outlier},\n",
    "    {\"name\": \"ElasticNet\", \"estimator\": enet_with_outlier},\n",
    "    {\"name\": \"KNN\", \"estimator\": knn_with_outlier},\n",
    "    {\"name\": \"Tree\", \"estimator\": tree_with_outlier},\n",
    "    {\"name\": \"GradientBoosting\", \"estimator\": gb_with_outlier},\n",
    "]\n",
    "\n",
    "\n",
    "for model in models:\n",
    "    regression_report(f'{model[\"name\"]} (without impute)', model[\"estimator\"])\n",
    "\n",
    "report.sort_values(\"R2\", ascending=False)"
   ]
  },
  {
   "cell_type": "markdown",
   "metadata": {},
   "source": [
    "# Conclusion\n",
    "\n",
    "Estimator performance can vary a lot depending of the data selected to train/test but in general the best model of choosed for this dataset is Gradient boosting without impute data (impute data significaly reduce the performance so in this case the outliers can be have sense and help the estimator).\n",
    "\n",
    "The Gradient boosting can predict how many views a channel can have depending of his subscribers, videos and category with a <b>91,85%</b> of precision"
   ]
  }
 ],
 "metadata": {
  "kernelspec": {
   "display_name": "venv",
   "language": "python",
   "name": "python3"
  },
  "language_info": {
   "codemirror_mode": {
    "name": "ipython",
    "version": 3
   },
   "file_extension": ".py",
   "mimetype": "text/x-python",
   "name": "python",
   "nbconvert_exporter": "python",
   "pygments_lexer": "ipython3",
   "version": "3.12.2"
  }
 },
 "nbformat": 4,
 "nbformat_minor": 2
}
